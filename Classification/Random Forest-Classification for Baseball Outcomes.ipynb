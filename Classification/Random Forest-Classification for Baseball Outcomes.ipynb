{
 "cells": [
  {
   "cell_type": "code",
   "execution_count": 1,
   "metadata": {},
   "outputs": [],
   "source": [
    "import numpy as np\n",
    "import pandas as pd\n",
    "from pandas.plotting import autocorrelation_plot\n",
    "from math import sqrt\n",
    "import scipy as sp\n",
    "from scipy import stats\n",
    "import scipy.signal\n",
    "from scipy.signal import fftconvolve, convolve\n",
    "import matplotlib.pyplot as plt\n",
    "import seaborn as sns\n",
    "from ipywidgets import interact\n",
    "import random as ran\n",
    "\n",
    "from datetime import datetime\n",
    "from datetime import timedelta\n",
    "from dateutil.relativedelta import *\n",
    "\n",
    "from sklearn.dummy import DummyClassifier, DummyRegressor\n",
    "from sklearn.linear_model import LinearRegression, Ridge, Lasso, ElasticNet, RidgeCV, LassoCV, ElasticNetCV, LogisticRegression\n",
    "from sklearn.multiclass import OneVsRestClassifier, OneVsOneClassifier\n",
    "from sklearn.neighbors import KNeighborsClassifier, KNeighborsRegressor\n",
    "from sklearn.model_selection import train_test_split, cross_val_score, cross_val_predict, KFold, GridSearchCV\n",
    "from sklearn.preprocessing import PolynomialFeatures, StandardScaler\n",
    "from sklearn.feature_extraction.text import CountVectorizer, TfidfVectorizer, HashingVectorizer, ENGLISH_STOP_WORDS\n",
    "from sklearn.naive_bayes import MultinomialNB\n",
    "from sklearn.tree import DecisionTreeClassifier, DecisionTreeRegressor, export_graphviz\n",
    "from sklearn.ensemble import RandomForestClassifier, RandomForestRegressor\n",
    "from sklearn.decomposition import LatentDirichletAllocation\n",
    "from sklearn.pipeline import make_pipeline\n",
    "from sklearn import metrics\n",
    "from sklearn import datasets\n",
    "from textblob import TextBlob, Word\n",
    "from nltk.stem.snowball import SnowballStemmer\n",
    "from nltk.sentiment.vader import SentimentIntensityAnalyzer\n",
    "from nltk.corpus import stopwords\n",
    "#from textacy.preprocess import preprocess_text\n",
    "\n",
    "from gensim import corpora, models, matutils\n",
    "from collections import defaultdict, Counter\n",
    "\n",
    "import statsmodels.api as sm\n",
    "import statsmodels.formula.api as sm\n",
    "from statsmodels.tsa.stattools import acf, pacf, adfuller\n",
    "from statsmodels.tsa.api import ExponentialSmoothing, SimpleExpSmoothing, Holt\n",
    "from statsmodels.graphics.tsaplots import plot_acf, plot_pacf\n",
    "from statsmodels.tsa.seasonal import seasonal_decompose\n",
    "from statsmodels.tsa.statespace.sarimax import SARIMAX\n",
    "\n",
    "import tensorflow as tf\n",
    "\n",
    "import patsy\n",
    "from itertools import combinations\n",
    "\n",
    "import graphviz\n",
    "import json\n",
    "import requests\n",
    "import urllib\n",
    "from bs4 import BeautifulSoup\n",
    "from selenium import webdriver\n",
    "from selenium.webdriver.common.keys import Keys\n",
    "from time import sleep\n",
    "import re\n",
    "import twitter\n",
    "\n",
    "%matplotlib inline\n",
    "#plt.style.use('fivethirtyeight')\n",
    "plt.rcParams['figure.figsize'] = (10, 6)\n",
    "plt.rcParams['font.size'] = 12"
   ]
  },
  {
   "cell_type": "code",
   "execution_count": 2,
   "metadata": {},
   "outputs": [],
   "source": [
    "%matplotlib inline\n",
    "#plt.style.use('fivethirtyeight')\n",
    "plt.rcParams['figure.figsize'] = (12, 8)\n",
    "plt.rcParams['font.size'] = 12"
   ]
  },
  {
   "cell_type": "markdown",
   "metadata": {},
   "source": [
    "## Build and document a working model, prototype, recommendation, or solution"
   ]
  },
  {
   "cell_type": "markdown",
   "metadata": {},
   "source": [
    "Note: The new Statcast metrics are available beginning from the 2015 baseball season to the current season. I downloaded the 2015-2017 baseball season data for all teams which will be used in the data modeling."
   ]
  },
  {
   "cell_type": "markdown",
   "metadata": {},
   "source": [
    "## [pybaseball](https://github.com/jldbc/pybaseball) \n",
    "Pull current and historical baseball statistics using Python (Statcast, Baseball Reference, FanGraphs)\n",
    "\n",
    "`pybaseball` is a Python package for baseball data analysis. This package scrapes Baseball Reference, Baseball Savant, and FanGraphs so you don't have to. The package retrieves statcast data, pitching stats, batting stats, division standings/team records, awards data, and more. Data is available at the individual pitch level, as well as aggregated at the season level and over custom time periods. See the [docs](https://github.com/jldbc/pybaseball/tree/master/docs) for a comprehensive list of data acquisition functions."
   ]
  },
  {
   "cell_type": "markdown",
   "metadata": {},
   "source": [
    "**Statcast**\n",
    "\n",
    "The statcast function retrieves pitch-level statcast data for a given date or range or dates.\n",
    "\n",
    "statcast(start_dt=[yesterday's date], end_dt=None, team=None)"
   ]
  },
  {
   "cell_type": "code",
   "execution_count": 3,
   "metadata": {},
   "outputs": [],
   "source": [
    "# Pull advanced metrics from Major League Baseball's Statcast system\n",
    "#from pybaseball import statcast\n",
    "\n",
    "# Look up a player's MLBAM, Retrosheet, FanGraphs, and Baseball Reference ID by name\n",
    "#from pybaseball import playerid_lookup"
   ]
  },
  {
   "cell_type": "markdown",
   "metadata": {},
   "source": [
    "### Reading a File"
   ]
  },
  {
   "cell_type": "code",
   "execution_count": 4,
   "metadata": {},
   "outputs": [],
   "source": [
    "# Create data path variable for loading data\n",
    "data_path = '/Users/yangweichle/Documents/GeneralAssembly/Projects/Datasets/'"
   ]
  },
  {
   "cell_type": "code",
   "execution_count": 5,
   "metadata": {},
   "outputs": [],
   "source": [
    "# Read file into DataFrame\n",
    "# Note: header=0 disables the header from the file\n",
    "all_MLB_teams2015_2017 = pd.read_csv(data_path + 'all_MLB_teams2015_2017.csv', header=0) # Comma-separated values file"
   ]
  },
  {
   "cell_type": "markdown",
   "metadata": {},
   "source": [
    "### Examine the DataFrame"
   ]
  },
  {
   "cell_type": "code",
   "execution_count": 6,
   "metadata": {},
   "outputs": [
    {
     "name": "stdout",
     "output_type": "stream",
     "text": [
      "Rows: 2139920, Cols: 91\n"
     ]
    }
   ],
   "source": [
    "# Return the number of rows and columns (dimensionality) of the DataFrame\n",
    "print('Rows: {}, Cols: {}'.format(all_MLB_teams2015_2017.shape[0], all_MLB_teams2015_2017.shape[1]))"
   ]
  },
  {
   "cell_type": "code",
   "execution_count": 7,
   "metadata": {},
   "outputs": [
    {
     "name": "stdout",
     "output_type": "stream",
     "text": [
      "<class 'pandas.core.frame.DataFrame'>\n",
      "RangeIndex: 2139920 entries, 0 to 2139919\n",
      "Data columns (total 91 columns):\n",
      "Unnamed: 0                         int64\n",
      "index                              int64\n",
      "pitch_type                         object\n",
      "game_date                          object\n",
      "release_speed                      float64\n",
      "release_pos_x                      float64\n",
      "release_pos_z                      float64\n",
      "player_name                        object\n",
      "batter                             float64\n",
      "pitcher                            float64\n",
      "events                             object\n",
      "description                        object\n",
      "spin_dir                           float64\n",
      "spin_rate_deprecated               float64\n",
      "break_angle_deprecated             float64\n",
      "break_length_deprecated            float64\n",
      "zone                               float64\n",
      "des                                object\n",
      "game_type                          object\n",
      "stand                              object\n",
      "p_throws                           object\n",
      "home_team                          object\n",
      "away_team                          object\n",
      "type                               object\n",
      "hit_location                       float64\n",
      "bb_type                            object\n",
      "balls                              float64\n",
      "strikes                            float64\n",
      "game_year                          float64\n",
      "pfx_x                              float64\n",
      "pfx_z                              float64\n",
      "plate_x                            float64\n",
      "plate_z                            float64\n",
      "on_3b                              float64\n",
      "on_2b                              float64\n",
      "on_1b                              float64\n",
      "outs_when_up                       float64\n",
      "inning                             float64\n",
      "inning_topbot                      object\n",
      "hc_x                               float64\n",
      "hc_y                               float64\n",
      "tfs_deprecated                     float64\n",
      "tfs_zulu_deprecated                float64\n",
      "pos2_person_id                     float64\n",
      "umpire                             float64\n",
      "sv_id                              object\n",
      "vx0                                float64\n",
      "vy0                                float64\n",
      "vz0                                float64\n",
      "ax                                 float64\n",
      "ay                                 float64\n",
      "az                                 float64\n",
      "sz_top                             float64\n",
      "sz_bot                             float64\n",
      "hit_distance_sc                    float64\n",
      "launch_speed                       float64\n",
      "launch_angle                       float64\n",
      "effective_speed                    float64\n",
      "release_spin_rate                  float64\n",
      "release_extension                  float64\n",
      "game_pk                            float64\n",
      "pos1_person_id                     float64\n",
      "pos2_person_id.1                   float64\n",
      "pos3_person_id                     float64\n",
      "pos4_person_id                     float64\n",
      "pos5_person_id                     float64\n",
      "pos6_person_id                     float64\n",
      "pos7_person_id                     float64\n",
      "pos8_person_id                     float64\n",
      "pos9_person_id                     float64\n",
      "release_pos_y                      float64\n",
      "estimated_ba_using_speedangle      float64\n",
      "estimated_woba_using_speedangle    float64\n",
      "woba_value                         float64\n",
      "woba_denom                         float64\n",
      "babip_value                        float64\n",
      "iso_value                          float64\n",
      "launch_speed_angle                 float64\n",
      "at_bat_number                      float64\n",
      "pitch_number                       float64\n",
      "pitch_name                         object\n",
      "home_score                         float64\n",
      "away_score                         float64\n",
      "bat_score                          float64\n",
      "fld_score                          float64\n",
      "post_away_score                    float64\n",
      "post_home_score                    float64\n",
      "post_bat_score                     float64\n",
      "post_fld_score                     float64\n",
      "if_fielding_alignment              object\n",
      "of_fielding_alignment              object\n",
      "dtypes: float64(71), int64(2), object(18)\n",
      "memory usage: 1.5+ GB\n"
     ]
    }
   ],
   "source": [
    "# Print a concise summary of a DataFrame including the index dtype and column dtypes, non-null values, and memory usage\n",
    "# Note: Useful to quickly see if null values exist \n",
    "all_MLB_teams2015_2017.info()"
   ]
  },
  {
   "cell_type": "code",
   "execution_count": 8,
   "metadata": {},
   "outputs": [],
   "source": [
    "# Column names (which is \"an index\")\n",
    "#all_MLB_teams2015_2017.columns"
   ]
  },
  {
   "cell_type": "code",
   "execution_count": 9,
   "metadata": {},
   "outputs": [],
   "source": [
    "# Sort a DataFrame by multiple columns\n",
    "# Note: ascending: sort ascending vs. descending; ascending=True is default\n",
    "#       inplace=True changes the original DataFrame\n",
    "all_MLB_teams2015_2017.sort_values(by=['game_date', 'game_pk', 'at_bat_number', 'pitch_number'], ascending=True, inplace=True)"
   ]
  },
  {
   "cell_type": "code",
   "execution_count": 10,
   "metadata": {},
   "outputs": [
    {
     "data": {
      "text/html": [
       "<div>\n",
       "<style scoped>\n",
       "    .dataframe tbody tr th:only-of-type {\n",
       "        vertical-align: middle;\n",
       "    }\n",
       "\n",
       "    .dataframe tbody tr th {\n",
       "        vertical-align: top;\n",
       "    }\n",
       "\n",
       "    .dataframe thead th {\n",
       "        text-align: right;\n",
       "    }\n",
       "</style>\n",
       "<table border=\"1\" class=\"dataframe\">\n",
       "  <thead>\n",
       "    <tr style=\"text-align: right;\">\n",
       "      <th></th>\n",
       "      <th>Unnamed: 0</th>\n",
       "      <th>index</th>\n",
       "      <th>pitch_type</th>\n",
       "      <th>game_date</th>\n",
       "      <th>release_speed</th>\n",
       "      <th>release_pos_x</th>\n",
       "      <th>release_pos_z</th>\n",
       "      <th>player_name</th>\n",
       "      <th>batter</th>\n",
       "      <th>pitcher</th>\n",
       "      <th>...</th>\n",
       "      <th>home_score</th>\n",
       "      <th>away_score</th>\n",
       "      <th>bat_score</th>\n",
       "      <th>fld_score</th>\n",
       "      <th>post_away_score</th>\n",
       "      <th>post_home_score</th>\n",
       "      <th>post_bat_score</th>\n",
       "      <th>post_fld_score</th>\n",
       "      <th>if_fielding_alignment</th>\n",
       "      <th>of_fielding_alignment</th>\n",
       "    </tr>\n",
       "  </thead>\n",
       "  <tbody>\n",
       "    <tr>\n",
       "      <td>2139919</td>\n",
       "      <td>702491</td>\n",
       "      <td>17584</td>\n",
       "      <td>FF</td>\n",
       "      <td>2015-04-05</td>\n",
       "      <td>93.6</td>\n",
       "      <td>2.5520</td>\n",
       "      <td>5.5293</td>\n",
       "      <td>Jon Lester</td>\n",
       "      <td>572761.0</td>\n",
       "      <td>452657.0</td>\n",
       "      <td>...</td>\n",
       "      <td>0.0</td>\n",
       "      <td>0.0</td>\n",
       "      <td>0.0</td>\n",
       "      <td>0.0</td>\n",
       "      <td>0.0</td>\n",
       "      <td>0.0</td>\n",
       "      <td>0.0</td>\n",
       "      <td>0.0</td>\n",
       "      <td>NaN</td>\n",
       "      <td>NaN</td>\n",
       "    </tr>\n",
       "    <tr>\n",
       "      <td>2139918</td>\n",
       "      <td>702490</td>\n",
       "      <td>17583</td>\n",
       "      <td>FF</td>\n",
       "      <td>2015-04-05</td>\n",
       "      <td>93.4</td>\n",
       "      <td>2.5694</td>\n",
       "      <td>5.6476</td>\n",
       "      <td>Jon Lester</td>\n",
       "      <td>572761.0</td>\n",
       "      <td>452657.0</td>\n",
       "      <td>...</td>\n",
       "      <td>0.0</td>\n",
       "      <td>0.0</td>\n",
       "      <td>0.0</td>\n",
       "      <td>0.0</td>\n",
       "      <td>0.0</td>\n",
       "      <td>0.0</td>\n",
       "      <td>0.0</td>\n",
       "      <td>0.0</td>\n",
       "      <td>NaN</td>\n",
       "      <td>NaN</td>\n",
       "    </tr>\n",
       "    <tr>\n",
       "      <td>2139917</td>\n",
       "      <td>702489</td>\n",
       "      <td>17582</td>\n",
       "      <td>FF</td>\n",
       "      <td>2015-04-05</td>\n",
       "      <td>94.8</td>\n",
       "      <td>2.6266</td>\n",
       "      <td>5.2936</td>\n",
       "      <td>Jon Lester</td>\n",
       "      <td>572761.0</td>\n",
       "      <td>452657.0</td>\n",
       "      <td>...</td>\n",
       "      <td>0.0</td>\n",
       "      <td>0.0</td>\n",
       "      <td>0.0</td>\n",
       "      <td>0.0</td>\n",
       "      <td>0.0</td>\n",
       "      <td>0.0</td>\n",
       "      <td>0.0</td>\n",
       "      <td>0.0</td>\n",
       "      <td>NaN</td>\n",
       "      <td>NaN</td>\n",
       "    </tr>\n",
       "    <tr>\n",
       "      <td>2139916</td>\n",
       "      <td>702488</td>\n",
       "      <td>17581</td>\n",
       "      <td>FF</td>\n",
       "      <td>2015-04-05</td>\n",
       "      <td>91.6</td>\n",
       "      <td>NaN</td>\n",
       "      <td>NaN</td>\n",
       "      <td>Jon Lester</td>\n",
       "      <td>572761.0</td>\n",
       "      <td>452657.0</td>\n",
       "      <td>...</td>\n",
       "      <td>0.0</td>\n",
       "      <td>0.0</td>\n",
       "      <td>0.0</td>\n",
       "      <td>0.0</td>\n",
       "      <td>0.0</td>\n",
       "      <td>0.0</td>\n",
       "      <td>0.0</td>\n",
       "      <td>0.0</td>\n",
       "      <td>NaN</td>\n",
       "      <td>NaN</td>\n",
       "    </tr>\n",
       "    <tr>\n",
       "      <td>2139915</td>\n",
       "      <td>702487</td>\n",
       "      <td>17580</td>\n",
       "      <td>CU</td>\n",
       "      <td>2015-04-05</td>\n",
       "      <td>75.9</td>\n",
       "      <td>NaN</td>\n",
       "      <td>NaN</td>\n",
       "      <td>Jon Lester</td>\n",
       "      <td>572761.0</td>\n",
       "      <td>452657.0</td>\n",
       "      <td>...</td>\n",
       "      <td>0.0</td>\n",
       "      <td>0.0</td>\n",
       "      <td>0.0</td>\n",
       "      <td>0.0</td>\n",
       "      <td>0.0</td>\n",
       "      <td>0.0</td>\n",
       "      <td>0.0</td>\n",
       "      <td>0.0</td>\n",
       "      <td>NaN</td>\n",
       "      <td>NaN</td>\n",
       "    </tr>\n",
       "    <tr>\n",
       "      <td>4</td>\n",
       "      <td>4</td>\n",
       "      <td>650</td>\n",
       "      <td>FT</td>\n",
       "      <td>2017-10-01</td>\n",
       "      <td>95.9</td>\n",
       "      <td>-0.8903</td>\n",
       "      <td>6.1341</td>\n",
       "      <td>Roberto Osuna</td>\n",
       "      <td>595885.0</td>\n",
       "      <td>532077.0</td>\n",
       "      <td>...</td>\n",
       "      <td>1.0</td>\n",
       "      <td>2.0</td>\n",
       "      <td>1.0</td>\n",
       "      <td>2.0</td>\n",
       "      <td>2.0</td>\n",
       "      <td>1.0</td>\n",
       "      <td>1.0</td>\n",
       "      <td>2.0</td>\n",
       "      <td>Infield shift</td>\n",
       "      <td>Strategic</td>\n",
       "    </tr>\n",
       "    <tr>\n",
       "      <td>3</td>\n",
       "      <td>3</td>\n",
       "      <td>636</td>\n",
       "      <td>CH</td>\n",
       "      <td>2017-10-01</td>\n",
       "      <td>82.8</td>\n",
       "      <td>-0.9901</td>\n",
       "      <td>6.0626</td>\n",
       "      <td>Roberto Osuna</td>\n",
       "      <td>595885.0</td>\n",
       "      <td>532077.0</td>\n",
       "      <td>...</td>\n",
       "      <td>1.0</td>\n",
       "      <td>2.0</td>\n",
       "      <td>1.0</td>\n",
       "      <td>2.0</td>\n",
       "      <td>2.0</td>\n",
       "      <td>1.0</td>\n",
       "      <td>1.0</td>\n",
       "      <td>2.0</td>\n",
       "      <td>Infield shift</td>\n",
       "      <td>Strategic</td>\n",
       "    </tr>\n",
       "    <tr>\n",
       "      <td>2</td>\n",
       "      <td>2</td>\n",
       "      <td>620</td>\n",
       "      <td>FF</td>\n",
       "      <td>2017-10-01</td>\n",
       "      <td>94.7</td>\n",
       "      <td>-0.6208</td>\n",
       "      <td>6.3387</td>\n",
       "      <td>Roberto Osuna</td>\n",
       "      <td>595885.0</td>\n",
       "      <td>532077.0</td>\n",
       "      <td>...</td>\n",
       "      <td>1.0</td>\n",
       "      <td>2.0</td>\n",
       "      <td>1.0</td>\n",
       "      <td>2.0</td>\n",
       "      <td>2.0</td>\n",
       "      <td>1.0</td>\n",
       "      <td>1.0</td>\n",
       "      <td>2.0</td>\n",
       "      <td>Infield shift</td>\n",
       "      <td>Strategic</td>\n",
       "    </tr>\n",
       "    <tr>\n",
       "      <td>1</td>\n",
       "      <td>1</td>\n",
       "      <td>615</td>\n",
       "      <td>FC</td>\n",
       "      <td>2017-10-01</td>\n",
       "      <td>91.8</td>\n",
       "      <td>-1.0777</td>\n",
       "      <td>6.1772</td>\n",
       "      <td>Roberto Osuna</td>\n",
       "      <td>595885.0</td>\n",
       "      <td>532077.0</td>\n",
       "      <td>...</td>\n",
       "      <td>1.0</td>\n",
       "      <td>2.0</td>\n",
       "      <td>1.0</td>\n",
       "      <td>2.0</td>\n",
       "      <td>2.0</td>\n",
       "      <td>1.0</td>\n",
       "      <td>1.0</td>\n",
       "      <td>2.0</td>\n",
       "      <td>Infield shift</td>\n",
       "      <td>Strategic</td>\n",
       "    </tr>\n",
       "    <tr>\n",
       "      <td>0</td>\n",
       "      <td>0</td>\n",
       "      <td>597</td>\n",
       "      <td>FC</td>\n",
       "      <td>2017-10-01</td>\n",
       "      <td>91.9</td>\n",
       "      <td>-1.1948</td>\n",
       "      <td>5.9921</td>\n",
       "      <td>Roberto Osuna</td>\n",
       "      <td>595885.0</td>\n",
       "      <td>532077.0</td>\n",
       "      <td>...</td>\n",
       "      <td>1.0</td>\n",
       "      <td>2.0</td>\n",
       "      <td>1.0</td>\n",
       "      <td>2.0</td>\n",
       "      <td>2.0</td>\n",
       "      <td>1.0</td>\n",
       "      <td>1.0</td>\n",
       "      <td>2.0</td>\n",
       "      <td>NaN</td>\n",
       "      <td>NaN</td>\n",
       "    </tr>\n",
       "  </tbody>\n",
       "</table>\n",
       "<p>10 rows × 91 columns</p>\n",
       "</div>"
      ],
      "text/plain": [
       "         Unnamed: 0  index pitch_type   game_date  release_speed  \\\n",
       "2139919      702491  17584         FF  2015-04-05           93.6   \n",
       "2139918      702490  17583         FF  2015-04-05           93.4   \n",
       "2139917      702489  17582         FF  2015-04-05           94.8   \n",
       "2139916      702488  17581         FF  2015-04-05           91.6   \n",
       "2139915      702487  17580         CU  2015-04-05           75.9   \n",
       "4                 4    650         FT  2017-10-01           95.9   \n",
       "3                 3    636         CH  2017-10-01           82.8   \n",
       "2                 2    620         FF  2017-10-01           94.7   \n",
       "1                 1    615         FC  2017-10-01           91.8   \n",
       "0                 0    597         FC  2017-10-01           91.9   \n",
       "\n",
       "         release_pos_x  release_pos_z    player_name    batter   pitcher  ...  \\\n",
       "2139919         2.5520         5.5293     Jon Lester  572761.0  452657.0  ...   \n",
       "2139918         2.5694         5.6476     Jon Lester  572761.0  452657.0  ...   \n",
       "2139917         2.6266         5.2936     Jon Lester  572761.0  452657.0  ...   \n",
       "2139916            NaN            NaN     Jon Lester  572761.0  452657.0  ...   \n",
       "2139915            NaN            NaN     Jon Lester  572761.0  452657.0  ...   \n",
       "4              -0.8903         6.1341  Roberto Osuna  595885.0  532077.0  ...   \n",
       "3              -0.9901         6.0626  Roberto Osuna  595885.0  532077.0  ...   \n",
       "2              -0.6208         6.3387  Roberto Osuna  595885.0  532077.0  ...   \n",
       "1              -1.0777         6.1772  Roberto Osuna  595885.0  532077.0  ...   \n",
       "0              -1.1948         5.9921  Roberto Osuna  595885.0  532077.0  ...   \n",
       "\n",
       "        home_score away_score  bat_score  fld_score  post_away_score  \\\n",
       "2139919        0.0        0.0        0.0        0.0              0.0   \n",
       "2139918        0.0        0.0        0.0        0.0              0.0   \n",
       "2139917        0.0        0.0        0.0        0.0              0.0   \n",
       "2139916        0.0        0.0        0.0        0.0              0.0   \n",
       "2139915        0.0        0.0        0.0        0.0              0.0   \n",
       "4              1.0        2.0        1.0        2.0              2.0   \n",
       "3              1.0        2.0        1.0        2.0              2.0   \n",
       "2              1.0        2.0        1.0        2.0              2.0   \n",
       "1              1.0        2.0        1.0        2.0              2.0   \n",
       "0              1.0        2.0        1.0        2.0              2.0   \n",
       "\n",
       "         post_home_score  post_bat_score post_fld_score if_fielding_alignment  \\\n",
       "2139919              0.0             0.0            0.0                   NaN   \n",
       "2139918              0.0             0.0            0.0                   NaN   \n",
       "2139917              0.0             0.0            0.0                   NaN   \n",
       "2139916              0.0             0.0            0.0                   NaN   \n",
       "2139915              0.0             0.0            0.0                   NaN   \n",
       "4                    1.0             1.0            2.0         Infield shift   \n",
       "3                    1.0             1.0            2.0         Infield shift   \n",
       "2                    1.0             1.0            2.0         Infield shift   \n",
       "1                    1.0             1.0            2.0         Infield shift   \n",
       "0                    1.0             1.0            2.0                   NaN   \n",
       "\n",
       "        of_fielding_alignment  \n",
       "2139919                   NaN  \n",
       "2139918                   NaN  \n",
       "2139917                   NaN  \n",
       "2139916                   NaN  \n",
       "2139915                   NaN  \n",
       "4                   Strategic  \n",
       "3                   Strategic  \n",
       "2                   Strategic  \n",
       "1                   Strategic  \n",
       "0                         NaN  \n",
       "\n",
       "[10 rows x 91 columns]"
      ]
     },
     "execution_count": 10,
     "metadata": {},
     "output_type": "execute_result"
    }
   ],
   "source": [
    "# Print the first 5 rows and the last 5 rows of the DataFrame\n",
    "all_MLB_teams2015_2017.head().append(all_MLB_teams2015_2017.tail())"
   ]
  },
  {
   "cell_type": "markdown",
   "metadata": {},
   "source": [
    "#### Identifying important columns to include in the DataFrame."
   ]
  },
  {
   "cell_type": "code",
   "execution_count": 11,
   "metadata": {},
   "outputs": [],
   "source": [
    "# Select multiple columns\n",
    "# Note: release_speed = Pitch Velocity (MPH)\n",
    "#       bb_type = Batted Ball Type\n",
    "#       launch_speed = Exit Velocity (MPH)\n",
    "#       launch_angle = Launch Angle (Degrees)\n",
    "baseball_cols = ['game_date', 'home_team', 'away_team', 'player_name', 'pitcher', 'pitch_type', 'pitch_name', 'release_speed',\n",
    "                 'batter', 'events', 'description', 'bb_type', 'des', 'launch_speed', 'launch_angle', 'hit_distance_sc'] \n",
    "all_MLB_teams2015_2017_new = all_MLB_teams2015_2017[baseball_cols]"
   ]
  },
  {
   "cell_type": "code",
   "execution_count": 12,
   "metadata": {
    "scrolled": true
   },
   "outputs": [
    {
     "name": "stdout",
     "output_type": "stream",
     "text": [
      "Rows: 2139920, Cols: 16\n"
     ]
    }
   ],
   "source": [
    "# Return the number of rows and columns (dimensionality) of the DataFrame\n",
    "print('Rows: {}, Cols: {}'.format(all_MLB_teams2015_2017_new.shape[0], all_MLB_teams2015_2017_new.shape[1]))"
   ]
  },
  {
   "cell_type": "code",
   "execution_count": 13,
   "metadata": {},
   "outputs": [
    {
     "data": {
      "text/html": [
       "<div>\n",
       "<style scoped>\n",
       "    .dataframe tbody tr th:only-of-type {\n",
       "        vertical-align: middle;\n",
       "    }\n",
       "\n",
       "    .dataframe tbody tr th {\n",
       "        vertical-align: top;\n",
       "    }\n",
       "\n",
       "    .dataframe thead th {\n",
       "        text-align: right;\n",
       "    }\n",
       "</style>\n",
       "<table border=\"1\" class=\"dataframe\">\n",
       "  <thead>\n",
       "    <tr style=\"text-align: right;\">\n",
       "      <th></th>\n",
       "      <th>game_date</th>\n",
       "      <th>home_team</th>\n",
       "      <th>away_team</th>\n",
       "      <th>player_name</th>\n",
       "      <th>pitcher</th>\n",
       "      <th>pitch_type</th>\n",
       "      <th>pitch_name</th>\n",
       "      <th>release_speed</th>\n",
       "      <th>batter</th>\n",
       "      <th>events</th>\n",
       "      <th>description</th>\n",
       "      <th>bb_type</th>\n",
       "      <th>des</th>\n",
       "      <th>launch_speed</th>\n",
       "      <th>launch_angle</th>\n",
       "      <th>hit_distance_sc</th>\n",
       "    </tr>\n",
       "  </thead>\n",
       "  <tbody>\n",
       "    <tr>\n",
       "      <td>2139919</td>\n",
       "      <td>2015-04-05</td>\n",
       "      <td>CHC</td>\n",
       "      <td>STL</td>\n",
       "      <td>Jon Lester</td>\n",
       "      <td>452657.0</td>\n",
       "      <td>FF</td>\n",
       "      <td>4-Seam Fastball</td>\n",
       "      <td>93.6</td>\n",
       "      <td>572761.0</td>\n",
       "      <td>NaN</td>\n",
       "      <td>called_strike</td>\n",
       "      <td>NaN</td>\n",
       "      <td>NaN</td>\n",
       "      <td>NaN</td>\n",
       "      <td>NaN</td>\n",
       "      <td>NaN</td>\n",
       "    </tr>\n",
       "    <tr>\n",
       "      <td>2139918</td>\n",
       "      <td>2015-04-05</td>\n",
       "      <td>CHC</td>\n",
       "      <td>STL</td>\n",
       "      <td>Jon Lester</td>\n",
       "      <td>452657.0</td>\n",
       "      <td>FF</td>\n",
       "      <td>4-Seam Fastball</td>\n",
       "      <td>93.4</td>\n",
       "      <td>572761.0</td>\n",
       "      <td>NaN</td>\n",
       "      <td>swinging_strike</td>\n",
       "      <td>NaN</td>\n",
       "      <td>NaN</td>\n",
       "      <td>NaN</td>\n",
       "      <td>NaN</td>\n",
       "      <td>NaN</td>\n",
       "    </tr>\n",
       "    <tr>\n",
       "      <td>2139917</td>\n",
       "      <td>2015-04-05</td>\n",
       "      <td>CHC</td>\n",
       "      <td>STL</td>\n",
       "      <td>Jon Lester</td>\n",
       "      <td>452657.0</td>\n",
       "      <td>FF</td>\n",
       "      <td>4-Seam Fastball</td>\n",
       "      <td>94.8</td>\n",
       "      <td>572761.0</td>\n",
       "      <td>NaN</td>\n",
       "      <td>foul</td>\n",
       "      <td>NaN</td>\n",
       "      <td>NaN</td>\n",
       "      <td>NaN</td>\n",
       "      <td>NaN</td>\n",
       "      <td>NaN</td>\n",
       "    </tr>\n",
       "    <tr>\n",
       "      <td>2139916</td>\n",
       "      <td>2015-04-05</td>\n",
       "      <td>CHC</td>\n",
       "      <td>STL</td>\n",
       "      <td>Jon Lester</td>\n",
       "      <td>452657.0</td>\n",
       "      <td>FF</td>\n",
       "      <td>4-Seam Fastball</td>\n",
       "      <td>91.6</td>\n",
       "      <td>572761.0</td>\n",
       "      <td>NaN</td>\n",
       "      <td>ball</td>\n",
       "      <td>NaN</td>\n",
       "      <td>NaN</td>\n",
       "      <td>NaN</td>\n",
       "      <td>NaN</td>\n",
       "      <td>NaN</td>\n",
       "    </tr>\n",
       "    <tr>\n",
       "      <td>2139915</td>\n",
       "      <td>2015-04-05</td>\n",
       "      <td>CHC</td>\n",
       "      <td>STL</td>\n",
       "      <td>Jon Lester</td>\n",
       "      <td>452657.0</td>\n",
       "      <td>CU</td>\n",
       "      <td>Curveball</td>\n",
       "      <td>75.9</td>\n",
       "      <td>572761.0</td>\n",
       "      <td>NaN</td>\n",
       "      <td>ball</td>\n",
       "      <td>NaN</td>\n",
       "      <td>NaN</td>\n",
       "      <td>NaN</td>\n",
       "      <td>NaN</td>\n",
       "      <td>NaN</td>\n",
       "    </tr>\n",
       "  </tbody>\n",
       "</table>\n",
       "</div>"
      ],
      "text/plain": [
       "          game_date home_team away_team player_name   pitcher pitch_type  \\\n",
       "2139919  2015-04-05       CHC       STL  Jon Lester  452657.0         FF   \n",
       "2139918  2015-04-05       CHC       STL  Jon Lester  452657.0         FF   \n",
       "2139917  2015-04-05       CHC       STL  Jon Lester  452657.0         FF   \n",
       "2139916  2015-04-05       CHC       STL  Jon Lester  452657.0         FF   \n",
       "2139915  2015-04-05       CHC       STL  Jon Lester  452657.0         CU   \n",
       "\n",
       "              pitch_name  release_speed    batter events      description  \\\n",
       "2139919  4-Seam Fastball           93.6  572761.0    NaN    called_strike   \n",
       "2139918  4-Seam Fastball           93.4  572761.0    NaN  swinging_strike   \n",
       "2139917  4-Seam Fastball           94.8  572761.0    NaN             foul   \n",
       "2139916  4-Seam Fastball           91.6  572761.0    NaN             ball   \n",
       "2139915        Curveball           75.9  572761.0    NaN             ball   \n",
       "\n",
       "        bb_type  des  launch_speed  launch_angle  hit_distance_sc  \n",
       "2139919     NaN  NaN           NaN           NaN              NaN  \n",
       "2139918     NaN  NaN           NaN           NaN              NaN  \n",
       "2139917     NaN  NaN           NaN           NaN              NaN  \n",
       "2139916     NaN  NaN           NaN           NaN              NaN  \n",
       "2139915     NaN  NaN           NaN           NaN              NaN  "
      ]
     },
     "execution_count": 13,
     "metadata": {},
     "output_type": "execute_result"
    }
   ],
   "source": [
    "# Print the first 5 rows of the DataFrame\n",
    "all_MLB_teams2015_2017_new.head()"
   ]
  },
  {
   "cell_type": "code",
   "execution_count": 14,
   "metadata": {},
   "outputs": [],
   "source": [
    "# Rename one or more columns in the original DataFrame rather than returning a new view\n",
    "all_MLB_teams2015_2017_new = all_MLB_teams2015_2017_new.rename(columns={'release_speed': 'pitch_velocity',\n",
    "                                                                        'bb_type': 'batted_ball_type',\n",
    "                                                                        'launch_speed': 'exit_velocity'})"
   ]
  },
  {
   "cell_type": "code",
   "execution_count": 15,
   "metadata": {},
   "outputs": [
    {
     "name": "stdout",
     "output_type": "stream",
     "text": [
      "<class 'pandas.core.frame.DataFrame'>\n",
      "Int64Index: 2139920 entries, 2139919 to 0\n",
      "Data columns (total 16 columns):\n",
      "game_date           object\n",
      "home_team           object\n",
      "away_team           object\n",
      "player_name         object\n",
      "pitcher             float64\n",
      "pitch_type          object\n",
      "pitch_name          object\n",
      "pitch_velocity      float64\n",
      "batter              float64\n",
      "events              object\n",
      "description         object\n",
      "batted_ball_type    object\n",
      "des                 object\n",
      "exit_velocity       float64\n",
      "launch_angle        float64\n",
      "hit_distance_sc     float64\n",
      "dtypes: float64(6), object(10)\n",
      "memory usage: 277.5+ MB\n"
     ]
    }
   ],
   "source": [
    "# Print a concise summary of a DataFrame including the index dtype and column dtypes, non-null values, and memory usage\n",
    "# Note: Useful to quickly see if null values exist \n",
    "all_MLB_teams2015_2017_new.info()"
   ]
  },
  {
   "cell_type": "markdown",
   "metadata": {},
   "source": [
    "### Handling Missing Values"
   ]
  },
  {
   "cell_type": "code",
   "execution_count": 16,
   "metadata": {},
   "outputs": [
    {
     "data": {
      "text/plain": [
       "game_date                 0\n",
       "home_team                 0\n",
       "away_team                 0\n",
       "player_name               0\n",
       "pitcher                   0\n",
       "pitch_type             3814\n",
       "pitch_name             3814\n",
       "pitch_velocity         2505\n",
       "batter                    0\n",
       "events              1586052\n",
       "description               0\n",
       "batted_ball_type    1752979\n",
       "des                 1586054\n",
       "exit_velocity       1585044\n",
       "launch_angle        1585019\n",
       "hit_distance_sc     1631442\n",
       "dtype: int64"
      ]
     },
     "execution_count": 16,
     "metadata": {},
     "output_type": "execute_result"
    }
   ],
   "source": [
    "# Count the missing values in each column of a DataFrame - sum() works because True is 1 and False is 0\n",
    "all_MLB_teams2015_2017_new.isnull().sum()"
   ]
  },
  {
   "cell_type": "code",
   "execution_count": 17,
   "metadata": {},
   "outputs": [
    {
     "data": {
      "image/png": "[encoded data removed]",
      "text/plain": [
       "<Figure size 720x576 with 1 Axes>"
      ]
     },
     "metadata": {
      "needs_background": "light"
     },
     "output_type": "display_data"
    }
   ],
   "source": [
    "# Create a vertical bar plot by number of missing values per column using matplotlib\n",
    "# Note: figsize: a tuple (width, height) in inches\n",
    "all_MLB_teams2015_2017_new.isnull().sum().plot.bar(figsize=(10, 8));\n",
    "plt.title('Number of null values per column');"
   ]
  },
  {
   "cell_type": "markdown",
   "metadata": {},
   "source": [
    "#### Approach for excluding records:"
   ]
  },
  {
   "cell_type": "markdown",
   "metadata": {},
   "source": [
    "Each record represents an interaction between a pitcher and a batter (i.e., a pitch thrown by the pitcher to the batter).  The goal is to keep any interaction for which Statcast could provide valid measurements for the metrics `launch_speed`, `launch_angle`, and `hit_distance_sc`.\n",
    "\n",
    "In order to do so, non-batted ball records will be excluded. <br>\n",
    "\n",
    "- Drop all `events` = NaN which represent interactions where the batter did not make contact with the ball or the batter made contact with the ball but it was hit foul (e.g., ball, foul, called strike, swinging strike, blocked ball, foul tip, intentional ball, foul bunt, swinging strike blocked, missed bunt, pitchout)\n",
    "\n",
    "- Drop all `batted_ball_type` = NaN which represents other remaining events where there was not a batted ball (e.g., strikeout, walk, hit by pitch, intentional walk, caught stealing, etc.)"
   ]
  },
  {
   "cell_type": "markdown",
   "metadata": {},
   "source": [
    "#### Examine `events` column for missingness."
   ]
  },
  {
   "cell_type": "code",
   "execution_count": 18,
   "metadata": {},
   "outputs": [
    {
     "data": {
      "text/plain": [
       "NaN                             1586052\n",
       "field_out                        223381\n",
       "strikeout                        116120\n",
       "single                            82491\n",
       "walk                              42138\n",
       "double                            24898\n",
       "home_run                          16629\n",
       "force_out                         11500\n",
       "grounded_into_double_play         11266\n",
       "hit_by_pitch                       5019\n",
       "field_error                        4816\n",
       "sac_fly                            3549\n",
       "sac_bunt                           3149\n",
       "triple                             2607\n",
       "intent_walk                        1884\n",
       "double_play                        1348\n",
       "fielders_choice_out                 919\n",
       "caught_stealing_2b                  696\n",
       "strikeout_double_play               435\n",
       "fielders_choice                     301\n",
       "pickoff_caught_stealing_2b          131\n",
       "other_out                           120\n",
       "catcher_interf                      113\n",
       "pickoff_1b                           95\n",
       "sac_fly_double_play                  66\n",
       "caught_stealing_3b                   56\n",
       "pickoff_2b                           55\n",
       "caught_stealing_home                 29\n",
       "triple_play                          18\n",
       "run                                  16\n",
       "pickoff_caught_stealing_3b           10\n",
       "batter_interference                   4\n",
       "pickoff_caught_stealing_home          3\n",
       "sac_bunt_double_play                  3\n",
       "pickoff_3b                            3\n",
       "Name: events, dtype: int64"
      ]
     },
     "execution_count": 18,
     "metadata": {},
     "output_type": "execute_result"
    }
   ],
   "source": [
    "# Categorical column frequency\n",
    "# Returns counts of unique values in descending order (first element is the most frequently-occurring element)\n",
    "# Note: Excludes NA values by default\n",
    "all_MLB_teams2015_2017_new.events.value_counts(dropna=False)"
   ]
  },
  {
   "cell_type": "code",
   "execution_count": 19,
   "metadata": {},
   "outputs": [
    {
     "data": {
      "text/html": [
       "<div>\n",
       "<style scoped>\n",
       "    .dataframe tbody tr th:only-of-type {\n",
       "        vertical-align: middle;\n",
       "    }\n",
       "\n",
       "    .dataframe tbody tr th {\n",
       "        vertical-align: top;\n",
       "    }\n",
       "\n",
       "    .dataframe thead th {\n",
       "        text-align: right;\n",
       "    }\n",
       "</style>\n",
       "<table border=\"1\" class=\"dataframe\">\n",
       "  <thead>\n",
       "    <tr style=\"text-align: right;\">\n",
       "      <th></th>\n",
       "      <th>game_date</th>\n",
       "      <th>home_team</th>\n",
       "      <th>away_team</th>\n",
       "      <th>player_name</th>\n",
       "      <th>pitcher</th>\n",
       "      <th>pitch_type</th>\n",
       "      <th>pitch_name</th>\n",
       "      <th>pitch_velocity</th>\n",
       "      <th>batter</th>\n",
       "      <th>events</th>\n",
       "      <th>description</th>\n",
       "      <th>batted_ball_type</th>\n",
       "      <th>des</th>\n",
       "      <th>exit_velocity</th>\n",
       "      <th>launch_angle</th>\n",
       "      <th>hit_distance_sc</th>\n",
       "    </tr>\n",
       "  </thead>\n",
       "  <tbody>\n",
       "    <tr>\n",
       "      <td>2139919</td>\n",
       "      <td>2015-04-05</td>\n",
       "      <td>CHC</td>\n",
       "      <td>STL</td>\n",
       "      <td>Jon Lester</td>\n",
       "      <td>452657.0</td>\n",
       "      <td>FF</td>\n",
       "      <td>4-Seam Fastball</td>\n",
       "      <td>93.6</td>\n",
       "      <td>572761.0</td>\n",
       "      <td>NaN</td>\n",
       "      <td>called_strike</td>\n",
       "      <td>NaN</td>\n",
       "      <td>NaN</td>\n",
       "      <td>NaN</td>\n",
       "      <td>NaN</td>\n",
       "      <td>NaN</td>\n",
       "    </tr>\n",
       "    <tr>\n",
       "      <td>2139918</td>\n",
       "      <td>2015-04-05</td>\n",
       "      <td>CHC</td>\n",
       "      <td>STL</td>\n",
       "      <td>Jon Lester</td>\n",
       "      <td>452657.0</td>\n",
       "      <td>FF</td>\n",
       "      <td>4-Seam Fastball</td>\n",
       "      <td>93.4</td>\n",
       "      <td>572761.0</td>\n",
       "      <td>NaN</td>\n",
       "      <td>swinging_strike</td>\n",
       "      <td>NaN</td>\n",
       "      <td>NaN</td>\n",
       "      <td>NaN</td>\n",
       "      <td>NaN</td>\n",
       "      <td>NaN</td>\n",
       "    </tr>\n",
       "    <tr>\n",
       "      <td>2139917</td>\n",
       "      <td>2015-04-05</td>\n",
       "      <td>CHC</td>\n",
       "      <td>STL</td>\n",
       "      <td>Jon Lester</td>\n",
       "      <td>452657.0</td>\n",
       "      <td>FF</td>\n",
       "      <td>4-Seam Fastball</td>\n",
       "      <td>94.8</td>\n",
       "      <td>572761.0</td>\n",
       "      <td>NaN</td>\n",
       "      <td>foul</td>\n",
       "      <td>NaN</td>\n",
       "      <td>NaN</td>\n",
       "      <td>NaN</td>\n",
       "      <td>NaN</td>\n",
       "      <td>NaN</td>\n",
       "    </tr>\n",
       "    <tr>\n",
       "      <td>2139916</td>\n",
       "      <td>2015-04-05</td>\n",
       "      <td>CHC</td>\n",
       "      <td>STL</td>\n",
       "      <td>Jon Lester</td>\n",
       "      <td>452657.0</td>\n",
       "      <td>FF</td>\n",
       "      <td>4-Seam Fastball</td>\n",
       "      <td>91.6</td>\n",
       "      <td>572761.0</td>\n",
       "      <td>NaN</td>\n",
       "      <td>ball</td>\n",
       "      <td>NaN</td>\n",
       "      <td>NaN</td>\n",
       "      <td>NaN</td>\n",
       "      <td>NaN</td>\n",
       "      <td>NaN</td>\n",
       "    </tr>\n",
       "    <tr>\n",
       "      <td>2139915</td>\n",
       "      <td>2015-04-05</td>\n",
       "      <td>CHC</td>\n",
       "      <td>STL</td>\n",
       "      <td>Jon Lester</td>\n",
       "      <td>452657.0</td>\n",
       "      <td>CU</td>\n",
       "      <td>Curveball</td>\n",
       "      <td>75.9</td>\n",
       "      <td>572761.0</td>\n",
       "      <td>NaN</td>\n",
       "      <td>ball</td>\n",
       "      <td>NaN</td>\n",
       "      <td>NaN</td>\n",
       "      <td>NaN</td>\n",
       "      <td>NaN</td>\n",
       "      <td>NaN</td>\n",
       "    </tr>\n",
       "    <tr>\n",
       "      <td>...</td>\n",
       "      <td>...</td>\n",
       "      <td>...</td>\n",
       "      <td>...</td>\n",
       "      <td>...</td>\n",
       "      <td>...</td>\n",
       "      <td>...</td>\n",
       "      <td>...</td>\n",
       "      <td>...</td>\n",
       "      <td>...</td>\n",
       "      <td>...</td>\n",
       "      <td>...</td>\n",
       "      <td>...</td>\n",
       "      <td>...</td>\n",
       "      <td>...</td>\n",
       "      <td>...</td>\n",
       "      <td>...</td>\n",
       "    </tr>\n",
       "    <tr>\n",
       "      <td>5</td>\n",
       "      <td>2017-10-01</td>\n",
       "      <td>NYY</td>\n",
       "      <td>TOR</td>\n",
       "      <td>Roberto Osuna</td>\n",
       "      <td>532077.0</td>\n",
       "      <td>FF</td>\n",
       "      <td>4-Seam Fastball</td>\n",
       "      <td>96.0</td>\n",
       "      <td>595885.0</td>\n",
       "      <td>NaN</td>\n",
       "      <td>called_strike</td>\n",
       "      <td>NaN</td>\n",
       "      <td>NaN</td>\n",
       "      <td>NaN</td>\n",
       "      <td>NaN</td>\n",
       "      <td>NaN</td>\n",
       "    </tr>\n",
       "    <tr>\n",
       "      <td>4</td>\n",
       "      <td>2017-10-01</td>\n",
       "      <td>NYY</td>\n",
       "      <td>TOR</td>\n",
       "      <td>Roberto Osuna</td>\n",
       "      <td>532077.0</td>\n",
       "      <td>FT</td>\n",
       "      <td>2-Seam Fastball</td>\n",
       "      <td>95.9</td>\n",
       "      <td>595885.0</td>\n",
       "      <td>NaN</td>\n",
       "      <td>ball</td>\n",
       "      <td>NaN</td>\n",
       "      <td>NaN</td>\n",
       "      <td>NaN</td>\n",
       "      <td>NaN</td>\n",
       "      <td>NaN</td>\n",
       "    </tr>\n",
       "    <tr>\n",
       "      <td>3</td>\n",
       "      <td>2017-10-01</td>\n",
       "      <td>NYY</td>\n",
       "      <td>TOR</td>\n",
       "      <td>Roberto Osuna</td>\n",
       "      <td>532077.0</td>\n",
       "      <td>CH</td>\n",
       "      <td>Changeup</td>\n",
       "      <td>82.8</td>\n",
       "      <td>595885.0</td>\n",
       "      <td>NaN</td>\n",
       "      <td>ball</td>\n",
       "      <td>NaN</td>\n",
       "      <td>NaN</td>\n",
       "      <td>NaN</td>\n",
       "      <td>NaN</td>\n",
       "      <td>NaN</td>\n",
       "    </tr>\n",
       "    <tr>\n",
       "      <td>2</td>\n",
       "      <td>2017-10-01</td>\n",
       "      <td>NYY</td>\n",
       "      <td>TOR</td>\n",
       "      <td>Roberto Osuna</td>\n",
       "      <td>532077.0</td>\n",
       "      <td>FF</td>\n",
       "      <td>4-Seam Fastball</td>\n",
       "      <td>94.7</td>\n",
       "      <td>595885.0</td>\n",
       "      <td>NaN</td>\n",
       "      <td>ball</td>\n",
       "      <td>NaN</td>\n",
       "      <td>NaN</td>\n",
       "      <td>75.0</td>\n",
       "      <td>-7.6433</td>\n",
       "      <td>20.0</td>\n",
       "    </tr>\n",
       "    <tr>\n",
       "      <td>1</td>\n",
       "      <td>2017-10-01</td>\n",
       "      <td>NYY</td>\n",
       "      <td>TOR</td>\n",
       "      <td>Roberto Osuna</td>\n",
       "      <td>532077.0</td>\n",
       "      <td>FC</td>\n",
       "      <td>Cutter</td>\n",
       "      <td>91.8</td>\n",
       "      <td>595885.0</td>\n",
       "      <td>NaN</td>\n",
       "      <td>foul</td>\n",
       "      <td>NaN</td>\n",
       "      <td>NaN</td>\n",
       "      <td>NaN</td>\n",
       "      <td>NaN</td>\n",
       "      <td>NaN</td>\n",
       "    </tr>\n",
       "  </tbody>\n",
       "</table>\n",
       "<p>1586052 rows × 16 columns</p>\n",
       "</div>"
      ],
      "text/plain": [
       "          game_date home_team away_team    player_name   pitcher pitch_type  \\\n",
       "2139919  2015-04-05       CHC       STL     Jon Lester  452657.0         FF   \n",
       "2139918  2015-04-05       CHC       STL     Jon Lester  452657.0         FF   \n",
       "2139917  2015-04-05       CHC       STL     Jon Lester  452657.0         FF   \n",
       "2139916  2015-04-05       CHC       STL     Jon Lester  452657.0         FF   \n",
       "2139915  2015-04-05       CHC       STL     Jon Lester  452657.0         CU   \n",
       "...             ...       ...       ...            ...       ...        ...   \n",
       "5        2017-10-01       NYY       TOR  Roberto Osuna  532077.0         FF   \n",
       "4        2017-10-01       NYY       TOR  Roberto Osuna  532077.0         FT   \n",
       "3        2017-10-01       NYY       TOR  Roberto Osuna  532077.0         CH   \n",
       "2        2017-10-01       NYY       TOR  Roberto Osuna  532077.0         FF   \n",
       "1        2017-10-01       NYY       TOR  Roberto Osuna  532077.0         FC   \n",
       "\n",
       "              pitch_name  pitch_velocity    batter events      description  \\\n",
       "2139919  4-Seam Fastball            93.6  572761.0    NaN    called_strike   \n",
       "2139918  4-Seam Fastball            93.4  572761.0    NaN  swinging_strike   \n",
       "2139917  4-Seam Fastball            94.8  572761.0    NaN             foul   \n",
       "2139916  4-Seam Fastball            91.6  572761.0    NaN             ball   \n",
       "2139915        Curveball            75.9  572761.0    NaN             ball   \n",
       "...                  ...             ...       ...    ...              ...   \n",
       "5        4-Seam Fastball            96.0  595885.0    NaN    called_strike   \n",
       "4        2-Seam Fastball            95.9  595885.0    NaN             ball   \n",
       "3               Changeup            82.8  595885.0    NaN             ball   \n",
       "2        4-Seam Fastball            94.7  595885.0    NaN             ball   \n",
       "1                 Cutter            91.8  595885.0    NaN             foul   \n",
       "\n",
       "        batted_ball_type  des  exit_velocity  launch_angle  hit_distance_sc  \n",
       "2139919              NaN  NaN            NaN           NaN              NaN  \n",
       "2139918              NaN  NaN            NaN           NaN              NaN  \n",
       "2139917              NaN  NaN            NaN           NaN              NaN  \n",
       "2139916              NaN  NaN            NaN           NaN              NaN  \n",
       "2139915              NaN  NaN            NaN           NaN              NaN  \n",
       "...                  ...  ...            ...           ...              ...  \n",
       "5                    NaN  NaN            NaN           NaN              NaN  \n",
       "4                    NaN  NaN            NaN           NaN              NaN  \n",
       "3                    NaN  NaN            NaN           NaN              NaN  \n",
       "2                    NaN  NaN           75.0       -7.6433             20.0  \n",
       "1                    NaN  NaN            NaN           NaN              NaN  \n",
       "\n",
       "[1586052 rows x 16 columns]"
      ]
     },
     "execution_count": 19,
     "metadata": {},
     "output_type": "execute_result"
    }
   ],
   "source": [
    "# Detect missing values in a Series\n",
    "# Note: True if missing, False if not missing\n",
    "#cubs2016_new.events.isna() # alias of isnull()\n",
    "null_events = all_MLB_teams2015_2017_new.events.isnull()\n",
    "all_MLB_teams2015_2017_new[null_events]"
   ]
  },
  {
   "cell_type": "markdown",
   "metadata": {},
   "source": [
    "#### What types of interactions occurred for missing `events`?"
   ]
  },
  {
   "cell_type": "code",
   "execution_count": 20,
   "metadata": {},
   "outputs": [
    {
     "data": {
      "text/plain": [
       "ball                       676751\n",
       "foul                       371731\n",
       "called_strike              333190\n",
       "swinging_strike            131229\n",
       "blocked_ball                45367\n",
       "foul_tip                    10704\n",
       "foul_bunt                    6228\n",
       "intent_ball                  4724\n",
       "swinging_strike_blocked      4312\n",
       "missed_bunt                  1299\n",
       "pitchout                      510\n",
       "swinging_pitchout               4\n",
       "foul_pitchout                   1\n",
       "hit_into_play                   1\n",
       "hit_into_play_score             1\n",
       "Name: description, dtype: int64"
      ]
     },
     "execution_count": 20,
     "metadata": {},
     "output_type": "execute_result"
    }
   ],
   "source": [
    "# Categorical column frequency\n",
    "# Returns counts of unique values in descending order (first element is the most frequently-occurring element)\n",
    "# Note: Excludes NA values by default\n",
    "all_MLB_teams2015_2017_new[null_events].description.value_counts(dropna=False)"
   ]
  },
  {
   "cell_type": "markdown",
   "metadata": {},
   "source": [
    "#### Drop missing values from `events` column."
   ]
  },
  {
   "cell_type": "code",
   "execution_count": 21,
   "metadata": {
    "scrolled": true
   },
   "outputs": [],
   "source": [
    "# Remove missing values\n",
    "# Note: axis=0 (default) drop rows which contain missing values\n",
    "#       how='any' (default) drops rows if ANY missing values are present from any column -- can be dangerous!\n",
    "#       subset: if you are dropping rows these would be a list of columns to include\n",
    "#       inplace=True changes the original DataFrame\n",
    "all_MLB_teams2015_2017_new.dropna(subset=['events'], inplace=True)"
   ]
  },
  {
   "cell_type": "markdown",
   "metadata": {},
   "source": [
    "#### Examine `batted_ball_type` column for missingness."
   ]
  },
  {
   "cell_type": "code",
   "execution_count": 22,
   "metadata": {},
   "outputs": [
    {
     "data": {
      "text/plain": [
       "ground_ball    178646\n",
       "NaN            166927\n",
       "line_drive      99714\n",
       "fly_ball        81752\n",
       "popup           26829\n",
       "Name: batted_ball_type, dtype: int64"
      ]
     },
     "execution_count": 22,
     "metadata": {},
     "output_type": "execute_result"
    }
   ],
   "source": [
    "# Categorical column frequency\n",
    "# Returns counts of unique values in descending order (first element is the most frequently-occurring element)\n",
    "# Note: Excludes NA values by default\n",
    "all_MLB_teams2015_2017_new.batted_ball_type.value_counts(dropna=False)"
   ]
  },
  {
   "cell_type": "code",
   "execution_count": 23,
   "metadata": {},
   "outputs": [
    {
     "data": {
      "text/html": [
       "<div>\n",
       "<style scoped>\n",
       "    .dataframe tbody tr th:only-of-type {\n",
       "        vertical-align: middle;\n",
       "    }\n",
       "\n",
       "    .dataframe tbody tr th {\n",
       "        vertical-align: top;\n",
       "    }\n",
       "\n",
       "    .dataframe thead th {\n",
       "        text-align: right;\n",
       "    }\n",
       "</style>\n",
       "<table border=\"1\" class=\"dataframe\">\n",
       "  <thead>\n",
       "    <tr style=\"text-align: right;\">\n",
       "      <th></th>\n",
       "      <th>game_date</th>\n",
       "      <th>home_team</th>\n",
       "      <th>away_team</th>\n",
       "      <th>player_name</th>\n",
       "      <th>pitcher</th>\n",
       "      <th>pitch_type</th>\n",
       "      <th>pitch_name</th>\n",
       "      <th>pitch_velocity</th>\n",
       "      <th>batter</th>\n",
       "      <th>events</th>\n",
       "      <th>description</th>\n",
       "      <th>batted_ball_type</th>\n",
       "      <th>des</th>\n",
       "      <th>exit_velocity</th>\n",
       "      <th>launch_angle</th>\n",
       "      <th>hit_distance_sc</th>\n",
       "    </tr>\n",
       "  </thead>\n",
       "  <tbody>\n",
       "    <tr>\n",
       "      <td>2139906</td>\n",
       "      <td>2015-04-05</td>\n",
       "      <td>CHC</td>\n",
       "      <td>STL</td>\n",
       "      <td>Jon Lester</td>\n",
       "      <td>452657.0</td>\n",
       "      <td>CU</td>\n",
       "      <td>Curveball</td>\n",
       "      <td>76.8</td>\n",
       "      <td>425509.0</td>\n",
       "      <td>strikeout</td>\n",
       "      <td>swinging_strike</td>\n",
       "      <td>NaN</td>\n",
       "      <td>Jhonny Peralta strikes out swinging.</td>\n",
       "      <td>NaN</td>\n",
       "      <td>NaN</td>\n",
       "      <td>NaN</td>\n",
       "    </tr>\n",
       "    <tr>\n",
       "      <td>2139901</td>\n",
       "      <td>2015-04-05</td>\n",
       "      <td>CHC</td>\n",
       "      <td>STL</td>\n",
       "      <td>Jon Lester</td>\n",
       "      <td>452657.0</td>\n",
       "      <td>FC</td>\n",
       "      <td>Cutter</td>\n",
       "      <td>89.9</td>\n",
       "      <td>571431.0</td>\n",
       "      <td>strikeout</td>\n",
       "      <td>swinging_strike</td>\n",
       "      <td>NaN</td>\n",
       "      <td>Matt Adams strikes out swinging.</td>\n",
       "      <td>NaN</td>\n",
       "      <td>NaN</td>\n",
       "      <td>NaN</td>\n",
       "    </tr>\n",
       "    <tr>\n",
       "      <td>2139890</td>\n",
       "      <td>2015-04-05</td>\n",
       "      <td>CHC</td>\n",
       "      <td>STL</td>\n",
       "      <td>Adam Wainwright</td>\n",
       "      <td>425794.0</td>\n",
       "      <td>FC</td>\n",
       "      <td>Cutter</td>\n",
       "      <td>84.9</td>\n",
       "      <td>519203.0</td>\n",
       "      <td>strikeout</td>\n",
       "      <td>called_strike</td>\n",
       "      <td>NaN</td>\n",
       "      <td>Anthony Rizzo called out on strikes.</td>\n",
       "      <td>NaN</td>\n",
       "      <td>NaN</td>\n",
       "      <td>NaN</td>\n",
       "    </tr>\n",
       "    <tr>\n",
       "      <td>2139882</td>\n",
       "      <td>2015-04-05</td>\n",
       "      <td>CHC</td>\n",
       "      <td>STL</td>\n",
       "      <td>Jon Lester</td>\n",
       "      <td>452657.0</td>\n",
       "      <td>FF</td>\n",
       "      <td>4-Seam Fastball</td>\n",
       "      <td>92.0</td>\n",
       "      <td>425877.0</td>\n",
       "      <td>strikeout</td>\n",
       "      <td>swinging_strike</td>\n",
       "      <td>NaN</td>\n",
       "      <td>Yadier Molina strikes out swinging.</td>\n",
       "      <td>NaN</td>\n",
       "      <td>NaN</td>\n",
       "      <td>NaN</td>\n",
       "    </tr>\n",
       "    <tr>\n",
       "      <td>2139875</td>\n",
       "      <td>2015-04-05</td>\n",
       "      <td>CHC</td>\n",
       "      <td>STL</td>\n",
       "      <td>Jon Lester</td>\n",
       "      <td>452657.0</td>\n",
       "      <td>FF</td>\n",
       "      <td>4-Seam Fastball</td>\n",
       "      <td>89.6</td>\n",
       "      <td>543939.0</td>\n",
       "      <td>walk</td>\n",
       "      <td>ball</td>\n",
       "      <td>NaN</td>\n",
       "      <td>Kolten Wong walks.</td>\n",
       "      <td>NaN</td>\n",
       "      <td>NaN</td>\n",
       "      <td>NaN</td>\n",
       "    </tr>\n",
       "    <tr>\n",
       "      <td>...</td>\n",
       "      <td>...</td>\n",
       "      <td>...</td>\n",
       "      <td>...</td>\n",
       "      <td>...</td>\n",
       "      <td>...</td>\n",
       "      <td>...</td>\n",
       "      <td>...</td>\n",
       "      <td>...</td>\n",
       "      <td>...</td>\n",
       "      <td>...</td>\n",
       "      <td>...</td>\n",
       "      <td>...</td>\n",
       "      <td>...</td>\n",
       "      <td>...</td>\n",
       "      <td>...</td>\n",
       "      <td>...</td>\n",
       "    </tr>\n",
       "    <tr>\n",
       "      <td>50</td>\n",
       "      <td>2017-10-01</td>\n",
       "      <td>NYY</td>\n",
       "      <td>TOR</td>\n",
       "      <td>Domingo German</td>\n",
       "      <td>593334.0</td>\n",
       "      <td>FF</td>\n",
       "      <td>4-Seam Fastball</td>\n",
       "      <td>97.0</td>\n",
       "      <td>606192.0</td>\n",
       "      <td>strikeout</td>\n",
       "      <td>swinging_strike</td>\n",
       "      <td>NaN</td>\n",
       "      <td>Teoscar Hernandez strikes out swinging.</td>\n",
       "      <td>NaN</td>\n",
       "      <td>NaN</td>\n",
       "      <td>NaN</td>\n",
       "    </tr>\n",
       "    <tr>\n",
       "      <td>44</td>\n",
       "      <td>2017-10-01</td>\n",
       "      <td>NYY</td>\n",
       "      <td>TOR</td>\n",
       "      <td>Ryan Tepera</td>\n",
       "      <td>572193.0</td>\n",
       "      <td>FC</td>\n",
       "      <td>Cutter</td>\n",
       "      <td>88.9</td>\n",
       "      <td>592122.0</td>\n",
       "      <td>strikeout</td>\n",
       "      <td>swinging_strike</td>\n",
       "      <td>NaN</td>\n",
       "      <td>Tyler Austin strikes out swinging.</td>\n",
       "      <td>NaN</td>\n",
       "      <td>NaN</td>\n",
       "      <td>NaN</td>\n",
       "    </tr>\n",
       "    <tr>\n",
       "      <td>38</td>\n",
       "      <td>2017-10-01</td>\n",
       "      <td>NYY</td>\n",
       "      <td>TOR</td>\n",
       "      <td>Ryan Tepera</td>\n",
       "      <td>572193.0</td>\n",
       "      <td>FC</td>\n",
       "      <td>Cutter</td>\n",
       "      <td>89.5</td>\n",
       "      <td>543305.0</td>\n",
       "      <td>strikeout</td>\n",
       "      <td>swinging_strike</td>\n",
       "      <td>NaN</td>\n",
       "      <td>Aaron Hicks strikes out swinging.</td>\n",
       "      <td>NaN</td>\n",
       "      <td>NaN</td>\n",
       "      <td>NaN</td>\n",
       "    </tr>\n",
       "    <tr>\n",
       "      <td>29</td>\n",
       "      <td>2017-10-01</td>\n",
       "      <td>NYY</td>\n",
       "      <td>TOR</td>\n",
       "      <td>Ben Heller</td>\n",
       "      <td>621294.0</td>\n",
       "      <td>CU</td>\n",
       "      <td>Curveball</td>\n",
       "      <td>82.8</td>\n",
       "      <td>620446.0</td>\n",
       "      <td>strikeout</td>\n",
       "      <td>swinging_strike</td>\n",
       "      <td>NaN</td>\n",
       "      <td>Richard Urena strikes out swinging.</td>\n",
       "      <td>NaN</td>\n",
       "      <td>NaN</td>\n",
       "      <td>NaN</td>\n",
       "    </tr>\n",
       "    <tr>\n",
       "      <td>12</td>\n",
       "      <td>2017-10-01</td>\n",
       "      <td>NYY</td>\n",
       "      <td>TOR</td>\n",
       "      <td>Roberto Osuna</td>\n",
       "      <td>532077.0</td>\n",
       "      <td>FC</td>\n",
       "      <td>Cutter</td>\n",
       "      <td>91.0</td>\n",
       "      <td>642180.0</td>\n",
       "      <td>strikeout</td>\n",
       "      <td>swinging_strike</td>\n",
       "      <td>NaN</td>\n",
       "      <td>Tyler Wade strikes out swinging.</td>\n",
       "      <td>NaN</td>\n",
       "      <td>NaN</td>\n",
       "      <td>NaN</td>\n",
       "    </tr>\n",
       "  </tbody>\n",
       "</table>\n",
       "<p>166927 rows × 16 columns</p>\n",
       "</div>"
      ],
      "text/plain": [
       "          game_date home_team away_team      player_name   pitcher pitch_type  \\\n",
       "2139906  2015-04-05       CHC       STL       Jon Lester  452657.0         CU   \n",
       "2139901  2015-04-05       CHC       STL       Jon Lester  452657.0         FC   \n",
       "2139890  2015-04-05       CHC       STL  Adam Wainwright  425794.0         FC   \n",
       "2139882  2015-04-05       CHC       STL       Jon Lester  452657.0         FF   \n",
       "2139875  2015-04-05       CHC       STL       Jon Lester  452657.0         FF   \n",
       "...             ...       ...       ...              ...       ...        ...   \n",
       "50       2017-10-01       NYY       TOR   Domingo German  593334.0         FF   \n",
       "44       2017-10-01       NYY       TOR      Ryan Tepera  572193.0         FC   \n",
       "38       2017-10-01       NYY       TOR      Ryan Tepera  572193.0         FC   \n",
       "29       2017-10-01       NYY       TOR       Ben Heller  621294.0         CU   \n",
       "12       2017-10-01       NYY       TOR    Roberto Osuna  532077.0         FC   \n",
       "\n",
       "              pitch_name  pitch_velocity    batter     events  \\\n",
       "2139906        Curveball            76.8  425509.0  strikeout   \n",
       "2139901           Cutter            89.9  571431.0  strikeout   \n",
       "2139890           Cutter            84.9  519203.0  strikeout   \n",
       "2139882  4-Seam Fastball            92.0  425877.0  strikeout   \n",
       "2139875  4-Seam Fastball            89.6  543939.0       walk   \n",
       "...                  ...             ...       ...        ...   \n",
       "50       4-Seam Fastball            97.0  606192.0  strikeout   \n",
       "44                Cutter            88.9  592122.0  strikeout   \n",
       "38                Cutter            89.5  543305.0  strikeout   \n",
       "29             Curveball            82.8  620446.0  strikeout   \n",
       "12                Cutter            91.0  642180.0  strikeout   \n",
       "\n",
       "             description batted_ball_type  \\\n",
       "2139906  swinging_strike              NaN   \n",
       "2139901  swinging_strike              NaN   \n",
       "2139890    called_strike              NaN   \n",
       "2139882  swinging_strike              NaN   \n",
       "2139875             ball              NaN   \n",
       "...                  ...              ...   \n",
       "50       swinging_strike              NaN   \n",
       "44       swinging_strike              NaN   \n",
       "38       swinging_strike              NaN   \n",
       "29       swinging_strike              NaN   \n",
       "12       swinging_strike              NaN   \n",
       "\n",
       "                                               des  exit_velocity  \\\n",
       "2139906       Jhonny Peralta strikes out swinging.            NaN   \n",
       "2139901           Matt Adams strikes out swinging.            NaN   \n",
       "2139890       Anthony Rizzo called out on strikes.            NaN   \n",
       "2139882        Yadier Molina strikes out swinging.            NaN   \n",
       "2139875                         Kolten Wong walks.            NaN   \n",
       "...                                            ...            ...   \n",
       "50       Teoscar Hernandez strikes out swinging.              NaN   \n",
       "44            Tyler Austin strikes out swinging.              NaN   \n",
       "38             Aaron Hicks strikes out swinging.              NaN   \n",
       "29           Richard Urena strikes out swinging.              NaN   \n",
       "12              Tyler Wade strikes out swinging.              NaN   \n",
       "\n",
       "         launch_angle  hit_distance_sc  \n",
       "2139906           NaN              NaN  \n",
       "2139901           NaN              NaN  \n",
       "2139890           NaN              NaN  \n",
       "2139882           NaN              NaN  \n",
       "2139875           NaN              NaN  \n",
       "...               ...              ...  \n",
       "50                NaN              NaN  \n",
       "44                NaN              NaN  \n",
       "38                NaN              NaN  \n",
       "29                NaN              NaN  \n",
       "12                NaN              NaN  \n",
       "\n",
       "[166927 rows x 16 columns]"
      ]
     },
     "execution_count": 23,
     "metadata": {},
     "output_type": "execute_result"
    }
   ],
   "source": [
    "# Detect missing values in a Series\n",
    "# Note: True if missing, False if not missing\n",
    "#all_MLB_teams2015_2017_new.batted_ball_type.isna() # alias of isnull()\n",
    "null_batted_ball_type = all_MLB_teams2015_2017_new.batted_ball_type.isnull()\n",
    "all_MLB_teams2015_2017_new[null_batted_ball_type]"
   ]
  },
  {
   "cell_type": "markdown",
   "metadata": {},
   "source": [
    "#### What types of `events` occurred for missing `batted_ball_type`?"
   ]
  },
  {
   "cell_type": "code",
   "execution_count": 24,
   "metadata": {},
   "outputs": [
    {
     "data": {
      "text/plain": [
       "strikeout                       116120\n",
       "walk                             42138\n",
       "hit_by_pitch                      5019\n",
       "intent_walk                       1884\n",
       "caught_stealing_2b                 696\n",
       "strikeout_double_play              435\n",
       "pickoff_caught_stealing_2b         131\n",
       "other_out                          120\n",
       "catcher_interf                     113\n",
       "pickoff_1b                          95\n",
       "caught_stealing_3b                  56\n",
       "pickoff_2b                          55\n",
       "caught_stealing_home                29\n",
       "run                                 16\n",
       "pickoff_caught_stealing_3b          10\n",
       "batter_interference                  4\n",
       "pickoff_3b                           3\n",
       "pickoff_caught_stealing_home         3\n",
       "Name: events, dtype: int64"
      ]
     },
     "execution_count": 24,
     "metadata": {},
     "output_type": "execute_result"
    }
   ],
   "source": [
    "# Categorical column frequency\n",
    "# Returns counts of unique values in descending order (first element is the most frequently-occurring element)\n",
    "# Note: Excludes NA values by default\n",
    "all_MLB_teams2015_2017_new[null_batted_ball_type].events.value_counts(dropna=False)"
   ]
  },
  {
   "cell_type": "markdown",
   "metadata": {},
   "source": [
    "#### Drop missing values from `batted_ball_type` column."
   ]
  },
  {
   "cell_type": "code",
   "execution_count": 25,
   "metadata": {},
   "outputs": [],
   "source": [
    "# Remove missing values\n",
    "# Note: axis=0 (default) drop rows which contain missing values\n",
    "#       how='any' (default) drops rows if ANY missing values are present from any column -- can be dangerous!\n",
    "#       subset: if you are dropping rows these would be a list of columns to include\n",
    "#       inplace=True changes the original DataFrame\n",
    "all_MLB_teams2015_2017_new.dropna(subset=['batted_ball_type'], inplace=True)"
   ]
  },
  {
   "cell_type": "markdown",
   "metadata": {},
   "source": [
    "#### Confirm whether the values for `events` and `batted_ball_type` are valid (i.e., values could provide valid measurements for Statcast metrics)."
   ]
  },
  {
   "cell_type": "code",
   "execution_count": 26,
   "metadata": {},
   "outputs": [
    {
     "data": {
      "text/plain": [
       "field_out                    223381\n",
       "single                        82491\n",
       "double                        24898\n",
       "home_run                      16629\n",
       "force_out                     11500\n",
       "grounded_into_double_play     11266\n",
       "field_error                    4816\n",
       "sac_fly                        3549\n",
       "sac_bunt                       3149\n",
       "triple                         2607\n",
       "double_play                    1348\n",
       "fielders_choice_out             919\n",
       "fielders_choice                 301\n",
       "sac_fly_double_play              66\n",
       "triple_play                      18\n",
       "sac_bunt_double_play              3\n",
       "Name: events, dtype: int64"
      ]
     },
     "execution_count": 26,
     "metadata": {},
     "output_type": "execute_result"
    }
   ],
   "source": [
    "# Categorical column frequency\n",
    "# Returns counts of unique values in descending order (first element is the most frequently-occurring element)\n",
    "# Note: Excludes NA values by default\n",
    "all_MLB_teams2015_2017_new.events.value_counts(dropna=False)"
   ]
  },
  {
   "cell_type": "code",
   "execution_count": 27,
   "metadata": {},
   "outputs": [
    {
     "data": {
      "text/plain": [
       "ground_ball    178646\n",
       "line_drive      99714\n",
       "fly_ball        81752\n",
       "popup           26829\n",
       "Name: batted_ball_type, dtype: int64"
      ]
     },
     "execution_count": 27,
     "metadata": {},
     "output_type": "execute_result"
    }
   ],
   "source": [
    "# Categorical column frequency\n",
    "# Returns counts of unique values in descending order (first element is the most frequently-occurring element)\n",
    "# Note: Excludes NA values by default\n",
    "all_MLB_teams2015_2017_new.batted_ball_type.value_counts(dropna=False)"
   ]
  },
  {
   "cell_type": "code",
   "execution_count": 28,
   "metadata": {},
   "outputs": [
    {
     "data": {
      "text/plain": [
       "386941"
      ]
     },
     "execution_count": 28,
     "metadata": {},
     "output_type": "execute_result"
    }
   ],
   "source": [
    "all_MLB_teams2015_2017_new.batted_ball_type.value_counts(dropna=False).sum()"
   ]
  },
  {
   "cell_type": "code",
   "execution_count": 29,
   "metadata": {},
   "outputs": [
    {
     "data": {
      "text/html": [
       "<div>\n",
       "<style scoped>\n",
       "    .dataframe tbody tr th:only-of-type {\n",
       "        vertical-align: middle;\n",
       "    }\n",
       "\n",
       "    .dataframe tbody tr th {\n",
       "        vertical-align: top;\n",
       "    }\n",
       "\n",
       "    .dataframe thead th {\n",
       "        text-align: right;\n",
       "    }\n",
       "</style>\n",
       "<table border=\"1\" class=\"dataframe\">\n",
       "  <thead>\n",
       "    <tr style=\"text-align: right;\">\n",
       "      <th>batted_ball_type</th>\n",
       "      <th>fly_ball</th>\n",
       "      <th>ground_ball</th>\n",
       "      <th>line_drive</th>\n",
       "      <th>popup</th>\n",
       "      <th>Total</th>\n",
       "    </tr>\n",
       "    <tr>\n",
       "      <th>events</th>\n",
       "      <th></th>\n",
       "      <th></th>\n",
       "      <th></th>\n",
       "      <th></th>\n",
       "      <th></th>\n",
       "    </tr>\n",
       "  </thead>\n",
       "  <tbody>\n",
       "    <tr>\n",
       "      <td>double</td>\n",
       "      <td>3502</td>\n",
       "      <td>3342</td>\n",
       "      <td>17914</td>\n",
       "      <td>140</td>\n",
       "      <td>24898</td>\n",
       "    </tr>\n",
       "    <tr>\n",
       "      <td>double_play</td>\n",
       "      <td>222</td>\n",
       "      <td>109</td>\n",
       "      <td>930</td>\n",
       "      <td>87</td>\n",
       "      <td>1348</td>\n",
       "    </tr>\n",
       "    <tr>\n",
       "      <td>field_error</td>\n",
       "      <td>159</td>\n",
       "      <td>4349</td>\n",
       "      <td>199</td>\n",
       "      <td>109</td>\n",
       "      <td>4816</td>\n",
       "    </tr>\n",
       "    <tr>\n",
       "      <td>field_out</td>\n",
       "      <td>60230</td>\n",
       "      <td>103445</td>\n",
       "      <td>33726</td>\n",
       "      <td>25980</td>\n",
       "      <td>223381</td>\n",
       "    </tr>\n",
       "    <tr>\n",
       "      <td>fielders_choice</td>\n",
       "      <td>0</td>\n",
       "      <td>301</td>\n",
       "      <td>0</td>\n",
       "      <td>0</td>\n",
       "      <td>301</td>\n",
       "    </tr>\n",
       "    <tr>\n",
       "      <td>fielders_choice_out</td>\n",
       "      <td>0</td>\n",
       "      <td>914</td>\n",
       "      <td>2</td>\n",
       "      <td>3</td>\n",
       "      <td>919</td>\n",
       "    </tr>\n",
       "    <tr>\n",
       "      <td>force_out</td>\n",
       "      <td>47</td>\n",
       "      <td>11342</td>\n",
       "      <td>74</td>\n",
       "      <td>37</td>\n",
       "      <td>11500</td>\n",
       "    </tr>\n",
       "    <tr>\n",
       "      <td>grounded_into_double_play</td>\n",
       "      <td>0</td>\n",
       "      <td>11266</td>\n",
       "      <td>0</td>\n",
       "      <td>0</td>\n",
       "      <td>11266</td>\n",
       "    </tr>\n",
       "    <tr>\n",
       "      <td>home_run</td>\n",
       "      <td>11547</td>\n",
       "      <td>0</td>\n",
       "      <td>5082</td>\n",
       "      <td>0</td>\n",
       "      <td>16629</td>\n",
       "    </tr>\n",
       "    <tr>\n",
       "      <td>sac_bunt</td>\n",
       "      <td>0</td>\n",
       "      <td>3149</td>\n",
       "      <td>0</td>\n",
       "      <td>0</td>\n",
       "      <td>3149</td>\n",
       "    </tr>\n",
       "    <tr>\n",
       "      <td>sac_bunt_double_play</td>\n",
       "      <td>0</td>\n",
       "      <td>3</td>\n",
       "      <td>0</td>\n",
       "      <td>0</td>\n",
       "      <td>3</td>\n",
       "    </tr>\n",
       "    <tr>\n",
       "      <td>sac_fly</td>\n",
       "      <td>2464</td>\n",
       "      <td>0</td>\n",
       "      <td>1059</td>\n",
       "      <td>26</td>\n",
       "      <td>3549</td>\n",
       "    </tr>\n",
       "    <tr>\n",
       "      <td>sac_fly_double_play</td>\n",
       "      <td>49</td>\n",
       "      <td>0</td>\n",
       "      <td>15</td>\n",
       "      <td>2</td>\n",
       "      <td>66</td>\n",
       "    </tr>\n",
       "    <tr>\n",
       "      <td>single</td>\n",
       "      <td>2778</td>\n",
       "      <td>40241</td>\n",
       "      <td>39031</td>\n",
       "      <td>441</td>\n",
       "      <td>82491</td>\n",
       "    </tr>\n",
       "    <tr>\n",
       "      <td>triple</td>\n",
       "      <td>754</td>\n",
       "      <td>173</td>\n",
       "      <td>1676</td>\n",
       "      <td>4</td>\n",
       "      <td>2607</td>\n",
       "    </tr>\n",
       "    <tr>\n",
       "      <td>triple_play</td>\n",
       "      <td>0</td>\n",
       "      <td>12</td>\n",
       "      <td>6</td>\n",
       "      <td>0</td>\n",
       "      <td>18</td>\n",
       "    </tr>\n",
       "    <tr>\n",
       "      <td>Total</td>\n",
       "      <td>81752</td>\n",
       "      <td>178646</td>\n",
       "      <td>99714</td>\n",
       "      <td>26829</td>\n",
       "      <td>386941</td>\n",
       "    </tr>\n",
       "  </tbody>\n",
       "</table>\n",
       "</div>"
      ],
      "text/plain": [
       "batted_ball_type           fly_ball  ground_ball  line_drive  popup   Total\n",
       "events                                                                     \n",
       "double                         3502         3342       17914    140   24898\n",
       "double_play                     222          109         930     87    1348\n",
       "field_error                     159         4349         199    109    4816\n",
       "field_out                     60230       103445       33726  25980  223381\n",
       "fielders_choice                   0          301           0      0     301\n",
       "fielders_choice_out               0          914           2      3     919\n",
       "force_out                        47        11342          74     37   11500\n",
       "grounded_into_double_play         0        11266           0      0   11266\n",
       "home_run                      11547            0        5082      0   16629\n",
       "sac_bunt                          0         3149           0      0    3149\n",
       "sac_bunt_double_play              0            3           0      0       3\n",
       "sac_fly                        2464            0        1059     26    3549\n",
       "sac_fly_double_play              49            0          15      2      66\n",
       "single                         2778        40241       39031    441   82491\n",
       "triple                          754          173        1676      4    2607\n",
       "triple_play                       0           12           6      0      18\n",
       "Total                         81752       178646       99714  26829  386941"
      ]
     },
     "execution_count": 29,
     "metadata": {},
     "output_type": "execute_result"
    }
   ],
   "source": [
    "# Compute a frequency table of two factors\n",
    "pd.crosstab(all_MLB_teams2015_2017_new.events, all_MLB_teams2015_2017_new.batted_ball_type, margins=True, margins_name='Total', dropna=False)"
   ]
  },
  {
   "cell_type": "markdown",
   "metadata": {},
   "source": [
    "Note: The above frequencies confirm valid values."
   ]
  },
  {
   "cell_type": "code",
   "execution_count": 30,
   "metadata": {},
   "outputs": [
    {
     "data": {
      "text/plain": [
       "game_date               0\n",
       "home_team               0\n",
       "away_team               0\n",
       "player_name             0\n",
       "pitcher                 0\n",
       "pitch_type            701\n",
       "pitch_name            701\n",
       "pitch_velocity        459\n",
       "batter                  0\n",
       "events                  0\n",
       "description             0\n",
       "batted_ball_type        0\n",
       "des                     2\n",
       "exit_velocity          66\n",
       "launch_angle           66\n",
       "hit_distance_sc     46472\n",
       "dtype: int64"
      ]
     },
     "execution_count": 30,
     "metadata": {},
     "output_type": "execute_result"
    }
   ],
   "source": [
    "# Count the missing values in each column of a DataFrame - sum() works because True is 1 and False is 0\n",
    "all_MLB_teams2015_2017_new.isnull().sum()"
   ]
  },
  {
   "cell_type": "code",
   "execution_count": 31,
   "metadata": {},
   "outputs": [
    {
     "data": {
      "image/png": "[encoded data removed]",
      "text/plain": [
       "<Figure size 720x576 with 1 Axes>"
      ]
     },
     "metadata": {
      "needs_background": "light"
     },
     "output_type": "display_data"
    }
   ],
   "source": [
    "# Create a vertical bar plot by number of missing values per column using matplotlib\n",
    "# Note: figsize: a tuple (width, height) in inches\n",
    "all_MLB_teams2015_2017_new.isnull().sum().plot.bar(figsize=(10, 8));\n",
    "plt.title('Number of null values per column');"
   ]
  },
  {
   "cell_type": "markdown",
   "metadata": {},
   "source": [
    "Note: There are still missing values for the following variables: `pitch_name`, `pitch_velocity`, `exit_velocity`, `launch_angle`. These variables will be used in the modeling and observations with missing values will be dropped."
   ]
  },
  {
   "cell_type": "markdown",
   "metadata": {},
   "source": [
    "#### Drop missing values from `pitch_name`, `pitch_velocity`, `exit_velocity`, `launch_angle` columns."
   ]
  },
  {
   "cell_type": "code",
   "execution_count": 32,
   "metadata": {
    "scrolled": true
   },
   "outputs": [],
   "source": [
    "# Remove missing values\n",
    "# Note: axis=0 (default) drop rows which contain missing values\n",
    "#       how='any' (default) drops rows if ANY missing values are present from any column -- can be dangerous!\n",
    "#       subset: if you are dropping rows these would be a list of columns to include\n",
    "#       inplace=True changes the original DataFrame\n",
    "all_MLB_teams2015_2017_new.dropna(subset=['pitch_name', 'pitch_velocity', 'exit_velocity', 'launch_angle'], inplace=True)"
   ]
  },
  {
   "cell_type": "markdown",
   "metadata": {},
   "source": [
    "### Summarize the DataFrame"
   ]
  },
  {
   "cell_type": "code",
   "execution_count": 33,
   "metadata": {},
   "outputs": [
    {
     "data": {
      "text/html": [
       "<div>\n",
       "<style scoped>\n",
       "    .dataframe tbody tr th:only-of-type {\n",
       "        vertical-align: middle;\n",
       "    }\n",
       "\n",
       "    .dataframe tbody tr th {\n",
       "        vertical-align: top;\n",
       "    }\n",
       "\n",
       "    .dataframe thead th {\n",
       "        text-align: right;\n",
       "    }\n",
       "</style>\n",
       "<table border=\"1\" class=\"dataframe\">\n",
       "  <thead>\n",
       "    <tr style=\"text-align: right;\">\n",
       "      <th></th>\n",
       "      <th>pitch_velocity</th>\n",
       "      <th>exit_velocity</th>\n",
       "      <th>launch_angle</th>\n",
       "      <th>hit_distance_sc</th>\n",
       "    </tr>\n",
       "  </thead>\n",
       "  <tbody>\n",
       "    <tr>\n",
       "      <td>count</td>\n",
       "      <td>386112.000000</td>\n",
       "      <td>386112.000000</td>\n",
       "      <td>386112.000000</td>\n",
       "      <td>340221.000000</td>\n",
       "    </tr>\n",
       "    <tr>\n",
       "      <td>mean</td>\n",
       "      <td>88.938052</td>\n",
       "      <td>87.228387</td>\n",
       "      <td>10.662181</td>\n",
       "      <td>170.446680</td>\n",
       "    </tr>\n",
       "    <tr>\n",
       "      <td>std</td>\n",
       "      <td>5.809726</td>\n",
       "      <td>14.532315</td>\n",
       "      <td>27.245971</td>\n",
       "      <td>136.700367</td>\n",
       "    </tr>\n",
       "    <tr>\n",
       "      <td>min</td>\n",
       "      <td>41.500000</td>\n",
       "      <td>5.200000</td>\n",
       "      <td>-88.890000</td>\n",
       "      <td>0.000000</td>\n",
       "    </tr>\n",
       "    <tr>\n",
       "      <td>25%</td>\n",
       "      <td>85.100000</td>\n",
       "      <td>80.000000</td>\n",
       "      <td>-8.987000</td>\n",
       "      <td>22.000000</td>\n",
       "    </tr>\n",
       "    <tr>\n",
       "      <td>50%</td>\n",
       "      <td>90.300000</td>\n",
       "      <td>89.300000</td>\n",
       "      <td>10.605000</td>\n",
       "      <td>169.000000</td>\n",
       "    </tr>\n",
       "    <tr>\n",
       "      <td>75%</td>\n",
       "      <td>93.300000</td>\n",
       "      <td>98.100000</td>\n",
       "      <td>28.520775</td>\n",
       "      <td>294.000000</td>\n",
       "    </tr>\n",
       "    <tr>\n",
       "      <td>max</td>\n",
       "      <td>105.400000</td>\n",
       "      <td>123.400000</td>\n",
       "      <td>89.850000</td>\n",
       "      <td>504.000000</td>\n",
       "    </tr>\n",
       "  </tbody>\n",
       "</table>\n",
       "</div>"
      ],
      "text/plain": [
       "       pitch_velocity  exit_velocity   launch_angle  hit_distance_sc\n",
       "count   386112.000000  386112.000000  386112.000000    340221.000000\n",
       "mean        88.938052      87.228387      10.662181       170.446680\n",
       "std          5.809726      14.532315      27.245971       136.700367\n",
       "min         41.500000       5.200000     -88.890000         0.000000\n",
       "25%         85.100000      80.000000      -8.987000        22.000000\n",
       "50%         90.300000      89.300000      10.605000       169.000000\n",
       "75%         93.300000      98.100000      28.520775       294.000000\n",
       "max        105.400000     123.400000      89.850000       504.000000"
      ]
     },
     "execution_count": 33,
     "metadata": {},
     "output_type": "execute_result"
    }
   ],
   "source": [
    "# Describe numeric columns\n",
    "# Generates descriptive summary statistics of the central tendency, dispersion, and shape of the distribution\n",
    "# Note: By default only numeric (int64) fields are returned\n",
    "#       Excludes \"NaN\" (missing) values\n",
    "# Remove multiple columns\n",
    "# Note: axis=0 for rows, 1 for columns\n",
    "all_MLB_teams2015_2017_new.drop(['pitcher', 'batter'], axis=1).describe()"
   ]
  },
  {
   "cell_type": "code",
   "execution_count": 34,
   "metadata": {},
   "outputs": [
    {
     "data": {
      "text/html": [
       "<div>\n",
       "<style scoped>\n",
       "    .dataframe tbody tr th:only-of-type {\n",
       "        vertical-align: middle;\n",
       "    }\n",
       "\n",
       "    .dataframe tbody tr th {\n",
       "        vertical-align: top;\n",
       "    }\n",
       "\n",
       "    .dataframe thead th {\n",
       "        text-align: right;\n",
       "    }\n",
       "</style>\n",
       "<table border=\"1\" class=\"dataframe\">\n",
       "  <thead>\n",
       "    <tr style=\"text-align: right;\">\n",
       "      <th></th>\n",
       "      <th>game_date</th>\n",
       "      <th>pitch_type</th>\n",
       "      <th>pitch_name</th>\n",
       "      <th>events</th>\n",
       "      <th>description</th>\n",
       "      <th>batted_ball_type</th>\n",
       "    </tr>\n",
       "  </thead>\n",
       "  <tbody>\n",
       "    <tr>\n",
       "      <td>count</td>\n",
       "      <td>386112</td>\n",
       "      <td>386112</td>\n",
       "      <td>386112</td>\n",
       "      <td>386112</td>\n",
       "      <td>386112</td>\n",
       "      <td>386112</td>\n",
       "    </tr>\n",
       "    <tr>\n",
       "      <td>unique</td>\n",
       "      <td>537</td>\n",
       "      <td>16</td>\n",
       "      <td>16</td>\n",
       "      <td>16</td>\n",
       "      <td>4</td>\n",
       "      <td>4</td>\n",
       "    </tr>\n",
       "    <tr>\n",
       "      <td>top</td>\n",
       "      <td>2015-09-30</td>\n",
       "      <td>FF</td>\n",
       "      <td>4-Seam Fastball</td>\n",
       "      <td>field_out</td>\n",
       "      <td>hit_into_play</td>\n",
       "      <td>ground_ball</td>\n",
       "    </tr>\n",
       "    <tr>\n",
       "      <td>freq</td>\n",
       "      <td>974</td>\n",
       "      <td>131254</td>\n",
       "      <td>131254</td>\n",
       "      <td>222928</td>\n",
       "      <td>249245</td>\n",
       "      <td>178259</td>\n",
       "    </tr>\n",
       "  </tbody>\n",
       "</table>\n",
       "</div>"
      ],
      "text/plain": [
       "         game_date pitch_type       pitch_name     events    description  \\\n",
       "count       386112     386112           386112     386112         386112   \n",
       "unique         537         16               16         16              4   \n",
       "top     2015-09-30         FF  4-Seam Fastball  field_out  hit_into_play   \n",
       "freq           974     131254           131254     222928         249245   \n",
       "\n",
       "       batted_ball_type  \n",
       "count            386112  \n",
       "unique                4  \n",
       "top         ground_ball  \n",
       "freq             178259  "
      ]
     },
     "execution_count": 34,
     "metadata": {},
     "output_type": "execute_result"
    }
   ],
   "source": [
    "# Describe object columns (e.g. categorical, strings, or timestamps)\n",
    "# Generates descriptive summary statistics of the count, unique values, top values, and frequency\n",
    "# Note: \"top\" is the most common value; \"freq\" is the most common value's frequency\n",
    "#       Excludes \"NaN\" (missing) values\n",
    "# Remove multiple columns\n",
    "# Note: axis=0 for rows, 1 for columns\n",
    "all_MLB_teams2015_2017_new.drop(['home_team', 'away_team', 'player_name', 'des'], axis=1).describe(include='object')"
   ]
  },
  {
   "cell_type": "code",
   "execution_count": 35,
   "metadata": {},
   "outputs": [
    {
     "data": {
      "text/html": [
       "<div>\n",
       "<style scoped>\n",
       "    .dataframe tbody tr th:only-of-type {\n",
       "        vertical-align: middle;\n",
       "    }\n",
       "\n",
       "    .dataframe tbody tr th {\n",
       "        vertical-align: top;\n",
       "    }\n",
       "\n",
       "    .dataframe thead th {\n",
       "        text-align: right;\n",
       "    }\n",
       "</style>\n",
       "<table border=\"1\" class=\"dataframe\">\n",
       "  <thead>\n",
       "    <tr style=\"text-align: right;\">\n",
       "      <th>pitch_type</th>\n",
       "      <th>CH</th>\n",
       "      <th>CU</th>\n",
       "      <th>EP</th>\n",
       "      <th>FA</th>\n",
       "      <th>FC</th>\n",
       "      <th>FF</th>\n",
       "      <th>FO</th>\n",
       "      <th>FS</th>\n",
       "      <th>FT</th>\n",
       "      <th>KC</th>\n",
       "      <th>KN</th>\n",
       "      <th>PO</th>\n",
       "      <th>SC</th>\n",
       "      <th>SI</th>\n",
       "      <th>SL</th>\n",
       "      <th>UN</th>\n",
       "      <th>Total</th>\n",
       "    </tr>\n",
       "    <tr>\n",
       "      <th>pitch_name</th>\n",
       "      <th></th>\n",
       "      <th></th>\n",
       "      <th></th>\n",
       "      <th></th>\n",
       "      <th></th>\n",
       "      <th></th>\n",
       "      <th></th>\n",
       "      <th></th>\n",
       "      <th></th>\n",
       "      <th></th>\n",
       "      <th></th>\n",
       "      <th></th>\n",
       "      <th></th>\n",
       "      <th></th>\n",
       "      <th></th>\n",
       "      <th></th>\n",
       "      <th></th>\n",
       "    </tr>\n",
       "  </thead>\n",
       "  <tbody>\n",
       "    <tr>\n",
       "      <td>2-Seam Fastball</td>\n",
       "      <td>0</td>\n",
       "      <td>0</td>\n",
       "      <td>0</td>\n",
       "      <td>0</td>\n",
       "      <td>0</td>\n",
       "      <td>0</td>\n",
       "      <td>0</td>\n",
       "      <td>0</td>\n",
       "      <td>59444</td>\n",
       "      <td>0</td>\n",
       "      <td>0</td>\n",
       "      <td>0</td>\n",
       "      <td>0</td>\n",
       "      <td>0</td>\n",
       "      <td>0</td>\n",
       "      <td>0</td>\n",
       "      <td>59444</td>\n",
       "    </tr>\n",
       "    <tr>\n",
       "      <td>4-Seam Fastball</td>\n",
       "      <td>0</td>\n",
       "      <td>0</td>\n",
       "      <td>0</td>\n",
       "      <td>0</td>\n",
       "      <td>0</td>\n",
       "      <td>131254</td>\n",
       "      <td>0</td>\n",
       "      <td>0</td>\n",
       "      <td>0</td>\n",
       "      <td>0</td>\n",
       "      <td>0</td>\n",
       "      <td>0</td>\n",
       "      <td>0</td>\n",
       "      <td>0</td>\n",
       "      <td>0</td>\n",
       "      <td>0</td>\n",
       "      <td>131254</td>\n",
       "    </tr>\n",
       "    <tr>\n",
       "      <td>Changeup</td>\n",
       "      <td>43883</td>\n",
       "      <td>0</td>\n",
       "      <td>0</td>\n",
       "      <td>0</td>\n",
       "      <td>0</td>\n",
       "      <td>0</td>\n",
       "      <td>0</td>\n",
       "      <td>0</td>\n",
       "      <td>0</td>\n",
       "      <td>0</td>\n",
       "      <td>0</td>\n",
       "      <td>0</td>\n",
       "      <td>0</td>\n",
       "      <td>0</td>\n",
       "      <td>0</td>\n",
       "      <td>0</td>\n",
       "      <td>43883</td>\n",
       "    </tr>\n",
       "    <tr>\n",
       "      <td>Curveball</td>\n",
       "      <td>0</td>\n",
       "      <td>26046</td>\n",
       "      <td>0</td>\n",
       "      <td>0</td>\n",
       "      <td>0</td>\n",
       "      <td>0</td>\n",
       "      <td>0</td>\n",
       "      <td>0</td>\n",
       "      <td>0</td>\n",
       "      <td>0</td>\n",
       "      <td>0</td>\n",
       "      <td>0</td>\n",
       "      <td>0</td>\n",
       "      <td>0</td>\n",
       "      <td>0</td>\n",
       "      <td>0</td>\n",
       "      <td>26046</td>\n",
       "    </tr>\n",
       "    <tr>\n",
       "      <td>Cutter</td>\n",
       "      <td>0</td>\n",
       "      <td>0</td>\n",
       "      <td>0</td>\n",
       "      <td>0</td>\n",
       "      <td>21484</td>\n",
       "      <td>0</td>\n",
       "      <td>0</td>\n",
       "      <td>0</td>\n",
       "      <td>0</td>\n",
       "      <td>0</td>\n",
       "      <td>0</td>\n",
       "      <td>0</td>\n",
       "      <td>0</td>\n",
       "      <td>0</td>\n",
       "      <td>0</td>\n",
       "      <td>0</td>\n",
       "      <td>21484</td>\n",
       "    </tr>\n",
       "    <tr>\n",
       "      <td>Eephus</td>\n",
       "      <td>0</td>\n",
       "      <td>0</td>\n",
       "      <td>114</td>\n",
       "      <td>0</td>\n",
       "      <td>0</td>\n",
       "      <td>0</td>\n",
       "      <td>0</td>\n",
       "      <td>0</td>\n",
       "      <td>0</td>\n",
       "      <td>0</td>\n",
       "      <td>0</td>\n",
       "      <td>0</td>\n",
       "      <td>0</td>\n",
       "      <td>0</td>\n",
       "      <td>0</td>\n",
       "      <td>0</td>\n",
       "      <td>114</td>\n",
       "    </tr>\n",
       "    <tr>\n",
       "      <td>Fastball</td>\n",
       "      <td>0</td>\n",
       "      <td>0</td>\n",
       "      <td>0</td>\n",
       "      <td>3</td>\n",
       "      <td>0</td>\n",
       "      <td>0</td>\n",
       "      <td>0</td>\n",
       "      <td>0</td>\n",
       "      <td>0</td>\n",
       "      <td>0</td>\n",
       "      <td>0</td>\n",
       "      <td>0</td>\n",
       "      <td>0</td>\n",
       "      <td>0</td>\n",
       "      <td>0</td>\n",
       "      <td>0</td>\n",
       "      <td>3</td>\n",
       "    </tr>\n",
       "    <tr>\n",
       "      <td>Forkball</td>\n",
       "      <td>0</td>\n",
       "      <td>0</td>\n",
       "      <td>0</td>\n",
       "      <td>0</td>\n",
       "      <td>0</td>\n",
       "      <td>0</td>\n",
       "      <td>126</td>\n",
       "      <td>0</td>\n",
       "      <td>0</td>\n",
       "      <td>0</td>\n",
       "      <td>0</td>\n",
       "      <td>0</td>\n",
       "      <td>0</td>\n",
       "      <td>0</td>\n",
       "      <td>0</td>\n",
       "      <td>0</td>\n",
       "      <td>126</td>\n",
       "    </tr>\n",
       "    <tr>\n",
       "      <td>Knuckle Ball</td>\n",
       "      <td>0</td>\n",
       "      <td>0</td>\n",
       "      <td>0</td>\n",
       "      <td>0</td>\n",
       "      <td>0</td>\n",
       "      <td>0</td>\n",
       "      <td>0</td>\n",
       "      <td>0</td>\n",
       "      <td>0</td>\n",
       "      <td>0</td>\n",
       "      <td>2094</td>\n",
       "      <td>0</td>\n",
       "      <td>0</td>\n",
       "      <td>0</td>\n",
       "      <td>0</td>\n",
       "      <td>0</td>\n",
       "      <td>2094</td>\n",
       "    </tr>\n",
       "    <tr>\n",
       "      <td>Knuckle Curve</td>\n",
       "      <td>0</td>\n",
       "      <td>0</td>\n",
       "      <td>0</td>\n",
       "      <td>0</td>\n",
       "      <td>0</td>\n",
       "      <td>0</td>\n",
       "      <td>0</td>\n",
       "      <td>0</td>\n",
       "      <td>0</td>\n",
       "      <td>7419</td>\n",
       "      <td>0</td>\n",
       "      <td>0</td>\n",
       "      <td>0</td>\n",
       "      <td>0</td>\n",
       "      <td>0</td>\n",
       "      <td>0</td>\n",
       "      <td>7419</td>\n",
       "    </tr>\n",
       "    <tr>\n",
       "      <td>Pitch Out</td>\n",
       "      <td>0</td>\n",
       "      <td>0</td>\n",
       "      <td>0</td>\n",
       "      <td>0</td>\n",
       "      <td>0</td>\n",
       "      <td>0</td>\n",
       "      <td>0</td>\n",
       "      <td>0</td>\n",
       "      <td>0</td>\n",
       "      <td>0</td>\n",
       "      <td>0</td>\n",
       "      <td>1</td>\n",
       "      <td>0</td>\n",
       "      <td>0</td>\n",
       "      <td>0</td>\n",
       "      <td>0</td>\n",
       "      <td>1</td>\n",
       "    </tr>\n",
       "    <tr>\n",
       "      <td>Screwball</td>\n",
       "      <td>0</td>\n",
       "      <td>0</td>\n",
       "      <td>0</td>\n",
       "      <td>0</td>\n",
       "      <td>0</td>\n",
       "      <td>0</td>\n",
       "      <td>0</td>\n",
       "      <td>0</td>\n",
       "      <td>0</td>\n",
       "      <td>0</td>\n",
       "      <td>0</td>\n",
       "      <td>0</td>\n",
       "      <td>14</td>\n",
       "      <td>0</td>\n",
       "      <td>0</td>\n",
       "      <td>0</td>\n",
       "      <td>14</td>\n",
       "    </tr>\n",
       "    <tr>\n",
       "      <td>Sinker</td>\n",
       "      <td>0</td>\n",
       "      <td>0</td>\n",
       "      <td>0</td>\n",
       "      <td>0</td>\n",
       "      <td>0</td>\n",
       "      <td>0</td>\n",
       "      <td>0</td>\n",
       "      <td>0</td>\n",
       "      <td>0</td>\n",
       "      <td>0</td>\n",
       "      <td>0</td>\n",
       "      <td>0</td>\n",
       "      <td>0</td>\n",
       "      <td>33090</td>\n",
       "      <td>0</td>\n",
       "      <td>0</td>\n",
       "      <td>33090</td>\n",
       "    </tr>\n",
       "    <tr>\n",
       "      <td>Slider</td>\n",
       "      <td>0</td>\n",
       "      <td>0</td>\n",
       "      <td>0</td>\n",
       "      <td>0</td>\n",
       "      <td>0</td>\n",
       "      <td>0</td>\n",
       "      <td>0</td>\n",
       "      <td>0</td>\n",
       "      <td>0</td>\n",
       "      <td>0</td>\n",
       "      <td>0</td>\n",
       "      <td>0</td>\n",
       "      <td>0</td>\n",
       "      <td>0</td>\n",
       "      <td>54850</td>\n",
       "      <td>0</td>\n",
       "      <td>54850</td>\n",
       "    </tr>\n",
       "    <tr>\n",
       "      <td>Split Finger</td>\n",
       "      <td>0</td>\n",
       "      <td>0</td>\n",
       "      <td>0</td>\n",
       "      <td>0</td>\n",
       "      <td>0</td>\n",
       "      <td>0</td>\n",
       "      <td>0</td>\n",
       "      <td>6284</td>\n",
       "      <td>0</td>\n",
       "      <td>0</td>\n",
       "      <td>0</td>\n",
       "      <td>0</td>\n",
       "      <td>0</td>\n",
       "      <td>0</td>\n",
       "      <td>0</td>\n",
       "      <td>0</td>\n",
       "      <td>6284</td>\n",
       "    </tr>\n",
       "    <tr>\n",
       "      <td>Unknown</td>\n",
       "      <td>0</td>\n",
       "      <td>0</td>\n",
       "      <td>0</td>\n",
       "      <td>0</td>\n",
       "      <td>0</td>\n",
       "      <td>0</td>\n",
       "      <td>0</td>\n",
       "      <td>0</td>\n",
       "      <td>0</td>\n",
       "      <td>0</td>\n",
       "      <td>0</td>\n",
       "      <td>0</td>\n",
       "      <td>0</td>\n",
       "      <td>0</td>\n",
       "      <td>0</td>\n",
       "      <td>6</td>\n",
       "      <td>6</td>\n",
       "    </tr>\n",
       "    <tr>\n",
       "      <td>Total</td>\n",
       "      <td>43883</td>\n",
       "      <td>26046</td>\n",
       "      <td>114</td>\n",
       "      <td>3</td>\n",
       "      <td>21484</td>\n",
       "      <td>131254</td>\n",
       "      <td>126</td>\n",
       "      <td>6284</td>\n",
       "      <td>59444</td>\n",
       "      <td>7419</td>\n",
       "      <td>2094</td>\n",
       "      <td>1</td>\n",
       "      <td>14</td>\n",
       "      <td>33090</td>\n",
       "      <td>54850</td>\n",
       "      <td>6</td>\n",
       "      <td>386112</td>\n",
       "    </tr>\n",
       "  </tbody>\n",
       "</table>\n",
       "</div>"
      ],
      "text/plain": [
       "pitch_type          CH     CU   EP  FA     FC      FF   FO    FS     FT    KC  \\\n",
       "pitch_name                                                                      \n",
       "2-Seam Fastball      0      0    0   0      0       0    0     0  59444     0   \n",
       "4-Seam Fastball      0      0    0   0      0  131254    0     0      0     0   \n",
       "Changeup         43883      0    0   0      0       0    0     0      0     0   \n",
       "Curveball            0  26046    0   0      0       0    0     0      0     0   \n",
       "Cutter               0      0    0   0  21484       0    0     0      0     0   \n",
       "Eephus               0      0  114   0      0       0    0     0      0     0   \n",
       "Fastball             0      0    0   3      0       0    0     0      0     0   \n",
       "Forkball             0      0    0   0      0       0  126     0      0     0   \n",
       "Knuckle Ball         0      0    0   0      0       0    0     0      0     0   \n",
       "Knuckle Curve        0      0    0   0      0       0    0     0      0  7419   \n",
       "Pitch Out            0      0    0   0      0       0    0     0      0     0   \n",
       "Screwball            0      0    0   0      0       0    0     0      0     0   \n",
       "Sinker               0      0    0   0      0       0    0     0      0     0   \n",
       "Slider               0      0    0   0      0       0    0     0      0     0   \n",
       "Split Finger         0      0    0   0      0       0    0  6284      0     0   \n",
       "Unknown              0      0    0   0      0       0    0     0      0     0   \n",
       "Total            43883  26046  114   3  21484  131254  126  6284  59444  7419   \n",
       "\n",
       "pitch_type         KN  PO  SC     SI     SL  UN   Total  \n",
       "pitch_name                                               \n",
       "2-Seam Fastball     0   0   0      0      0   0   59444  \n",
       "4-Seam Fastball     0   0   0      0      0   0  131254  \n",
       "Changeup            0   0   0      0      0   0   43883  \n",
       "Curveball           0   0   0      0      0   0   26046  \n",
       "Cutter              0   0   0      0      0   0   21484  \n",
       "Eephus              0   0   0      0      0   0     114  \n",
       "Fastball            0   0   0      0      0   0       3  \n",
       "Forkball            0   0   0      0      0   0     126  \n",
       "Knuckle Ball     2094   0   0      0      0   0    2094  \n",
       "Knuckle Curve       0   0   0      0      0   0    7419  \n",
       "Pitch Out           0   1   0      0      0   0       1  \n",
       "Screwball           0   0  14      0      0   0      14  \n",
       "Sinker              0   0   0  33090      0   0   33090  \n",
       "Slider              0   0   0      0  54850   0   54850  \n",
       "Split Finger        0   0   0      0      0   0    6284  \n",
       "Unknown             0   0   0      0      0   6       6  \n",
       "Total            2094   1  14  33090  54850   6  386112  "
      ]
     },
     "execution_count": 35,
     "metadata": {},
     "output_type": "execute_result"
    }
   ],
   "source": [
    "# Compute a frequency table of two factors\n",
    "pd.crosstab(all_MLB_teams2015_2017_new.pitch_name, all_MLB_teams2015_2017_new.pitch_type, margins=True, margins_name='Total')"
   ]
  },
  {
   "cell_type": "markdown",
   "metadata": {},
   "source": [
    "#### Drop low frequency `pitch_name` observations"
   ]
  },
  {
   "cell_type": "code",
   "execution_count": 36,
   "metadata": {},
   "outputs": [],
   "source": [
    "# Return elements, either from `x` or `y`, depending on `condition`\n",
    "all_MLB_teams2015_2017_new['pitch_name_low_freq'] = np.where(all_MLB_teams2015_2017_new.pitch_name.isin(['Eephus', 'Fastball', 'Forkball', 'Pitch Out', 'Screwball', 'Unknown']), 1, 0)"
   ]
  },
  {
   "cell_type": "code",
   "execution_count": 37,
   "metadata": {
    "scrolled": true
   },
   "outputs": [
    {
     "data": {
      "text/plain": [
       "0    385848\n",
       "1       264\n",
       "Name: pitch_name_low_freq, dtype: int64"
      ]
     },
     "execution_count": 37,
     "metadata": {},
     "output_type": "execute_result"
    }
   ],
   "source": [
    "# Categorical column frequency\n",
    "# Returns counts of unique values in descending order (first element is the most frequently-occurring element)\n",
    "# Note: Excludes NA values by default\n",
    "all_MLB_teams2015_2017_new.pitch_name_low_freq.value_counts(dropna=False)"
   ]
  },
  {
   "cell_type": "code",
   "execution_count": 38,
   "metadata": {},
   "outputs": [],
   "source": [
    "# Excluding low frequency values\n",
    "all_MLB_teams2015_2017_new = all_MLB_teams2015_2017_new[all_MLB_teams2015_2017_new.pitch_name_low_freq == 0]\n",
    "all_MLB_teams2015_2017_new.drop('pitch_name_low_freq', axis=1, inplace=True)"
   ]
  },
  {
   "cell_type": "code",
   "execution_count": 39,
   "metadata": {},
   "outputs": [
    {
     "name": "stdout",
     "output_type": "stream",
     "text": [
      "Rows: 385848, Cols: 16\n"
     ]
    }
   ],
   "source": [
    "# Return the number of rows and columns (dimensionality) of the DataFrame\n",
    "print('Rows: {}, Cols: {}'.format(all_MLB_teams2015_2017_new.shape[0], all_MLB_teams2015_2017_new.shape[1]))"
   ]
  },
  {
   "cell_type": "markdown",
   "metadata": {},
   "source": [
    "#### Create indicator for whether an event was a Home Run (HR)."
   ]
  },
  {
   "cell_type": "code",
   "execution_count": 40,
   "metadata": {},
   "outputs": [
    {
     "data": {
      "text/plain": [
       "field_out                    222774\n",
       "single                        82232\n",
       "double                        24838\n",
       "home_run                      16587\n",
       "force_out                     11474\n",
       "grounded_into_double_play     11234\n",
       "field_error                    4806\n",
       "sac_fly                        3539\n",
       "sac_bunt                       3117\n",
       "triple                         2599\n",
       "double_play                    1345\n",
       "fielders_choice_out             916\n",
       "fielders_choice                 300\n",
       "sac_fly_double_play              66\n",
       "triple_play                      18\n",
       "sac_bunt_double_play              3\n",
       "Name: events, dtype: int64"
      ]
     },
     "execution_count": 40,
     "metadata": {},
     "output_type": "execute_result"
    }
   ],
   "source": [
    "# Categorical column frequency\n",
    "# Returns counts of unique values in descending order (first element is the most frequently-occurring element)\n",
    "# Note: Excludes NA values by default\n",
    "all_MLB_teams2015_2017_new.events.value_counts(dropna=False)"
   ]
  },
  {
   "cell_type": "code",
   "execution_count": 41,
   "metadata": {},
   "outputs": [],
   "source": [
    "# Lambda function: apply an arbitrary function to each value of a Pandas column, storing the result in a new column\n",
    "all_MLB_teams2015_2017_new['hr'] = all_MLB_teams2015_2017_new.events.apply(lambda events: 1 if events == 'home_run' else 0)"
   ]
  },
  {
   "cell_type": "code",
   "execution_count": 42,
   "metadata": {},
   "outputs": [
    {
     "name": "stdout",
     "output_type": "stream",
     "text": [
      "0    369261\n",
      "1     16587\n",
      "Name: hr, dtype: int64\n"
     ]
    },
    {
     "data": {
      "text/plain": [
       "0    0.957\n",
       "1    0.043\n",
       "Name: hr, dtype: float64"
      ]
     },
     "execution_count": 42,
     "metadata": {},
     "output_type": "execute_result"
    }
   ],
   "source": [
    "# Categorical column frequency\n",
    "# Returns counts of unique values in descending order (first element is the most frequently-occurring element)\n",
    "# Note: Excludes NA values by default\n",
    "print(all_MLB_teams2015_2017_new.hr.value_counts(dropna=False))\n",
    "round(all_MLB_teams2015_2017_new.hr.value_counts(dropna=False) / len(all_MLB_teams2015_2017_new), 3)"
   ]
  },
  {
   "cell_type": "markdown",
   "metadata": {},
   "source": [
    "#### Create indicator for whether an event was an Extra-base Hit (XBH)."
   ]
  },
  {
   "cell_type": "code",
   "execution_count": 43,
   "metadata": {},
   "outputs": [],
   "source": [
    "# Check whether `values` are contained in Series\n",
    "#all_MLB_teams2015_2017_new['xbh_bool'] = all_MLB_teams2015_2017_new.events.isin(['double', 'triple', 'home_run'])"
   ]
  },
  {
   "cell_type": "code",
   "execution_count": 44,
   "metadata": {},
   "outputs": [],
   "source": [
    "# Map values of Series using input correspondence (i.e., map existing input values to new outputs values)\n",
    "#all_MLB_teams2015_2017_new['xbh'] = all_MLB_teams2015_2017_new.xbh_bool.map({False:0, True:1})\n",
    "#all_MLB_teams2015_2017_new.drop('xbh_bool', axis=1, inplace=True)"
   ]
  },
  {
   "cell_type": "code",
   "execution_count": 45,
   "metadata": {},
   "outputs": [],
   "source": [
    "# Return elements, either from `x` or `y`, depending on `condition`\n",
    "all_MLB_teams2015_2017_new['xbh'] = np.where(all_MLB_teams2015_2017_new.events.isin(['double', 'triple', 'home_run']), 1, 0)"
   ]
  },
  {
   "cell_type": "code",
   "execution_count": 46,
   "metadata": {},
   "outputs": [
    {
     "name": "stdout",
     "output_type": "stream",
     "text": [
      "0    341824\n",
      "1     44024\n",
      "Name: xbh, dtype: int64\n"
     ]
    },
    {
     "data": {
      "text/plain": [
       "0    0.886\n",
       "1    0.114\n",
       "Name: xbh, dtype: float64"
      ]
     },
     "execution_count": 46,
     "metadata": {},
     "output_type": "execute_result"
    }
   ],
   "source": [
    "# Categorical column frequency\n",
    "# Returns counts of unique values in descending order (first element is the most frequently-occurring element)\n",
    "# Note: Excludes NA values by default\n",
    "print(all_MLB_teams2015_2017_new.xbh.value_counts(dropna=False))\n",
    "round(all_MLB_teams2015_2017_new.xbh.value_counts(dropna=False) / len(all_MLB_teams2015_2017_new), 3)"
   ]
  },
  {
   "cell_type": "code",
   "execution_count": 47,
   "metadata": {},
   "outputs": [
    {
     "data": {
      "text/html": [
       "<div>\n",
       "<style scoped>\n",
       "    .dataframe tbody tr th:only-of-type {\n",
       "        vertical-align: middle;\n",
       "    }\n",
       "\n",
       "    .dataframe tbody tr th {\n",
       "        vertical-align: top;\n",
       "    }\n",
       "\n",
       "    .dataframe thead th {\n",
       "        text-align: right;\n",
       "    }\n",
       "</style>\n",
       "<table border=\"1\" class=\"dataframe\">\n",
       "  <thead>\n",
       "    <tr style=\"text-align: right;\">\n",
       "      <th></th>\n",
       "      <th>pitch_velocity</th>\n",
       "      <th>exit_velocity</th>\n",
       "      <th>launch_angle</th>\n",
       "      <th>hit_distance_sc</th>\n",
       "      <th>hr</th>\n",
       "      <th>xbh</th>\n",
       "    </tr>\n",
       "  </thead>\n",
       "  <tbody>\n",
       "    <tr>\n",
       "      <td>pitch_velocity</td>\n",
       "      <td>1.000000</td>\n",
       "      <td>0.078758</td>\n",
       "      <td>0.006906</td>\n",
       "      <td>0.016692</td>\n",
       "      <td>-0.006979</td>\n",
       "      <td>-0.003404</td>\n",
       "    </tr>\n",
       "    <tr>\n",
       "      <td>exit_velocity</td>\n",
       "      <td>0.078758</td>\n",
       "      <td>1.000000</td>\n",
       "      <td>0.186630</td>\n",
       "      <td>0.352101</td>\n",
       "      <td>0.233394</td>\n",
       "      <td>0.302958</td>\n",
       "    </tr>\n",
       "    <tr>\n",
       "      <td>launch_angle</td>\n",
       "      <td>0.006906</td>\n",
       "      <td>0.186630</td>\n",
       "      <td>1.000000</td>\n",
       "      <td>0.732524</td>\n",
       "      <td>0.134847</td>\n",
       "      <td>0.134149</td>\n",
       "    </tr>\n",
       "    <tr>\n",
       "      <td>hit_distance_sc</td>\n",
       "      <td>0.016692</td>\n",
       "      <td>0.352101</td>\n",
       "      <td>0.732524</td>\n",
       "      <td>1.000000</td>\n",
       "      <td>0.375045</td>\n",
       "      <td>0.416674</td>\n",
       "    </tr>\n",
       "    <tr>\n",
       "      <td>hr</td>\n",
       "      <td>-0.006979</td>\n",
       "      <td>0.233394</td>\n",
       "      <td>0.134847</td>\n",
       "      <td>0.375045</td>\n",
       "      <td>1.000000</td>\n",
       "      <td>0.590573</td>\n",
       "    </tr>\n",
       "    <tr>\n",
       "      <td>xbh</td>\n",
       "      <td>-0.003404</td>\n",
       "      <td>0.302958</td>\n",
       "      <td>0.134149</td>\n",
       "      <td>0.416674</td>\n",
       "      <td>0.590573</td>\n",
       "      <td>1.000000</td>\n",
       "    </tr>\n",
       "  </tbody>\n",
       "</table>\n",
       "</div>"
      ],
      "text/plain": [
       "                 pitch_velocity  exit_velocity  launch_angle  hit_distance_sc  \\\n",
       "pitch_velocity         1.000000       0.078758      0.006906         0.016692   \n",
       "exit_velocity          0.078758       1.000000      0.186630         0.352101   \n",
       "launch_angle           0.006906       0.186630      1.000000         0.732524   \n",
       "hit_distance_sc        0.016692       0.352101      0.732524         1.000000   \n",
       "hr                    -0.006979       0.233394      0.134847         0.375045   \n",
       "xbh                   -0.003404       0.302958      0.134149         0.416674   \n",
       "\n",
       "                       hr       xbh  \n",
       "pitch_velocity  -0.006979 -0.003404  \n",
       "exit_velocity    0.233394  0.302958  \n",
       "launch_angle     0.134847  0.134149  \n",
       "hit_distance_sc  0.375045  0.416674  \n",
       "hr               1.000000  0.590573  \n",
       "xbh              0.590573  1.000000  "
      ]
     },
     "execution_count": 47,
     "metadata": {},
     "output_type": "execute_result"
    }
   ],
   "source": [
    "# Calculate the correlation matrix using the default method (Pearson correlation)\n",
    "baseball_correlations = all_MLB_teams2015_2017_new.drop(['pitcher', 'batter'], axis=1).corr(method='pearson')\n",
    "baseball_correlations"
   ]
  },
  {
   "cell_type": "code",
   "execution_count": 48,
   "metadata": {},
   "outputs": [
    {
     "data": {
      "image/png": "[encoded data removed]",
      "text/plain": [
       "<Figure size 720x576 with 2 Axes>"
      ]
     },
     "metadata": {
      "needs_background": "light"
     },
     "output_type": "display_data"
    }
   ],
   "source": [
    "# Create a figure and a set of subplots\n",
    "# Note: figsize: a tuple (width, height) in inches\n",
    "fig, ax = plt.subplots(figsize=(10, 8));\n",
    "\n",
    "# Return an array of zeros with the same shape and type as a given array\n",
    "mask = np.zeros_like(baseball_correlations, dtype=np.bool)\n",
    "# Return the indices for the upper-triangle of array\n",
    "mask[np.triu_indices_from(mask)] = True\n",
    "\n",
    "# Plot the correlation matrix (color-encoded) using Seaborn's .heatmap() function\n",
    "# Note: vmin, vmax: values to anchor the colormap, otherwise they are inferred from the data & other keyword arguments\n",
    "ax = sns.heatmap(baseball_correlations, vmin=-1, vmax=1, mask=mask, ax=ax);\n",
    "\n",
    "ax.set_xticklabels(ax.xaxis.get_ticklabels(), fontsize=14);\n",
    "ax.set_yticklabels(ax.yaxis.get_ticklabels(), fontsize=14);\n",
    "\n",
    "plt.show();"
   ]
  },
  {
   "cell_type": "code",
   "execution_count": 49,
   "metadata": {},
   "outputs": [
    {
     "data": {
      "text/html": [
       "<div>\n",
       "<style scoped>\n",
       "    .dataframe tbody tr th:only-of-type {\n",
       "        vertical-align: middle;\n",
       "    }\n",
       "\n",
       "    .dataframe tbody tr th {\n",
       "        vertical-align: top;\n",
       "    }\n",
       "\n",
       "    .dataframe thead th {\n",
       "        text-align: right;\n",
       "    }\n",
       "</style>\n",
       "<table border=\"1\" class=\"dataframe\">\n",
       "  <thead>\n",
       "    <tr style=\"text-align: right;\">\n",
       "      <th></th>\n",
       "      <th>count</th>\n",
       "      <th>mean</th>\n",
       "      <th>std</th>\n",
       "      <th>min</th>\n",
       "      <th>25%</th>\n",
       "      <th>50%</th>\n",
       "      <th>75%</th>\n",
       "      <th>max</th>\n",
       "    </tr>\n",
       "    <tr>\n",
       "      <th>hr</th>\n",
       "      <th></th>\n",
       "      <th></th>\n",
       "      <th></th>\n",
       "      <th></th>\n",
       "      <th></th>\n",
       "      <th></th>\n",
       "      <th></th>\n",
       "      <th></th>\n",
       "    </tr>\n",
       "  </thead>\n",
       "  <tbody>\n",
       "    <tr>\n",
       "      <td>0</td>\n",
       "      <td>369261.0</td>\n",
       "      <td>86.511807</td>\n",
       "      <td>14.414668</td>\n",
       "      <td>5.2</td>\n",
       "      <td>80.0</td>\n",
       "      <td>88.6</td>\n",
       "      <td>97.1</td>\n",
       "      <td>123.4</td>\n",
       "    </tr>\n",
       "    <tr>\n",
       "      <td>1</td>\n",
       "      <td>16587.0</td>\n",
       "      <td>103.234033</td>\n",
       "      <td>4.414319</td>\n",
       "      <td>36.6</td>\n",
       "      <td>100.5</td>\n",
       "      <td>103.3</td>\n",
       "      <td>106.2</td>\n",
       "      <td>121.1</td>\n",
       "    </tr>\n",
       "  </tbody>\n",
       "</table>\n",
       "</div>"
      ],
      "text/plain": [
       "       count        mean        std   min    25%    50%    75%    max\n",
       "hr                                                                   \n",
       "0   369261.0   86.511807  14.414668   5.2   80.0   88.6   97.1  123.4\n",
       "1    16587.0  103.234033   4.414319  36.6  100.5  103.3  106.2  121.1"
      ]
     },
     "execution_count": 49,
     "metadata": {},
     "output_type": "execute_result"
    }
   ],
   "source": [
    "# For each HR group, describe exit velocity:\n",
    "all_MLB_teams2015_2017_new.groupby(by='hr').exit_velocity.describe()"
   ]
  },
  {
   "cell_type": "code",
   "execution_count": 50,
   "metadata": {},
   "outputs": [
    {
     "data": {
      "image/png": "[encoded data removed]",
      "text/plain": [
       "<Figure size 720x576 with 2 Axes>"
      ]
     },
     "metadata": {
      "needs_background": "light"
     },
     "output_type": "display_data"
    }
   ],
   "source": [
    "# Create histograms\n",
    "# Note: column: used to limit data to a subset of columns\n",
    "#       by: used to form histograms for separate groups\n",
    "#       sharex: share x axis and set some x axis labels to invisible\n",
    "#       sharey: share y axis and set some y axis labels to invisible\n",
    "#       layout: tuple of (rows, columns) for the layout of the histograms\n",
    "#       figsize: a tuple (width, height) in inches\n",
    "all_MLB_teams2015_2017_new.hist(column='exit_velocity', by='hr', sharex=True, sharey=True, figsize=(10, 8));\n",
    "plt.xlabel('Exit Velocity (MPH)');\n",
    "plt.ylabel('Frequency');"
   ]
  },
  {
   "cell_type": "code",
   "execution_count": 51,
   "metadata": {
    "scrolled": false
   },
   "outputs": [
    {
     "data": {
      "text/html": [
       "<div>\n",
       "<style scoped>\n",
       "    .dataframe tbody tr th:only-of-type {\n",
       "        vertical-align: middle;\n",
       "    }\n",
       "\n",
       "    .dataframe tbody tr th {\n",
       "        vertical-align: top;\n",
       "    }\n",
       "\n",
       "    .dataframe thead th {\n",
       "        text-align: right;\n",
       "    }\n",
       "</style>\n",
       "<table border=\"1\" class=\"dataframe\">\n",
       "  <thead>\n",
       "    <tr style=\"text-align: right;\">\n",
       "      <th></th>\n",
       "      <th>count</th>\n",
       "      <th>mean</th>\n",
       "      <th>std</th>\n",
       "      <th>min</th>\n",
       "      <th>25%</th>\n",
       "      <th>50%</th>\n",
       "      <th>75%</th>\n",
       "      <th>max</th>\n",
       "    </tr>\n",
       "    <tr>\n",
       "      <th>hr</th>\n",
       "      <th></th>\n",
       "      <th></th>\n",
       "      <th></th>\n",
       "      <th></th>\n",
       "      <th></th>\n",
       "      <th></th>\n",
       "      <th></th>\n",
       "      <th></th>\n",
       "    </tr>\n",
       "  </thead>\n",
       "  <tbody>\n",
       "    <tr>\n",
       "      <td>0</td>\n",
       "      <td>369261.0</td>\n",
       "      <td>9.883912</td>\n",
       "      <td>27.574537</td>\n",
       "      <td>-88.890</td>\n",
       "      <td>-10.133</td>\n",
       "      <td>9.102</td>\n",
       "      <td>27.6080</td>\n",
       "      <td>89.850</td>\n",
       "    </tr>\n",
       "    <tr>\n",
       "      <td>1</td>\n",
       "      <td>16587.0</td>\n",
       "      <td>27.997869</td>\n",
       "      <td>5.258122</td>\n",
       "      <td>-47.842</td>\n",
       "      <td>24.156</td>\n",
       "      <td>27.650</td>\n",
       "      <td>31.3585</td>\n",
       "      <td>49.741</td>\n",
       "    </tr>\n",
       "  </tbody>\n",
       "</table>\n",
       "</div>"
      ],
      "text/plain": [
       "       count       mean        std     min     25%     50%      75%     max\n",
       "hr                                                                         \n",
       "0   369261.0   9.883912  27.574537 -88.890 -10.133   9.102  27.6080  89.850\n",
       "1    16587.0  27.997869   5.258122 -47.842  24.156  27.650  31.3585  49.741"
      ]
     },
     "execution_count": 51,
     "metadata": {},
     "output_type": "execute_result"
    }
   ],
   "source": [
    "# For each HR group, describe launch angle:\n",
    "all_MLB_teams2015_2017_new.groupby(by='hr').launch_angle.describe()"
   ]
  },
  {
   "cell_type": "code",
   "execution_count": 52,
   "metadata": {},
   "outputs": [
    {
     "data": {
      "image/png": "[encoded data removed]",
      "text/plain": [
       "<Figure size 720x576 with 2 Axes>"
      ]
     },
     "metadata": {
      "needs_background": "light"
     },
     "output_type": "display_data"
    }
   ],
   "source": [
    "# Create histograms\n",
    "# Note: column: used to limit data to a subset of columns\n",
    "#       by: used to form histograms for separate groups\n",
    "#       sharex: share x axis and set some x axis labels to invisible\n",
    "#       sharey: share y axis and set some y axis labels to invisible\n",
    "#       layout: tuple of (rows, columns) for the layout of the histograms\n",
    "#       figsize: a tuple (width, height) in inches\n",
    "all_MLB_teams2015_2017_new.hist(column='launch_angle', by='hr', sharex=True, sharey=True, figsize=(10, 8));\n",
    "plt.xlabel('Launch Angle (Degrees)');\n",
    "plt.ylabel('Frequency');"
   ]
  },
  {
   "cell_type": "code",
   "execution_count": 53,
   "metadata": {},
   "outputs": [
    {
     "data": {
      "text/html": [
       "<div>\n",
       "<style scoped>\n",
       "    .dataframe tbody tr th:only-of-type {\n",
       "        vertical-align: middle;\n",
       "    }\n",
       "\n",
       "    .dataframe tbody tr th {\n",
       "        vertical-align: top;\n",
       "    }\n",
       "\n",
       "    .dataframe thead th {\n",
       "        text-align: right;\n",
       "    }\n",
       "</style>\n",
       "<table border=\"1\" class=\"dataframe\">\n",
       "  <thead>\n",
       "    <tr style=\"text-align: right;\">\n",
       "      <th></th>\n",
       "      <th>count</th>\n",
       "      <th>mean</th>\n",
       "      <th>std</th>\n",
       "      <th>min</th>\n",
       "      <th>25%</th>\n",
       "      <th>50%</th>\n",
       "      <th>75%</th>\n",
       "      <th>max</th>\n",
       "    </tr>\n",
       "    <tr>\n",
       "      <th>xbh</th>\n",
       "      <th></th>\n",
       "      <th></th>\n",
       "      <th></th>\n",
       "      <th></th>\n",
       "      <th></th>\n",
       "      <th></th>\n",
       "      <th></th>\n",
       "      <th></th>\n",
       "    </tr>\n",
       "  </thead>\n",
       "  <tbody>\n",
       "    <tr>\n",
       "      <td>0</td>\n",
       "      <td>341824.0</td>\n",
       "      <td>85.650642</td>\n",
       "      <td>14.394967</td>\n",
       "      <td>5.2</td>\n",
       "      <td>79.5</td>\n",
       "      <td>87.4</td>\n",
       "      <td>96.0</td>\n",
       "      <td>123.4</td>\n",
       "    </tr>\n",
       "    <tr>\n",
       "      <td>1</td>\n",
       "      <td>44024.0</td>\n",
       "      <td>99.498778</td>\n",
       "      <td>8.496135</td>\n",
       "      <td>32.2</td>\n",
       "      <td>96.5</td>\n",
       "      <td>101.2</td>\n",
       "      <td>104.8</td>\n",
       "      <td>121.1</td>\n",
       "    </tr>\n",
       "  </tbody>\n",
       "</table>\n",
       "</div>"
      ],
      "text/plain": [
       "        count       mean        std   min   25%    50%    75%    max\n",
       "xbh                                                                 \n",
       "0    341824.0  85.650642  14.394967   5.2  79.5   87.4   96.0  123.4\n",
       "1     44024.0  99.498778   8.496135  32.2  96.5  101.2  104.8  121.1"
      ]
     },
     "execution_count": 53,
     "metadata": {},
     "output_type": "execute_result"
    }
   ],
   "source": [
    "# For each XBH group, describe exit velocity:\n",
    "all_MLB_teams2015_2017_new.groupby(by='xbh').exit_velocity.describe()"
   ]
  },
  {
   "cell_type": "code",
   "execution_count": 54,
   "metadata": {},
   "outputs": [
    {
     "data": {
      "image/png": "[encoded data removed]",
      "text/plain": [
       "<Figure size 720x576 with 2 Axes>"
      ]
     },
     "metadata": {
      "needs_background": "light"
     },
     "output_type": "display_data"
    }
   ],
   "source": [
    "# Create histograms\n",
    "# Note: column: used to limit data to a subset of columns\n",
    "#       by: used to form histograms for separate groups\n",
    "#       sharex: share x axis and set some x axis labels to invisible\n",
    "#       sharey: share y axis and set some y axis labels to invisible\n",
    "#       layout: tuple of (rows, columns) for the layout of the histograms\n",
    "#       figsize: a tuple (width, height) in inches\n",
    "all_MLB_teams2015_2017_new.hist(column='exit_velocity', by='xbh', sharex=True, sharey=True, figsize=(10, 8));\n",
    "plt.xlabel('Exit Velocity (MPH)');\n",
    "plt.ylabel('Frequency');"
   ]
  },
  {
   "cell_type": "code",
   "execution_count": 55,
   "metadata": {},
   "outputs": [
    {
     "data": {
      "text/html": [
       "<div>\n",
       "<style scoped>\n",
       "    .dataframe tbody tr th:only-of-type {\n",
       "        vertical-align: middle;\n",
       "    }\n",
       "\n",
       "    .dataframe tbody tr th {\n",
       "        vertical-align: top;\n",
       "    }\n",
       "\n",
       "    .dataframe thead th {\n",
       "        text-align: right;\n",
       "    }\n",
       "</style>\n",
       "<table border=\"1\" class=\"dataframe\">\n",
       "  <thead>\n",
       "    <tr style=\"text-align: right;\">\n",
       "      <th></th>\n",
       "      <th>count</th>\n",
       "      <th>mean</th>\n",
       "      <th>std</th>\n",
       "      <th>min</th>\n",
       "      <th>25%</th>\n",
       "      <th>50%</th>\n",
       "      <th>75%</th>\n",
       "      <th>max</th>\n",
       "    </tr>\n",
       "    <tr>\n",
       "      <th>xbh</th>\n",
       "      <th></th>\n",
       "      <th></th>\n",
       "      <th></th>\n",
       "      <th></th>\n",
       "      <th></th>\n",
       "      <th></th>\n",
       "      <th></th>\n",
       "      <th></th>\n",
       "    </tr>\n",
       "  </thead>\n",
       "  <tbody>\n",
       "    <tr>\n",
       "      <td>0</td>\n",
       "      <td>341824.0</td>\n",
       "      <td>9.350901</td>\n",
       "      <td>28.432802</td>\n",
       "      <td>-88.890</td>\n",
       "      <td>-11.9267</td>\n",
       "      <td>7.282</td>\n",
       "      <td>28.96625</td>\n",
       "      <td>89.85</td>\n",
       "    </tr>\n",
       "    <tr>\n",
       "      <td>1</td>\n",
       "      <td>44024.0</td>\n",
       "      <td>20.847295</td>\n",
       "      <td>10.596456</td>\n",
       "      <td>-62.942</td>\n",
       "      <td>15.5800</td>\n",
       "      <td>21.752</td>\n",
       "      <td>27.62325</td>\n",
       "      <td>69.72</td>\n",
       "    </tr>\n",
       "  </tbody>\n",
       "</table>\n",
       "</div>"
      ],
      "text/plain": [
       "        count       mean        std     min      25%     50%       75%    max\n",
       "xbh                                                                          \n",
       "0    341824.0   9.350901  28.432802 -88.890 -11.9267   7.282  28.96625  89.85\n",
       "1     44024.0  20.847295  10.596456 -62.942  15.5800  21.752  27.62325  69.72"
      ]
     },
     "execution_count": 55,
     "metadata": {},
     "output_type": "execute_result"
    }
   ],
   "source": [
    "# For each XBH group, describe launch angle:\n",
    "all_MLB_teams2015_2017_new.groupby(by='xbh').launch_angle.describe()"
   ]
  },
  {
   "cell_type": "code",
   "execution_count": 56,
   "metadata": {},
   "outputs": [
    {
     "data": {
      "image/png": "[encoded data removed]",
      "text/plain": [
       "<Figure size 720x576 with 2 Axes>"
      ]
     },
     "metadata": {
      "needs_background": "light"
     },
     "output_type": "display_data"
    }
   ],
   "source": [
    "# Create histograms\n",
    "# Note: column: used to limit data to a subset of columns\n",
    "#       by: used to form histograms for separate groups\n",
    "#       sharex: share x axis and set some x axis labels to invisible\n",
    "#       sharey: share y axis and set some y axis labels to invisible\n",
    "#       layout: tuple of (rows, columns) for the layout of the histograms\n",
    "#       figsize: a tuple (width, height) in inches\n",
    "all_MLB_teams2015_2017_new.hist(column='launch_angle', by='xbh', sharex=True, sharey=True, figsize=(10, 8));\n",
    "plt.xlabel('Launch Angle (Degrees)');\n",
    "plt.ylabel('Frequency');"
   ]
  },
  {
   "cell_type": "markdown",
   "metadata": {},
   "source": [
    "### Data Modeling"
   ]
  },
  {
   "cell_type": "markdown",
   "metadata": {},
   "source": [
    "### Using Random Forests for Classification"
   ]
  },
  {
   "cell_type": "markdown",
   "metadata": {},
   "source": [
    "#### Build and train random forest classification models"
   ]
  },
  {
   "cell_type": "markdown",
   "metadata": {},
   "source": [
    "Note: <br>\n",
    "- `RandomForestClassifier` does not support missing values for targets.\n",
    "- Categorical predictor variables must be converted to numeric variables with integer values in order to use `RandomForestClassifier`."
   ]
  },
  {
   "cell_type": "code",
   "execution_count": 57,
   "metadata": {},
   "outputs": [
    {
     "data": {
      "text/plain": [
       "game_date               0\n",
       "home_team               0\n",
       "away_team               0\n",
       "player_name             0\n",
       "pitcher                 0\n",
       "pitch_type              0\n",
       "pitch_name              0\n",
       "pitch_velocity          0\n",
       "batter                  0\n",
       "events                  0\n",
       "description             0\n",
       "batted_ball_type        0\n",
       "des                     2\n",
       "exit_velocity           0\n",
       "launch_angle            0\n",
       "hit_distance_sc     45864\n",
       "hr                      0\n",
       "xbh                     0\n",
       "dtype: int64"
      ]
     },
     "execution_count": 57,
     "metadata": {},
     "output_type": "execute_result"
    }
   ],
   "source": [
    "# Count the missing values in each column of a DataFrame - sum() works because True is 1 and False is 0\n",
    "all_MLB_teams2015_2017_new.isnull().sum()"
   ]
  },
  {
   "cell_type": "markdown",
   "metadata": {},
   "source": [
    "Convert `pitch_name` into a numeric variable of integer values."
   ]
  },
  {
   "cell_type": "code",
   "execution_count": 58,
   "metadata": {},
   "outputs": [
    {
     "data": {
      "text/plain": [
       "4-Seam Fastball    131254\n",
       "2-Seam Fastball     59444\n",
       "Slider              54850\n",
       "Changeup            43883\n",
       "Sinker              33090\n",
       "Curveball           26046\n",
       "Cutter              21484\n",
       "Knuckle Curve        7419\n",
       "Split Finger         6284\n",
       "Knuckle Ball         2094\n",
       "Name: pitch_name, dtype: int64"
      ]
     },
     "execution_count": 58,
     "metadata": {},
     "output_type": "execute_result"
    }
   ],
   "source": [
    "# Categorical column frequency\n",
    "# Returns counts of unique values in descending order (first element is the most frequently-occurring element)\n",
    "# Note: Excludes NA values by default\n",
    "all_MLB_teams2015_2017_new.pitch_name.value_counts()"
   ]
  },
  {
   "cell_type": "code",
   "execution_count": 59,
   "metadata": {},
   "outputs": [],
   "source": [
    "# Map values of Series using input correspondence (i.e., map existing input values to new outputs values)\n",
    "all_MLB_teams2015_2017_new['pitch_name_num'] = all_MLB_teams2015_2017_new.pitch_name.map({'4-Seam Fastball':1, '2-Seam Fastball':2, 'Slider':3, 'Changeup':4, 'Sinker':5, 'Curveball':6, 'Cutter':7, 'Knuckle Curve':8, 'Split Finger':9, 'Knuckle Ball':10})"
   ]
  },
  {
   "cell_type": "code",
   "execution_count": 60,
   "metadata": {},
   "outputs": [
    {
     "data": {
      "text/plain": [
       "1     131254\n",
       "2      59444\n",
       "3      54850\n",
       "4      43883\n",
       "5      33090\n",
       "6      26046\n",
       "7      21484\n",
       "8       7419\n",
       "9       6284\n",
       "10      2094\n",
       "Name: pitch_name_num, dtype: int64"
      ]
     },
     "execution_count": 60,
     "metadata": {},
     "output_type": "execute_result"
    }
   ],
   "source": [
    "# Categorical column frequency\n",
    "# Returns counts of unique values in descending order (first element is the most frequently-occurring element)\n",
    "# Note: Excludes NA values by default\n",
    "all_MLB_teams2015_2017_new.pitch_name_num.value_counts()"
   ]
  },
  {
   "cell_type": "markdown",
   "metadata": {},
   "source": [
    "Create dummy variables for `pitch_name`."
   ]
  },
  {
   "cell_type": "code",
   "execution_count": 61,
   "metadata": {},
   "outputs": [],
   "source": [
    "# Convert categorical variable into dummy/indicator variables\n",
    "# Note: prefix: string to append DataFrame column names\n",
    "#       drop_first=True removes the first level to get k-1 dummies out of k categorical events\n",
    "# Join columns with other DataFrame either on index or on a key\n",
    "#all_MLB_teams2015_2017_new = all_MLB_teams2015_2017_new.join(pd.get_dummies(all_MLB_teams2015_2017_new.pitch_name, prefix='pitch_name', drop_first=True))\n",
    "#all_MLB_teams2015_2017_new.head()"
   ]
  },
  {
   "cell_type": "markdown",
   "metadata": {},
   "source": [
    "### Building Phase"
   ]
  },
  {
   "cell_type": "markdown",
   "metadata": {},
   "source": [
    "#### Predicting HRs"
   ]
  },
  {
   "cell_type": "code",
   "execution_count": 62,
   "metadata": {},
   "outputs": [],
   "source": [
    "# Create a list of features\n",
    "feature_cols = ['pitch_name_num', 'pitch_velocity', 'exit_velocity', 'launch_angle']"
   ]
  },
  {
   "cell_type": "code",
   "execution_count": 63,
   "metadata": {},
   "outputs": [],
   "source": [
    "# Create X and y\n",
    "X = all_MLB_teams2015_2017_new[feature_cols]\n",
    "y = all_MLB_teams2015_2017_new.hr"
   ]
  },
  {
   "cell_type": "code",
   "execution_count": 64,
   "metadata": {},
   "outputs": [],
   "source": [
    "# Split X and y into training and testing sets\n",
    "# Note: train_size: between 0.0 and 1.0 and represent the proportion of the dataset to include in the train split\n",
    "#       test_size: between 0.0 and 1.0 and represent the proportion of the dataset to include in the test split\n",
    "#       random_state: the seed used by the random number generator\n",
    "X_train, X_test, y_train, y_test = train_test_split(X, y, train_size=0.70, test_size=0.30, random_state=65)"
   ]
  },
  {
   "cell_type": "markdown",
   "metadata": {},
   "source": [
    "#### Compute Baseline Accuracy\n",
    "https://machinelearningmastery.com/how-to-get-baseline-results-and-why-they-matter/"
   ]
  },
  {
   "cell_type": "code",
   "execution_count": 65,
   "metadata": {},
   "outputs": [
    {
     "name": "stdout",
     "output_type": "stream",
     "text": [
      "0    258469\n",
      "1     11624\n",
      "Name: hr, dtype: int64\n",
      "\n",
      "Most frequent class in training dataset: 0\n",
      "\n",
      "Baseline accuracy in test dataset: 0.957\n",
      "Baseline accuracy in test dataset: 0.957\n"
     ]
    }
   ],
   "source": [
    "# Categorical column frequency\n",
    "# Returns counts of unique values in descending order (first element is the most frequently-occurring element)\n",
    "# Note: Excludes NA values by default\n",
    "print(y_train.value_counts())\n",
    "print()\n",
    "\n",
    "most_freq_class = y_train.value_counts().index[0]\n",
    "print('Most frequent class in training dataset:', most_freq_class)\n",
    "print()\n",
    "\n",
    "print('Baseline accuracy in test dataset:', round(y_test.value_counts()[most_freq_class] / y_test.count(), 3))\n",
    "\n",
    "# Instantiate a classifier that makes predictions using simple rules and fit dummy classifier\n",
    "# Note: stragegy: strategy to use to generate predictions\n",
    "#       random_state: the seed used by the random number generator\n",
    "dummy_clf = DummyClassifier(strategy='most_frequent', random_state=0)\n",
    "dummy_clf.fit(X_train, y_train)\n",
    "dummy_clf.score(X_test, y_test)\n",
    "print('Baseline accuracy in test dataset:', round(dummy_clf.score(X_test, y_test), 3))"
   ]
  },
  {
   "cell_type": "markdown",
   "metadata": {},
   "source": [
    "Note: Creating train/test as arrays for purpose of running code below: 'Understanding a single decision tree structure from a random forest'. DataFrames do not work for this code."
   ]
  },
  {
   "cell_type": "code",
   "execution_count": 66,
   "metadata": {},
   "outputs": [],
   "source": [
    "X_train = X_train.values\n",
    "X_test = X_test.values\n",
    "y_train = y_train.values\n",
    "y_test = y_test.values"
   ]
  },
  {
   "cell_type": "markdown",
   "metadata": {},
   "source": [
    "#### Perform training with Gini Index criteria"
   ]
  },
  {
   "cell_type": "code",
   "execution_count": 67,
   "metadata": {},
   "outputs": [
    {
     "data": {
      "text/plain": [
       "RandomForestClassifier(bootstrap=True, ccp_alpha=0.0, class_weight=None,\n",
       "                       criterion='gini', max_depth=3, max_features='auto',\n",
       "                       max_leaf_nodes=None, max_samples=None,\n",
       "                       min_impurity_decrease=0.0, min_impurity_split=None,\n",
       "                       min_samples_leaf=1, min_samples_split=2,\n",
       "                       min_weight_fraction_leaf=0.0, n_estimators=100,\n",
       "                       n_jobs=None, oob_score=False, random_state=46, verbose=0,\n",
       "                       warm_start=False)"
      ]
     },
     "execution_count": 67,
     "metadata": {},
     "output_type": "execute_result"
    }
   ],
   "source": [
    "# Instantiate a random forest classifier and build a forest of trees from the training set (X, y)\n",
    "# Note: n_estimators: number of trees in the forest\n",
    "#       criterion: function to measure the quality of a split; supported criteria are \"gini\" for the Gini impurity \n",
    "#                  and \"entropy\" for the information gain\n",
    "#       max_depth: maximum depth of the tree; if None, then nodes are expanded until all leaves are pure or \n",
    "#                  until all leaves contain less than min_samples_split samples\n",
    "#       random_state: the seed used by the random number generator\n",
    "rf_gini = RandomForestClassifier(n_estimators=100, criterion='gini', max_depth=3, random_state=46)\n",
    "rf_gini.fit(X_train, y_train)"
   ]
  },
  {
   "cell_type": "code",
   "execution_count": 68,
   "metadata": {},
   "outputs": [],
   "source": [
    "# Predicted class value for X using random forest classifier\n",
    "# Note: The predicted class of an input sample is a vote by the trees in the forest, weighted by their probability \n",
    "#       estimates. That is, the predicted class is the one with highest mean probability estimate across the trees\n",
    "#y_pred_class = rf_gini.predict(X_test)\n",
    "#y_pred_class"
   ]
  },
  {
   "cell_type": "code",
   "execution_count": 69,
   "metadata": {},
   "outputs": [],
   "source": [
    "# Predicted class probability estimates of the input samples X\n",
    "# Note: The predicted class probabilities of an input sample are computed as the mean predicted class probabilities\n",
    "#       of the trees in the forest. The class probability of a single tree is the fraction of samples of the same class in a leaf\n",
    "#y_pred_prob = rf_gini.predict_proba(X_test)[:, 1]\n",
    "#y_pred_prob = rf_gini.predict_proba(X_test)\n",
    "#y_pred_prob"
   ]
  },
  {
   "cell_type": "markdown",
   "metadata": {},
   "source": [
    "#### Perform training with “entropy” criteria for Information Gain"
   ]
  },
  {
   "cell_type": "code",
   "execution_count": 70,
   "metadata": {},
   "outputs": [
    {
     "data": {
      "text/plain": [
       "RandomForestClassifier(bootstrap=True, ccp_alpha=0.0, class_weight=None,\n",
       "                       criterion='entropy', max_depth=3, max_features='auto',\n",
       "                       max_leaf_nodes=None, max_samples=None,\n",
       "                       min_impurity_decrease=0.0, min_impurity_split=None,\n",
       "                       min_samples_leaf=1, min_samples_split=2,\n",
       "                       min_weight_fraction_leaf=0.0, n_estimators=100,\n",
       "                       n_jobs=None, oob_score=False, random_state=46, verbose=0,\n",
       "                       warm_start=False)"
      ]
     },
     "execution_count": 70,
     "metadata": {},
     "output_type": "execute_result"
    }
   ],
   "source": [
    "# Instantiate a random forest classifier and build a forest of trees from the training set (X, y)\n",
    "# Note: n_estimators: number of trees in the forest\n",
    "#       criterion: function to measure the quality of a split; supported criteria are \"gini\" for the Gini impurity \n",
    "#                  and \"entropy\" for the information gain\n",
    "#       max_depth: maximum depth of the tree; if None, then nodes are expanded until all leaves are pure or \n",
    "#                  until all leaves contain less than min_samples_split samples\n",
    "#       random_state: the seed used by the random number generator\n",
    "rf_entropy = RandomForestClassifier(n_estimators=100, criterion='entropy', max_depth=3, random_state=46)\n",
    "rf_entropy.fit(X_train, y_train)"
   ]
  },
  {
   "cell_type": "code",
   "execution_count": 71,
   "metadata": {},
   "outputs": [],
   "source": [
    "# Predicted class value for X using random forest classifier\n",
    "# Note: The predicted class of an input sample is a vote by the trees in the forest, weighted by their probability \n",
    "#       estimates. That is, the predicted class is the one with highest mean probability estimate across the trees\n",
    "#y_pred_class = rf_entropy.predict(X_test)\n",
    "#y_pred_class"
   ]
  },
  {
   "cell_type": "code",
   "execution_count": 72,
   "metadata": {},
   "outputs": [],
   "source": [
    "# Predicted class probability estimates of the input samples X\n",
    "# Note: The predicted class probabilities of an input sample are computed as the mean predicted class probabilities\n",
    "#       of the trees in the forest. The class probability of a single tree is the fraction of samples of the same class in a leaf\n",
    "#y_pred_prob = rf_entropy.predict_proba(X_test)[:, 1]\n",
    "#y_pred_prob = rf_entropy.predict_proba(X_test)\n",
    "#y_pred_prob"
   ]
  },
  {
   "cell_type": "markdown",
   "metadata": {},
   "source": [
    "### Operational Phase"
   ]
  },
  {
   "cell_type": "code",
   "execution_count": 73,
   "metadata": {},
   "outputs": [],
   "source": [
    "# Function to make predictions \n",
    "def prediction(X_test, clf_object): \n",
    "  \n",
    "    # Predict the class labels using the classifier model\n",
    "    y_pred_class = clf_object.predict(X_test)\n",
    "\n",
    "    print('Predicted values:')\n",
    "    print(y_pred_class)\n",
    "    print('')\n",
    "    return y_pred_class"
   ]
  },
  {
   "cell_type": "code",
   "execution_count": 74,
   "metadata": {},
   "outputs": [],
   "source": [
    "# Function to calculate accuracy\n",
    "def cal_accuracy(y_test, y_pred_class, clf_object):\n",
    "      \n",
    "    # Training accuracy classification score\n",
    "    print('Training accuracy score:', round(metrics.accuracy_score(y_train, clf_object.predict(X_train)), 4))\n",
    "    \n",
    "    # Testing accuracy classification score\n",
    "    print('Testing accuracy score :', round(metrics.accuracy_score(y_test, y_pred_class), 4))\n",
    "    \n",
    "    if metrics.accuracy_score(y_train, clf_object.predict(X_train)) < metrics.accuracy_score(y_test, y_pred_class):\n",
    "        print('Testing accuracy > Training accuracy')\n",
    "        print('-> Not overfitting')\n",
    "    else:\n",
    "        print('Testing accuracy < Training accuracy')\n",
    "        print('-> Overfitting!')\n",
    "    print('')\n",
    "    \n",
    "    # Confusion matrix to evaluate the accuracy of a classification\n",
    "    print('Confusion Matrix:')\n",
    "    conmat = metrics.confusion_matrix(y_test, y_pred_class)\n",
    "    print(pd.DataFrame(conmat,\n",
    "                       index=['True No HR', 'True HR'],\n",
    "                       columns=['Predicted No HR', 'Predicted HR']))\n",
    "    print('')\n",
    "    \n",
    "    # Build a text report showing the main classification metrics\n",
    "    print('Classification Report:')\n",
    "    print(metrics.classification_report(y_test, y_pred_class))\n",
    "    print('')\n",
    "    \n",
    "    # Area Under the Receiver Operating Characteristic Curve (ROC AUC)\n",
    "    print('ROC AUC:', round(metrics.roc_auc_score(y_test, y_pred_class), 3))\n",
    "    print('')\n",
    "    \n",
    "    # Log loss, aka logistic loss or cross-entropy loss\n",
    "    print('Log loss:', round(metrics.log_loss(y_test, y_pred_class), 3))"
   ]
  },
  {
   "cell_type": "markdown",
   "metadata": {},
   "source": [
    "https://machinelearningmastery.com/classification-accuracy-is-not-enough-more-performance-measures-you-can-use/"
   ]
  },
  {
   "cell_type": "markdown",
   "metadata": {},
   "source": [
    "$$Precision = Positive Predictive Value (PPV) = \\frac{True Positives}{True Positives + False Positives}--> completeness$$\n",
    "- \"How many of the items selected are relevant\"\n",
    "- Of the items placed into a class, how many of them are True Positives.\n",
    "<br>\n",
    "<br>\n",
    "$$Recall = True Positive Rate(Sensitivity) = \\frac{True Positives}{True Positives + False Negatives}-->exactness$$\n",
    "- \"How many of the relevant items are selected\"\n",
    "- Of the items that were suppose to be placed into a class, how many did we accurately place.\n",
    "<br>\n",
    "<br>\n",
    "$$F1Score = 2*\\frac{precision * recall}{precision + recall}$$\n",
    "- 0 <= F1 <= 1, where 0 is awful and 1 is perfection.\n",
    "- F1 is considered a harmonic mean as it averages Precision and Recall.\n",
    "- With classification models you often times have to choose what kind of error you are willing to increase in order to reduce the other and thus you may want to optimize Precision or Recall accordingly.\n",
    "- If you are uncertain which you should optimize, F1 score may be the metric of choice."
   ]
  },
  {
   "cell_type": "markdown",
   "metadata": {},
   "source": [
    "#### Prediction using Gini Index criteria"
   ]
  },
  {
   "cell_type": "code",
   "execution_count": 75,
   "metadata": {},
   "outputs": [
    {
     "name": "stdout",
     "output_type": "stream",
     "text": [
      "Results Using Gini Index:\n",
      "Predicted values:\n",
      "[0 0 0 ... 0 0 0]\n",
      "\n",
      "Training accuracy score: 0.9722\n",
      "Testing accuracy score : 0.9726\n",
      "Testing accuracy > Training accuracy\n",
      "-> Not overfitting\n",
      "\n",
      "Confusion Matrix:\n",
      "            Predicted No HR  Predicted HR\n",
      "True No HR           110378           414\n",
      "True HR                2755          2208\n",
      "\n",
      "Classification Report:\n",
      "              precision    recall  f1-score   support\n",
      "\n",
      "           0       0.98      1.00      0.99    110792\n",
      "           1       0.84      0.44      0.58      4963\n",
      "\n",
      "    accuracy                           0.97    115755\n",
      "   macro avg       0.91      0.72      0.78    115755\n",
      "weighted avg       0.97      0.97      0.97    115755\n",
      "\n",
      "\n",
      "ROC AUC: 0.721\n",
      "\n",
      "Log loss: 0.946\n"
     ]
    }
   ],
   "source": [
    "print('Results Using Gini Index:')\n",
    "y_pred_gini = prediction(X_test, rf_gini)\n",
    "cal_accuracy(y_test, y_pred_gini, rf_gini)"
   ]
  },
  {
   "cell_type": "markdown",
   "metadata": {},
   "source": [
    "#### Plot Receiver Operating Characteristic (ROC) Curve\n",
    "https://machinelearningmastery.com/roc-curves-and-precision-recall-curves-for-classification-in-python/"
   ]
  },
  {
   "cell_type": "code",
   "execution_count": 76,
   "metadata": {},
   "outputs": [
    {
     "data": {
      "image/png": "[encoded data removed]",
      "text/plain": [
       "<Figure size 864x576 with 1 Axes>"
      ]
     },
     "metadata": {
      "needs_background": "light"
     },
     "output_type": "display_data"
    }
   ],
   "source": [
    "roc_auc = metrics.roc_auc_score(y_test, rf_gini.predict(X_test))\n",
    "fpr, tpr, thresholds = metrics.roc_curve(y_test, rf_gini.predict_proba(X_test)[:, 1])\n",
    "\n",
    "plt.title('Receiver Operating Characteristic')\n",
    "plt.plot(fpr, tpr, label='AUC = %0.3f' % roc_auc)\n",
    "plt.legend(loc='lower right')\n",
    "plt.plot([0, 1], [0, 1], 'r--')\n",
    "plt.xlim([0.0, 1.0])\n",
    "plt.ylim([0.0, 1.05])\n",
    "plt.xlabel('False Positive Rate')\n",
    "plt.ylabel('True Positive Rate')\n",
    "plt.show()"
   ]
  },
  {
   "cell_type": "markdown",
   "metadata": {},
   "source": [
    "#### Plot Precision-Recall Curve"
   ]
  },
  {
   "cell_type": "code",
   "execution_count": 77,
   "metadata": {},
   "outputs": [
    {
     "name": "stdout",
     "output_type": "stream",
     "text": [
      "Average precision-recall score: 0.737\n"
     ]
    }
   ],
   "source": [
    "# Compute the average precision score\n",
    "average_precision = metrics.average_precision_score(y_test, rf_gini.predict_proba(X_test)[:, 1])\n",
    "print('Average precision-recall score: {0:0.3f}'.format(average_precision))"
   ]
  },
  {
   "cell_type": "code",
   "execution_count": 78,
   "metadata": {},
   "outputs": [
    {
     "data": {
      "image/png": "[encoded data removed]",
      "text/plain": [
       "<Figure size 864x576 with 1 Axes>"
      ]
     },
     "metadata": {
      "needs_background": "light"
     },
     "output_type": "display_data"
    }
   ],
   "source": [
    "precision, recall, thresholds = metrics.precision_recall_curve(y_test, rf_gini.predict_proba(X_test)[:, 1])\n",
    "no_skill = len(y_test[y_test==1]) / len(y_test)\n",
    "\n",
    "plt.title('2-class Precision-Recall Curve')\n",
    "plt.plot(recall, precision, label='AP = {0:0.3f}'.format(average_precision))\n",
    "plt.plot([0, 1], [no_skill, no_skill], 'r--', label='No Skill')\n",
    "plt.legend()\n",
    "plt.xlabel('Recall')\n",
    "plt.ylabel('Precision')\n",
    "plt.show()"
   ]
  },
  {
   "cell_type": "markdown",
   "metadata": {},
   "source": [
    "#### Prediction using Entropy criteria"
   ]
  },
  {
   "cell_type": "code",
   "execution_count": 79,
   "metadata": {},
   "outputs": [
    {
     "name": "stdout",
     "output_type": "stream",
     "text": [
      "Results Using Entropy:\n",
      "Predicted values:\n",
      "[0 0 0 ... 0 0 0]\n",
      "\n",
      "Training accuracy score: 0.957\n",
      "Testing accuracy score : 0.9571\n",
      "Testing accuracy > Training accuracy\n",
      "-> Not overfitting\n",
      "\n",
      "Confusion Matrix:\n",
      "            Predicted No HR  Predicted HR\n",
      "True No HR           110792             0\n",
      "True HR                4963             0\n",
      "\n",
      "Classification Report:\n",
      "              precision    recall  f1-score   support\n",
      "\n",
      "           0       0.96      1.00      0.98    110792\n",
      "           1       0.00      0.00      0.00      4963\n",
      "\n",
      "    accuracy                           0.96    115755\n",
      "   macro avg       0.48      0.50      0.49    115755\n",
      "weighted avg       0.92      0.96      0.94    115755\n",
      "\n",
      "\n",
      "ROC AUC: 0.5\n",
      "\n",
      "Log loss: 1.481\n"
     ]
    },
    {
     "name": "stderr",
     "output_type": "stream",
     "text": [
      "/Users/yangweichle/opt/anaconda3/lib/python3.7/site-packages/sklearn/metrics/_classification.py:1272: UndefinedMetricWarning: Precision and F-score are ill-defined and being set to 0.0 in labels with no predicted samples. Use `zero_division` parameter to control this behavior.\n",
      "  _warn_prf(average, modifier, msg_start, len(result))\n"
     ]
    }
   ],
   "source": [
    "print('Results Using Entropy:')\n",
    "y_pred_entropy = prediction(X_test, rf_entropy)\n",
    "cal_accuracy(y_test, y_pred_entropy, rf_entropy)"
   ]
  },
  {
   "cell_type": "markdown",
   "metadata": {},
   "source": [
    "#### Plot Receiver Operating Characteristic (ROC) Curve\n",
    "https://machinelearningmastery.com/roc-curves-and-precision-recall-curves-for-classification-in-python/"
   ]
  },
  {
   "cell_type": "code",
   "execution_count": 80,
   "metadata": {},
   "outputs": [
    {
     "data": {
      "image/png": "[encoded data removed]",
      "text/plain": [
       "<Figure size 864x576 with 1 Axes>"
      ]
     },
     "metadata": {
      "needs_background": "light"
     },
     "output_type": "display_data"
    }
   ],
   "source": [
    "roc_auc = metrics.roc_auc_score(y_test, rf_entropy.predict(X_test))\n",
    "fpr, tpr, thresholds = metrics.roc_curve(y_test, rf_entropy.predict_proba(X_test)[:, 1])\n",
    "\n",
    "plt.title('Receiver Operating Characteristic')\n",
    "plt.plot(fpr, tpr, label='AUC = %0.3f' % roc_auc)\n",
    "plt.legend(loc='lower right')\n",
    "plt.plot([0, 1], [0, 1], 'r--')\n",
    "plt.xlim([0.0, 1.0])\n",
    "plt.ylim([0.0, 1.05])\n",
    "plt.xlabel('False Positive Rate')\n",
    "plt.ylabel('True Positive Rate')\n",
    "plt.show()"
   ]
  },
  {
   "cell_type": "markdown",
   "metadata": {},
   "source": [
    "#### Plot Precision-Recall Curve"
   ]
  },
  {
   "cell_type": "code",
   "execution_count": 81,
   "metadata": {},
   "outputs": [
    {
     "name": "stdout",
     "output_type": "stream",
     "text": [
      "Average precision-recall score: 0.737\n"
     ]
    }
   ],
   "source": [
    "# Compute the average precision score\n",
    "average_precision = metrics.average_precision_score(y_test, rf_gini.predict_proba(X_test)[:, 1])\n",
    "print('Average precision-recall score: {0:0.3f}'.format(average_precision))"
   ]
  },
  {
   "cell_type": "code",
   "execution_count": 82,
   "metadata": {},
   "outputs": [
    {
     "data": {
      "image/png": "[encoded data removed]",
      "text/plain": [
       "<Figure size 864x576 with 1 Axes>"
      ]
     },
     "metadata": {
      "needs_background": "light"
     },
     "output_type": "display_data"
    }
   ],
   "source": [
    "precision, recall, thresholds = metrics.precision_recall_curve(y_test, rf_gini.predict_proba(X_test)[:, 1])\n",
    "no_skill = len(y_test[y_test==1]) / len(y_test)\n",
    "\n",
    "plt.title('2-class Precision-Recall Curve')\n",
    "plt.plot(recall, precision, label='AP = {0:0.3f}'.format(average_precision))\n",
    "plt.plot([0, 1], [no_skill, no_skill], 'r--', label='No Skill')\n",
    "plt.legend()\n",
    "plt.xlabel('Recall')\n",
    "plt.ylabel('Precision')\n",
    "plt.show()"
   ]
  },
  {
   "cell_type": "markdown",
   "metadata": {},
   "source": [
    "#### Understanding a single decision tree structure from a random forest\n",
    "With a random forest, every tree will be built differently. Trees will be slightly different from one another!"
   ]
  },
  {
   "cell_type": "code",
   "execution_count": 83,
   "metadata": {},
   "outputs": [],
   "source": [
    "# Extract single tree\n",
    "estimator = rf_gini.estimators_[50]"
   ]
  },
  {
   "cell_type": "code",
   "execution_count": 84,
   "metadata": {},
   "outputs": [
    {
     "name": "stdout",
     "output_type": "stream",
     "text": [
      "The binary tree structure has 15 nodes and has the following tree structure:\n",
      "node=0 test node: go to node 1 if X[:, 2] <= 100.25 else to node 8.\n",
      "\tnode=1 test node: go to node 2 if X[:, 2] <= 95.14999771118164 else to node 5.\n",
      "\t\tnode=2 test node: go to node 3 if X[:, 2] <= 92.64999771118164 else to node 4.\n",
      "\t\t\tnode=3 leaf node.\n",
      "\t\t\tnode=4 leaf node.\n",
      "\t\tnode=5 test node: go to node 6 if X[:, 3] <= 23.636499404907227 else to node 7.\n",
      "\t\t\tnode=6 leaf node.\n",
      "\t\t\tnode=7 leaf node.\n",
      "\tnode=8 test node: go to node 9 if X[:, 2] <= 102.75 else to node 12.\n",
      "\t\tnode=9 test node: go to node 10 if X[:, 3] <= 21.878000259399414 else to node 11.\n",
      "\t\t\tnode=10 leaf node.\n",
      "\t\t\tnode=11 leaf node.\n",
      "\t\tnode=12 test node: go to node 13 if X[:, 3] <= 19.944499969482422 else to node 14.\n",
      "\t\t\tnode=13 leaf node.\n",
      "\t\t\tnode=14 leaf node.\n",
      "\n",
      "Rules used to predict sample 0: \n",
      "decision id node 0 : (X_test[0, 2] (= 81.3) <= 100.25)\n",
      "decision id node 1 : (X_test[0, 2] (= 81.3) <= 95.14999771118164)\n",
      "decision id node 2 : (X_test[0, 2] (= 81.3) <= 92.64999771118164)\n",
      "\n",
      "The following samples [0, 1] share the node [0 1 2 3] in the tree\n",
      "It is 26.666666666666668 % of all nodes.\n"
     ]
    }
   ],
   "source": [
    "# The decision estimator has an attribute called tree_  which stores the entire\n",
    "# tree structure and allows access to low level attributes. The binary tree\n",
    "# tree_ is represented as a number of parallel arrays. The i-th element of each\n",
    "# array holds information about the node `i`. Node 0 is the tree's root. NOTE:\n",
    "# Some of the arrays only apply to either leaves or split nodes, resp. In this\n",
    "# case the values of nodes of the other type are arbitrary!\n",
    "#\n",
    "# Among those arrays, we have:\n",
    "#   - left_child, id of the left child of the node\n",
    "#   - right_child, id of the right child of the node\n",
    "#   - feature, feature used for splitting the node\n",
    "#   - threshold, threshold value at the node\n",
    "#\n",
    "\n",
    "# Using those arrays, we can parse the tree structure:\n",
    "n_nodes = estimator.tree_.node_count\n",
    "children_left = estimator.tree_.children_left\n",
    "children_right = estimator.tree_.children_right\n",
    "feature = estimator.tree_.feature\n",
    "threshold = estimator.tree_.threshold\n",
    "\n",
    "# The tree structure can be traversed to compute various properties such\n",
    "# as the depth of each node and whether or not it is a leaf.\n",
    "node_depth = np.zeros(shape=n_nodes, dtype=np.int64)\n",
    "is_leaves = np.zeros(shape=n_nodes, dtype=bool)\n",
    "stack = [(0, -1)]  # seed is the root node id and its parent depth\n",
    "while len(stack) > 0:\n",
    "    node_id, parent_depth = stack.pop()\n",
    "    node_depth[node_id] = parent_depth + 1\n",
    "\n",
    "    # If we have a test node\n",
    "    if (children_left[node_id] != children_right[node_id]):\n",
    "        stack.append((children_left[node_id], parent_depth + 1))\n",
    "        stack.append((children_right[node_id], parent_depth + 1))\n",
    "    else:\n",
    "        is_leaves[node_id] = True\n",
    "\n",
    "print('The binary tree structure has %s nodes and has '\n",
    "      'the following tree structure:'\n",
    "      % n_nodes)\n",
    "for i in range(n_nodes):\n",
    "    if is_leaves[i]:\n",
    "        print('%snode=%s leaf node.' % (node_depth[i] * '\\t', i))\n",
    "    else:\n",
    "        print('%snode=%s test node: go to node %s if X[:, %s] <= %s else to '\n",
    "              'node %s.'\n",
    "              % (node_depth[i] * '\\t',\n",
    "                 i,\n",
    "                 children_left[i],\n",
    "                 feature[i],\n",
    "                 threshold[i],\n",
    "                 children_right[i],\n",
    "                 ))\n",
    "print()\n",
    "\n",
    "# First let's retrieve the decision path of each sample. The decision_path\n",
    "# method allows to retrieve the node indicator functions. A non zero element of\n",
    "# indicator matrix at the position (i, j) indicates that the sample i goes\n",
    "# through the node j.\n",
    "node_indicator = estimator.decision_path(X_test)\n",
    "\n",
    "# Similarly, we can also have the leaves ids reached by each sample.\n",
    "leave_id = estimator.apply(X_test)\n",
    "\n",
    "# Now, it's possible to get the tests that were used to predict a sample or\n",
    "# a group of samples. First, let's make it for the sample.\n",
    "sample_id = 0\n",
    "node_index = node_indicator.indices[node_indicator.indptr[sample_id]:\n",
    "                                    node_indicator.indptr[sample_id + 1]]\n",
    "\n",
    "print('Rules used to predict sample %s: ' % sample_id)\n",
    "for node_id in node_index:\n",
    "    if leave_id[sample_id] == node_id:\n",
    "        continue\n",
    "\n",
    "    if (X_test[sample_id, feature[node_id]] <= threshold[node_id]):\n",
    "        threshold_sign = '<='\n",
    "    else:\n",
    "        threshold_sign = '>'\n",
    "\n",
    "    print('decision id node %s : (X_test[%s, %s] (= %s) %s %s)'\n",
    "          % (node_id,\n",
    "             sample_id,\n",
    "             feature[node_id],\n",
    "             X_test[sample_id, feature[node_id]],\n",
    "             threshold_sign,\n",
    "             threshold[node_id]))\n",
    "\n",
    "# For a group of samples, we have the following common node.\n",
    "sample_ids = [0, 1]\n",
    "common_nodes = (node_indicator.toarray()[sample_ids].sum(axis=0) ==\n",
    "                len(sample_ids))\n",
    "\n",
    "common_node_id = np.arange(n_nodes)[common_nodes]\n",
    "\n",
    "print('\\nThe following samples %s share the node %s in the tree'\n",
    "      % (sample_ids, common_node_id))\n",
    "print('It is %s %% of all nodes.' % (100 * len(common_node_id) / n_nodes,))"
   ]
  },
  {
   "cell_type": "code",
   "execution_count": 85,
   "metadata": {},
   "outputs": [],
   "source": [
    "# Export a decision tree in DOT format\n",
    "# Generates a GraphViz representation of the decision tree, which is then written into `out_file`\n",
    "# Once exported, graphical renderings can be generated\n",
    "# Note: feature_names: list of strings, optional (default=None); names of each of the features\n",
    "#       class_names: list of strings, bool or None, optional (default=None); names of each of the target classes in \n",
    "#                    ascending numerical order; only relevant for classification and not supported for multi-output\n",
    "dot_data = export_graphviz(estimator, out_file=None,\n",
    "                           feature_names=feature_cols,\n",
    "                           class_names=['No HR', 'HR'],\n",
    "                           filled=True, rounded=True,\n",
    "                           special_characters=True)"
   ]
  },
  {
   "cell_type": "code",
   "execution_count": 86,
   "metadata": {},
   "outputs": [
    {
     "data": {
      "image/svg+xml": [
       "<?xml version=\"1.0\" encoding=\"UTF-8\" standalone=\"no\"?>\n",
       "<!DOCTYPE svg PUBLIC \"-//W3C//DTD SVG 1.1//EN\"\n",
       " \"http://www.w3.org/Graphics/SVG/1.1/DTD/svg11.dtd\">\n",
       "<!-- Generated by graphviz version 2.40.1 (20161225.0304)\n",
       " -->\n",
       "<!-- Title: Tree Pages: 1 -->\n",
       "<svg width=\"1294pt\" height=\"433pt\"\n",
       " viewBox=\"0.00 0.00 1294.00 433.00\" xmlns=\"http://www.w3.org/2000/svg\" xmlns:xlink=\"http://www.w3.org/1999/xlink\">\n",
       "<g id=\"graph0\" class=\"graph\" transform=\"scale(1 1) rotate(0) translate(4 429)\">\n",
       "<title>Tree</title>\n",
       "<polygon fill=\"#ffffff\" stroke=\"transparent\" points=\"-4,4 -4,-429 1290,-429 1290,4 -4,4\"/>\n",
       "<!-- 0 -->\n",
       "<g id=\"node1\" class=\"node\">\n",
       "<title>0</title>\n",
       "<path fill=\"#e68742\" stroke=\"#000000\" d=\"M684.5,-425C684.5,-425 541.5,-425 541.5,-425 535.5,-425 529.5,-419 529.5,-413 529.5,-413 529.5,-354 529.5,-354 529.5,-348 535.5,-342 541.5,-342 541.5,-342 684.5,-342 684.5,-342 690.5,-342 696.5,-348 696.5,-354 696.5,-354 696.5,-413 696.5,-413 696.5,-419 690.5,-425 684.5,-425\"/>\n",
       "<text text-anchor=\"start\" x=\"545.5\" y=\"-409.8\" font-family=\"Helvetica,sans-Serif\" font-size=\"14.00\" fill=\"#000000\">exit_velocity ≤ 100.25</text>\n",
       "<text text-anchor=\"start\" x=\"576.5\" y=\"-394.8\" font-family=\"Helvetica,sans-Serif\" font-size=\"14.00\" fill=\"#000000\">gini = 0.083</text>\n",
       "<text text-anchor=\"start\" x=\"555.5\" y=\"-379.8\" font-family=\"Helvetica,sans-Serif\" font-size=\"14.00\" fill=\"#000000\">samples = 170639</text>\n",
       "<text text-anchor=\"start\" x=\"537.5\" y=\"-364.8\" font-family=\"Helvetica,sans-Serif\" font-size=\"14.00\" fill=\"#000000\">value = [258433, 11660]</text>\n",
       "<text text-anchor=\"start\" x=\"568\" y=\"-349.8\" font-family=\"Helvetica,sans-Serif\" font-size=\"14.00\" fill=\"#000000\">class = No HR</text>\n",
       "</g>\n",
       "<!-- 1 -->\n",
       "<g id=\"node2\" class=\"node\">\n",
       "<title>1</title>\n",
       "<path fill=\"#e5833b\" stroke=\"#000000\" d=\"M592.5,-306C592.5,-306 457.5,-306 457.5,-306 451.5,-306 445.5,-300 445.5,-294 445.5,-294 445.5,-235 445.5,-235 445.5,-229 451.5,-223 457.5,-223 457.5,-223 592.5,-223 592.5,-223 598.5,-223 604.5,-229 604.5,-235 604.5,-235 604.5,-294 604.5,-294 604.5,-300 598.5,-306 592.5,-306\"/>\n",
       "<text text-anchor=\"start\" x=\"461.5\" y=\"-290.8\" font-family=\"Helvetica,sans-Serif\" font-size=\"14.00\" fill=\"#000000\">exit_velocity ≤ 95.15</text>\n",
       "<text text-anchor=\"start\" x=\"488.5\" y=\"-275.8\" font-family=\"Helvetica,sans-Serif\" font-size=\"14.00\" fill=\"#000000\">gini = 0.025</text>\n",
       "<text text-anchor=\"start\" x=\"467.5\" y=\"-260.8\" font-family=\"Helvetica,sans-Serif\" font-size=\"14.00\" fill=\"#000000\">samples = 139107</text>\n",
       "<text text-anchor=\"start\" x=\"453.5\" y=\"-245.8\" font-family=\"Helvetica,sans-Serif\" font-size=\"14.00\" fill=\"#000000\">value = [217213, 2734]</text>\n",
       "<text text-anchor=\"start\" x=\"480\" y=\"-230.8\" font-family=\"Helvetica,sans-Serif\" font-size=\"14.00\" fill=\"#000000\">class = No HR</text>\n",
       "</g>\n",
       "<!-- 0&#45;&gt;1 -->\n",
       "<g id=\"edge1\" class=\"edge\">\n",
       "<title>0&#45;&gt;1</title>\n",
       "<path fill=\"none\" stroke=\"#000000\" d=\"M582.2219,-341.8796C575.6949,-333.0534 568.7401,-323.6485 562.0092,-314.5466\"/>\n",
       "<polygon fill=\"#000000\" stroke=\"#000000\" points=\"564.6695,-312.2574 555.9095,-306.2981 559.0412,-316.4195 564.6695,-312.2574\"/>\n",
       "<text text-anchor=\"middle\" x=\"552.2068\" y=\"-327.3224\" font-family=\"Helvetica,sans-Serif\" font-size=\"14.00\" fill=\"#000000\">True</text>\n",
       "</g>\n",
       "<!-- 8 -->\n",
       "<g id=\"node9\" class=\"node\">\n",
       "<title>8</title>\n",
       "<path fill=\"#eb9c64\" stroke=\"#000000\" d=\"M833,-306C833,-306 705,-306 705,-306 699,-306 693,-300 693,-294 693,-294 693,-235 693,-235 693,-229 699,-223 705,-223 705,-223 833,-223 833,-223 839,-223 845,-229 845,-235 845,-235 845,-294 845,-294 845,-300 839,-306 833,-306\"/>\n",
       "<text text-anchor=\"start\" x=\"701.5\" y=\"-290.8\" font-family=\"Helvetica,sans-Serif\" font-size=\"14.00\" fill=\"#000000\">exit_velocity ≤ 102.75</text>\n",
       "<text text-anchor=\"start\" x=\"732.5\" y=\"-275.8\" font-family=\"Helvetica,sans-Serif\" font-size=\"14.00\" fill=\"#000000\">gini = 0.293</text>\n",
       "<text text-anchor=\"start\" x=\"715\" y=\"-260.8\" font-family=\"Helvetica,sans-Serif\" font-size=\"14.00\" fill=\"#000000\">samples = 31532</text>\n",
       "<text text-anchor=\"start\" x=\"701\" y=\"-245.8\" font-family=\"Helvetica,sans-Serif\" font-size=\"14.00\" fill=\"#000000\">value = [41220, 8926]</text>\n",
       "<text text-anchor=\"start\" x=\"724\" y=\"-230.8\" font-family=\"Helvetica,sans-Serif\" font-size=\"14.00\" fill=\"#000000\">class = No HR</text>\n",
       "</g>\n",
       "<!-- 0&#45;&gt;8 -->\n",
       "<g id=\"edge8\" class=\"edge\">\n",
       "<title>0&#45;&gt;8</title>\n",
       "<path fill=\"none\" stroke=\"#000000\" d=\"M667.5612,-341.8796C680.0302,-332.368 693.3802,-322.1843 706.1648,-312.432\"/>\n",
       "<polygon fill=\"#000000\" stroke=\"#000000\" points=\"708.6415,-314.9448 714.4696,-306.0969 704.396,-309.3792 708.6415,-314.9448\"/>\n",
       "<text text-anchor=\"middle\" x=\"711.136\" y=\"-327.1737\" font-family=\"Helvetica,sans-Serif\" font-size=\"14.00\" fill=\"#000000\">False</text>\n",
       "</g>\n",
       "<!-- 2 -->\n",
       "<g id=\"node3\" class=\"node\">\n",
       "<title>2</title>\n",
       "<path fill=\"#e5813a\" stroke=\"#000000\" d=\"M306,-187C306,-187 178,-187 178,-187 172,-187 166,-181 166,-175 166,-175 166,-116 166,-116 166,-110 172,-104 178,-104 178,-104 306,-104 306,-104 312,-104 318,-110 318,-116 318,-116 318,-175 318,-175 318,-181 312,-187 306,-187\"/>\n",
       "<text text-anchor=\"start\" x=\"178.5\" y=\"-171.8\" font-family=\"Helvetica,sans-Serif\" font-size=\"14.00\" fill=\"#000000\">exit_velocity ≤ 92.65</text>\n",
       "<text text-anchor=\"start\" x=\"205.5\" y=\"-156.8\" font-family=\"Helvetica,sans-Serif\" font-size=\"14.00\" fill=\"#000000\">gini = 0.005</text>\n",
       "<text text-anchor=\"start\" x=\"184.5\" y=\"-141.8\" font-family=\"Helvetica,sans-Serif\" font-size=\"14.00\" fill=\"#000000\">samples = 113846</text>\n",
       "<text text-anchor=\"start\" x=\"174\" y=\"-126.8\" font-family=\"Helvetica,sans-Serif\" font-size=\"14.00\" fill=\"#000000\">value = [179437, 474]</text>\n",
       "<text text-anchor=\"start\" x=\"197\" y=\"-111.8\" font-family=\"Helvetica,sans-Serif\" font-size=\"14.00\" fill=\"#000000\">class = No HR</text>\n",
       "</g>\n",
       "<!-- 1&#45;&gt;2 -->\n",
       "<g id=\"edge2\" class=\"edge\">\n",
       "<title>1&#45;&gt;2</title>\n",
       "<path fill=\"none\" stroke=\"#000000\" d=\"M445.4156,-231.0352C408.6417,-215.5719 364.918,-197.1864 327.4489,-181.4308\"/>\n",
       "<polygon fill=\"#000000\" stroke=\"#000000\" points=\"328.6405,-178.1351 318.0656,-177.4852 325.9271,-184.5878 328.6405,-178.1351\"/>\n",
       "</g>\n",
       "<!-- 5 -->\n",
       "<g id=\"node6\" class=\"node\">\n",
       "<title>5</title>\n",
       "<path fill=\"#e78945\" stroke=\"#000000\" d=\"M592,-187C592,-187 458,-187 458,-187 452,-187 446,-181 446,-175 446,-175 446,-116 446,-116 446,-110 452,-104 458,-104 458,-104 592,-104 592,-104 598,-104 604,-110 604,-116 604,-116 604,-175 604,-175 604,-181 598,-187 592,-187\"/>\n",
       "<text text-anchor=\"start\" x=\"454\" y=\"-171.8\" font-family=\"Helvetica,sans-Serif\" font-size=\"14.00\" fill=\"#000000\">launch_angle ≤ 23.636</text>\n",
       "<text text-anchor=\"start\" x=\"488.5\" y=\"-156.8\" font-family=\"Helvetica,sans-Serif\" font-size=\"14.00\" fill=\"#000000\">gini = 0.107</text>\n",
       "<text text-anchor=\"start\" x=\"471\" y=\"-141.8\" font-family=\"Helvetica,sans-Serif\" font-size=\"14.00\" fill=\"#000000\">samples = 25261</text>\n",
       "<text text-anchor=\"start\" x=\"457\" y=\"-126.8\" font-family=\"Helvetica,sans-Serif\" font-size=\"14.00\" fill=\"#000000\">value = [37776, 2260]</text>\n",
       "<text text-anchor=\"start\" x=\"480\" y=\"-111.8\" font-family=\"Helvetica,sans-Serif\" font-size=\"14.00\" fill=\"#000000\">class = No HR</text>\n",
       "</g>\n",
       "<!-- 1&#45;&gt;5 -->\n",
       "<g id=\"edge5\" class=\"edge\">\n",
       "<title>1&#45;&gt;5</title>\n",
       "<path fill=\"none\" stroke=\"#000000\" d=\"M525,-222.8796C525,-214.6838 525,-205.9891 525,-197.5013\"/>\n",
       "<polygon fill=\"#000000\" stroke=\"#000000\" points=\"528.5001,-197.298 525,-187.2981 521.5001,-197.2981 528.5001,-197.298\"/>\n",
       "</g>\n",
       "<!-- 3 -->\n",
       "<g id=\"node4\" class=\"node\">\n",
       "<title>3</title>\n",
       "<path fill=\"#e58139\" stroke=\"#000000\" d=\"M140,-68C140,-68 12,-68 12,-68 6,-68 0,-62 0,-56 0,-56 0,-12 0,-12 0,-6 6,0 12,0 12,0 140,0 140,0 146,0 152,-6 152,-12 152,-12 152,-56 152,-56 152,-62 146,-68 140,-68\"/>\n",
       "<text text-anchor=\"start\" x=\"39.5\" y=\"-52.8\" font-family=\"Helvetica,sans-Serif\" font-size=\"14.00\" fill=\"#000000\">gini = 0.001</text>\n",
       "<text text-anchor=\"start\" x=\"18.5\" y=\"-37.8\" font-family=\"Helvetica,sans-Serif\" font-size=\"14.00\" fill=\"#000000\">samples = 101887</text>\n",
       "<text text-anchor=\"start\" x=\"8\" y=\"-22.8\" font-family=\"Helvetica,sans-Serif\" font-size=\"14.00\" fill=\"#000000\">value = [160815, 117]</text>\n",
       "<text text-anchor=\"start\" x=\"31\" y=\"-7.8\" font-family=\"Helvetica,sans-Serif\" font-size=\"14.00\" fill=\"#000000\">class = No HR</text>\n",
       "</g>\n",
       "<!-- 2&#45;&gt;3 -->\n",
       "<g id=\"edge3\" class=\"edge\">\n",
       "<title>2&#45;&gt;3</title>\n",
       "<path fill=\"none\" stroke=\"#000000\" d=\"M180.1877,-103.9815C165.4699,-94.0957 149.7995,-83.5701 135.2019,-73.7651\"/>\n",
       "<polygon fill=\"#000000\" stroke=\"#000000\" points=\"136.9991,-70.7561 126.7463,-68.0856 133.096,-76.5669 136.9991,-70.7561\"/>\n",
       "</g>\n",
       "<!-- 4 -->\n",
       "<g id=\"node5\" class=\"node\">\n",
       "<title>4</title>\n",
       "<path fill=\"#e5833d\" stroke=\"#000000\" d=\"M302,-68C302,-68 182,-68 182,-68 176,-68 170,-62 170,-56 170,-56 170,-12 170,-12 170,-6 176,0 182,0 182,0 302,0 302,0 308,0 314,-6 314,-12 314,-12 314,-56 314,-56 314,-62 308,-68 302,-68\"/>\n",
       "<text text-anchor=\"start\" x=\"205.5\" y=\"-52.8\" font-family=\"Helvetica,sans-Serif\" font-size=\"14.00\" fill=\"#000000\">gini = 0.037</text>\n",
       "<text text-anchor=\"start\" x=\"188\" y=\"-37.8\" font-family=\"Helvetica,sans-Serif\" font-size=\"14.00\" fill=\"#000000\">samples = 11959</text>\n",
       "<text text-anchor=\"start\" x=\"178\" y=\"-22.8\" font-family=\"Helvetica,sans-Serif\" font-size=\"14.00\" fill=\"#000000\">value = [18622, 357]</text>\n",
       "<text text-anchor=\"start\" x=\"197\" y=\"-7.8\" font-family=\"Helvetica,sans-Serif\" font-size=\"14.00\" fill=\"#000000\">class = No HR</text>\n",
       "</g>\n",
       "<!-- 2&#45;&gt;4 -->\n",
       "<g id=\"edge4\" class=\"edge\">\n",
       "<title>2&#45;&gt;4</title>\n",
       "<path fill=\"none\" stroke=\"#000000\" d=\"M242,-103.9815C242,-95.618 242,-86.7965 242,-78.3409\"/>\n",
       "<polygon fill=\"#000000\" stroke=\"#000000\" points=\"245.5001,-78.2636 242,-68.2637 238.5001,-78.2637 245.5001,-78.2636\"/>\n",
       "</g>\n",
       "<!-- 6 -->\n",
       "<g id=\"node7\" class=\"node\">\n",
       "<title>6</title>\n",
       "<path fill=\"#e5823a\" stroke=\"#000000\" d=\"M464,-68C464,-68 344,-68 344,-68 338,-68 332,-62 332,-56 332,-56 332,-12 332,-12 332,-6 338,0 344,0 344,0 464,0 464,0 470,0 476,-6 476,-12 476,-12 476,-56 476,-56 476,-62 470,-68 464,-68\"/>\n",
       "<text text-anchor=\"start\" x=\"367.5\" y=\"-52.8\" font-family=\"Helvetica,sans-Serif\" font-size=\"14.00\" fill=\"#000000\">gini = 0.009</text>\n",
       "<text text-anchor=\"start\" x=\"350\" y=\"-37.8\" font-family=\"Helvetica,sans-Serif\" font-size=\"14.00\" fill=\"#000000\">samples = 17915</text>\n",
       "<text text-anchor=\"start\" x=\"340\" y=\"-22.8\" font-family=\"Helvetica,sans-Serif\" font-size=\"14.00\" fill=\"#000000\">value = [28220, 127]</text>\n",
       "<text text-anchor=\"start\" x=\"359\" y=\"-7.8\" font-family=\"Helvetica,sans-Serif\" font-size=\"14.00\" fill=\"#000000\">class = No HR</text>\n",
       "</g>\n",
       "<!-- 5&#45;&gt;6 -->\n",
       "<g id=\"edge6\" class=\"edge\">\n",
       "<title>5&#45;&gt;6</title>\n",
       "<path fill=\"none\" stroke=\"#000000\" d=\"M479.9441,-103.9815C469.7709,-94.607 458.9733,-84.6572 448.8102,-75.2921\"/>\n",
       "<polygon fill=\"#000000\" stroke=\"#000000\" points=\"450.9087,-72.4663 441.183,-68.2637 446.1651,-77.6141 450.9087,-72.4663\"/>\n",
       "</g>\n",
       "<!-- 7 -->\n",
       "<g id=\"node8\" class=\"node\">\n",
       "<title>7</title>\n",
       "<path fill=\"#eb9d65\" stroke=\"#000000\" d=\"M626,-68C626,-68 506,-68 506,-68 500,-68 494,-62 494,-56 494,-56 494,-12 494,-12 494,-6 500,0 506,0 506,0 626,0 626,0 632,0 638,-6 638,-12 638,-12 638,-56 638,-56 638,-62 632,-68 626,-68\"/>\n",
       "<text text-anchor=\"start\" x=\"529.5\" y=\"-52.8\" font-family=\"Helvetica,sans-Serif\" font-size=\"14.00\" fill=\"#000000\">gini = 0.298</text>\n",
       "<text text-anchor=\"start\" x=\"516\" y=\"-37.8\" font-family=\"Helvetica,sans-Serif\" font-size=\"14.00\" fill=\"#000000\">samples = 7346</text>\n",
       "<text text-anchor=\"start\" x=\"502\" y=\"-22.8\" font-family=\"Helvetica,sans-Serif\" font-size=\"14.00\" fill=\"#000000\">value = [9556, 2133]</text>\n",
       "<text text-anchor=\"start\" x=\"521\" y=\"-7.8\" font-family=\"Helvetica,sans-Serif\" font-size=\"14.00\" fill=\"#000000\">class = No HR</text>\n",
       "</g>\n",
       "<!-- 5&#45;&gt;7 -->\n",
       "<g id=\"edge7\" class=\"edge\">\n",
       "<title>5&#45;&gt;7</title>\n",
       "<path fill=\"none\" stroke=\"#000000\" d=\"M540.2669,-103.9815C543.4098,-95.4342 546.7287,-86.4086 549.9001,-77.7839\"/>\n",
       "<polygon fill=\"#000000\" stroke=\"#000000\" points=\"553.2345,-78.8572 553.4008,-68.2637 546.6646,-76.4413 553.2345,-78.8572\"/>\n",
       "</g>\n",
       "<!-- 9 -->\n",
       "<g id=\"node10\" class=\"node\">\n",
       "<title>9</title>\n",
       "<path fill=\"#e99457\" stroke=\"#000000\" d=\"M836,-187C836,-187 702,-187 702,-187 696,-187 690,-181 690,-175 690,-175 690,-116 690,-116 690,-110 696,-104 702,-104 702,-104 836,-104 836,-104 842,-104 848,-110 848,-116 848,-116 848,-175 848,-175 848,-181 842,-187 836,-187\"/>\n",
       "<text text-anchor=\"start\" x=\"698\" y=\"-171.8\" font-family=\"Helvetica,sans-Serif\" font-size=\"14.00\" fill=\"#000000\">launch_angle ≤ 21.878</text>\n",
       "<text text-anchor=\"start\" x=\"732.5\" y=\"-156.8\" font-family=\"Helvetica,sans-Serif\" font-size=\"14.00\" fill=\"#000000\">gini = 0.227</text>\n",
       "<text text-anchor=\"start\" x=\"715\" y=\"-141.8\" font-family=\"Helvetica,sans-Serif\" font-size=\"14.00\" fill=\"#000000\">samples = 11170</text>\n",
       "<text text-anchor=\"start\" x=\"701\" y=\"-126.8\" font-family=\"Helvetica,sans-Serif\" font-size=\"14.00\" fill=\"#000000\">value = [15389, 2314]</text>\n",
       "<text text-anchor=\"start\" x=\"724\" y=\"-111.8\" font-family=\"Helvetica,sans-Serif\" font-size=\"14.00\" fill=\"#000000\">class = No HR</text>\n",
       "</g>\n",
       "<!-- 8&#45;&gt;9 -->\n",
       "<g id=\"edge9\" class=\"edge\">\n",
       "<title>8&#45;&gt;9</title>\n",
       "<path fill=\"none\" stroke=\"#000000\" d=\"M769,-222.8796C769,-214.6838 769,-205.9891 769,-197.5013\"/>\n",
       "<polygon fill=\"#000000\" stroke=\"#000000\" points=\"772.5001,-197.298 769,-187.2981 765.5001,-197.2981 772.5001,-197.298\"/>\n",
       "</g>\n",
       "<!-- 12 -->\n",
       "<g id=\"node13\" class=\"node\">\n",
       "<title>12</title>\n",
       "<path fill=\"#eca16c\" stroke=\"#000000\" d=\"M1119,-187C1119,-187 985,-187 985,-187 979,-187 973,-181 973,-175 973,-175 973,-116 973,-116 973,-110 979,-104 985,-104 985,-104 1119,-104 1119,-104 1125,-104 1131,-110 1131,-116 1131,-116 1131,-175 1131,-175 1131,-181 1125,-187 1119,-187\"/>\n",
       "<text text-anchor=\"start\" x=\"981\" y=\"-171.8\" font-family=\"Helvetica,sans-Serif\" font-size=\"14.00\" fill=\"#000000\">launch_angle ≤ 19.944</text>\n",
       "<text text-anchor=\"start\" x=\"1015.5\" y=\"-156.8\" font-family=\"Helvetica,sans-Serif\" font-size=\"14.00\" fill=\"#000000\">gini = 0.325</text>\n",
       "<text text-anchor=\"start\" x=\"998\" y=\"-141.8\" font-family=\"Helvetica,sans-Serif\" font-size=\"14.00\" fill=\"#000000\">samples = 20362</text>\n",
       "<text text-anchor=\"start\" x=\"984\" y=\"-126.8\" font-family=\"Helvetica,sans-Serif\" font-size=\"14.00\" fill=\"#000000\">value = [25831, 6612]</text>\n",
       "<text text-anchor=\"start\" x=\"1007\" y=\"-111.8\" font-family=\"Helvetica,sans-Serif\" font-size=\"14.00\" fill=\"#000000\">class = No HR</text>\n",
       "</g>\n",
       "<!-- 8&#45;&gt;12 -->\n",
       "<g id=\"edge12\" class=\"edge\">\n",
       "<title>8&#45;&gt;12</title>\n",
       "<path fill=\"none\" stroke=\"#000000\" d=\"M845.2111,-232.4536C881.5832,-217.1594 925.3267,-198.7654 963.1956,-182.8418\"/>\n",
       "<polygon fill=\"#000000\" stroke=\"#000000\" points=\"964.8272,-185.9526 972.6887,-178.85 962.1138,-179.4999 964.8272,-185.9526\"/>\n",
       "</g>\n",
       "<!-- 10 -->\n",
       "<g id=\"node11\" class=\"node\">\n",
       "<title>10</title>\n",
       "<path fill=\"#e5823b\" stroke=\"#000000\" d=\"M788,-68C788,-68 668,-68 668,-68 662,-68 656,-62 656,-56 656,-56 656,-12 656,-12 656,-6 662,0 668,0 668,0 788,0 788,0 794,0 800,-6 800,-12 800,-12 800,-56 800,-56 800,-62 794,-68 788,-68\"/>\n",
       "<text text-anchor=\"start\" x=\"691.5\" y=\"-52.8\" font-family=\"Helvetica,sans-Serif\" font-size=\"14.00\" fill=\"#000000\">gini = 0.017</text>\n",
       "<text text-anchor=\"start\" x=\"678\" y=\"-37.8\" font-family=\"Helvetica,sans-Serif\" font-size=\"14.00\" fill=\"#000000\">samples = 8165</text>\n",
       "<text text-anchor=\"start\" x=\"664\" y=\"-22.8\" font-family=\"Helvetica,sans-Serif\" font-size=\"14.00\" fill=\"#000000\">value = [12839, 108]</text>\n",
       "<text text-anchor=\"start\" x=\"683\" y=\"-7.8\" font-family=\"Helvetica,sans-Serif\" font-size=\"14.00\" fill=\"#000000\">class = No HR</text>\n",
       "</g>\n",
       "<!-- 9&#45;&gt;10 -->\n",
       "<g id=\"edge10\" class=\"edge\">\n",
       "<title>9&#45;&gt;10</title>\n",
       "<path fill=\"none\" stroke=\"#000000\" d=\"M753.7331,-103.9815C750.5902,-95.4342 747.2713,-86.4086 744.0999,-77.7839\"/>\n",
       "<polygon fill=\"#000000\" stroke=\"#000000\" points=\"747.3354,-76.4413 740.5992,-68.2637 740.7655,-78.8572 747.3354,-76.4413\"/>\n",
       "</g>\n",
       "<!-- 11 -->\n",
       "<g id=\"node12\" class=\"node\">\n",
       "<title>11</title>\n",
       "<path fill=\"#fbeee4\" stroke=\"#000000\" d=\"M950,-68C950,-68 830,-68 830,-68 824,-68 818,-62 818,-56 818,-56 818,-12 818,-12 818,-6 824,0 830,0 830,0 950,0 950,0 956,0 962,-6 962,-12 962,-12 962,-56 962,-56 962,-62 956,-68 950,-68\"/>\n",
       "<text text-anchor=\"start\" x=\"853.5\" y=\"-52.8\" font-family=\"Helvetica,sans-Serif\" font-size=\"14.00\" fill=\"#000000\">gini = 0.497</text>\n",
       "<text text-anchor=\"start\" x=\"840\" y=\"-37.8\" font-family=\"Helvetica,sans-Serif\" font-size=\"14.00\" fill=\"#000000\">samples = 3005</text>\n",
       "<text text-anchor=\"start\" x=\"826\" y=\"-22.8\" font-family=\"Helvetica,sans-Serif\" font-size=\"14.00\" fill=\"#000000\">value = [2550, 2206]</text>\n",
       "<text text-anchor=\"start\" x=\"845\" y=\"-7.8\" font-family=\"Helvetica,sans-Serif\" font-size=\"14.00\" fill=\"#000000\">class = No HR</text>\n",
       "</g>\n",
       "<!-- 9&#45;&gt;11 -->\n",
       "<g id=\"edge11\" class=\"edge\">\n",
       "<title>9&#45;&gt;11</title>\n",
       "<path fill=\"none\" stroke=\"#000000\" d=\"M814.0559,-103.9815C824.2291,-94.607 835.0267,-84.6572 845.1898,-75.2921\"/>\n",
       "<polygon fill=\"#000000\" stroke=\"#000000\" points=\"847.8349,-77.6141 852.817,-68.2637 843.0913,-72.4663 847.8349,-77.6141\"/>\n",
       "</g>\n",
       "<!-- 13 -->\n",
       "<g id=\"node14\" class=\"node\">\n",
       "<title>13</title>\n",
       "<path fill=\"#e5833d\" stroke=\"#000000\" d=\"M1112,-68C1112,-68 992,-68 992,-68 986,-68 980,-62 980,-56 980,-56 980,-12 980,-12 980,-6 986,0 992,0 992,0 1112,0 1112,0 1118,0 1124,-6 1124,-12 1124,-12 1124,-56 1124,-56 1124,-62 1118,-68 1112,-68\"/>\n",
       "<text text-anchor=\"start\" x=\"1015.5\" y=\"-52.8\" font-family=\"Helvetica,sans-Serif\" font-size=\"14.00\" fill=\"#000000\">gini = 0.036</text>\n",
       "<text text-anchor=\"start\" x=\"998\" y=\"-37.8\" font-family=\"Helvetica,sans-Serif\" font-size=\"14.00\" fill=\"#000000\">samples = 15175</text>\n",
       "<text text-anchor=\"start\" x=\"988\" y=\"-22.8\" font-family=\"Helvetica,sans-Serif\" font-size=\"14.00\" fill=\"#000000\">value = [23743, 448]</text>\n",
       "<text text-anchor=\"start\" x=\"1007\" y=\"-7.8\" font-family=\"Helvetica,sans-Serif\" font-size=\"14.00\" fill=\"#000000\">class = No HR</text>\n",
       "</g>\n",
       "<!-- 12&#45;&gt;13 -->\n",
       "<g id=\"edge13\" class=\"edge\">\n",
       "<title>12&#45;&gt;13</title>\n",
       "<path fill=\"none\" stroke=\"#000000\" d=\"M1052,-103.9815C1052,-95.618 1052,-86.7965 1052,-78.3409\"/>\n",
       "<polygon fill=\"#000000\" stroke=\"#000000\" points=\"1055.5001,-78.2636 1052,-68.2637 1048.5001,-78.2637 1055.5001,-78.2636\"/>\n",
       "</g>\n",
       "<!-- 14 -->\n",
       "<g id=\"node15\" class=\"node\">\n",
       "<title>14</title>\n",
       "<path fill=\"#7cbeee\" stroke=\"#000000\" d=\"M1274,-68C1274,-68 1154,-68 1154,-68 1148,-68 1142,-62 1142,-56 1142,-56 1142,-12 1142,-12 1142,-6 1148,0 1154,0 1154,0 1274,0 1274,0 1280,0 1286,-6 1286,-12 1286,-12 1286,-56 1286,-56 1286,-62 1280,-68 1274,-68\"/>\n",
       "<text text-anchor=\"start\" x=\"1177.5\" y=\"-52.8\" font-family=\"Helvetica,sans-Serif\" font-size=\"14.00\" fill=\"#000000\">gini = 0.378</text>\n",
       "<text text-anchor=\"start\" x=\"1164\" y=\"-37.8\" font-family=\"Helvetica,sans-Serif\" font-size=\"14.00\" fill=\"#000000\">samples = 5187</text>\n",
       "<text text-anchor=\"start\" x=\"1150\" y=\"-22.8\" font-family=\"Helvetica,sans-Serif\" font-size=\"14.00\" fill=\"#000000\">value = [2088, 6164]</text>\n",
       "<text text-anchor=\"start\" x=\"1179.5\" y=\"-7.8\" font-family=\"Helvetica,sans-Serif\" font-size=\"14.00\" fill=\"#000000\">class = HR</text>\n",
       "</g>\n",
       "<!-- 12&#45;&gt;14 -->\n",
       "<g id=\"edge14\" class=\"edge\">\n",
       "<title>12&#45;&gt;14</title>\n",
       "<path fill=\"none\" stroke=\"#000000\" d=\"M1112.3228,-103.9815C1126.686,-94.0957 1141.9788,-83.5701 1156.2247,-73.7651\"/>\n",
       "<polygon fill=\"#000000\" stroke=\"#000000\" points=\"1158.2234,-76.6384 1164.4765,-68.0856 1154.2546,-70.8722 1158.2234,-76.6384\"/>\n",
       "</g>\n",
       "</g>\n",
       "</svg>\n"
      ],
      "text/plain": [
       "<graphviz.files.Source at 0x14694bc10>"
      ]
     },
     "execution_count": 86,
     "metadata": {},
     "output_type": "execute_result"
    }
   ],
   "source": [
    "# Visualize decision tree\n",
    "# Verbatim DOT source code string to be rendered by Graphviz\n",
    "graph = graphviz.Source(dot_data)  \n",
    "graph "
   ]
  },
  {
   "cell_type": "code",
   "execution_count": 87,
   "metadata": {},
   "outputs": [
    {
     "data": {
      "text/plain": [
       "'hr.pdf'"
      ]
     },
     "execution_count": 87,
     "metadata": {},
     "output_type": "execute_result"
    }
   ],
   "source": [
    "# Save the source to file and render with the Graphviz engine\n",
    "# Note: view (bool): Open the rendered result with the default application\n",
    "graph.render('hr', view=False)"
   ]
  },
  {
   "cell_type": "markdown",
   "metadata": {},
   "source": [
    "Note: Not needed anymore because 'graph.render' saves the source file after rendering"
   ]
  },
  {
   "cell_type": "code",
   "execution_count": 88,
   "metadata": {},
   "outputs": [],
   "source": [
    "#with open('hr_classifier.txt', 'w') as f:\n",
    "#    f = export_graphviz(estimator, out_file=f,\n",
    "#                        feature_names=feature_cols,\n",
    "#                        class_names=['No HR', 'HR'],\n",
    "#                        filled=True, rounded=True,\n",
    "#                        special_characters=True)"
   ]
  },
  {
   "cell_type": "markdown",
   "metadata": {},
   "source": [
    "----------------------------------------------------------------------------------------------------------------------"
   ]
  },
  {
   "cell_type": "markdown",
   "metadata": {},
   "source": [
    "### Building Phase"
   ]
  },
  {
   "cell_type": "markdown",
   "metadata": {},
   "source": [
    "#### Predicting XBHs"
   ]
  },
  {
   "cell_type": "code",
   "execution_count": 89,
   "metadata": {},
   "outputs": [],
   "source": [
    "# Create a list of features\n",
    "feature_cols = ['pitch_name_num', 'pitch_velocity', 'exit_velocity', 'launch_angle']"
   ]
  },
  {
   "cell_type": "code",
   "execution_count": 90,
   "metadata": {},
   "outputs": [],
   "source": [
    "# Create X and y\n",
    "X = all_MLB_teams2015_2017_new[feature_cols]\n",
    "y = all_MLB_teams2015_2017_new.xbh"
   ]
  },
  {
   "cell_type": "code",
   "execution_count": 91,
   "metadata": {},
   "outputs": [],
   "source": [
    "# Split X and y into training and testing sets\n",
    "# Note: train_size: between 0.0 and 1.0 and represent the proportion of the dataset to include in the train split\n",
    "#       test_size: between 0.0 and 1.0 and represent the proportion of the dataset to include in the test split\n",
    "#       random_state: the seed used by the random number generator\n",
    "X_train, X_test, y_train, y_test = train_test_split(X, y, train_size=0.70, test_size=0.30, random_state=65)"
   ]
  },
  {
   "cell_type": "markdown",
   "metadata": {},
   "source": [
    "#### Compute Baseline Accuracy\n",
    "https://machinelearningmastery.com/how-to-get-baseline-results-and-why-they-matter/"
   ]
  },
  {
   "cell_type": "code",
   "execution_count": 92,
   "metadata": {},
   "outputs": [
    {
     "name": "stdout",
     "output_type": "stream",
     "text": [
      "0    239411\n",
      "1     30682\n",
      "Name: xbh, dtype: int64\n",
      "\n",
      "Most frequent class in training dataset: 0\n",
      "\n",
      "Baseline accuracy in test dataset: 0.885\n",
      "Baseline accuracy in test dataset: 0.885\n"
     ]
    }
   ],
   "source": [
    "# Categorical column frequency\n",
    "# Returns counts of unique values in descending order (first element is the most frequently-occurring element)\n",
    "# Note: Excludes NA values by default\n",
    "print(y_train.value_counts())\n",
    "print()\n",
    "\n",
    "most_freq_class = y_train.value_counts().index[0]\n",
    "print('Most frequent class in training dataset:', most_freq_class)\n",
    "print()\n",
    "\n",
    "print('Baseline accuracy in test dataset:', round(y_test.value_counts()[most_freq_class] / y_test.count(), 3))\n",
    "\n",
    "# Instantiate a classifier that makes predictions using simple rules and fit dummy classifier\n",
    "# Note: stragegy: strategy to use to generate predictions\n",
    "#       random_state: the seed used by the random number generator\n",
    "dummy_clf = DummyClassifier(strategy='most_frequent', random_state=0)\n",
    "dummy_clf.fit(X_train, y_train)\n",
    "dummy_clf.score(X_test, y_test)\n",
    "print('Baseline accuracy in test dataset:', round(dummy_clf.score(X_test, y_test), 3))"
   ]
  },
  {
   "cell_type": "markdown",
   "metadata": {},
   "source": [
    "Note: Creating train/test as arrays for purpose of running code below: 'Understanding a single decision tree structure from a random forest'. DataFrames do not work for this code."
   ]
  },
  {
   "cell_type": "code",
   "execution_count": 93,
   "metadata": {},
   "outputs": [],
   "source": [
    "X_train = X_train.values\n",
    "X_test = X_test.values\n",
    "y_train = y_train.values\n",
    "y_test = y_test.values"
   ]
  },
  {
   "cell_type": "markdown",
   "metadata": {},
   "source": [
    "#### Perform training with Gini Index criteria"
   ]
  },
  {
   "cell_type": "code",
   "execution_count": 94,
   "metadata": {},
   "outputs": [
    {
     "data": {
      "text/plain": [
       "RandomForestClassifier(bootstrap=True, ccp_alpha=0.0, class_weight=None,\n",
       "                       criterion='gini', max_depth=3, max_features='auto',\n",
       "                       max_leaf_nodes=None, max_samples=None,\n",
       "                       min_impurity_decrease=0.0, min_impurity_split=None,\n",
       "                       min_samples_leaf=1, min_samples_split=2,\n",
       "                       min_weight_fraction_leaf=0.0, n_estimators=100,\n",
       "                       n_jobs=None, oob_score=False, random_state=46, verbose=0,\n",
       "                       warm_start=False)"
      ]
     },
     "execution_count": 94,
     "metadata": {},
     "output_type": "execute_result"
    }
   ],
   "source": [
    "# Instantiate a random forest classifier and build a forest of trees from the training set (X, y)\n",
    "# Note: n_estimators: number of trees in the forest\n",
    "#       criterion: function to measure the quality of a split; supported criteria are \"gini\" for the Gini impurity \n",
    "#                  and \"entropy\" for the information gain\n",
    "#       max_depth: maximum depth of the tree; if None, then nodes are expanded until all leaves are pure or \n",
    "#                  until all leaves contain less than min_samples_split samples\n",
    "#       random_state: the seed used by the random number generator\n",
    "rf_gini = RandomForestClassifier(n_estimators=100, criterion='gini', max_depth=3, random_state=46)\n",
    "rf_gini.fit(X_train, y_train)"
   ]
  },
  {
   "cell_type": "code",
   "execution_count": 95,
   "metadata": {},
   "outputs": [],
   "source": [
    "# Predicted class value for X using random forest classifier\n",
    "# Note: The predicted class of an input sample is a vote by the trees in the forest, weighted by their probability \n",
    "#       estimates. That is, the predicted class is the one with highest mean probability estimate across the trees\n",
    "#y_pred_class = rf_gini.predict(X_test)\n",
    "#y_pred_class"
   ]
  },
  {
   "cell_type": "code",
   "execution_count": 96,
   "metadata": {},
   "outputs": [],
   "source": [
    "# Predicted class probability estimates of the input samples X\n",
    "# Note: The predicted class probabilities of an input sample are computed as the mean predicted class probabilities\n",
    "#       of the trees in the forest. The class probability of a single tree is the fraction of samples of the same class in a leaf\n",
    "#y_pred_prob = rf_gini.predict_proba(X_test)[:, 1]\n",
    "#y_pred_prob = rf_gini.predict_proba(X_test)\n",
    "#y_pred_prob"
   ]
  },
  {
   "cell_type": "markdown",
   "metadata": {},
   "source": [
    "#### Perform training with “entropy” criteria for Information Gain"
   ]
  },
  {
   "cell_type": "code",
   "execution_count": 97,
   "metadata": {},
   "outputs": [
    {
     "data": {
      "text/plain": [
       "RandomForestClassifier(bootstrap=True, ccp_alpha=0.0, class_weight=None,\n",
       "                       criterion='entropy', max_depth=3, max_features='auto',\n",
       "                       max_leaf_nodes=None, max_samples=None,\n",
       "                       min_impurity_decrease=0.0, min_impurity_split=None,\n",
       "                       min_samples_leaf=1, min_samples_split=2,\n",
       "                       min_weight_fraction_leaf=0.0, n_estimators=100,\n",
       "                       n_jobs=None, oob_score=False, random_state=46, verbose=0,\n",
       "                       warm_start=False)"
      ]
     },
     "execution_count": 97,
     "metadata": {},
     "output_type": "execute_result"
    }
   ],
   "source": [
    "# Instantiate a random forest classifier and build a forest of trees from the training set (X, y)\n",
    "# Note: n_estimators: number of trees in the forest\n",
    "#       criterion: function to measure the quality of a split; supported criteria are \"gini\" for the Gini impurity \n",
    "#                  and \"entropy\" for the information gain\n",
    "#       max_depth: maximum depth of the tree; if None, then nodes are expanded until all leaves are pure or \n",
    "#                  until all leaves contain less than min_samples_split samples\n",
    "#       random_state: the seed used by the random number generator\n",
    "rf_entropy = RandomForestClassifier(n_estimators=100, criterion='entropy', max_depth=3, random_state=46)\n",
    "rf_entropy.fit(X_train, y_train)"
   ]
  },
  {
   "cell_type": "code",
   "execution_count": 98,
   "metadata": {},
   "outputs": [],
   "source": [
    "# Predicted class value for X using random forest classifier\n",
    "# Note: The predicted class of an input sample is a vote by the trees in the forest, weighted by their probability \n",
    "#       estimates. That is, the predicted class is the one with highest mean probability estimate across the trees\n",
    "#y_pred_class = rf_entropy.predict(X_test)\n",
    "#y_pred_class"
   ]
  },
  {
   "cell_type": "code",
   "execution_count": 99,
   "metadata": {},
   "outputs": [],
   "source": [
    "# Predicted class probability estimates of the input samples X\n",
    "# Note: The predicted class probabilities of an input sample are computed as the mean predicted class probabilities\n",
    "#       of the trees in the forest. The class probability of a single tree is the fraction of samples of the same class in a leaf\n",
    "#y_pred_prob = rf_entropy.predict_proba(X_test)[:, 1]\n",
    "#y_pred_prob = rf_entropy.predict_proba(X_test)\n",
    "#y_pred_prob"
   ]
  },
  {
   "cell_type": "markdown",
   "metadata": {},
   "source": [
    "### Operational Phase"
   ]
  },
  {
   "cell_type": "code",
   "execution_count": 100,
   "metadata": {},
   "outputs": [],
   "source": [
    "# Function to make predictions \n",
    "def prediction(X_test, clf_object): \n",
    "  \n",
    "    # Predict the class labels using the classifier model\n",
    "    y_pred_class = clf_object.predict(X_test)\n",
    "\n",
    "    print('Predicted values:')\n",
    "    print(y_pred_class)\n",
    "    print('')\n",
    "    return y_pred_class"
   ]
  },
  {
   "cell_type": "code",
   "execution_count": 101,
   "metadata": {},
   "outputs": [],
   "source": [
    "# Function to calculate accuracy\n",
    "def cal_accuracy(y_test, y_pred_class, clf_object):\n",
    "      \n",
    "    # Training accuracy classification score\n",
    "    print('Training accuracy score:', round(metrics.accuracy_score(y_train, clf_object.predict(X_train)), 4))\n",
    "    \n",
    "    # Testing accuracy classification score\n",
    "    print('Testing accuracy score :', round(metrics.accuracy_score(y_test, y_pred_class), 4))\n",
    "    \n",
    "    if metrics.accuracy_score(y_train, clf_object.predict(X_train)) < metrics.accuracy_score(y_test, y_pred_class):\n",
    "        print('Testing accuracy > Training accuracy')\n",
    "        print('-> Not overfitting')\n",
    "    else:\n",
    "        print('Testing accuracy < Training accuracy')\n",
    "        print('-> Overfitting!')\n",
    "    print('')\n",
    "    \n",
    "    # Confusion matrix to evaluate the accuracy of a classification\n",
    "    print('Confusion Matrix:')\n",
    "    conmat = metrics.confusion_matrix(y_test, y_pred_class)\n",
    "    print(pd.DataFrame(conmat,\n",
    "                       index=['True No XBH', 'True XBH'],\n",
    "                       columns=['Predicted No XBH', 'Predicted XBH']))\n",
    "    print('')\n",
    "    \n",
    "    # Build a text report showing the main classification metrics\n",
    "    print('Classification Report:')\n",
    "    print(metrics.classification_report(y_test, y_pred_class))\n",
    "    print('')\n",
    "    \n",
    "    # Area Under the Receiver Operating Characteristic Curve (ROC AUC)\n",
    "    print('ROC AUC:', round(metrics.roc_auc_score(y_test, y_pred_class), 3))\n",
    "    print('')\n",
    "    \n",
    "    # Log loss, aka logistic loss or cross-entropy loss\n",
    "    print('Log loss:', round(metrics.log_loss(y_test, y_pred_class), 3))"
   ]
  },
  {
   "cell_type": "markdown",
   "metadata": {},
   "source": [
    "#### Prediction using Gini Index criteria"
   ]
  },
  {
   "cell_type": "code",
   "execution_count": 102,
   "metadata": {},
   "outputs": [
    {
     "name": "stdout",
     "output_type": "stream",
     "text": [
      "Results Using Gini Index:\n",
      "Predicted values:\n",
      "[0 0 0 ... 0 0 0]\n",
      "\n",
      "Training accuracy score: 0.9145\n",
      "Testing accuracy score : 0.9122\n",
      "Testing accuracy < Training accuracy\n",
      "-> Overfitting!\n",
      "\n",
      "Confusion Matrix:\n",
      "             Predicted No XBH  Predicted XBH\n",
      "True No XBH            101458            955\n",
      "True XBH                 9213           4129\n",
      "\n",
      "Classification Report:\n",
      "              precision    recall  f1-score   support\n",
      "\n",
      "           0       0.92      0.99      0.95    102413\n",
      "           1       0.81      0.31      0.45     13342\n",
      "\n",
      "    accuracy                           0.91    115755\n",
      "   macro avg       0.86      0.65      0.70    115755\n",
      "weighted avg       0.90      0.91      0.89    115755\n",
      "\n",
      "\n",
      "ROC AUC: 0.65\n",
      "\n",
      "Log loss: 3.034\n"
     ]
    }
   ],
   "source": [
    "print('Results Using Gini Index:')\n",
    "y_pred_gini = prediction(X_test, rf_gini)\n",
    "cal_accuracy(y_test, y_pred_gini, rf_gini)"
   ]
  },
  {
   "cell_type": "markdown",
   "metadata": {},
   "source": [
    "#### Plot Receiver Operating Characteristic (ROC) Curve\n",
    "https://machinelearningmastery.com/roc-curves-and-precision-recall-curves-for-classification-in-python/"
   ]
  },
  {
   "cell_type": "code",
   "execution_count": 103,
   "metadata": {},
   "outputs": [
    {
     "data": {
      "image/png": "[encoded data removed]",
      "text/plain": [
       "<Figure size 864x576 with 1 Axes>"
      ]
     },
     "metadata": {
      "needs_background": "light"
     },
     "output_type": "display_data"
    }
   ],
   "source": [
    "roc_auc = metrics.roc_auc_score(y_test, rf_gini.predict(X_test))\n",
    "fpr, tpr, thresholds = metrics.roc_curve(y_test, rf_gini.predict_proba(X_test)[:, 1])\n",
    "\n",
    "plt.title('Receiver Operating Characteristic')\n",
    "plt.plot(fpr, tpr, label='AUC = %0.3f' % roc_auc)\n",
    "plt.legend(loc='lower right')\n",
    "plt.plot([0, 1], [0, 1], 'r--')\n",
    "plt.xlim([0.0, 1.0])\n",
    "plt.ylim([0.0, 1.05])\n",
    "plt.xlabel('False Positive Rate')\n",
    "plt.ylabel('True Positive Rate')\n",
    "plt.show()"
   ]
  },
  {
   "cell_type": "markdown",
   "metadata": {},
   "source": [
    "#### Plot Precision-Recall Curve"
   ]
  },
  {
   "cell_type": "code",
   "execution_count": 104,
   "metadata": {},
   "outputs": [
    {
     "name": "stdout",
     "output_type": "stream",
     "text": [
      "Average precision-recall score: 0.622\n"
     ]
    }
   ],
   "source": [
    "# Compute the average precision score\n",
    "average_precision = metrics.average_precision_score(y_test, rf_gini.predict_proba(X_test)[:, 1])\n",
    "print('Average precision-recall score: {0:0.3f}'.format(average_precision))"
   ]
  },
  {
   "cell_type": "code",
   "execution_count": 105,
   "metadata": {},
   "outputs": [
    {
     "data": {
      "image/png": "[encoded data removed]",
      "text/plain": [
       "<Figure size 864x576 with 1 Axes>"
      ]
     },
     "metadata": {
      "needs_background": "light"
     },
     "output_type": "display_data"
    }
   ],
   "source": [
    "precision, recall, thresholds = metrics.precision_recall_curve(y_test, rf_gini.predict_proba(X_test)[:, 1])\n",
    "no_skill = len(y_test[y_test==1]) / len(y_test)\n",
    "\n",
    "plt.title('2-class Precision-Recall Curve')\n",
    "plt.plot(recall, precision, label='AP = {0:0.3f}'.format(average_precision))\n",
    "plt.plot([0, 1], [no_skill, no_skill], 'r--', label='No Skill')\n",
    "plt.legend()\n",
    "plt.xlabel('Recall')\n",
    "plt.ylabel('Precision')\n",
    "plt.show()"
   ]
  },
  {
   "cell_type": "markdown",
   "metadata": {},
   "source": [
    "#### Prediction using Entropy criteria"
   ]
  },
  {
   "cell_type": "code",
   "execution_count": 106,
   "metadata": {},
   "outputs": [
    {
     "name": "stdout",
     "output_type": "stream",
     "text": [
      "Results Using Entropy:\n",
      "Predicted values:\n",
      "[0 0 0 ... 0 0 0]\n",
      "\n",
      "Training accuracy score: 0.8955\n",
      "Testing accuracy score : 0.8941\n",
      "Testing accuracy < Training accuracy\n",
      "-> Overfitting!\n",
      "\n",
      "Confusion Matrix:\n",
      "             Predicted No XBH  Predicted XBH\n",
      "True No XBH            102189            224\n",
      "True XBH                12039           1303\n",
      "\n",
      "Classification Report:\n",
      "              precision    recall  f1-score   support\n",
      "\n",
      "           0       0.89      1.00      0.94    102413\n",
      "           1       0.85      0.10      0.18     13342\n",
      "\n",
      "    accuracy                           0.89    115755\n",
      "   macro avg       0.87      0.55      0.56    115755\n",
      "weighted avg       0.89      0.89      0.85    115755\n",
      "\n",
      "\n",
      "ROC AUC: 0.548\n",
      "\n",
      "Log loss: 3.659\n"
     ]
    }
   ],
   "source": [
    "print('Results Using Entropy:')\n",
    "y_pred_entropy = prediction(X_test, rf_entropy)\n",
    "cal_accuracy(y_test, y_pred_entropy, rf_entropy)"
   ]
  },
  {
   "cell_type": "markdown",
   "metadata": {},
   "source": [
    "#### Plot Receiver Operating Characteristic (ROC) Curve\n",
    "https://machinelearningmastery.com/roc-curves-and-precision-recall-curves-for-classification-in-python/"
   ]
  },
  {
   "cell_type": "code",
   "execution_count": 107,
   "metadata": {},
   "outputs": [
    {
     "data": {
      "image/png": "[encoded data removed]",
      "text/plain": [
       "<Figure size 864x576 with 1 Axes>"
      ]
     },
     "metadata": {
      "needs_background": "light"
     },
     "output_type": "display_data"
    }
   ],
   "source": [
    "roc_auc = metrics.roc_auc_score(y_test, rf_entropy.predict(X_test))\n",
    "fpr, tpr, thresholds = metrics.roc_curve(y_test, rf_entropy.predict_proba(X_test)[:, 1])\n",
    "\n",
    "plt.title('Receiver Operating Characteristic')\n",
    "plt.plot(fpr, tpr, label='AUC = %0.3f' % roc_auc)\n",
    "plt.legend(loc='lower right')\n",
    "plt.plot([0, 1], [0, 1], 'r--')\n",
    "plt.xlim([0.0, 1.0])\n",
    "plt.ylim([0.0, 1.05])\n",
    "plt.xlabel('False Positive Rate')\n",
    "plt.ylabel('True Positive Rate')\n",
    "plt.show()"
   ]
  },
  {
   "cell_type": "markdown",
   "metadata": {},
   "source": [
    "#### Plot Precision-Recall Curve"
   ]
  },
  {
   "cell_type": "code",
   "execution_count": 108,
   "metadata": {},
   "outputs": [
    {
     "name": "stdout",
     "output_type": "stream",
     "text": [
      "Average precision-recall score: 0.616\n"
     ]
    }
   ],
   "source": [
    "# Compute the average precision score\n",
    "average_precision = metrics.average_precision_score(y_test, rf_entropy.predict_proba(X_test)[:, 1])\n",
    "print('Average precision-recall score: {0:0.3f}'.format(average_precision))"
   ]
  },
  {
   "cell_type": "code",
   "execution_count": 109,
   "metadata": {},
   "outputs": [
    {
     "data": {
      "image/png": "[encoded data removed]",
      "text/plain": [
       "<Figure size 864x576 with 1 Axes>"
      ]
     },
     "metadata": {
      "needs_background": "light"
     },
     "output_type": "display_data"
    }
   ],
   "source": [
    "precision, recall, thresholds = metrics.precision_recall_curve(y_test, rf_entropy.predict_proba(X_test)[:, 1])\n",
    "no_skill = len(y_test[y_test==1]) / len(y_test)\n",
    "\n",
    "plt.title('2-class Precision-Recall Curve')\n",
    "plt.plot(recall, precision, label='AP = {0:0.3f}'.format(average_precision))\n",
    "plt.plot([0, 1], [no_skill, no_skill], 'r--', label='No Skill')\n",
    "plt.legend()\n",
    "plt.xlabel('Recall')\n",
    "plt.ylabel('Precision')\n",
    "plt.show()"
   ]
  },
  {
   "cell_type": "markdown",
   "metadata": {},
   "source": [
    "#### Understanding a single decision tree structure from a random forest\n",
    "With a random forest, every tree will be built differently. Trees will be slightly different from one another!"
   ]
  },
  {
   "cell_type": "code",
   "execution_count": 110,
   "metadata": {},
   "outputs": [],
   "source": [
    "# Extract single tree\n",
    "estimator = rf_gini.estimators_[50]"
   ]
  },
  {
   "cell_type": "code",
   "execution_count": 111,
   "metadata": {},
   "outputs": [
    {
     "name": "stdout",
     "output_type": "stream",
     "text": [
      "The binary tree structure has 15 nodes and has the following tree structure:\n",
      "node=0 test node: go to node 1 if X[:, 2] <= 98.35000228881836 else to node 8.\n",
      "\tnode=1 test node: go to node 2 if X[:, 2] <= 92.64999771118164 else to node 5.\n",
      "\t\tnode=2 test node: go to node 3 if X[:, 3] <= -0.9359999895095825 else to node 4.\n",
      "\t\t\tnode=3 leaf node.\n",
      "\t\t\tnode=4 leaf node.\n",
      "\t\tnode=5 test node: go to node 6 if X[:, 3] <= 9.979499816894531 else to node 7.\n",
      "\t\t\tnode=6 leaf node.\n",
      "\t\t\tnode=7 leaf node.\n",
      "\tnode=8 test node: go to node 9 if X[:, 2] <= 102.75 else to node 12.\n",
      "\t\tnode=9 test node: go to node 10 if X[:, 3] <= 16.39900016784668 else to node 11.\n",
      "\t\t\tnode=10 leaf node.\n",
      "\t\t\tnode=11 leaf node.\n",
      "\t\tnode=12 test node: go to node 13 if X[:, 3] <= 14.10349988937378 else to node 14.\n",
      "\t\t\tnode=13 leaf node.\n",
      "\t\t\tnode=14 leaf node.\n",
      "\n",
      "Rules used to predict sample 0: \n",
      "decision id node 0 : (X_test[0, 2] (= 81.3) <= 98.35000228881836)\n",
      "decision id node 1 : (X_test[0, 2] (= 81.3) <= 92.64999771118164)\n",
      "decision id node 2 : (X_test[0, 3] (= 7.146) > -0.9359999895095825)\n",
      "\n",
      "The following samples [0, 1] share the node [0 1 2] in the tree\n",
      "It is 20.0 % of all nodes.\n"
     ]
    }
   ],
   "source": [
    "# The decision estimator has an attribute called tree_  which stores the entire\n",
    "# tree structure and allows access to low level attributes. The binary tree\n",
    "# tree_ is represented as a number of parallel arrays. The i-th element of each\n",
    "# array holds information about the node `i`. Node 0 is the tree's root. NOTE:\n",
    "# Some of the arrays only apply to either leaves or split nodes, resp. In this\n",
    "# case the values of nodes of the other type are arbitrary!\n",
    "#\n",
    "# Among those arrays, we have:\n",
    "#   - left_child, id of the left child of the node\n",
    "#   - right_child, id of the right child of the node\n",
    "#   - feature, feature used for splitting the node\n",
    "#   - threshold, threshold value at the node\n",
    "#\n",
    "\n",
    "# Using those arrays, we can parse the tree structure:\n",
    "n_nodes = estimator.tree_.node_count\n",
    "children_left = estimator.tree_.children_left\n",
    "children_right = estimator.tree_.children_right\n",
    "feature = estimator.tree_.feature\n",
    "threshold = estimator.tree_.threshold\n",
    "\n",
    "# The tree structure can be traversed to compute various properties such\n",
    "# as the depth of each node and whether or not it is a leaf.\n",
    "node_depth = np.zeros(shape=n_nodes, dtype=np.int64)\n",
    "is_leaves = np.zeros(shape=n_nodes, dtype=bool)\n",
    "stack = [(0, -1)]  # seed is the root node id and its parent depth\n",
    "while len(stack) > 0:\n",
    "    node_id, parent_depth = stack.pop()\n",
    "    node_depth[node_id] = parent_depth + 1\n",
    "\n",
    "    # If we have a test node\n",
    "    if (children_left[node_id] != children_right[node_id]):\n",
    "        stack.append((children_left[node_id], parent_depth + 1))\n",
    "        stack.append((children_right[node_id], parent_depth + 1))\n",
    "    else:\n",
    "        is_leaves[node_id] = True\n",
    "\n",
    "print('The binary tree structure has %s nodes and has '\n",
    "      'the following tree structure:'\n",
    "      % n_nodes)\n",
    "for i in range(n_nodes):\n",
    "    if is_leaves[i]:\n",
    "        print('%snode=%s leaf node.' % (node_depth[i] * '\\t', i))\n",
    "    else:\n",
    "        print('%snode=%s test node: go to node %s if X[:, %s] <= %s else to '\n",
    "              'node %s.'\n",
    "              % (node_depth[i] * '\\t',\n",
    "                 i,\n",
    "                 children_left[i],\n",
    "                 feature[i],\n",
    "                 threshold[i],\n",
    "                 children_right[i],\n",
    "                 ))\n",
    "print()\n",
    "\n",
    "# First let's retrieve the decision path of each sample. The decision_path\n",
    "# method allows to retrieve the node indicator functions. A non zero element of\n",
    "# indicator matrix at the position (i, j) indicates that the sample i goes\n",
    "# through the node j.\n",
    "node_indicator = estimator.decision_path(X_test)\n",
    "\n",
    "# Similarly, we can also have the leaves ids reached by each sample.\n",
    "leave_id = estimator.apply(X_test)\n",
    "\n",
    "# Now, it's possible to get the tests that were used to predict a sample or\n",
    "# a group of samples. First, let's make it for the sample.\n",
    "sample_id = 0\n",
    "node_index = node_indicator.indices[node_indicator.indptr[sample_id]:\n",
    "                                    node_indicator.indptr[sample_id + 1]]\n",
    "\n",
    "print('Rules used to predict sample %s: ' % sample_id)\n",
    "for node_id in node_index:\n",
    "    if leave_id[sample_id] == node_id:\n",
    "        continue\n",
    "\n",
    "    if (X_test[sample_id, feature[node_id]] <= threshold[node_id]):\n",
    "        threshold_sign = '<='\n",
    "    else:\n",
    "        threshold_sign = '>'\n",
    "\n",
    "    print('decision id node %s : (X_test[%s, %s] (= %s) %s %s)'\n",
    "          % (node_id,\n",
    "             sample_id,\n",
    "             feature[node_id],\n",
    "             X_test[sample_id, feature[node_id]],\n",
    "             threshold_sign,\n",
    "             threshold[node_id]))\n",
    "\n",
    "# For a group of samples, we have the following common node.\n",
    "sample_ids = [0, 1]\n",
    "common_nodes = (node_indicator.toarray()[sample_ids].sum(axis=0) ==\n",
    "                len(sample_ids))\n",
    "\n",
    "common_node_id = np.arange(n_nodes)[common_nodes]\n",
    "\n",
    "print('\\nThe following samples %s share the node %s in the tree'\n",
    "      % (sample_ids, common_node_id))\n",
    "print('It is %s %% of all nodes.' % (100 * len(common_node_id) / n_nodes,))"
   ]
  },
  {
   "cell_type": "code",
   "execution_count": 112,
   "metadata": {},
   "outputs": [],
   "source": [
    "# Export a decision tree in DOT format\n",
    "# Generates a GraphViz representation of the decision tree, which is then written into `out_file`\n",
    "# Once exported, graphical renderings can be generated\n",
    "# Note: feature_names: list of strings, optional (default=None); names of each of the features\n",
    "#       class_names: list of strings, bool or None, optional (default=None); names of each of the target classes in \n",
    "#                    ascending numerical order; only relevant for classification and not supported for multi-output\n",
    "dot_data = export_graphviz(estimator, out_file=None,\n",
    "                           feature_names=feature_cols,\n",
    "                           class_names=['No XBH', 'XBH'],\n",
    "                           filled=True, rounded=True,\n",
    "                           special_characters=True)"
   ]
  },
  {
   "cell_type": "code",
   "execution_count": 113,
   "metadata": {},
   "outputs": [
    {
     "data": {
      "image/svg+xml": [
       "<?xml version=\"1.0\" encoding=\"UTF-8\" standalone=\"no\"?>\n",
       "<!DOCTYPE svg PUBLIC \"-//W3C//DTD SVG 1.1//EN\"\n",
       " \"http://www.w3.org/Graphics/SVG/1.1/DTD/svg11.dtd\">\n",
       "<!-- Generated by graphviz version 2.40.1 (20161225.0304)\n",
       " -->\n",
       "<!-- Title: Tree Pages: 1 -->\n",
       "<svg width=\"1326pt\" height=\"433pt\"\n",
       " viewBox=\"0.00 0.00 1326.00 433.00\" xmlns=\"http://www.w3.org/2000/svg\" xmlns:xlink=\"http://www.w3.org/1999/xlink\">\n",
       "<g id=\"graph0\" class=\"graph\" transform=\"scale(1 1) rotate(0) translate(4 429)\">\n",
       "<title>Tree</title>\n",
       "<polygon fill=\"#ffffff\" stroke=\"transparent\" points=\"-4,4 -4,-429 1322,-429 1322,4 -4,4\"/>\n",
       "<!-- 0 -->\n",
       "<g id=\"node1\" class=\"node\">\n",
       "<title>0</title>\n",
       "<path fill=\"#e89153\" stroke=\"#000000\" d=\"M720.5,-425C720.5,-425 577.5,-425 577.5,-425 571.5,-425 565.5,-419 565.5,-413 565.5,-413 565.5,-354 565.5,-354 565.5,-348 571.5,-342 577.5,-342 577.5,-342 720.5,-342 720.5,-342 726.5,-342 732.5,-348 732.5,-354 732.5,-354 732.5,-413 732.5,-413 732.5,-419 726.5,-425 720.5,-425\"/>\n",
       "<text text-anchor=\"start\" x=\"585.5\" y=\"-409.8\" font-family=\"Helvetica,sans-Serif\" font-size=\"14.00\" fill=\"#000000\">exit_velocity ≤ 98.35</text>\n",
       "<text text-anchor=\"start\" x=\"612.5\" y=\"-394.8\" font-family=\"Helvetica,sans-Serif\" font-size=\"14.00\" fill=\"#000000\">gini = 0.203</text>\n",
       "<text text-anchor=\"start\" x=\"591.5\" y=\"-379.8\" font-family=\"Helvetica,sans-Serif\" font-size=\"14.00\" fill=\"#000000\">samples = 170639</text>\n",
       "<text text-anchor=\"start\" x=\"573.5\" y=\"-364.8\" font-family=\"Helvetica,sans-Serif\" font-size=\"14.00\" fill=\"#000000\">value = [239174, 30919]</text>\n",
       "<text text-anchor=\"start\" x=\"599.5\" y=\"-349.8\" font-family=\"Helvetica,sans-Serif\" font-size=\"14.00\" fill=\"#000000\">class = No XBH</text>\n",
       "</g>\n",
       "<!-- 1 -->\n",
       "<g id=\"node2\" class=\"node\">\n",
       "<title>1</title>\n",
       "<path fill=\"#e68843\" stroke=\"#000000\" d=\"M556.5,-306C556.5,-306 413.5,-306 413.5,-306 407.5,-306 401.5,-300 401.5,-294 401.5,-294 401.5,-235 401.5,-235 401.5,-229 407.5,-223 413.5,-223 413.5,-223 556.5,-223 556.5,-223 562.5,-223 568.5,-229 568.5,-235 568.5,-235 568.5,-294 568.5,-294 568.5,-300 562.5,-306 556.5,-306\"/>\n",
       "<text text-anchor=\"start\" x=\"421.5\" y=\"-290.8\" font-family=\"Helvetica,sans-Serif\" font-size=\"14.00\" fill=\"#000000\">exit_velocity ≤ 92.65</text>\n",
       "<text text-anchor=\"start\" x=\"448.5\" y=\"-275.8\" font-family=\"Helvetica,sans-Serif\" font-size=\"14.00\" fill=\"#000000\">gini = 0.095</text>\n",
       "<text text-anchor=\"start\" x=\"427.5\" y=\"-260.8\" font-family=\"Helvetica,sans-Serif\" font-size=\"14.00\" fill=\"#000000\">samples = 129793</text>\n",
       "<text text-anchor=\"start\" x=\"409.5\" y=\"-245.8\" font-family=\"Helvetica,sans-Serif\" font-size=\"14.00\" fill=\"#000000\">value = [195013, 10229]</text>\n",
       "<text text-anchor=\"start\" x=\"435.5\" y=\"-230.8\" font-family=\"Helvetica,sans-Serif\" font-size=\"14.00\" fill=\"#000000\">class = No XBH</text>\n",
       "</g>\n",
       "<!-- 0&#45;&gt;1 -->\n",
       "<g id=\"edge1\" class=\"edge\">\n",
       "<title>0&#45;&gt;1</title>\n",
       "<path fill=\"none\" stroke=\"#000000\" d=\"M591.6408,-341.8796C578.4075,-332.2774 564.2303,-321.9903 550.6736,-312.1534\"/>\n",
       "<polygon fill=\"#000000\" stroke=\"#000000\" points=\"552.4762,-309.1371 542.3269,-306.0969 548.3651,-314.8027 552.4762,-309.1371\"/>\n",
       "<text text-anchor=\"middle\" x=\"546.2528\" y=\"-327.0867\" font-family=\"Helvetica,sans-Serif\" font-size=\"14.00\" fill=\"#000000\">True</text>\n",
       "</g>\n",
       "<!-- 8 -->\n",
       "<g id=\"node9\" class=\"node\">\n",
       "<title>8</title>\n",
       "<path fill=\"#f1bc96\" stroke=\"#000000\" d=\"M884.5,-306C884.5,-306 749.5,-306 749.5,-306 743.5,-306 737.5,-300 737.5,-294 737.5,-294 737.5,-235 737.5,-235 737.5,-229 743.5,-223 749.5,-223 749.5,-223 884.5,-223 884.5,-223 890.5,-223 896.5,-229 896.5,-235 896.5,-235 896.5,-294 896.5,-294 896.5,-300 890.5,-306 884.5,-306\"/>\n",
       "<text text-anchor=\"start\" x=\"749.5\" y=\"-290.8\" font-family=\"Helvetica,sans-Serif\" font-size=\"14.00\" fill=\"#000000\">exit_velocity ≤ 102.75</text>\n",
       "<text text-anchor=\"start\" x=\"780.5\" y=\"-275.8\" font-family=\"Helvetica,sans-Serif\" font-size=\"14.00\" fill=\"#000000\">gini = 0.435</text>\n",
       "<text text-anchor=\"start\" x=\"763\" y=\"-260.8\" font-family=\"Helvetica,sans-Serif\" font-size=\"14.00\" fill=\"#000000\">samples = 40846</text>\n",
       "<text text-anchor=\"start\" x=\"745.5\" y=\"-245.8\" font-family=\"Helvetica,sans-Serif\" font-size=\"14.00\" fill=\"#000000\">value = [44161, 20690]</text>\n",
       "<text text-anchor=\"start\" x=\"767.5\" y=\"-230.8\" font-family=\"Helvetica,sans-Serif\" font-size=\"14.00\" fill=\"#000000\">class = No XBH</text>\n",
       "</g>\n",
       "<!-- 0&#45;&gt;8 -->\n",
       "<g id=\"edge8\" class=\"edge\">\n",
       "<title>0&#45;&gt;8</title>\n",
       "<path fill=\"none\" stroke=\"#000000\" d=\"M707.7582,-341.8796C721.3143,-332.2774 735.8372,-321.9903 749.7246,-312.1534\"/>\n",
       "<polygon fill=\"#000000\" stroke=\"#000000\" points=\"752.1377,-314.7332 758.2749,-306.0969 748.0916,-309.021 752.1377,-314.7332\"/>\n",
       "<text text-anchor=\"middle\" x=\"754.0675\" y=\"-327.0403\" font-family=\"Helvetica,sans-Serif\" font-size=\"14.00\" fill=\"#000000\">False</text>\n",
       "</g>\n",
       "<!-- 2 -->\n",
       "<g id=\"node3\" class=\"node\">\n",
       "<title>2</title>\n",
       "<path fill=\"#e6853f\" stroke=\"#000000\" d=\"M305.5,-187C305.5,-187 170.5,-187 170.5,-187 164.5,-187 158.5,-181 158.5,-175 158.5,-175 158.5,-116 158.5,-116 158.5,-110 164.5,-104 170.5,-104 170.5,-104 305.5,-104 305.5,-104 311.5,-104 317.5,-110 317.5,-116 317.5,-116 317.5,-175 317.5,-175 317.5,-181 311.5,-187 305.5,-187\"/>\n",
       "<text text-anchor=\"start\" x=\"168.5\" y=\"-171.8\" font-family=\"Helvetica,sans-Serif\" font-size=\"14.00\" fill=\"#000000\">launch_angle ≤ &#45;0.936</text>\n",
       "<text text-anchor=\"start\" x=\"201.5\" y=\"-156.8\" font-family=\"Helvetica,sans-Serif\" font-size=\"14.00\" fill=\"#000000\">gini = 0.055</text>\n",
       "<text text-anchor=\"start\" x=\"180.5\" y=\"-141.8\" font-family=\"Helvetica,sans-Serif\" font-size=\"14.00\" fill=\"#000000\">samples = 101887</text>\n",
       "<text text-anchor=\"start\" x=\"166.5\" y=\"-126.8\" font-family=\"Helvetica,sans-Serif\" font-size=\"14.00\" fill=\"#000000\">value = [156368, 4564]</text>\n",
       "<text text-anchor=\"start\" x=\"188.5\" y=\"-111.8\" font-family=\"Helvetica,sans-Serif\" font-size=\"14.00\" fill=\"#000000\">class = No XBH</text>\n",
       "</g>\n",
       "<!-- 1&#45;&gt;2 -->\n",
       "<g id=\"edge2\" class=\"edge\">\n",
       "<title>1&#45;&gt;2</title>\n",
       "<path fill=\"none\" stroke=\"#000000\" d=\"M401.3771,-224.212C377.4257,-212.6727 351.2328,-200.0535 326.9727,-188.3654\"/>\n",
       "<polygon fill=\"#000000\" stroke=\"#000000\" points=\"328.3063,-185.1229 317.7781,-183.9356 325.268,-191.4292 328.3063,-185.1229\"/>\n",
       "</g>\n",
       "<!-- 5 -->\n",
       "<g id=\"node6\" class=\"node\">\n",
       "<title>5</title>\n",
       "<path fill=\"#e99356\" stroke=\"#000000\" d=\"M549,-187C549,-187 421,-187 421,-187 415,-187 409,-181 409,-175 409,-175 409,-116 409,-116 409,-110 415,-104 421,-104 421,-104 549,-104 549,-104 555,-104 561,-110 561,-116 561,-116 561,-175 561,-175 561,-181 555,-187 549,-187\"/>\n",
       "<text text-anchor=\"start\" x=\"418\" y=\"-171.8\" font-family=\"Helvetica,sans-Serif\" font-size=\"14.00\" fill=\"#000000\">launch_angle ≤ 9.979</text>\n",
       "<text text-anchor=\"start\" x=\"448.5\" y=\"-156.8\" font-family=\"Helvetica,sans-Serif\" font-size=\"14.00\" fill=\"#000000\">gini = 0.223</text>\n",
       "<text text-anchor=\"start\" x=\"431\" y=\"-141.8\" font-family=\"Helvetica,sans-Serif\" font-size=\"14.00\" fill=\"#000000\">samples = 27906</text>\n",
       "<text text-anchor=\"start\" x=\"417\" y=\"-126.8\" font-family=\"Helvetica,sans-Serif\" font-size=\"14.00\" fill=\"#000000\">value = [38645, 5665]</text>\n",
       "<text text-anchor=\"start\" x=\"435.5\" y=\"-111.8\" font-family=\"Helvetica,sans-Serif\" font-size=\"14.00\" fill=\"#000000\">class = No XBH</text>\n",
       "</g>\n",
       "<!-- 1&#45;&gt;5 -->\n",
       "<g id=\"edge5\" class=\"edge\">\n",
       "<title>1&#45;&gt;5</title>\n",
       "<path fill=\"none\" stroke=\"#000000\" d=\"M485,-222.8796C485,-214.6838 485,-205.9891 485,-197.5013\"/>\n",
       "<polygon fill=\"#000000\" stroke=\"#000000\" points=\"488.5001,-197.298 485,-187.2981 481.5001,-197.2981 488.5001,-197.298\"/>\n",
       "</g>\n",
       "<!-- 3 -->\n",
       "<g id=\"node4\" class=\"node\">\n",
       "<title>3</title>\n",
       "<path fill=\"#e5823b\" stroke=\"#000000\" d=\"M132,-68C132,-68 12,-68 12,-68 6,-68 0,-62 0,-56 0,-56 0,-12 0,-12 0,-6 6,0 12,0 12,0 132,0 132,0 138,0 144,-6 144,-12 144,-12 144,-56 144,-56 144,-62 138,-68 132,-68\"/>\n",
       "<text text-anchor=\"start\" x=\"35.5\" y=\"-52.8\" font-family=\"Helvetica,sans-Serif\" font-size=\"14.00\" fill=\"#000000\">gini = 0.017</text>\n",
       "<text text-anchor=\"start\" x=\"18\" y=\"-37.8\" font-family=\"Helvetica,sans-Serif\" font-size=\"14.00\" fill=\"#000000\">samples = 41716</text>\n",
       "<text text-anchor=\"start\" x=\"8\" y=\"-22.8\" font-family=\"Helvetica,sans-Serif\" font-size=\"14.00\" fill=\"#000000\">value = [65336, 574]</text>\n",
       "<text text-anchor=\"start\" x=\"22.5\" y=\"-7.8\" font-family=\"Helvetica,sans-Serif\" font-size=\"14.00\" fill=\"#000000\">class = No XBH</text>\n",
       "</g>\n",
       "<!-- 2&#45;&gt;3 -->\n",
       "<g id=\"edge3\" class=\"edge\">\n",
       "<title>2&#45;&gt;3</title>\n",
       "<path fill=\"none\" stroke=\"#000000\" d=\"M176.1877,-103.9815C161.4699,-94.0957 145.7995,-83.5701 131.2019,-73.7651\"/>\n",
       "<polygon fill=\"#000000\" stroke=\"#000000\" points=\"132.9991,-70.7561 122.7463,-68.0856 129.096,-76.5669 132.9991,-70.7561\"/>\n",
       "</g>\n",
       "<!-- 4 -->\n",
       "<g id=\"node5\" class=\"node\">\n",
       "<title>4</title>\n",
       "<path fill=\"#e68742\" stroke=\"#000000\" d=\"M302,-68C302,-68 174,-68 174,-68 168,-68 162,-62 162,-56 162,-56 162,-12 162,-12 162,-6 168,0 174,0 174,0 302,0 302,0 308,0 314,-6 314,-12 314,-12 314,-56 314,-56 314,-62 308,-68 302,-68\"/>\n",
       "<text text-anchor=\"start\" x=\"205.5\" y=\"-52.8\" font-family=\"Helvetica,sans-Serif\" font-size=\"14.00\" fill=\"#000000\">gini = 0.08</text>\n",
       "<text text-anchor=\"start\" x=\"184\" y=\"-37.8\" font-family=\"Helvetica,sans-Serif\" font-size=\"14.00\" fill=\"#000000\">samples = 60171</text>\n",
       "<text text-anchor=\"start\" x=\"170\" y=\"-22.8\" font-family=\"Helvetica,sans-Serif\" font-size=\"14.00\" fill=\"#000000\">value = [91032, 3990]</text>\n",
       "<text text-anchor=\"start\" x=\"188.5\" y=\"-7.8\" font-family=\"Helvetica,sans-Serif\" font-size=\"14.00\" fill=\"#000000\">class = No XBH</text>\n",
       "</g>\n",
       "<!-- 2&#45;&gt;4 -->\n",
       "<g id=\"edge4\" class=\"edge\">\n",
       "<title>2&#45;&gt;4</title>\n",
       "<path fill=\"none\" stroke=\"#000000\" d=\"M238,-103.9815C238,-95.618 238,-86.7965 238,-78.3409\"/>\n",
       "<polygon fill=\"#000000\" stroke=\"#000000\" points=\"241.5001,-78.2636 238,-68.2637 234.5001,-78.2637 241.5001,-78.2636\"/>\n",
       "</g>\n",
       "<!-- 6 -->\n",
       "<g id=\"node7\" class=\"node\">\n",
       "<title>6</title>\n",
       "<path fill=\"#e68640\" stroke=\"#000000\" d=\"M464,-68C464,-68 344,-68 344,-68 338,-68 332,-62 332,-56 332,-56 332,-12 332,-12 332,-6 338,0 344,0 344,0 464,0 464,0 470,0 476,-6 476,-12 476,-12 476,-56 476,-56 476,-62 470,-68 464,-68\"/>\n",
       "<text text-anchor=\"start\" x=\"367.5\" y=\"-52.8\" font-family=\"Helvetica,sans-Serif\" font-size=\"14.00\" fill=\"#000000\">gini = 0.067</text>\n",
       "<text text-anchor=\"start\" x=\"350\" y=\"-37.8\" font-family=\"Helvetica,sans-Serif\" font-size=\"14.00\" fill=\"#000000\">samples = 12236</text>\n",
       "<text text-anchor=\"start\" x=\"340\" y=\"-22.8\" font-family=\"Helvetica,sans-Serif\" font-size=\"14.00\" fill=\"#000000\">value = [18726, 673]</text>\n",
       "<text text-anchor=\"start\" x=\"354.5\" y=\"-7.8\" font-family=\"Helvetica,sans-Serif\" font-size=\"14.00\" fill=\"#000000\">class = No XBH</text>\n",
       "</g>\n",
       "<!-- 5&#45;&gt;6 -->\n",
       "<g id=\"edge6\" class=\"edge\">\n",
       "<title>5&#45;&gt;6</title>\n",
       "<path fill=\"none\" stroke=\"#000000\" d=\"M454.8386,-103.9815C448.2955,-94.9747 441.3666,-85.4367 434.7992,-76.3965\"/>\n",
       "<polygon fill=\"#000000\" stroke=\"#000000\" points=\"437.6002,-74.2971 428.8911,-68.2637 431.9369,-78.4113 437.6002,-74.2971\"/>\n",
       "</g>\n",
       "<!-- 7 -->\n",
       "<g id=\"node8\" class=\"node\">\n",
       "<title>7</title>\n",
       "<path fill=\"#eca16b\" stroke=\"#000000\" d=\"M634,-68C634,-68 506,-68 506,-68 500,-68 494,-62 494,-56 494,-56 494,-12 494,-12 494,-6 500,0 506,0 506,0 634,0 634,0 640,0 646,-6 646,-12 646,-12 646,-56 646,-56 646,-62 640,-68 634,-68\"/>\n",
       "<text text-anchor=\"start\" x=\"537.5\" y=\"-52.8\" font-family=\"Helvetica,sans-Serif\" font-size=\"14.00\" fill=\"#000000\">gini = 0.32</text>\n",
       "<text text-anchor=\"start\" x=\"516\" y=\"-37.8\" font-family=\"Helvetica,sans-Serif\" font-size=\"14.00\" fill=\"#000000\">samples = 15670</text>\n",
       "<text text-anchor=\"start\" x=\"502\" y=\"-22.8\" font-family=\"Helvetica,sans-Serif\" font-size=\"14.00\" fill=\"#000000\">value = [19919, 4992]</text>\n",
       "<text text-anchor=\"start\" x=\"520.5\" y=\"-7.8\" font-family=\"Helvetica,sans-Serif\" font-size=\"14.00\" fill=\"#000000\">class = No XBH</text>\n",
       "</g>\n",
       "<!-- 5&#45;&gt;7 -->\n",
       "<g id=\"edge7\" class=\"edge\">\n",
       "<title>5&#45;&gt;7</title>\n",
       "<path fill=\"none\" stroke=\"#000000\" d=\"M516.6509,-103.9815C523.5171,-94.9747 530.7882,-85.4367 537.6798,-76.3965\"/>\n",
       "<polygon fill=\"#000000\" stroke=\"#000000\" points=\"540.6005,-78.3383 543.8797,-68.2637 535.0336,-74.0945 540.6005,-78.3383\"/>\n",
       "</g>\n",
       "<!-- 9 -->\n",
       "<g id=\"node10\" class=\"node\">\n",
       "<title>9</title>\n",
       "<path fill=\"#eead7e\" stroke=\"#000000\" d=\"M884,-187C884,-187 750,-187 750,-187 744,-187 738,-181 738,-175 738,-175 738,-116 738,-116 738,-110 744,-104 750,-104 750,-104 884,-104 884,-104 890,-104 896,-110 896,-116 896,-116 896,-175 896,-175 896,-181 890,-187 884,-187\"/>\n",
       "<text text-anchor=\"start\" x=\"746\" y=\"-171.8\" font-family=\"Helvetica,sans-Serif\" font-size=\"14.00\" fill=\"#000000\">launch_angle ≤ 16.399</text>\n",
       "<text text-anchor=\"start\" x=\"780.5\" y=\"-156.8\" font-family=\"Helvetica,sans-Serif\" font-size=\"14.00\" fill=\"#000000\">gini = 0.384</text>\n",
       "<text text-anchor=\"start\" x=\"763\" y=\"-141.8\" font-family=\"Helvetica,sans-Serif\" font-size=\"14.00\" fill=\"#000000\">samples = 20484</text>\n",
       "<text text-anchor=\"start\" x=\"749\" y=\"-126.8\" font-family=\"Helvetica,sans-Serif\" font-size=\"14.00\" fill=\"#000000\">value = [24005, 8403]</text>\n",
       "<text text-anchor=\"start\" x=\"767.5\" y=\"-111.8\" font-family=\"Helvetica,sans-Serif\" font-size=\"14.00\" fill=\"#000000\">class = No XBH</text>\n",
       "</g>\n",
       "<!-- 8&#45;&gt;9 -->\n",
       "<g id=\"edge9\" class=\"edge\">\n",
       "<title>8&#45;&gt;9</title>\n",
       "<path fill=\"none\" stroke=\"#000000\" d=\"M817,-222.8796C817,-214.6838 817,-205.9891 817,-197.5013\"/>\n",
       "<polygon fill=\"#000000\" stroke=\"#000000\" points=\"820.5001,-197.298 817,-187.2981 813.5001,-197.2981 820.5001,-197.298\"/>\n",
       "</g>\n",
       "<!-- 12 -->\n",
       "<g id=\"node13\" class=\"node\">\n",
       "<title>12</title>\n",
       "<path fill=\"#f5ceb2\" stroke=\"#000000\" d=\"M1139.5,-187C1139.5,-187 1004.5,-187 1004.5,-187 998.5,-187 992.5,-181 992.5,-175 992.5,-175 992.5,-116 992.5,-116 992.5,-110 998.5,-104 1004.5,-104 1004.5,-104 1139.5,-104 1139.5,-104 1145.5,-104 1151.5,-110 1151.5,-116 1151.5,-116 1151.5,-175 1151.5,-175 1151.5,-181 1145.5,-187 1139.5,-187\"/>\n",
       "<text text-anchor=\"start\" x=\"1001\" y=\"-171.8\" font-family=\"Helvetica,sans-Serif\" font-size=\"14.00\" fill=\"#000000\">launch_angle ≤ 14.103</text>\n",
       "<text text-anchor=\"start\" x=\"1035.5\" y=\"-156.8\" font-family=\"Helvetica,sans-Serif\" font-size=\"14.00\" fill=\"#000000\">gini = 0.471</text>\n",
       "<text text-anchor=\"start\" x=\"1018\" y=\"-141.8\" font-family=\"Helvetica,sans-Serif\" font-size=\"14.00\" fill=\"#000000\">samples = 20362</text>\n",
       "<text text-anchor=\"start\" x=\"1000.5\" y=\"-126.8\" font-family=\"Helvetica,sans-Serif\" font-size=\"14.00\" fill=\"#000000\">value = [20156, 12287]</text>\n",
       "<text text-anchor=\"start\" x=\"1022.5\" y=\"-111.8\" font-family=\"Helvetica,sans-Serif\" font-size=\"14.00\" fill=\"#000000\">class = No XBH</text>\n",
       "</g>\n",
       "<!-- 8&#45;&gt;12 -->\n",
       "<g id=\"edge12\" class=\"edge\">\n",
       "<title>8&#45;&gt;12</title>\n",
       "<path fill=\"none\" stroke=\"#000000\" d=\"M896.6347,-227.3371C923.9432,-214.5932 954.6789,-200.2499 982.7019,-187.1725\"/>\n",
       "<polygon fill=\"#000000\" stroke=\"#000000\" points=\"984.5108,-190.1907 992.0925,-182.7902 981.5505,-183.8474 984.5108,-190.1907\"/>\n",
       "</g>\n",
       "<!-- 10 -->\n",
       "<g id=\"node11\" class=\"node\">\n",
       "<title>10</title>\n",
       "<path fill=\"#e78d4c\" stroke=\"#000000\" d=\"M804,-68C804,-68 676,-68 676,-68 670,-68 664,-62 664,-56 664,-56 664,-12 664,-12 664,-6 670,0 676,0 676,0 804,0 804,0 810,0 816,-6 816,-12 816,-12 816,-56 816,-56 816,-62 810,-68 804,-68\"/>\n",
       "<text text-anchor=\"start\" x=\"703.5\" y=\"-52.8\" font-family=\"Helvetica,sans-Serif\" font-size=\"14.00\" fill=\"#000000\">gini = 0.158</text>\n",
       "<text text-anchor=\"start\" x=\"686\" y=\"-37.8\" font-family=\"Helvetica,sans-Serif\" font-size=\"14.00\" fill=\"#000000\">samples = 12280</text>\n",
       "<text text-anchor=\"start\" x=\"672\" y=\"-22.8\" font-family=\"Helvetica,sans-Serif\" font-size=\"14.00\" fill=\"#000000\">value = [17726, 1672]</text>\n",
       "<text text-anchor=\"start\" x=\"690.5\" y=\"-7.8\" font-family=\"Helvetica,sans-Serif\" font-size=\"14.00\" fill=\"#000000\">class = No XBH</text>\n",
       "</g>\n",
       "<!-- 9&#45;&gt;10 -->\n",
       "<g id=\"edge10\" class=\"edge\">\n",
       "<title>9&#45;&gt;10</title>\n",
       "<path fill=\"none\" stroke=\"#000000\" d=\"M788.328,-103.9815C782.1715,-95.0666 775.6557,-85.6313 769.4695,-76.6734\"/>\n",
       "<polygon fill=\"#000000\" stroke=\"#000000\" points=\"772.2245,-74.5034 763.6619,-68.2637 766.4645,-78.4811 772.2245,-74.5034\"/>\n",
       "</g>\n",
       "<!-- 11 -->\n",
       "<g id=\"node12\" class=\"node\">\n",
       "<title>11</title>\n",
       "<path fill=\"#f2f8fd\" stroke=\"#000000\" d=\"M966,-68C966,-68 846,-68 846,-68 840,-68 834,-62 834,-56 834,-56 834,-12 834,-12 834,-6 840,0 846,0 846,0 966,0 966,0 972,0 978,-6 978,-12 978,-12 978,-56 978,-56 978,-62 972,-68 966,-68\"/>\n",
       "<text text-anchor=\"start\" x=\"869.5\" y=\"-52.8\" font-family=\"Helvetica,sans-Serif\" font-size=\"14.00\" fill=\"#000000\">gini = 0.499</text>\n",
       "<text text-anchor=\"start\" x=\"856\" y=\"-37.8\" font-family=\"Helvetica,sans-Serif\" font-size=\"14.00\" fill=\"#000000\">samples = 8204</text>\n",
       "<text text-anchor=\"start\" x=\"842\" y=\"-22.8\" font-family=\"Helvetica,sans-Serif\" font-size=\"14.00\" fill=\"#000000\">value = [6279, 6731]</text>\n",
       "<text text-anchor=\"start\" x=\"867.5\" y=\"-7.8\" font-family=\"Helvetica,sans-Serif\" font-size=\"14.00\" fill=\"#000000\">class = XBH</text>\n",
       "</g>\n",
       "<!-- 9&#45;&gt;11 -->\n",
       "<g id=\"edge11\" class=\"edge\">\n",
       "<title>9&#45;&gt;11</title>\n",
       "<path fill=\"none\" stroke=\"#000000\" d=\"M850.1403,-103.9815C857.403,-94.8828 865.0983,-85.242 872.3796,-76.1199\"/>\n",
       "<polygon fill=\"#000000\" stroke=\"#000000\" points=\"875.1475,-78.2627 878.6505,-68.2637 869.6766,-73.8958 875.1475,-78.2627\"/>\n",
       "</g>\n",
       "<!-- 13 -->\n",
       "<g id=\"node14\" class=\"node\">\n",
       "<title>13</title>\n",
       "<path fill=\"#e89153\" stroke=\"#000000\" d=\"M1136,-68C1136,-68 1008,-68 1008,-68 1002,-68 996,-62 996,-56 996,-56 996,-12 996,-12 996,-6 1002,0 1008,0 1008,0 1136,0 1136,0 1142,0 1148,-6 1148,-12 1148,-12 1148,-56 1148,-56 1148,-62 1142,-68 1136,-68\"/>\n",
       "<text text-anchor=\"start\" x=\"1035.5\" y=\"-52.8\" font-family=\"Helvetica,sans-Serif\" font-size=\"14.00\" fill=\"#000000\">gini = 0.204</text>\n",
       "<text text-anchor=\"start\" x=\"1018\" y=\"-37.8\" font-family=\"Helvetica,sans-Serif\" font-size=\"14.00\" fill=\"#000000\">samples = 12175</text>\n",
       "<text text-anchor=\"start\" x=\"1004\" y=\"-22.8\" font-family=\"Helvetica,sans-Serif\" font-size=\"14.00\" fill=\"#000000\">value = [17137, 2237]</text>\n",
       "<text text-anchor=\"start\" x=\"1022.5\" y=\"-7.8\" font-family=\"Helvetica,sans-Serif\" font-size=\"14.00\" fill=\"#000000\">class = No XBH</text>\n",
       "</g>\n",
       "<!-- 12&#45;&gt;13 -->\n",
       "<g id=\"edge13\" class=\"edge\">\n",
       "<title>12&#45;&gt;13</title>\n",
       "<path fill=\"none\" stroke=\"#000000\" d=\"M1072,-103.9815C1072,-95.618 1072,-86.7965 1072,-78.3409\"/>\n",
       "<polygon fill=\"#000000\" stroke=\"#000000\" points=\"1075.5001,-78.2636 1072,-68.2637 1068.5001,-78.2637 1075.5001,-78.2636\"/>\n",
       "</g>\n",
       "<!-- 14 -->\n",
       "<g id=\"node15\" class=\"node\">\n",
       "<title>14</title>\n",
       "<path fill=\"#74baed\" stroke=\"#000000\" d=\"M1306,-68C1306,-68 1178,-68 1178,-68 1172,-68 1166,-62 1166,-56 1166,-56 1166,-12 1166,-12 1166,-6 1172,0 1178,0 1178,0 1306,0 1306,0 1312,0 1318,-6 1318,-12 1318,-12 1318,-56 1318,-56 1318,-62 1312,-68 1306,-68\"/>\n",
       "<text text-anchor=\"start\" x=\"1205.5\" y=\"-52.8\" font-family=\"Helvetica,sans-Serif\" font-size=\"14.00\" fill=\"#000000\">gini = 0.355</text>\n",
       "<text text-anchor=\"start\" x=\"1192\" y=\"-37.8\" font-family=\"Helvetica,sans-Serif\" font-size=\"14.00\" fill=\"#000000\">samples = 8187</text>\n",
       "<text text-anchor=\"start\" x=\"1174\" y=\"-22.8\" font-family=\"Helvetica,sans-Serif\" font-size=\"14.00\" fill=\"#000000\">value = [3019, 10050]</text>\n",
       "<text text-anchor=\"start\" x=\"1203.5\" y=\"-7.8\" font-family=\"Helvetica,sans-Serif\" font-size=\"14.00\" fill=\"#000000\">class = XBH</text>\n",
       "</g>\n",
       "<!-- 12&#45;&gt;14 -->\n",
       "<g id=\"edge14\" class=\"edge\">\n",
       "<title>12&#45;&gt;14</title>\n",
       "<path fill=\"none\" stroke=\"#000000\" d=\"M1135.3017,-103.9815C1150.3742,-94.0957 1166.4222,-83.5701 1181.3716,-73.7651\"/>\n",
       "<polygon fill=\"#000000\" stroke=\"#000000\" points=\"1183.5885,-76.4968 1190.0309,-68.0856 1179.7494,-70.6434 1183.5885,-76.4968\"/>\n",
       "</g>\n",
       "</g>\n",
       "</svg>\n"
      ],
      "text/plain": [
       "<graphviz.files.Source at 0x149e741d0>"
      ]
     },
     "execution_count": 113,
     "metadata": {},
     "output_type": "execute_result"
    }
   ],
   "source": [
    "# Visualize decision tree\n",
    "# Verbatim DOT source code string to be rendered by Graphviz\n",
    "graph = graphviz.Source(dot_data)  \n",
    "graph "
   ]
  },
  {
   "cell_type": "code",
   "execution_count": 114,
   "metadata": {},
   "outputs": [
    {
     "data": {
      "text/plain": [
       "'xbh.pdf'"
      ]
     },
     "execution_count": 114,
     "metadata": {},
     "output_type": "execute_result"
    }
   ],
   "source": [
    "# Save the source to file and render with the Graphviz engine\n",
    "# Note: view (bool): Open the rendered result with the default application\n",
    "graph.render('xbh', view=False)"
   ]
  },
  {
   "cell_type": "markdown",
   "metadata": {},
   "source": [
    "Note: Not needed anymore because 'graph.render' saves the source file after rendering"
   ]
  },
  {
   "cell_type": "code",
   "execution_count": 115,
   "metadata": {},
   "outputs": [],
   "source": [
    "#with open('xbh_classifier.txt', 'w') as f:\n",
    "#    f = export_graphviz(estimator, out_file=f,\n",
    "#                        feature_names=feature_cols,\n",
    "#                        class_names=['No XBH', 'XBH'],\n",
    "#                        filled=True, rounded=True,\n",
    "#                        special_characters=True)"
   ]
  }
 ],
 "metadata": {
  "kernelspec": {
   "display_name": "Python 3",
   "language": "python",
   "name": "python3"
  },
  "language_info": {
   "codemirror_mode": {
    "name": "ipython",
    "version": 3
   },
   "file_extension": ".py",
   "mimetype": "text/x-python",
   "name": "python",
   "nbconvert_exporter": "python",
   "pygments_lexer": "ipython3",
   "version": "3.7.4"
  }
 },
 "nbformat": 4,
 "nbformat_minor": 2
}
