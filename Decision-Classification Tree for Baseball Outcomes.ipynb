{
 "cells": [
  {
   "cell_type": "code",
   "execution_count": 1,
   "metadata": {},
   "outputs": [],
   "source": [
    "import numpy as np\n",
    "import pandas as pd\n",
    "from pandas.plotting import autocorrelation_plot\n",
    "from math import sqrt\n",
    "import scipy as sp\n",
    "from scipy import stats\n",
    "import scipy.signal\n",
    "from scipy.signal import fftconvolve, convolve\n",
    "import matplotlib.pyplot as plt\n",
    "import seaborn as sns\n",
    "from ipywidgets import interact\n",
    "import random as ran\n",
    "\n",
    "from datetime import datetime\n",
    "from datetime import timedelta\n",
    "from dateutil.relativedelta import *\n",
    "\n",
    "from sklearn.dummy import DummyClassifier, DummyRegressor\n",
    "from sklearn.linear_model import LinearRegression, Ridge, Lasso, ElasticNet, RidgeCV, LassoCV, ElasticNetCV, LogisticRegression\n",
    "from sklearn.multiclass import OneVsRestClassifier, OneVsOneClassifier\n",
    "from sklearn.neighbors import KNeighborsClassifier, KNeighborsRegressor\n",
    "from sklearn.model_selection import train_test_split, cross_val_score, cross_val_predict, KFold, GridSearchCV\n",
    "from sklearn.preprocessing import PolynomialFeatures, StandardScaler\n",
    "from sklearn.feature_extraction.text import CountVectorizer, TfidfVectorizer, HashingVectorizer, ENGLISH_STOP_WORDS\n",
    "from sklearn.naive_bayes import MultinomialNB\n",
    "from sklearn.tree import DecisionTreeClassifier, DecisionTreeRegressor, export_graphviz\n",
    "from sklearn.ensemble import RandomForestClassifier, RandomForestRegressor\n",
    "from sklearn.decomposition import LatentDirichletAllocation\n",
    "from sklearn.pipeline import make_pipeline\n",
    "from sklearn import metrics\n",
    "from sklearn import datasets\n",
    "from textblob import TextBlob, Word\n",
    "from nltk.stem.snowball import SnowballStemmer\n",
    "from nltk.sentiment.vader import SentimentIntensityAnalyzer\n",
    "from nltk.corpus import stopwords\n",
    "#from textacy.preprocess import preprocess_text\n",
    "\n",
    "from gensim import corpora, models, matutils\n",
    "from collections import defaultdict, Counter\n",
    "\n",
    "import statsmodels.api as sm\n",
    "import statsmodels.formula.api as sm\n",
    "from statsmodels.tsa.stattools import acf, pacf, adfuller\n",
    "from statsmodels.tsa.api import ExponentialSmoothing, SimpleExpSmoothing, Holt\n",
    "from statsmodels.graphics.tsaplots import plot_acf, plot_pacf\n",
    "from statsmodels.tsa.seasonal import seasonal_decompose\n",
    "from statsmodels.tsa.statespace.sarimax import SARIMAX\n",
    "\n",
    "import tensorflow as tf\n",
    "\n",
    "import patsy\n",
    "from itertools import combinations\n",
    "\n",
    "import graphviz\n",
    "import json\n",
    "import requests\n",
    "import urllib\n",
    "from bs4 import BeautifulSoup\n",
    "from selenium import webdriver\n",
    "from selenium.webdriver.common.keys import Keys\n",
    "from time import sleep\n",
    "import re\n",
    "import twitter"
   ]
  },
  {
   "cell_type": "code",
   "execution_count": 2,
   "metadata": {},
   "outputs": [],
   "source": [
    "%matplotlib inline\n",
    "#plt.style.use('fivethirtyeight')\n",
    "plt.rcParams['figure.figsize'] = (12, 8)\n",
    "plt.rcParams['font.size'] = 12"
   ]
  },
  {
   "cell_type": "markdown",
   "metadata": {},
   "source": [
    "## Build and document a working model, prototype, recommendation, or solution"
   ]
  },
  {
   "cell_type": "markdown",
   "metadata": {},
   "source": [
    "Note: The new Statcast metrics are available beginning from the 2015 baseball season to the current season. I downloaded the 2015-2017 baseball season data for all teams which will be used in the data modeling."
   ]
  },
  {
   "cell_type": "markdown",
   "metadata": {},
   "source": [
    "## [pybaseball](https://github.com/jldbc/pybaseball) \n",
    "Pull current and historical baseball statistics using Python (Statcast, Baseball Reference, FanGraphs)\n",
    "\n",
    "`pybaseball` is a Python package for baseball data analysis. This package scrapes Baseball Reference, Baseball Savant, and FanGraphs so you don't have to. The package retrieves statcast data, pitching stats, batting stats, division standings/team records, awards data, and more. Data is available at the individual pitch level, as well as aggregated at the season level and over custom time periods. See the [docs](https://github.com/jldbc/pybaseball/tree/master/docs) for a comprehensive list of data acquisition functions."
   ]
  },
  {
   "cell_type": "markdown",
   "metadata": {},
   "source": [
    "**Statcast**\n",
    "\n",
    "The statcast function retrieves pitch-level statcast data for a given date or range or dates.\n",
    "\n",
    "statcast(start_dt=[yesterday's date], end_dt=None, team=None)"
   ]
  },
  {
   "cell_type": "code",
   "execution_count": 3,
   "metadata": {},
   "outputs": [],
   "source": [
    "# Pull advanced metrics from Major League Baseball's Statcast system\n",
    "#from pybaseball import statcast\n",
    "\n",
    "# Look up a player's MLBAM, Retrosheet, FanGraphs, and Baseball Reference ID by name\n",
    "#from pybaseball import playerid_lookup"
   ]
  },
  {
   "cell_type": "markdown",
   "metadata": {},
   "source": [
    "### Reading a File"
   ]
  },
  {
   "cell_type": "code",
   "execution_count": 4,
   "metadata": {},
   "outputs": [],
   "source": [
    "# Create data path variable for loading data\n",
    "data_path = '/Users/yangweichle/Documents/GeneralAssembly/Projects/Datasets/'"
   ]
  },
  {
   "cell_type": "code",
   "execution_count": 5,
   "metadata": {},
   "outputs": [],
   "source": [
    "# Read file into DataFrame\n",
    "# Note: header=0 disables the header from the file\n",
    "all_MLB_teams2015_2017 = pd.read_csv(data_path + 'all_MLB_teams2015_2017.csv', header=0) # Comma-separated values file"
   ]
  },
  {
   "cell_type": "markdown",
   "metadata": {},
   "source": [
    "### Examine the DataFrame"
   ]
  },
  {
   "cell_type": "code",
   "execution_count": 6,
   "metadata": {},
   "outputs": [
    {
     "name": "stdout",
     "output_type": "stream",
     "text": [
      "Rows: 2139920, Cols: 91\n"
     ]
    }
   ],
   "source": [
    "# Return the number of rows and columns (dimensionality) of the DataFrame\n",
    "print('Rows: {}, Cols: {}'.format(all_MLB_teams2015_2017.shape[0], all_MLB_teams2015_2017.shape[1]))"
   ]
  },
  {
   "cell_type": "code",
   "execution_count": 7,
   "metadata": {},
   "outputs": [
    {
     "name": "stdout",
     "output_type": "stream",
     "text": [
      "<class 'pandas.core.frame.DataFrame'>\n",
      "RangeIndex: 2139920 entries, 0 to 2139919\n",
      "Data columns (total 91 columns):\n",
      "Unnamed: 0                         int64\n",
      "index                              int64\n",
      "pitch_type                         object\n",
      "game_date                          object\n",
      "release_speed                      float64\n",
      "release_pos_x                      float64\n",
      "release_pos_z                      float64\n",
      "player_name                        object\n",
      "batter                             float64\n",
      "pitcher                            float64\n",
      "events                             object\n",
      "description                        object\n",
      "spin_dir                           float64\n",
      "spin_rate_deprecated               float64\n",
      "break_angle_deprecated             float64\n",
      "break_length_deprecated            float64\n",
      "zone                               float64\n",
      "des                                object\n",
      "game_type                          object\n",
      "stand                              object\n",
      "p_throws                           object\n",
      "home_team                          object\n",
      "away_team                          object\n",
      "type                               object\n",
      "hit_location                       float64\n",
      "bb_type                            object\n",
      "balls                              float64\n",
      "strikes                            float64\n",
      "game_year                          float64\n",
      "pfx_x                              float64\n",
      "pfx_z                              float64\n",
      "plate_x                            float64\n",
      "plate_z                            float64\n",
      "on_3b                              float64\n",
      "on_2b                              float64\n",
      "on_1b                              float64\n",
      "outs_when_up                       float64\n",
      "inning                             float64\n",
      "inning_topbot                      object\n",
      "hc_x                               float64\n",
      "hc_y                               float64\n",
      "tfs_deprecated                     float64\n",
      "tfs_zulu_deprecated                float64\n",
      "pos2_person_id                     float64\n",
      "umpire                             float64\n",
      "sv_id                              object\n",
      "vx0                                float64\n",
      "vy0                                float64\n",
      "vz0                                float64\n",
      "ax                                 float64\n",
      "ay                                 float64\n",
      "az                                 float64\n",
      "sz_top                             float64\n",
      "sz_bot                             float64\n",
      "hit_distance_sc                    float64\n",
      "launch_speed                       float64\n",
      "launch_angle                       float64\n",
      "effective_speed                    float64\n",
      "release_spin_rate                  float64\n",
      "release_extension                  float64\n",
      "game_pk                            float64\n",
      "pos1_person_id                     float64\n",
      "pos2_person_id.1                   float64\n",
      "pos3_person_id                     float64\n",
      "pos4_person_id                     float64\n",
      "pos5_person_id                     float64\n",
      "pos6_person_id                     float64\n",
      "pos7_person_id                     float64\n",
      "pos8_person_id                     float64\n",
      "pos9_person_id                     float64\n",
      "release_pos_y                      float64\n",
      "estimated_ba_using_speedangle      float64\n",
      "estimated_woba_using_speedangle    float64\n",
      "woba_value                         float64\n",
      "woba_denom                         float64\n",
      "babip_value                        float64\n",
      "iso_value                          float64\n",
      "launch_speed_angle                 float64\n",
      "at_bat_number                      float64\n",
      "pitch_number                       float64\n",
      "pitch_name                         object\n",
      "home_score                         float64\n",
      "away_score                         float64\n",
      "bat_score                          float64\n",
      "fld_score                          float64\n",
      "post_away_score                    float64\n",
      "post_home_score                    float64\n",
      "post_bat_score                     float64\n",
      "post_fld_score                     float64\n",
      "if_fielding_alignment              object\n",
      "of_fielding_alignment              object\n",
      "dtypes: float64(71), int64(2), object(18)\n",
      "memory usage: 1.5+ GB\n"
     ]
    }
   ],
   "source": [
    "# Print a concise summary of a DataFrame including the index dtype and column dtypes, non-null values, and memory usage\n",
    "# Note: Useful to quickly see if null values exist \n",
    "all_MLB_teams2015_2017.info()"
   ]
  },
  {
   "cell_type": "code",
   "execution_count": 8,
   "metadata": {},
   "outputs": [],
   "source": [
    "# Column names (which is \"an index\")\n",
    "#all_MLB_teams2015_2017.columns"
   ]
  },
  {
   "cell_type": "code",
   "execution_count": 9,
   "metadata": {},
   "outputs": [],
   "source": [
    "# Sort a DataFrame by multiple columns\n",
    "# Note: ascending: sort ascending vs. descending; ascending=True is default\n",
    "#       inplace=True changes the original DataFrame\n",
    "all_MLB_teams2015_2017.sort_values(by=['game_date', 'game_pk', 'at_bat_number', 'pitch_number'], ascending=True, inplace=True)"
   ]
  },
  {
   "cell_type": "code",
   "execution_count": 10,
   "metadata": {},
   "outputs": [
    {
     "data": {
      "text/html": [
       "<div>\n",
       "<style scoped>\n",
       "    .dataframe tbody tr th:only-of-type {\n",
       "        vertical-align: middle;\n",
       "    }\n",
       "\n",
       "    .dataframe tbody tr th {\n",
       "        vertical-align: top;\n",
       "    }\n",
       "\n",
       "    .dataframe thead th {\n",
       "        text-align: right;\n",
       "    }\n",
       "</style>\n",
       "<table border=\"1\" class=\"dataframe\">\n",
       "  <thead>\n",
       "    <tr style=\"text-align: right;\">\n",
       "      <th></th>\n",
       "      <th>Unnamed: 0</th>\n",
       "      <th>index</th>\n",
       "      <th>pitch_type</th>\n",
       "      <th>game_date</th>\n",
       "      <th>release_speed</th>\n",
       "      <th>release_pos_x</th>\n",
       "      <th>release_pos_z</th>\n",
       "      <th>player_name</th>\n",
       "      <th>batter</th>\n",
       "      <th>pitcher</th>\n",
       "      <th>...</th>\n",
       "      <th>home_score</th>\n",
       "      <th>away_score</th>\n",
       "      <th>bat_score</th>\n",
       "      <th>fld_score</th>\n",
       "      <th>post_away_score</th>\n",
       "      <th>post_home_score</th>\n",
       "      <th>post_bat_score</th>\n",
       "      <th>post_fld_score</th>\n",
       "      <th>if_fielding_alignment</th>\n",
       "      <th>of_fielding_alignment</th>\n",
       "    </tr>\n",
       "  </thead>\n",
       "  <tbody>\n",
       "    <tr>\n",
       "      <td>2139919</td>\n",
       "      <td>702491</td>\n",
       "      <td>17584</td>\n",
       "      <td>FF</td>\n",
       "      <td>2015-04-05</td>\n",
       "      <td>93.6</td>\n",
       "      <td>2.5520</td>\n",
       "      <td>5.5293</td>\n",
       "      <td>Jon Lester</td>\n",
       "      <td>572761.0</td>\n",
       "      <td>452657.0</td>\n",
       "      <td>...</td>\n",
       "      <td>0.0</td>\n",
       "      <td>0.0</td>\n",
       "      <td>0.0</td>\n",
       "      <td>0.0</td>\n",
       "      <td>0.0</td>\n",
       "      <td>0.0</td>\n",
       "      <td>0.0</td>\n",
       "      <td>0.0</td>\n",
       "      <td>NaN</td>\n",
       "      <td>NaN</td>\n",
       "    </tr>\n",
       "    <tr>\n",
       "      <td>2139918</td>\n",
       "      <td>702490</td>\n",
       "      <td>17583</td>\n",
       "      <td>FF</td>\n",
       "      <td>2015-04-05</td>\n",
       "      <td>93.4</td>\n",
       "      <td>2.5694</td>\n",
       "      <td>5.6476</td>\n",
       "      <td>Jon Lester</td>\n",
       "      <td>572761.0</td>\n",
       "      <td>452657.0</td>\n",
       "      <td>...</td>\n",
       "      <td>0.0</td>\n",
       "      <td>0.0</td>\n",
       "      <td>0.0</td>\n",
       "      <td>0.0</td>\n",
       "      <td>0.0</td>\n",
       "      <td>0.0</td>\n",
       "      <td>0.0</td>\n",
       "      <td>0.0</td>\n",
       "      <td>NaN</td>\n",
       "      <td>NaN</td>\n",
       "    </tr>\n",
       "    <tr>\n",
       "      <td>2139917</td>\n",
       "      <td>702489</td>\n",
       "      <td>17582</td>\n",
       "      <td>FF</td>\n",
       "      <td>2015-04-05</td>\n",
       "      <td>94.8</td>\n",
       "      <td>2.6266</td>\n",
       "      <td>5.2936</td>\n",
       "      <td>Jon Lester</td>\n",
       "      <td>572761.0</td>\n",
       "      <td>452657.0</td>\n",
       "      <td>...</td>\n",
       "      <td>0.0</td>\n",
       "      <td>0.0</td>\n",
       "      <td>0.0</td>\n",
       "      <td>0.0</td>\n",
       "      <td>0.0</td>\n",
       "      <td>0.0</td>\n",
       "      <td>0.0</td>\n",
       "      <td>0.0</td>\n",
       "      <td>NaN</td>\n",
       "      <td>NaN</td>\n",
       "    </tr>\n",
       "    <tr>\n",
       "      <td>2139916</td>\n",
       "      <td>702488</td>\n",
       "      <td>17581</td>\n",
       "      <td>FF</td>\n",
       "      <td>2015-04-05</td>\n",
       "      <td>91.6</td>\n",
       "      <td>NaN</td>\n",
       "      <td>NaN</td>\n",
       "      <td>Jon Lester</td>\n",
       "      <td>572761.0</td>\n",
       "      <td>452657.0</td>\n",
       "      <td>...</td>\n",
       "      <td>0.0</td>\n",
       "      <td>0.0</td>\n",
       "      <td>0.0</td>\n",
       "      <td>0.0</td>\n",
       "      <td>0.0</td>\n",
       "      <td>0.0</td>\n",
       "      <td>0.0</td>\n",
       "      <td>0.0</td>\n",
       "      <td>NaN</td>\n",
       "      <td>NaN</td>\n",
       "    </tr>\n",
       "    <tr>\n",
       "      <td>2139915</td>\n",
       "      <td>702487</td>\n",
       "      <td>17580</td>\n",
       "      <td>CU</td>\n",
       "      <td>2015-04-05</td>\n",
       "      <td>75.9</td>\n",
       "      <td>NaN</td>\n",
       "      <td>NaN</td>\n",
       "      <td>Jon Lester</td>\n",
       "      <td>572761.0</td>\n",
       "      <td>452657.0</td>\n",
       "      <td>...</td>\n",
       "      <td>0.0</td>\n",
       "      <td>0.0</td>\n",
       "      <td>0.0</td>\n",
       "      <td>0.0</td>\n",
       "      <td>0.0</td>\n",
       "      <td>0.0</td>\n",
       "      <td>0.0</td>\n",
       "      <td>0.0</td>\n",
       "      <td>NaN</td>\n",
       "      <td>NaN</td>\n",
       "    </tr>\n",
       "    <tr>\n",
       "      <td>4</td>\n",
       "      <td>4</td>\n",
       "      <td>650</td>\n",
       "      <td>FT</td>\n",
       "      <td>2017-10-01</td>\n",
       "      <td>95.9</td>\n",
       "      <td>-0.8903</td>\n",
       "      <td>6.1341</td>\n",
       "      <td>Roberto Osuna</td>\n",
       "      <td>595885.0</td>\n",
       "      <td>532077.0</td>\n",
       "      <td>...</td>\n",
       "      <td>1.0</td>\n",
       "      <td>2.0</td>\n",
       "      <td>1.0</td>\n",
       "      <td>2.0</td>\n",
       "      <td>2.0</td>\n",
       "      <td>1.0</td>\n",
       "      <td>1.0</td>\n",
       "      <td>2.0</td>\n",
       "      <td>Infield shift</td>\n",
       "      <td>Strategic</td>\n",
       "    </tr>\n",
       "    <tr>\n",
       "      <td>3</td>\n",
       "      <td>3</td>\n",
       "      <td>636</td>\n",
       "      <td>CH</td>\n",
       "      <td>2017-10-01</td>\n",
       "      <td>82.8</td>\n",
       "      <td>-0.9901</td>\n",
       "      <td>6.0626</td>\n",
       "      <td>Roberto Osuna</td>\n",
       "      <td>595885.0</td>\n",
       "      <td>532077.0</td>\n",
       "      <td>...</td>\n",
       "      <td>1.0</td>\n",
       "      <td>2.0</td>\n",
       "      <td>1.0</td>\n",
       "      <td>2.0</td>\n",
       "      <td>2.0</td>\n",
       "      <td>1.0</td>\n",
       "      <td>1.0</td>\n",
       "      <td>2.0</td>\n",
       "      <td>Infield shift</td>\n",
       "      <td>Strategic</td>\n",
       "    </tr>\n",
       "    <tr>\n",
       "      <td>2</td>\n",
       "      <td>2</td>\n",
       "      <td>620</td>\n",
       "      <td>FF</td>\n",
       "      <td>2017-10-01</td>\n",
       "      <td>94.7</td>\n",
       "      <td>-0.6208</td>\n",
       "      <td>6.3387</td>\n",
       "      <td>Roberto Osuna</td>\n",
       "      <td>595885.0</td>\n",
       "      <td>532077.0</td>\n",
       "      <td>...</td>\n",
       "      <td>1.0</td>\n",
       "      <td>2.0</td>\n",
       "      <td>1.0</td>\n",
       "      <td>2.0</td>\n",
       "      <td>2.0</td>\n",
       "      <td>1.0</td>\n",
       "      <td>1.0</td>\n",
       "      <td>2.0</td>\n",
       "      <td>Infield shift</td>\n",
       "      <td>Strategic</td>\n",
       "    </tr>\n",
       "    <tr>\n",
       "      <td>1</td>\n",
       "      <td>1</td>\n",
       "      <td>615</td>\n",
       "      <td>FC</td>\n",
       "      <td>2017-10-01</td>\n",
       "      <td>91.8</td>\n",
       "      <td>-1.0777</td>\n",
       "      <td>6.1772</td>\n",
       "      <td>Roberto Osuna</td>\n",
       "      <td>595885.0</td>\n",
       "      <td>532077.0</td>\n",
       "      <td>...</td>\n",
       "      <td>1.0</td>\n",
       "      <td>2.0</td>\n",
       "      <td>1.0</td>\n",
       "      <td>2.0</td>\n",
       "      <td>2.0</td>\n",
       "      <td>1.0</td>\n",
       "      <td>1.0</td>\n",
       "      <td>2.0</td>\n",
       "      <td>Infield shift</td>\n",
       "      <td>Strategic</td>\n",
       "    </tr>\n",
       "    <tr>\n",
       "      <td>0</td>\n",
       "      <td>0</td>\n",
       "      <td>597</td>\n",
       "      <td>FC</td>\n",
       "      <td>2017-10-01</td>\n",
       "      <td>91.9</td>\n",
       "      <td>-1.1948</td>\n",
       "      <td>5.9921</td>\n",
       "      <td>Roberto Osuna</td>\n",
       "      <td>595885.0</td>\n",
       "      <td>532077.0</td>\n",
       "      <td>...</td>\n",
       "      <td>1.0</td>\n",
       "      <td>2.0</td>\n",
       "      <td>1.0</td>\n",
       "      <td>2.0</td>\n",
       "      <td>2.0</td>\n",
       "      <td>1.0</td>\n",
       "      <td>1.0</td>\n",
       "      <td>2.0</td>\n",
       "      <td>NaN</td>\n",
       "      <td>NaN</td>\n",
       "    </tr>\n",
       "  </tbody>\n",
       "</table>\n",
       "<p>10 rows × 91 columns</p>\n",
       "</div>"
      ],
      "text/plain": [
       "         Unnamed: 0  index pitch_type   game_date  release_speed  \\\n",
       "2139919      702491  17584         FF  2015-04-05           93.6   \n",
       "2139918      702490  17583         FF  2015-04-05           93.4   \n",
       "2139917      702489  17582         FF  2015-04-05           94.8   \n",
       "2139916      702488  17581         FF  2015-04-05           91.6   \n",
       "2139915      702487  17580         CU  2015-04-05           75.9   \n",
       "4                 4    650         FT  2017-10-01           95.9   \n",
       "3                 3    636         CH  2017-10-01           82.8   \n",
       "2                 2    620         FF  2017-10-01           94.7   \n",
       "1                 1    615         FC  2017-10-01           91.8   \n",
       "0                 0    597         FC  2017-10-01           91.9   \n",
       "\n",
       "         release_pos_x  release_pos_z    player_name    batter   pitcher  ...  \\\n",
       "2139919         2.5520         5.5293     Jon Lester  572761.0  452657.0  ...   \n",
       "2139918         2.5694         5.6476     Jon Lester  572761.0  452657.0  ...   \n",
       "2139917         2.6266         5.2936     Jon Lester  572761.0  452657.0  ...   \n",
       "2139916            NaN            NaN     Jon Lester  572761.0  452657.0  ...   \n",
       "2139915            NaN            NaN     Jon Lester  572761.0  452657.0  ...   \n",
       "4              -0.8903         6.1341  Roberto Osuna  595885.0  532077.0  ...   \n",
       "3              -0.9901         6.0626  Roberto Osuna  595885.0  532077.0  ...   \n",
       "2              -0.6208         6.3387  Roberto Osuna  595885.0  532077.0  ...   \n",
       "1              -1.0777         6.1772  Roberto Osuna  595885.0  532077.0  ...   \n",
       "0              -1.1948         5.9921  Roberto Osuna  595885.0  532077.0  ...   \n",
       "\n",
       "        home_score away_score  bat_score  fld_score  post_away_score  \\\n",
       "2139919        0.0        0.0        0.0        0.0              0.0   \n",
       "2139918        0.0        0.0        0.0        0.0              0.0   \n",
       "2139917        0.0        0.0        0.0        0.0              0.0   \n",
       "2139916        0.0        0.0        0.0        0.0              0.0   \n",
       "2139915        0.0        0.0        0.0        0.0              0.0   \n",
       "4              1.0        2.0        1.0        2.0              2.0   \n",
       "3              1.0        2.0        1.0        2.0              2.0   \n",
       "2              1.0        2.0        1.0        2.0              2.0   \n",
       "1              1.0        2.0        1.0        2.0              2.0   \n",
       "0              1.0        2.0        1.0        2.0              2.0   \n",
       "\n",
       "         post_home_score  post_bat_score post_fld_score if_fielding_alignment  \\\n",
       "2139919              0.0             0.0            0.0                   NaN   \n",
       "2139918              0.0             0.0            0.0                   NaN   \n",
       "2139917              0.0             0.0            0.0                   NaN   \n",
       "2139916              0.0             0.0            0.0                   NaN   \n",
       "2139915              0.0             0.0            0.0                   NaN   \n",
       "4                    1.0             1.0            2.0         Infield shift   \n",
       "3                    1.0             1.0            2.0         Infield shift   \n",
       "2                    1.0             1.0            2.0         Infield shift   \n",
       "1                    1.0             1.0            2.0         Infield shift   \n",
       "0                    1.0             1.0            2.0                   NaN   \n",
       "\n",
       "        of_fielding_alignment  \n",
       "2139919                   NaN  \n",
       "2139918                   NaN  \n",
       "2139917                   NaN  \n",
       "2139916                   NaN  \n",
       "2139915                   NaN  \n",
       "4                   Strategic  \n",
       "3                   Strategic  \n",
       "2                   Strategic  \n",
       "1                   Strategic  \n",
       "0                         NaN  \n",
       "\n",
       "[10 rows x 91 columns]"
      ]
     },
     "execution_count": 10,
     "metadata": {},
     "output_type": "execute_result"
    }
   ],
   "source": [
    "# Print the first 5 rows and the last 5 rows of the DataFrame\n",
    "all_MLB_teams2015_2017.head().append(all_MLB_teams2015_2017.tail())"
   ]
  },
  {
   "cell_type": "markdown",
   "metadata": {},
   "source": [
    "#### Identifying important columns to include in the DataFrame."
   ]
  },
  {
   "cell_type": "code",
   "execution_count": 11,
   "metadata": {},
   "outputs": [],
   "source": [
    "# Select multiple columns\n",
    "# Note: release_speed = Pitch Velocity (MPH)\n",
    "#       bb_type = Batted Ball Type\n",
    "#       launch_speed = Exit Velocity (MPH)\n",
    "#       launch_angle = Launch Angle (Degrees)\n",
    "baseball_cols = ['game_date', 'home_team', 'away_team', 'player_name', 'pitcher', 'pitch_type', 'pitch_name', 'release_speed',\n",
    "                 'batter', 'events', 'description', 'bb_type', 'des', 'launch_speed', 'launch_angle', 'hit_distance_sc'] \n",
    "all_MLB_teams2015_2017_new = all_MLB_teams2015_2017[baseball_cols]"
   ]
  },
  {
   "cell_type": "code",
   "execution_count": 12,
   "metadata": {
    "scrolled": true
   },
   "outputs": [
    {
     "name": "stdout",
     "output_type": "stream",
     "text": [
      "Rows: 2139920, Cols: 16\n"
     ]
    }
   ],
   "source": [
    "# Return the number of rows and columns (dimensionality) of the DataFrame\n",
    "print('Rows: {}, Cols: {}'.format(all_MLB_teams2015_2017_new.shape[0], all_MLB_teams2015_2017_new.shape[1]))"
   ]
  },
  {
   "cell_type": "code",
   "execution_count": 13,
   "metadata": {},
   "outputs": [
    {
     "data": {
      "text/html": [
       "<div>\n",
       "<style scoped>\n",
       "    .dataframe tbody tr th:only-of-type {\n",
       "        vertical-align: middle;\n",
       "    }\n",
       "\n",
       "    .dataframe tbody tr th {\n",
       "        vertical-align: top;\n",
       "    }\n",
       "\n",
       "    .dataframe thead th {\n",
       "        text-align: right;\n",
       "    }\n",
       "</style>\n",
       "<table border=\"1\" class=\"dataframe\">\n",
       "  <thead>\n",
       "    <tr style=\"text-align: right;\">\n",
       "      <th></th>\n",
       "      <th>game_date</th>\n",
       "      <th>home_team</th>\n",
       "      <th>away_team</th>\n",
       "      <th>player_name</th>\n",
       "      <th>pitcher</th>\n",
       "      <th>pitch_type</th>\n",
       "      <th>pitch_name</th>\n",
       "      <th>release_speed</th>\n",
       "      <th>batter</th>\n",
       "      <th>events</th>\n",
       "      <th>description</th>\n",
       "      <th>bb_type</th>\n",
       "      <th>des</th>\n",
       "      <th>launch_speed</th>\n",
       "      <th>launch_angle</th>\n",
       "      <th>hit_distance_sc</th>\n",
       "    </tr>\n",
       "  </thead>\n",
       "  <tbody>\n",
       "    <tr>\n",
       "      <td>2139919</td>\n",
       "      <td>2015-04-05</td>\n",
       "      <td>CHC</td>\n",
       "      <td>STL</td>\n",
       "      <td>Jon Lester</td>\n",
       "      <td>452657.0</td>\n",
       "      <td>FF</td>\n",
       "      <td>4-Seam Fastball</td>\n",
       "      <td>93.6</td>\n",
       "      <td>572761.0</td>\n",
       "      <td>NaN</td>\n",
       "      <td>called_strike</td>\n",
       "      <td>NaN</td>\n",
       "      <td>NaN</td>\n",
       "      <td>NaN</td>\n",
       "      <td>NaN</td>\n",
       "      <td>NaN</td>\n",
       "    </tr>\n",
       "    <tr>\n",
       "      <td>2139918</td>\n",
       "      <td>2015-04-05</td>\n",
       "      <td>CHC</td>\n",
       "      <td>STL</td>\n",
       "      <td>Jon Lester</td>\n",
       "      <td>452657.0</td>\n",
       "      <td>FF</td>\n",
       "      <td>4-Seam Fastball</td>\n",
       "      <td>93.4</td>\n",
       "      <td>572761.0</td>\n",
       "      <td>NaN</td>\n",
       "      <td>swinging_strike</td>\n",
       "      <td>NaN</td>\n",
       "      <td>NaN</td>\n",
       "      <td>NaN</td>\n",
       "      <td>NaN</td>\n",
       "      <td>NaN</td>\n",
       "    </tr>\n",
       "    <tr>\n",
       "      <td>2139917</td>\n",
       "      <td>2015-04-05</td>\n",
       "      <td>CHC</td>\n",
       "      <td>STL</td>\n",
       "      <td>Jon Lester</td>\n",
       "      <td>452657.0</td>\n",
       "      <td>FF</td>\n",
       "      <td>4-Seam Fastball</td>\n",
       "      <td>94.8</td>\n",
       "      <td>572761.0</td>\n",
       "      <td>NaN</td>\n",
       "      <td>foul</td>\n",
       "      <td>NaN</td>\n",
       "      <td>NaN</td>\n",
       "      <td>NaN</td>\n",
       "      <td>NaN</td>\n",
       "      <td>NaN</td>\n",
       "    </tr>\n",
       "    <tr>\n",
       "      <td>2139916</td>\n",
       "      <td>2015-04-05</td>\n",
       "      <td>CHC</td>\n",
       "      <td>STL</td>\n",
       "      <td>Jon Lester</td>\n",
       "      <td>452657.0</td>\n",
       "      <td>FF</td>\n",
       "      <td>4-Seam Fastball</td>\n",
       "      <td>91.6</td>\n",
       "      <td>572761.0</td>\n",
       "      <td>NaN</td>\n",
       "      <td>ball</td>\n",
       "      <td>NaN</td>\n",
       "      <td>NaN</td>\n",
       "      <td>NaN</td>\n",
       "      <td>NaN</td>\n",
       "      <td>NaN</td>\n",
       "    </tr>\n",
       "    <tr>\n",
       "      <td>2139915</td>\n",
       "      <td>2015-04-05</td>\n",
       "      <td>CHC</td>\n",
       "      <td>STL</td>\n",
       "      <td>Jon Lester</td>\n",
       "      <td>452657.0</td>\n",
       "      <td>CU</td>\n",
       "      <td>Curveball</td>\n",
       "      <td>75.9</td>\n",
       "      <td>572761.0</td>\n",
       "      <td>NaN</td>\n",
       "      <td>ball</td>\n",
       "      <td>NaN</td>\n",
       "      <td>NaN</td>\n",
       "      <td>NaN</td>\n",
       "      <td>NaN</td>\n",
       "      <td>NaN</td>\n",
       "    </tr>\n",
       "  </tbody>\n",
       "</table>\n",
       "</div>"
      ],
      "text/plain": [
       "          game_date home_team away_team player_name   pitcher pitch_type  \\\n",
       "2139919  2015-04-05       CHC       STL  Jon Lester  452657.0         FF   \n",
       "2139918  2015-04-05       CHC       STL  Jon Lester  452657.0         FF   \n",
       "2139917  2015-04-05       CHC       STL  Jon Lester  452657.0         FF   \n",
       "2139916  2015-04-05       CHC       STL  Jon Lester  452657.0         FF   \n",
       "2139915  2015-04-05       CHC       STL  Jon Lester  452657.0         CU   \n",
       "\n",
       "              pitch_name  release_speed    batter events      description  \\\n",
       "2139919  4-Seam Fastball           93.6  572761.0    NaN    called_strike   \n",
       "2139918  4-Seam Fastball           93.4  572761.0    NaN  swinging_strike   \n",
       "2139917  4-Seam Fastball           94.8  572761.0    NaN             foul   \n",
       "2139916  4-Seam Fastball           91.6  572761.0    NaN             ball   \n",
       "2139915        Curveball           75.9  572761.0    NaN             ball   \n",
       "\n",
       "        bb_type  des  launch_speed  launch_angle  hit_distance_sc  \n",
       "2139919     NaN  NaN           NaN           NaN              NaN  \n",
       "2139918     NaN  NaN           NaN           NaN              NaN  \n",
       "2139917     NaN  NaN           NaN           NaN              NaN  \n",
       "2139916     NaN  NaN           NaN           NaN              NaN  \n",
       "2139915     NaN  NaN           NaN           NaN              NaN  "
      ]
     },
     "execution_count": 13,
     "metadata": {},
     "output_type": "execute_result"
    }
   ],
   "source": [
    "# Print the first 5 rows of the DataFrame\n",
    "all_MLB_teams2015_2017_new.head()"
   ]
  },
  {
   "cell_type": "code",
   "execution_count": 14,
   "metadata": {},
   "outputs": [],
   "source": [
    "# Rename one or more columns in the original DataFrame rather than returning a new view\n",
    "all_MLB_teams2015_2017_new = all_MLB_teams2015_2017_new.rename(columns={'release_speed': 'pitch_velocity',\n",
    "                                                                        'bb_type': 'batted_ball_type',\n",
    "                                                                        'launch_speed': 'exit_velocity'})"
   ]
  },
  {
   "cell_type": "code",
   "execution_count": 15,
   "metadata": {},
   "outputs": [
    {
     "name": "stdout",
     "output_type": "stream",
     "text": [
      "<class 'pandas.core.frame.DataFrame'>\n",
      "Int64Index: 2139920 entries, 2139919 to 0\n",
      "Data columns (total 16 columns):\n",
      "game_date           object\n",
      "home_team           object\n",
      "away_team           object\n",
      "player_name         object\n",
      "pitcher             float64\n",
      "pitch_type          object\n",
      "pitch_name          object\n",
      "pitch_velocity      float64\n",
      "batter              float64\n",
      "events              object\n",
      "description         object\n",
      "batted_ball_type    object\n",
      "des                 object\n",
      "exit_velocity       float64\n",
      "launch_angle        float64\n",
      "hit_distance_sc     float64\n",
      "dtypes: float64(6), object(10)\n",
      "memory usage: 277.5+ MB\n"
     ]
    }
   ],
   "source": [
    "# Print a concise summary of a DataFrame including the index dtype and column dtypes, non-null values, and memory usage\n",
    "# Note: Useful to quickly see if null values exist \n",
    "all_MLB_teams2015_2017_new.info()"
   ]
  },
  {
   "cell_type": "markdown",
   "metadata": {},
   "source": [
    "### Handling Missing Values"
   ]
  },
  {
   "cell_type": "code",
   "execution_count": 16,
   "metadata": {},
   "outputs": [
    {
     "data": {
      "text/plain": [
       "game_date                 0\n",
       "home_team                 0\n",
       "away_team                 0\n",
       "player_name               0\n",
       "pitcher                   0\n",
       "pitch_type             3814\n",
       "pitch_name             3814\n",
       "pitch_velocity         2505\n",
       "batter                    0\n",
       "events              1586052\n",
       "description               0\n",
       "batted_ball_type    1752979\n",
       "des                 1586054\n",
       "exit_velocity       1585044\n",
       "launch_angle        1585019\n",
       "hit_distance_sc     1631442\n",
       "dtype: int64"
      ]
     },
     "execution_count": 16,
     "metadata": {},
     "output_type": "execute_result"
    }
   ],
   "source": [
    "# Count the missing values in each column of a DataFrame - sum() works because True is 1 and False is 0\n",
    "all_MLB_teams2015_2017_new.isnull().sum()"
   ]
  },
  {
   "cell_type": "code",
   "execution_count": 17,
   "metadata": {},
   "outputs": [
    {
     "data": {
      "image/png": "[encoded data removed]",
      "text/plain": [
       "<Figure size 720x576 with 1 Axes>"
      ]
     },
     "metadata": {
      "needs_background": "light"
     },
     "output_type": "display_data"
    }
   ],
   "source": [
    "# Create a vertical bar plot by number of missing values per column using matplotlib\n",
    "# Note: figsize: a tuple (width, height) in inches\n",
    "all_MLB_teams2015_2017_new.isnull().sum().plot.bar(figsize=(10, 8));\n",
    "plt.title('Number of null values per column');"
   ]
  },
  {
   "cell_type": "markdown",
   "metadata": {},
   "source": [
    "#### Approach for excluding records:"
   ]
  },
  {
   "cell_type": "markdown",
   "metadata": {},
   "source": [
    "Each record represents an interaction between a pitcher and a batter (i.e., a pitch thrown by the pitcher to the batter).  The goal is to keep any interaction for which Statcast could provide valid measurements for the metrics `launch_speed`, `launch_angle`, and `hit_distance_sc`.\n",
    "\n",
    "In order to do so, non-batted ball records will be excluded. <br>\n",
    "\n",
    "- Drop all `events` = NaN which represent interactions where the batter did not make contact with the ball or the batter made contact with the ball but it was hit foul (e.g., ball, foul, called strike, swinging strike, blocked ball, foul tip, intentional ball, foul bunt, swinging strike blocked, missed bunt, pitchout)\n",
    "\n",
    "- Drop all `batted_ball_type` = NaN which represents other remaining events where there was not a batted ball (e.g., strikeout, walk, hit by pitch, intentional walk, caught stealing, etc.)"
   ]
  },
  {
   "cell_type": "markdown",
   "metadata": {},
   "source": [
    "#### Examine `events` column for missingness."
   ]
  },
  {
   "cell_type": "code",
   "execution_count": 18,
   "metadata": {},
   "outputs": [
    {
     "data": {
      "text/plain": [
       "NaN                             1586052\n",
       "field_out                        223381\n",
       "strikeout                        116120\n",
       "single                            82491\n",
       "walk                              42138\n",
       "double                            24898\n",
       "home_run                          16629\n",
       "force_out                         11500\n",
       "grounded_into_double_play         11266\n",
       "hit_by_pitch                       5019\n",
       "field_error                        4816\n",
       "sac_fly                            3549\n",
       "sac_bunt                           3149\n",
       "triple                             2607\n",
       "intent_walk                        1884\n",
       "double_play                        1348\n",
       "fielders_choice_out                 919\n",
       "caught_stealing_2b                  696\n",
       "strikeout_double_play               435\n",
       "fielders_choice                     301\n",
       "pickoff_caught_stealing_2b          131\n",
       "other_out                           120\n",
       "catcher_interf                      113\n",
       "pickoff_1b                           95\n",
       "sac_fly_double_play                  66\n",
       "caught_stealing_3b                   56\n",
       "pickoff_2b                           55\n",
       "caught_stealing_home                 29\n",
       "triple_play                          18\n",
       "run                                  16\n",
       "pickoff_caught_stealing_3b           10\n",
       "batter_interference                   4\n",
       "sac_bunt_double_play                  3\n",
       "pickoff_caught_stealing_home          3\n",
       "pickoff_3b                            3\n",
       "Name: events, dtype: int64"
      ]
     },
     "execution_count": 18,
     "metadata": {},
     "output_type": "execute_result"
    }
   ],
   "source": [
    "# Categorical column frequency\n",
    "# Returns counts of unique values in descending order (first element is the most frequently-occurring element)\n",
    "# Note: Excludes NA values by default\n",
    "all_MLB_teams2015_2017_new.events.value_counts(dropna=False)"
   ]
  },
  {
   "cell_type": "code",
   "execution_count": 19,
   "metadata": {},
   "outputs": [
    {
     "data": {
      "text/html": [
       "<div>\n",
       "<style scoped>\n",
       "    .dataframe tbody tr th:only-of-type {\n",
       "        vertical-align: middle;\n",
       "    }\n",
       "\n",
       "    .dataframe tbody tr th {\n",
       "        vertical-align: top;\n",
       "    }\n",
       "\n",
       "    .dataframe thead th {\n",
       "        text-align: right;\n",
       "    }\n",
       "</style>\n",
       "<table border=\"1\" class=\"dataframe\">\n",
       "  <thead>\n",
       "    <tr style=\"text-align: right;\">\n",
       "      <th></th>\n",
       "      <th>game_date</th>\n",
       "      <th>home_team</th>\n",
       "      <th>away_team</th>\n",
       "      <th>player_name</th>\n",
       "      <th>pitcher</th>\n",
       "      <th>pitch_type</th>\n",
       "      <th>pitch_name</th>\n",
       "      <th>pitch_velocity</th>\n",
       "      <th>batter</th>\n",
       "      <th>events</th>\n",
       "      <th>description</th>\n",
       "      <th>batted_ball_type</th>\n",
       "      <th>des</th>\n",
       "      <th>exit_velocity</th>\n",
       "      <th>launch_angle</th>\n",
       "      <th>hit_distance_sc</th>\n",
       "    </tr>\n",
       "  </thead>\n",
       "  <tbody>\n",
       "    <tr>\n",
       "      <td>2139919</td>\n",
       "      <td>2015-04-05</td>\n",
       "      <td>CHC</td>\n",
       "      <td>STL</td>\n",
       "      <td>Jon Lester</td>\n",
       "      <td>452657.0</td>\n",
       "      <td>FF</td>\n",
       "      <td>4-Seam Fastball</td>\n",
       "      <td>93.6</td>\n",
       "      <td>572761.0</td>\n",
       "      <td>NaN</td>\n",
       "      <td>called_strike</td>\n",
       "      <td>NaN</td>\n",
       "      <td>NaN</td>\n",
       "      <td>NaN</td>\n",
       "      <td>NaN</td>\n",
       "      <td>NaN</td>\n",
       "    </tr>\n",
       "    <tr>\n",
       "      <td>2139918</td>\n",
       "      <td>2015-04-05</td>\n",
       "      <td>CHC</td>\n",
       "      <td>STL</td>\n",
       "      <td>Jon Lester</td>\n",
       "      <td>452657.0</td>\n",
       "      <td>FF</td>\n",
       "      <td>4-Seam Fastball</td>\n",
       "      <td>93.4</td>\n",
       "      <td>572761.0</td>\n",
       "      <td>NaN</td>\n",
       "      <td>swinging_strike</td>\n",
       "      <td>NaN</td>\n",
       "      <td>NaN</td>\n",
       "      <td>NaN</td>\n",
       "      <td>NaN</td>\n",
       "      <td>NaN</td>\n",
       "    </tr>\n",
       "    <tr>\n",
       "      <td>2139917</td>\n",
       "      <td>2015-04-05</td>\n",
       "      <td>CHC</td>\n",
       "      <td>STL</td>\n",
       "      <td>Jon Lester</td>\n",
       "      <td>452657.0</td>\n",
       "      <td>FF</td>\n",
       "      <td>4-Seam Fastball</td>\n",
       "      <td>94.8</td>\n",
       "      <td>572761.0</td>\n",
       "      <td>NaN</td>\n",
       "      <td>foul</td>\n",
       "      <td>NaN</td>\n",
       "      <td>NaN</td>\n",
       "      <td>NaN</td>\n",
       "      <td>NaN</td>\n",
       "      <td>NaN</td>\n",
       "    </tr>\n",
       "    <tr>\n",
       "      <td>2139916</td>\n",
       "      <td>2015-04-05</td>\n",
       "      <td>CHC</td>\n",
       "      <td>STL</td>\n",
       "      <td>Jon Lester</td>\n",
       "      <td>452657.0</td>\n",
       "      <td>FF</td>\n",
       "      <td>4-Seam Fastball</td>\n",
       "      <td>91.6</td>\n",
       "      <td>572761.0</td>\n",
       "      <td>NaN</td>\n",
       "      <td>ball</td>\n",
       "      <td>NaN</td>\n",
       "      <td>NaN</td>\n",
       "      <td>NaN</td>\n",
       "      <td>NaN</td>\n",
       "      <td>NaN</td>\n",
       "    </tr>\n",
       "    <tr>\n",
       "      <td>2139915</td>\n",
       "      <td>2015-04-05</td>\n",
       "      <td>CHC</td>\n",
       "      <td>STL</td>\n",
       "      <td>Jon Lester</td>\n",
       "      <td>452657.0</td>\n",
       "      <td>CU</td>\n",
       "      <td>Curveball</td>\n",
       "      <td>75.9</td>\n",
       "      <td>572761.0</td>\n",
       "      <td>NaN</td>\n",
       "      <td>ball</td>\n",
       "      <td>NaN</td>\n",
       "      <td>NaN</td>\n",
       "      <td>NaN</td>\n",
       "      <td>NaN</td>\n",
       "      <td>NaN</td>\n",
       "    </tr>\n",
       "    <tr>\n",
       "      <td>...</td>\n",
       "      <td>...</td>\n",
       "      <td>...</td>\n",
       "      <td>...</td>\n",
       "      <td>...</td>\n",
       "      <td>...</td>\n",
       "      <td>...</td>\n",
       "      <td>...</td>\n",
       "      <td>...</td>\n",
       "      <td>...</td>\n",
       "      <td>...</td>\n",
       "      <td>...</td>\n",
       "      <td>...</td>\n",
       "      <td>...</td>\n",
       "      <td>...</td>\n",
       "      <td>...</td>\n",
       "      <td>...</td>\n",
       "    </tr>\n",
       "    <tr>\n",
       "      <td>5</td>\n",
       "      <td>2017-10-01</td>\n",
       "      <td>NYY</td>\n",
       "      <td>TOR</td>\n",
       "      <td>Roberto Osuna</td>\n",
       "      <td>532077.0</td>\n",
       "      <td>FF</td>\n",
       "      <td>4-Seam Fastball</td>\n",
       "      <td>96.0</td>\n",
       "      <td>595885.0</td>\n",
       "      <td>NaN</td>\n",
       "      <td>called_strike</td>\n",
       "      <td>NaN</td>\n",
       "      <td>NaN</td>\n",
       "      <td>NaN</td>\n",
       "      <td>NaN</td>\n",
       "      <td>NaN</td>\n",
       "    </tr>\n",
       "    <tr>\n",
       "      <td>4</td>\n",
       "      <td>2017-10-01</td>\n",
       "      <td>NYY</td>\n",
       "      <td>TOR</td>\n",
       "      <td>Roberto Osuna</td>\n",
       "      <td>532077.0</td>\n",
       "      <td>FT</td>\n",
       "      <td>2-Seam Fastball</td>\n",
       "      <td>95.9</td>\n",
       "      <td>595885.0</td>\n",
       "      <td>NaN</td>\n",
       "      <td>ball</td>\n",
       "      <td>NaN</td>\n",
       "      <td>NaN</td>\n",
       "      <td>NaN</td>\n",
       "      <td>NaN</td>\n",
       "      <td>NaN</td>\n",
       "    </tr>\n",
       "    <tr>\n",
       "      <td>3</td>\n",
       "      <td>2017-10-01</td>\n",
       "      <td>NYY</td>\n",
       "      <td>TOR</td>\n",
       "      <td>Roberto Osuna</td>\n",
       "      <td>532077.0</td>\n",
       "      <td>CH</td>\n",
       "      <td>Changeup</td>\n",
       "      <td>82.8</td>\n",
       "      <td>595885.0</td>\n",
       "      <td>NaN</td>\n",
       "      <td>ball</td>\n",
       "      <td>NaN</td>\n",
       "      <td>NaN</td>\n",
       "      <td>NaN</td>\n",
       "      <td>NaN</td>\n",
       "      <td>NaN</td>\n",
       "    </tr>\n",
       "    <tr>\n",
       "      <td>2</td>\n",
       "      <td>2017-10-01</td>\n",
       "      <td>NYY</td>\n",
       "      <td>TOR</td>\n",
       "      <td>Roberto Osuna</td>\n",
       "      <td>532077.0</td>\n",
       "      <td>FF</td>\n",
       "      <td>4-Seam Fastball</td>\n",
       "      <td>94.7</td>\n",
       "      <td>595885.0</td>\n",
       "      <td>NaN</td>\n",
       "      <td>ball</td>\n",
       "      <td>NaN</td>\n",
       "      <td>NaN</td>\n",
       "      <td>75.0</td>\n",
       "      <td>-7.6433</td>\n",
       "      <td>20.0</td>\n",
       "    </tr>\n",
       "    <tr>\n",
       "      <td>1</td>\n",
       "      <td>2017-10-01</td>\n",
       "      <td>NYY</td>\n",
       "      <td>TOR</td>\n",
       "      <td>Roberto Osuna</td>\n",
       "      <td>532077.0</td>\n",
       "      <td>FC</td>\n",
       "      <td>Cutter</td>\n",
       "      <td>91.8</td>\n",
       "      <td>595885.0</td>\n",
       "      <td>NaN</td>\n",
       "      <td>foul</td>\n",
       "      <td>NaN</td>\n",
       "      <td>NaN</td>\n",
       "      <td>NaN</td>\n",
       "      <td>NaN</td>\n",
       "      <td>NaN</td>\n",
       "    </tr>\n",
       "  </tbody>\n",
       "</table>\n",
       "<p>1586052 rows × 16 columns</p>\n",
       "</div>"
      ],
      "text/plain": [
       "          game_date home_team away_team    player_name   pitcher pitch_type  \\\n",
       "2139919  2015-04-05       CHC       STL     Jon Lester  452657.0         FF   \n",
       "2139918  2015-04-05       CHC       STL     Jon Lester  452657.0         FF   \n",
       "2139917  2015-04-05       CHC       STL     Jon Lester  452657.0         FF   \n",
       "2139916  2015-04-05       CHC       STL     Jon Lester  452657.0         FF   \n",
       "2139915  2015-04-05       CHC       STL     Jon Lester  452657.0         CU   \n",
       "...             ...       ...       ...            ...       ...        ...   \n",
       "5        2017-10-01       NYY       TOR  Roberto Osuna  532077.0         FF   \n",
       "4        2017-10-01       NYY       TOR  Roberto Osuna  532077.0         FT   \n",
       "3        2017-10-01       NYY       TOR  Roberto Osuna  532077.0         CH   \n",
       "2        2017-10-01       NYY       TOR  Roberto Osuna  532077.0         FF   \n",
       "1        2017-10-01       NYY       TOR  Roberto Osuna  532077.0         FC   \n",
       "\n",
       "              pitch_name  pitch_velocity    batter events      description  \\\n",
       "2139919  4-Seam Fastball            93.6  572761.0    NaN    called_strike   \n",
       "2139918  4-Seam Fastball            93.4  572761.0    NaN  swinging_strike   \n",
       "2139917  4-Seam Fastball            94.8  572761.0    NaN             foul   \n",
       "2139916  4-Seam Fastball            91.6  572761.0    NaN             ball   \n",
       "2139915        Curveball            75.9  572761.0    NaN             ball   \n",
       "...                  ...             ...       ...    ...              ...   \n",
       "5        4-Seam Fastball            96.0  595885.0    NaN    called_strike   \n",
       "4        2-Seam Fastball            95.9  595885.0    NaN             ball   \n",
       "3               Changeup            82.8  595885.0    NaN             ball   \n",
       "2        4-Seam Fastball            94.7  595885.0    NaN             ball   \n",
       "1                 Cutter            91.8  595885.0    NaN             foul   \n",
       "\n",
       "        batted_ball_type  des  exit_velocity  launch_angle  hit_distance_sc  \n",
       "2139919              NaN  NaN            NaN           NaN              NaN  \n",
       "2139918              NaN  NaN            NaN           NaN              NaN  \n",
       "2139917              NaN  NaN            NaN           NaN              NaN  \n",
       "2139916              NaN  NaN            NaN           NaN              NaN  \n",
       "2139915              NaN  NaN            NaN           NaN              NaN  \n",
       "...                  ...  ...            ...           ...              ...  \n",
       "5                    NaN  NaN            NaN           NaN              NaN  \n",
       "4                    NaN  NaN            NaN           NaN              NaN  \n",
       "3                    NaN  NaN            NaN           NaN              NaN  \n",
       "2                    NaN  NaN           75.0       -7.6433             20.0  \n",
       "1                    NaN  NaN            NaN           NaN              NaN  \n",
       "\n",
       "[1586052 rows x 16 columns]"
      ]
     },
     "execution_count": 19,
     "metadata": {},
     "output_type": "execute_result"
    }
   ],
   "source": [
    "# Detect missing values in a Series\n",
    "# Note: True if missing, False if not missing\n",
    "#cubs2016_new.events.isna() # alias of isnull()\n",
    "null_events = all_MLB_teams2015_2017_new.events.isnull()\n",
    "all_MLB_teams2015_2017_new[null_events]"
   ]
  },
  {
   "cell_type": "markdown",
   "metadata": {},
   "source": [
    "#### What types of interactions occurred for missing `events`?"
   ]
  },
  {
   "cell_type": "code",
   "execution_count": 20,
   "metadata": {},
   "outputs": [
    {
     "data": {
      "text/plain": [
       "ball                       676751\n",
       "foul                       371731\n",
       "called_strike              333190\n",
       "swinging_strike            131229\n",
       "blocked_ball                45367\n",
       "foul_tip                    10704\n",
       "foul_bunt                    6228\n",
       "intent_ball                  4724\n",
       "swinging_strike_blocked      4312\n",
       "missed_bunt                  1299\n",
       "pitchout                      510\n",
       "swinging_pitchout               4\n",
       "hit_into_play                   1\n",
       "hit_into_play_score             1\n",
       "foul_pitchout                   1\n",
       "Name: description, dtype: int64"
      ]
     },
     "execution_count": 20,
     "metadata": {},
     "output_type": "execute_result"
    }
   ],
   "source": [
    "# Categorical column frequency\n",
    "# Returns counts of unique values in descending order (first element is the most frequently-occurring element)\n",
    "# Note: Excludes NA values by default\n",
    "all_MLB_teams2015_2017_new[null_events].description.value_counts(dropna=False)"
   ]
  },
  {
   "cell_type": "markdown",
   "metadata": {},
   "source": [
    "#### Drop missing values from `events` column."
   ]
  },
  {
   "cell_type": "code",
   "execution_count": 21,
   "metadata": {
    "scrolled": true
   },
   "outputs": [],
   "source": [
    "# Remove missing values\n",
    "# Note: axis=0 (default) drop rows which contain missing values\n",
    "#       how='any' (default) drops rows if ANY missing values are present from any column -- can be dangerous!\n",
    "#       subset: if you are dropping rows these would be a list of columns to include\n",
    "#       inplace=True changes the original DataFrame\n",
    "all_MLB_teams2015_2017_new.dropna(subset=['events'], inplace=True)"
   ]
  },
  {
   "cell_type": "markdown",
   "metadata": {},
   "source": [
    "#### Examine `batted_ball_type` column for missingness."
   ]
  },
  {
   "cell_type": "code",
   "execution_count": 22,
   "metadata": {},
   "outputs": [
    {
     "data": {
      "text/plain": [
       "ground_ball    178646\n",
       "NaN            166927\n",
       "line_drive      99714\n",
       "fly_ball        81752\n",
       "popup           26829\n",
       "Name: batted_ball_type, dtype: int64"
      ]
     },
     "execution_count": 22,
     "metadata": {},
     "output_type": "execute_result"
    }
   ],
   "source": [
    "# Categorical column frequency\n",
    "# Returns counts of unique values in descending order (first element is the most frequently-occurring element)\n",
    "# Note: Excludes NA values by default\n",
    "all_MLB_teams2015_2017_new.batted_ball_type.value_counts(dropna=False)"
   ]
  },
  {
   "cell_type": "code",
   "execution_count": 23,
   "metadata": {},
   "outputs": [
    {
     "data": {
      "text/html": [
       "<div>\n",
       "<style scoped>\n",
       "    .dataframe tbody tr th:only-of-type {\n",
       "        vertical-align: middle;\n",
       "    }\n",
       "\n",
       "    .dataframe tbody tr th {\n",
       "        vertical-align: top;\n",
       "    }\n",
       "\n",
       "    .dataframe thead th {\n",
       "        text-align: right;\n",
       "    }\n",
       "</style>\n",
       "<table border=\"1\" class=\"dataframe\">\n",
       "  <thead>\n",
       "    <tr style=\"text-align: right;\">\n",
       "      <th></th>\n",
       "      <th>game_date</th>\n",
       "      <th>home_team</th>\n",
       "      <th>away_team</th>\n",
       "      <th>player_name</th>\n",
       "      <th>pitcher</th>\n",
       "      <th>pitch_type</th>\n",
       "      <th>pitch_name</th>\n",
       "      <th>pitch_velocity</th>\n",
       "      <th>batter</th>\n",
       "      <th>events</th>\n",
       "      <th>description</th>\n",
       "      <th>batted_ball_type</th>\n",
       "      <th>des</th>\n",
       "      <th>exit_velocity</th>\n",
       "      <th>launch_angle</th>\n",
       "      <th>hit_distance_sc</th>\n",
       "    </tr>\n",
       "  </thead>\n",
       "  <tbody>\n",
       "    <tr>\n",
       "      <td>2139906</td>\n",
       "      <td>2015-04-05</td>\n",
       "      <td>CHC</td>\n",
       "      <td>STL</td>\n",
       "      <td>Jon Lester</td>\n",
       "      <td>452657.0</td>\n",
       "      <td>CU</td>\n",
       "      <td>Curveball</td>\n",
       "      <td>76.8</td>\n",
       "      <td>425509.0</td>\n",
       "      <td>strikeout</td>\n",
       "      <td>swinging_strike</td>\n",
       "      <td>NaN</td>\n",
       "      <td>Jhonny Peralta strikes out swinging.</td>\n",
       "      <td>NaN</td>\n",
       "      <td>NaN</td>\n",
       "      <td>NaN</td>\n",
       "    </tr>\n",
       "    <tr>\n",
       "      <td>2139901</td>\n",
       "      <td>2015-04-05</td>\n",
       "      <td>CHC</td>\n",
       "      <td>STL</td>\n",
       "      <td>Jon Lester</td>\n",
       "      <td>452657.0</td>\n",
       "      <td>FC</td>\n",
       "      <td>Cutter</td>\n",
       "      <td>89.9</td>\n",
       "      <td>571431.0</td>\n",
       "      <td>strikeout</td>\n",
       "      <td>swinging_strike</td>\n",
       "      <td>NaN</td>\n",
       "      <td>Matt Adams strikes out swinging.</td>\n",
       "      <td>NaN</td>\n",
       "      <td>NaN</td>\n",
       "      <td>NaN</td>\n",
       "    </tr>\n",
       "    <tr>\n",
       "      <td>2139890</td>\n",
       "      <td>2015-04-05</td>\n",
       "      <td>CHC</td>\n",
       "      <td>STL</td>\n",
       "      <td>Adam Wainwright</td>\n",
       "      <td>425794.0</td>\n",
       "      <td>FC</td>\n",
       "      <td>Cutter</td>\n",
       "      <td>84.9</td>\n",
       "      <td>519203.0</td>\n",
       "      <td>strikeout</td>\n",
       "      <td>called_strike</td>\n",
       "      <td>NaN</td>\n",
       "      <td>Anthony Rizzo called out on strikes.</td>\n",
       "      <td>NaN</td>\n",
       "      <td>NaN</td>\n",
       "      <td>NaN</td>\n",
       "    </tr>\n",
       "    <tr>\n",
       "      <td>2139882</td>\n",
       "      <td>2015-04-05</td>\n",
       "      <td>CHC</td>\n",
       "      <td>STL</td>\n",
       "      <td>Jon Lester</td>\n",
       "      <td>452657.0</td>\n",
       "      <td>FF</td>\n",
       "      <td>4-Seam Fastball</td>\n",
       "      <td>92.0</td>\n",
       "      <td>425877.0</td>\n",
       "      <td>strikeout</td>\n",
       "      <td>swinging_strike</td>\n",
       "      <td>NaN</td>\n",
       "      <td>Yadier Molina strikes out swinging.</td>\n",
       "      <td>NaN</td>\n",
       "      <td>NaN</td>\n",
       "      <td>NaN</td>\n",
       "    </tr>\n",
       "    <tr>\n",
       "      <td>2139875</td>\n",
       "      <td>2015-04-05</td>\n",
       "      <td>CHC</td>\n",
       "      <td>STL</td>\n",
       "      <td>Jon Lester</td>\n",
       "      <td>452657.0</td>\n",
       "      <td>FF</td>\n",
       "      <td>4-Seam Fastball</td>\n",
       "      <td>89.6</td>\n",
       "      <td>543939.0</td>\n",
       "      <td>walk</td>\n",
       "      <td>ball</td>\n",
       "      <td>NaN</td>\n",
       "      <td>Kolten Wong walks.</td>\n",
       "      <td>NaN</td>\n",
       "      <td>NaN</td>\n",
       "      <td>NaN</td>\n",
       "    </tr>\n",
       "    <tr>\n",
       "      <td>...</td>\n",
       "      <td>...</td>\n",
       "      <td>...</td>\n",
       "      <td>...</td>\n",
       "      <td>...</td>\n",
       "      <td>...</td>\n",
       "      <td>...</td>\n",
       "      <td>...</td>\n",
       "      <td>...</td>\n",
       "      <td>...</td>\n",
       "      <td>...</td>\n",
       "      <td>...</td>\n",
       "      <td>...</td>\n",
       "      <td>...</td>\n",
       "      <td>...</td>\n",
       "      <td>...</td>\n",
       "      <td>...</td>\n",
       "    </tr>\n",
       "    <tr>\n",
       "      <td>50</td>\n",
       "      <td>2017-10-01</td>\n",
       "      <td>NYY</td>\n",
       "      <td>TOR</td>\n",
       "      <td>Domingo German</td>\n",
       "      <td>593334.0</td>\n",
       "      <td>FF</td>\n",
       "      <td>4-Seam Fastball</td>\n",
       "      <td>97.0</td>\n",
       "      <td>606192.0</td>\n",
       "      <td>strikeout</td>\n",
       "      <td>swinging_strike</td>\n",
       "      <td>NaN</td>\n",
       "      <td>Teoscar Hernandez strikes out swinging.</td>\n",
       "      <td>NaN</td>\n",
       "      <td>NaN</td>\n",
       "      <td>NaN</td>\n",
       "    </tr>\n",
       "    <tr>\n",
       "      <td>44</td>\n",
       "      <td>2017-10-01</td>\n",
       "      <td>NYY</td>\n",
       "      <td>TOR</td>\n",
       "      <td>Ryan Tepera</td>\n",
       "      <td>572193.0</td>\n",
       "      <td>FC</td>\n",
       "      <td>Cutter</td>\n",
       "      <td>88.9</td>\n",
       "      <td>592122.0</td>\n",
       "      <td>strikeout</td>\n",
       "      <td>swinging_strike</td>\n",
       "      <td>NaN</td>\n",
       "      <td>Tyler Austin strikes out swinging.</td>\n",
       "      <td>NaN</td>\n",
       "      <td>NaN</td>\n",
       "      <td>NaN</td>\n",
       "    </tr>\n",
       "    <tr>\n",
       "      <td>38</td>\n",
       "      <td>2017-10-01</td>\n",
       "      <td>NYY</td>\n",
       "      <td>TOR</td>\n",
       "      <td>Ryan Tepera</td>\n",
       "      <td>572193.0</td>\n",
       "      <td>FC</td>\n",
       "      <td>Cutter</td>\n",
       "      <td>89.5</td>\n",
       "      <td>543305.0</td>\n",
       "      <td>strikeout</td>\n",
       "      <td>swinging_strike</td>\n",
       "      <td>NaN</td>\n",
       "      <td>Aaron Hicks strikes out swinging.</td>\n",
       "      <td>NaN</td>\n",
       "      <td>NaN</td>\n",
       "      <td>NaN</td>\n",
       "    </tr>\n",
       "    <tr>\n",
       "      <td>29</td>\n",
       "      <td>2017-10-01</td>\n",
       "      <td>NYY</td>\n",
       "      <td>TOR</td>\n",
       "      <td>Ben Heller</td>\n",
       "      <td>621294.0</td>\n",
       "      <td>CU</td>\n",
       "      <td>Curveball</td>\n",
       "      <td>82.8</td>\n",
       "      <td>620446.0</td>\n",
       "      <td>strikeout</td>\n",
       "      <td>swinging_strike</td>\n",
       "      <td>NaN</td>\n",
       "      <td>Richard Urena strikes out swinging.</td>\n",
       "      <td>NaN</td>\n",
       "      <td>NaN</td>\n",
       "      <td>NaN</td>\n",
       "    </tr>\n",
       "    <tr>\n",
       "      <td>12</td>\n",
       "      <td>2017-10-01</td>\n",
       "      <td>NYY</td>\n",
       "      <td>TOR</td>\n",
       "      <td>Roberto Osuna</td>\n",
       "      <td>532077.0</td>\n",
       "      <td>FC</td>\n",
       "      <td>Cutter</td>\n",
       "      <td>91.0</td>\n",
       "      <td>642180.0</td>\n",
       "      <td>strikeout</td>\n",
       "      <td>swinging_strike</td>\n",
       "      <td>NaN</td>\n",
       "      <td>Tyler Wade strikes out swinging.</td>\n",
       "      <td>NaN</td>\n",
       "      <td>NaN</td>\n",
       "      <td>NaN</td>\n",
       "    </tr>\n",
       "  </tbody>\n",
       "</table>\n",
       "<p>166927 rows × 16 columns</p>\n",
       "</div>"
      ],
      "text/plain": [
       "          game_date home_team away_team      player_name   pitcher pitch_type  \\\n",
       "2139906  2015-04-05       CHC       STL       Jon Lester  452657.0         CU   \n",
       "2139901  2015-04-05       CHC       STL       Jon Lester  452657.0         FC   \n",
       "2139890  2015-04-05       CHC       STL  Adam Wainwright  425794.0         FC   \n",
       "2139882  2015-04-05       CHC       STL       Jon Lester  452657.0         FF   \n",
       "2139875  2015-04-05       CHC       STL       Jon Lester  452657.0         FF   \n",
       "...             ...       ...       ...              ...       ...        ...   \n",
       "50       2017-10-01       NYY       TOR   Domingo German  593334.0         FF   \n",
       "44       2017-10-01       NYY       TOR      Ryan Tepera  572193.0         FC   \n",
       "38       2017-10-01       NYY       TOR      Ryan Tepera  572193.0         FC   \n",
       "29       2017-10-01       NYY       TOR       Ben Heller  621294.0         CU   \n",
       "12       2017-10-01       NYY       TOR    Roberto Osuna  532077.0         FC   \n",
       "\n",
       "              pitch_name  pitch_velocity    batter     events  \\\n",
       "2139906        Curveball            76.8  425509.0  strikeout   \n",
       "2139901           Cutter            89.9  571431.0  strikeout   \n",
       "2139890           Cutter            84.9  519203.0  strikeout   \n",
       "2139882  4-Seam Fastball            92.0  425877.0  strikeout   \n",
       "2139875  4-Seam Fastball            89.6  543939.0       walk   \n",
       "...                  ...             ...       ...        ...   \n",
       "50       4-Seam Fastball            97.0  606192.0  strikeout   \n",
       "44                Cutter            88.9  592122.0  strikeout   \n",
       "38                Cutter            89.5  543305.0  strikeout   \n",
       "29             Curveball            82.8  620446.0  strikeout   \n",
       "12                Cutter            91.0  642180.0  strikeout   \n",
       "\n",
       "             description batted_ball_type  \\\n",
       "2139906  swinging_strike              NaN   \n",
       "2139901  swinging_strike              NaN   \n",
       "2139890    called_strike              NaN   \n",
       "2139882  swinging_strike              NaN   \n",
       "2139875             ball              NaN   \n",
       "...                  ...              ...   \n",
       "50       swinging_strike              NaN   \n",
       "44       swinging_strike              NaN   \n",
       "38       swinging_strike              NaN   \n",
       "29       swinging_strike              NaN   \n",
       "12       swinging_strike              NaN   \n",
       "\n",
       "                                               des  exit_velocity  \\\n",
       "2139906       Jhonny Peralta strikes out swinging.            NaN   \n",
       "2139901           Matt Adams strikes out swinging.            NaN   \n",
       "2139890       Anthony Rizzo called out on strikes.            NaN   \n",
       "2139882        Yadier Molina strikes out swinging.            NaN   \n",
       "2139875                         Kolten Wong walks.            NaN   \n",
       "...                                            ...            ...   \n",
       "50       Teoscar Hernandez strikes out swinging.              NaN   \n",
       "44            Tyler Austin strikes out swinging.              NaN   \n",
       "38             Aaron Hicks strikes out swinging.              NaN   \n",
       "29           Richard Urena strikes out swinging.              NaN   \n",
       "12              Tyler Wade strikes out swinging.              NaN   \n",
       "\n",
       "         launch_angle  hit_distance_sc  \n",
       "2139906           NaN              NaN  \n",
       "2139901           NaN              NaN  \n",
       "2139890           NaN              NaN  \n",
       "2139882           NaN              NaN  \n",
       "2139875           NaN              NaN  \n",
       "...               ...              ...  \n",
       "50                NaN              NaN  \n",
       "44                NaN              NaN  \n",
       "38                NaN              NaN  \n",
       "29                NaN              NaN  \n",
       "12                NaN              NaN  \n",
       "\n",
       "[166927 rows x 16 columns]"
      ]
     },
     "execution_count": 23,
     "metadata": {},
     "output_type": "execute_result"
    }
   ],
   "source": [
    "# Detect missing values in a Series\n",
    "# Note: True if missing, False if not missing\n",
    "#all_MLB_teams2015_2017_new.batted_ball_type.isna() # alias of isnull()\n",
    "null_batted_ball_type = all_MLB_teams2015_2017_new.batted_ball_type.isnull()\n",
    "all_MLB_teams2015_2017_new[null_batted_ball_type]"
   ]
  },
  {
   "cell_type": "markdown",
   "metadata": {},
   "source": [
    "#### What types of `events` occurred for missing `batted_ball_type`?"
   ]
  },
  {
   "cell_type": "code",
   "execution_count": 24,
   "metadata": {},
   "outputs": [
    {
     "data": {
      "text/plain": [
       "strikeout                       116120\n",
       "walk                             42138\n",
       "hit_by_pitch                      5019\n",
       "intent_walk                       1884\n",
       "caught_stealing_2b                 696\n",
       "strikeout_double_play              435\n",
       "pickoff_caught_stealing_2b         131\n",
       "other_out                          120\n",
       "catcher_interf                     113\n",
       "pickoff_1b                          95\n",
       "caught_stealing_3b                  56\n",
       "pickoff_2b                          55\n",
       "caught_stealing_home                29\n",
       "run                                 16\n",
       "pickoff_caught_stealing_3b          10\n",
       "batter_interference                  4\n",
       "pickoff_3b                           3\n",
       "pickoff_caught_stealing_home         3\n",
       "Name: events, dtype: int64"
      ]
     },
     "execution_count": 24,
     "metadata": {},
     "output_type": "execute_result"
    }
   ],
   "source": [
    "# Categorical column frequency\n",
    "# Returns counts of unique values in descending order (first element is the most frequently-occurring element)\n",
    "# Note: Excludes NA values by default\n",
    "all_MLB_teams2015_2017_new[null_batted_ball_type].events.value_counts(dropna=False)"
   ]
  },
  {
   "cell_type": "markdown",
   "metadata": {},
   "source": [
    "#### Drop missing values from `batted_ball_type` column."
   ]
  },
  {
   "cell_type": "code",
   "execution_count": 25,
   "metadata": {},
   "outputs": [],
   "source": [
    "# Remove missing values\n",
    "# Note: axis=0 (default) drop rows which contain missing values\n",
    "#       how='any' (default) drops rows if ANY missing values are present from any column -- can be dangerous!\n",
    "#       subset: if you are dropping rows these would be a list of columns to include\n",
    "#       inplace=True changes the original DataFrame\n",
    "all_MLB_teams2015_2017_new.dropna(subset=['batted_ball_type'], inplace=True)"
   ]
  },
  {
   "cell_type": "markdown",
   "metadata": {},
   "source": [
    "#### Confirm whether the values for `events` and `batted_ball_type` are valid (i.e., values could provide valid measurements for Statcast metrics)."
   ]
  },
  {
   "cell_type": "code",
   "execution_count": 26,
   "metadata": {},
   "outputs": [
    {
     "data": {
      "text/plain": [
       "field_out                    223381\n",
       "single                        82491\n",
       "double                        24898\n",
       "home_run                      16629\n",
       "force_out                     11500\n",
       "grounded_into_double_play     11266\n",
       "field_error                    4816\n",
       "sac_fly                        3549\n",
       "sac_bunt                       3149\n",
       "triple                         2607\n",
       "double_play                    1348\n",
       "fielders_choice_out             919\n",
       "fielders_choice                 301\n",
       "sac_fly_double_play              66\n",
       "triple_play                      18\n",
       "sac_bunt_double_play              3\n",
       "Name: events, dtype: int64"
      ]
     },
     "execution_count": 26,
     "metadata": {},
     "output_type": "execute_result"
    }
   ],
   "source": [
    "# Categorical column frequency\n",
    "# Returns counts of unique values in descending order (first element is the most frequently-occurring element)\n",
    "# Note: Excludes NA values by default\n",
    "all_MLB_teams2015_2017_new.events.value_counts(dropna=False)"
   ]
  },
  {
   "cell_type": "code",
   "execution_count": 27,
   "metadata": {},
   "outputs": [
    {
     "data": {
      "text/plain": [
       "ground_ball    178646\n",
       "line_drive      99714\n",
       "fly_ball        81752\n",
       "popup           26829\n",
       "Name: batted_ball_type, dtype: int64"
      ]
     },
     "execution_count": 27,
     "metadata": {},
     "output_type": "execute_result"
    }
   ],
   "source": [
    "# Categorical column frequency\n",
    "# Returns counts of unique values in descending order (first element is the most frequently-occurring element)\n",
    "# Note: Excludes NA values by default\n",
    "all_MLB_teams2015_2017_new.batted_ball_type.value_counts(dropna=False)"
   ]
  },
  {
   "cell_type": "code",
   "execution_count": 28,
   "metadata": {},
   "outputs": [
    {
     "data": {
      "text/plain": [
       "386941"
      ]
     },
     "execution_count": 28,
     "metadata": {},
     "output_type": "execute_result"
    }
   ],
   "source": [
    "all_MLB_teams2015_2017_new.batted_ball_type.value_counts(dropna=False).sum()"
   ]
  },
  {
   "cell_type": "code",
   "execution_count": 29,
   "metadata": {},
   "outputs": [
    {
     "data": {
      "text/html": [
       "<div>\n",
       "<style scoped>\n",
       "    .dataframe tbody tr th:only-of-type {\n",
       "        vertical-align: middle;\n",
       "    }\n",
       "\n",
       "    .dataframe tbody tr th {\n",
       "        vertical-align: top;\n",
       "    }\n",
       "\n",
       "    .dataframe thead th {\n",
       "        text-align: right;\n",
       "    }\n",
       "</style>\n",
       "<table border=\"1\" class=\"dataframe\">\n",
       "  <thead>\n",
       "    <tr style=\"text-align: right;\">\n",
       "      <th>batted_ball_type</th>\n",
       "      <th>fly_ball</th>\n",
       "      <th>ground_ball</th>\n",
       "      <th>line_drive</th>\n",
       "      <th>popup</th>\n",
       "      <th>Total</th>\n",
       "    </tr>\n",
       "    <tr>\n",
       "      <th>events</th>\n",
       "      <th></th>\n",
       "      <th></th>\n",
       "      <th></th>\n",
       "      <th></th>\n",
       "      <th></th>\n",
       "    </tr>\n",
       "  </thead>\n",
       "  <tbody>\n",
       "    <tr>\n",
       "      <td>double</td>\n",
       "      <td>3502</td>\n",
       "      <td>3342</td>\n",
       "      <td>17914</td>\n",
       "      <td>140</td>\n",
       "      <td>24898</td>\n",
       "    </tr>\n",
       "    <tr>\n",
       "      <td>double_play</td>\n",
       "      <td>222</td>\n",
       "      <td>109</td>\n",
       "      <td>930</td>\n",
       "      <td>87</td>\n",
       "      <td>1348</td>\n",
       "    </tr>\n",
       "    <tr>\n",
       "      <td>field_error</td>\n",
       "      <td>159</td>\n",
       "      <td>4349</td>\n",
       "      <td>199</td>\n",
       "      <td>109</td>\n",
       "      <td>4816</td>\n",
       "    </tr>\n",
       "    <tr>\n",
       "      <td>field_out</td>\n",
       "      <td>60230</td>\n",
       "      <td>103445</td>\n",
       "      <td>33726</td>\n",
       "      <td>25980</td>\n",
       "      <td>223381</td>\n",
       "    </tr>\n",
       "    <tr>\n",
       "      <td>fielders_choice</td>\n",
       "      <td>0</td>\n",
       "      <td>301</td>\n",
       "      <td>0</td>\n",
       "      <td>0</td>\n",
       "      <td>301</td>\n",
       "    </tr>\n",
       "    <tr>\n",
       "      <td>fielders_choice_out</td>\n",
       "      <td>0</td>\n",
       "      <td>914</td>\n",
       "      <td>2</td>\n",
       "      <td>3</td>\n",
       "      <td>919</td>\n",
       "    </tr>\n",
       "    <tr>\n",
       "      <td>force_out</td>\n",
       "      <td>47</td>\n",
       "      <td>11342</td>\n",
       "      <td>74</td>\n",
       "      <td>37</td>\n",
       "      <td>11500</td>\n",
       "    </tr>\n",
       "    <tr>\n",
       "      <td>grounded_into_double_play</td>\n",
       "      <td>0</td>\n",
       "      <td>11266</td>\n",
       "      <td>0</td>\n",
       "      <td>0</td>\n",
       "      <td>11266</td>\n",
       "    </tr>\n",
       "    <tr>\n",
       "      <td>home_run</td>\n",
       "      <td>11547</td>\n",
       "      <td>0</td>\n",
       "      <td>5082</td>\n",
       "      <td>0</td>\n",
       "      <td>16629</td>\n",
       "    </tr>\n",
       "    <tr>\n",
       "      <td>sac_bunt</td>\n",
       "      <td>0</td>\n",
       "      <td>3149</td>\n",
       "      <td>0</td>\n",
       "      <td>0</td>\n",
       "      <td>3149</td>\n",
       "    </tr>\n",
       "    <tr>\n",
       "      <td>sac_bunt_double_play</td>\n",
       "      <td>0</td>\n",
       "      <td>3</td>\n",
       "      <td>0</td>\n",
       "      <td>0</td>\n",
       "      <td>3</td>\n",
       "    </tr>\n",
       "    <tr>\n",
       "      <td>sac_fly</td>\n",
       "      <td>2464</td>\n",
       "      <td>0</td>\n",
       "      <td>1059</td>\n",
       "      <td>26</td>\n",
       "      <td>3549</td>\n",
       "    </tr>\n",
       "    <tr>\n",
       "      <td>sac_fly_double_play</td>\n",
       "      <td>49</td>\n",
       "      <td>0</td>\n",
       "      <td>15</td>\n",
       "      <td>2</td>\n",
       "      <td>66</td>\n",
       "    </tr>\n",
       "    <tr>\n",
       "      <td>single</td>\n",
       "      <td>2778</td>\n",
       "      <td>40241</td>\n",
       "      <td>39031</td>\n",
       "      <td>441</td>\n",
       "      <td>82491</td>\n",
       "    </tr>\n",
       "    <tr>\n",
       "      <td>triple</td>\n",
       "      <td>754</td>\n",
       "      <td>173</td>\n",
       "      <td>1676</td>\n",
       "      <td>4</td>\n",
       "      <td>2607</td>\n",
       "    </tr>\n",
       "    <tr>\n",
       "      <td>triple_play</td>\n",
       "      <td>0</td>\n",
       "      <td>12</td>\n",
       "      <td>6</td>\n",
       "      <td>0</td>\n",
       "      <td>18</td>\n",
       "    </tr>\n",
       "    <tr>\n",
       "      <td>Total</td>\n",
       "      <td>81752</td>\n",
       "      <td>178646</td>\n",
       "      <td>99714</td>\n",
       "      <td>26829</td>\n",
       "      <td>386941</td>\n",
       "    </tr>\n",
       "  </tbody>\n",
       "</table>\n",
       "</div>"
      ],
      "text/plain": [
       "batted_ball_type           fly_ball  ground_ball  line_drive  popup   Total\n",
       "events                                                                     \n",
       "double                         3502         3342       17914    140   24898\n",
       "double_play                     222          109         930     87    1348\n",
       "field_error                     159         4349         199    109    4816\n",
       "field_out                     60230       103445       33726  25980  223381\n",
       "fielders_choice                   0          301           0      0     301\n",
       "fielders_choice_out               0          914           2      3     919\n",
       "force_out                        47        11342          74     37   11500\n",
       "grounded_into_double_play         0        11266           0      0   11266\n",
       "home_run                      11547            0        5082      0   16629\n",
       "sac_bunt                          0         3149           0      0    3149\n",
       "sac_bunt_double_play              0            3           0      0       3\n",
       "sac_fly                        2464            0        1059     26    3549\n",
       "sac_fly_double_play              49            0          15      2      66\n",
       "single                         2778        40241       39031    441   82491\n",
       "triple                          754          173        1676      4    2607\n",
       "triple_play                       0           12           6      0      18\n",
       "Total                         81752       178646       99714  26829  386941"
      ]
     },
     "execution_count": 29,
     "metadata": {},
     "output_type": "execute_result"
    }
   ],
   "source": [
    "# Compute a frequency table of two factors\n",
    "pd.crosstab(all_MLB_teams2015_2017_new.events, all_MLB_teams2015_2017_new.batted_ball_type, margins=True, margins_name='Total', dropna=False)"
   ]
  },
  {
   "cell_type": "markdown",
   "metadata": {},
   "source": [
    "Note: The above frequencies confirm valid values."
   ]
  },
  {
   "cell_type": "code",
   "execution_count": 30,
   "metadata": {},
   "outputs": [
    {
     "data": {
      "text/plain": [
       "game_date               0\n",
       "home_team               0\n",
       "away_team               0\n",
       "player_name             0\n",
       "pitcher                 0\n",
       "pitch_type            701\n",
       "pitch_name            701\n",
       "pitch_velocity        459\n",
       "batter                  0\n",
       "events                  0\n",
       "description             0\n",
       "batted_ball_type        0\n",
       "des                     2\n",
       "exit_velocity          66\n",
       "launch_angle           66\n",
       "hit_distance_sc     46472\n",
       "dtype: int64"
      ]
     },
     "execution_count": 30,
     "metadata": {},
     "output_type": "execute_result"
    }
   ],
   "source": [
    "# Count the missing values in each column of a DataFrame - sum() works because True is 1 and False is 0\n",
    "all_MLB_teams2015_2017_new.isnull().sum()"
   ]
  },
  {
   "cell_type": "code",
   "execution_count": 31,
   "metadata": {},
   "outputs": [
    {
     "data": {
      "image/png": "[encoded data removed]",
      "text/plain": [
       "<Figure size 720x576 with 1 Axes>"
      ]
     },
     "metadata": {
      "needs_background": "light"
     },
     "output_type": "display_data"
    }
   ],
   "source": [
    "# Create a vertical bar plot by number of missing values per column using matplotlib\n",
    "# Note: figsize: a tuple (width, height) in inches\n",
    "all_MLB_teams2015_2017_new.isnull().sum().plot.bar(figsize=(10, 8));\n",
    "plt.title('Number of null values per column');"
   ]
  },
  {
   "cell_type": "markdown",
   "metadata": {},
   "source": [
    "Note: There are still missing values for the following variables: `pitch_name`, `pitch_velocity`, `exit_velocity`, `launch_angle`. These variables will be used in the modeling and observations with missing values will be dropped."
   ]
  },
  {
   "cell_type": "markdown",
   "metadata": {},
   "source": [
    "#### Drop missing values from `pitch_name`, `pitch_velocity`, `exit_velocity`, `launch_angle` columns."
   ]
  },
  {
   "cell_type": "code",
   "execution_count": 32,
   "metadata": {
    "scrolled": true
   },
   "outputs": [],
   "source": [
    "# Remove missing values\n",
    "# Note: axis=0 (default) drop rows which contain missing values\n",
    "#       how='any' (default) drops rows if ANY missing values are present from any column -- can be dangerous!\n",
    "#       subset: if you are dropping rows these would be a list of columns to include\n",
    "#       inplace=True changes the original DataFrame\n",
    "all_MLB_teams2015_2017_new.dropna(subset=['pitch_name', 'pitch_velocity', 'exit_velocity', 'launch_angle'], inplace=True)"
   ]
  },
  {
   "cell_type": "markdown",
   "metadata": {},
   "source": [
    "### Summarize the DataFrame"
   ]
  },
  {
   "cell_type": "code",
   "execution_count": 33,
   "metadata": {},
   "outputs": [
    {
     "data": {
      "text/html": [
       "<div>\n",
       "<style scoped>\n",
       "    .dataframe tbody tr th:only-of-type {\n",
       "        vertical-align: middle;\n",
       "    }\n",
       "\n",
       "    .dataframe tbody tr th {\n",
       "        vertical-align: top;\n",
       "    }\n",
       "\n",
       "    .dataframe thead th {\n",
       "        text-align: right;\n",
       "    }\n",
       "</style>\n",
       "<table border=\"1\" class=\"dataframe\">\n",
       "  <thead>\n",
       "    <tr style=\"text-align: right;\">\n",
       "      <th></th>\n",
       "      <th>pitch_velocity</th>\n",
       "      <th>exit_velocity</th>\n",
       "      <th>launch_angle</th>\n",
       "      <th>hit_distance_sc</th>\n",
       "    </tr>\n",
       "  </thead>\n",
       "  <tbody>\n",
       "    <tr>\n",
       "      <td>count</td>\n",
       "      <td>386112.000000</td>\n",
       "      <td>386112.000000</td>\n",
       "      <td>386112.000000</td>\n",
       "      <td>340221.000000</td>\n",
       "    </tr>\n",
       "    <tr>\n",
       "      <td>mean</td>\n",
       "      <td>88.938052</td>\n",
       "      <td>87.228387</td>\n",
       "      <td>10.662181</td>\n",
       "      <td>170.446680</td>\n",
       "    </tr>\n",
       "    <tr>\n",
       "      <td>std</td>\n",
       "      <td>5.809726</td>\n",
       "      <td>14.532315</td>\n",
       "      <td>27.245971</td>\n",
       "      <td>136.700367</td>\n",
       "    </tr>\n",
       "    <tr>\n",
       "      <td>min</td>\n",
       "      <td>41.500000</td>\n",
       "      <td>5.200000</td>\n",
       "      <td>-88.890000</td>\n",
       "      <td>0.000000</td>\n",
       "    </tr>\n",
       "    <tr>\n",
       "      <td>25%</td>\n",
       "      <td>85.100000</td>\n",
       "      <td>80.000000</td>\n",
       "      <td>-8.987000</td>\n",
       "      <td>22.000000</td>\n",
       "    </tr>\n",
       "    <tr>\n",
       "      <td>50%</td>\n",
       "      <td>90.300000</td>\n",
       "      <td>89.300000</td>\n",
       "      <td>10.605000</td>\n",
       "      <td>169.000000</td>\n",
       "    </tr>\n",
       "    <tr>\n",
       "      <td>75%</td>\n",
       "      <td>93.300000</td>\n",
       "      <td>98.100000</td>\n",
       "      <td>28.520775</td>\n",
       "      <td>294.000000</td>\n",
       "    </tr>\n",
       "    <tr>\n",
       "      <td>max</td>\n",
       "      <td>105.400000</td>\n",
       "      <td>123.400000</td>\n",
       "      <td>89.850000</td>\n",
       "      <td>504.000000</td>\n",
       "    </tr>\n",
       "  </tbody>\n",
       "</table>\n",
       "</div>"
      ],
      "text/plain": [
       "       pitch_velocity  exit_velocity   launch_angle  hit_distance_sc\n",
       "count   386112.000000  386112.000000  386112.000000    340221.000000\n",
       "mean        88.938052      87.228387      10.662181       170.446680\n",
       "std          5.809726      14.532315      27.245971       136.700367\n",
       "min         41.500000       5.200000     -88.890000         0.000000\n",
       "25%         85.100000      80.000000      -8.987000        22.000000\n",
       "50%         90.300000      89.300000      10.605000       169.000000\n",
       "75%         93.300000      98.100000      28.520775       294.000000\n",
       "max        105.400000     123.400000      89.850000       504.000000"
      ]
     },
     "execution_count": 33,
     "metadata": {},
     "output_type": "execute_result"
    }
   ],
   "source": [
    "# Describe numeric columns\n",
    "# Generates descriptive summary statistics of the central tendency, dispersion, and shape of the distribution\n",
    "# Note: By default only numeric (int64) fields are returned\n",
    "#       Excludes \"NaN\" (missing) values\n",
    "# Remove multiple columns\n",
    "# Note: axis=0 for rows, 1 for columns\n",
    "all_MLB_teams2015_2017_new.drop(['pitcher', 'batter'], axis=1).describe()"
   ]
  },
  {
   "cell_type": "code",
   "execution_count": 34,
   "metadata": {},
   "outputs": [
    {
     "data": {
      "text/html": [
       "<div>\n",
       "<style scoped>\n",
       "    .dataframe tbody tr th:only-of-type {\n",
       "        vertical-align: middle;\n",
       "    }\n",
       "\n",
       "    .dataframe tbody tr th {\n",
       "        vertical-align: top;\n",
       "    }\n",
       "\n",
       "    .dataframe thead th {\n",
       "        text-align: right;\n",
       "    }\n",
       "</style>\n",
       "<table border=\"1\" class=\"dataframe\">\n",
       "  <thead>\n",
       "    <tr style=\"text-align: right;\">\n",
       "      <th></th>\n",
       "      <th>game_date</th>\n",
       "      <th>pitch_type</th>\n",
       "      <th>pitch_name</th>\n",
       "      <th>events</th>\n",
       "      <th>description</th>\n",
       "      <th>batted_ball_type</th>\n",
       "    </tr>\n",
       "  </thead>\n",
       "  <tbody>\n",
       "    <tr>\n",
       "      <td>count</td>\n",
       "      <td>386112</td>\n",
       "      <td>386112</td>\n",
       "      <td>386112</td>\n",
       "      <td>386112</td>\n",
       "      <td>386112</td>\n",
       "      <td>386112</td>\n",
       "    </tr>\n",
       "    <tr>\n",
       "      <td>unique</td>\n",
       "      <td>537</td>\n",
       "      <td>16</td>\n",
       "      <td>16</td>\n",
       "      <td>16</td>\n",
       "      <td>4</td>\n",
       "      <td>4</td>\n",
       "    </tr>\n",
       "    <tr>\n",
       "      <td>top</td>\n",
       "      <td>2015-09-30</td>\n",
       "      <td>FF</td>\n",
       "      <td>4-Seam Fastball</td>\n",
       "      <td>field_out</td>\n",
       "      <td>hit_into_play</td>\n",
       "      <td>ground_ball</td>\n",
       "    </tr>\n",
       "    <tr>\n",
       "      <td>freq</td>\n",
       "      <td>974</td>\n",
       "      <td>131254</td>\n",
       "      <td>131254</td>\n",
       "      <td>222928</td>\n",
       "      <td>249245</td>\n",
       "      <td>178259</td>\n",
       "    </tr>\n",
       "  </tbody>\n",
       "</table>\n",
       "</div>"
      ],
      "text/plain": [
       "         game_date pitch_type       pitch_name     events    description  \\\n",
       "count       386112     386112           386112     386112         386112   \n",
       "unique         537         16               16         16              4   \n",
       "top     2015-09-30         FF  4-Seam Fastball  field_out  hit_into_play   \n",
       "freq           974     131254           131254     222928         249245   \n",
       "\n",
       "       batted_ball_type  \n",
       "count            386112  \n",
       "unique                4  \n",
       "top         ground_ball  \n",
       "freq             178259  "
      ]
     },
     "execution_count": 34,
     "metadata": {},
     "output_type": "execute_result"
    }
   ],
   "source": [
    "# Describe object columns (e.g. categorical, strings, or timestamps)\n",
    "# Generates descriptive summary statistics of the count, unique values, top values, and frequency\n",
    "# Note: \"top\" is the most common value; \"freq\" is the most common value's frequency\n",
    "#       Excludes \"NaN\" (missing) values\n",
    "# Remove multiple columns\n",
    "# Note: axis=0 for rows, 1 for columns\n",
    "all_MLB_teams2015_2017_new.drop(['home_team', 'away_team', 'player_name', 'des'], axis=1).describe(include='object')"
   ]
  },
  {
   "cell_type": "code",
   "execution_count": 35,
   "metadata": {},
   "outputs": [
    {
     "data": {
      "text/html": [
       "<div>\n",
       "<style scoped>\n",
       "    .dataframe tbody tr th:only-of-type {\n",
       "        vertical-align: middle;\n",
       "    }\n",
       "\n",
       "    .dataframe tbody tr th {\n",
       "        vertical-align: top;\n",
       "    }\n",
       "\n",
       "    .dataframe thead th {\n",
       "        text-align: right;\n",
       "    }\n",
       "</style>\n",
       "<table border=\"1\" class=\"dataframe\">\n",
       "  <thead>\n",
       "    <tr style=\"text-align: right;\">\n",
       "      <th>pitch_type</th>\n",
       "      <th>CH</th>\n",
       "      <th>CU</th>\n",
       "      <th>EP</th>\n",
       "      <th>FA</th>\n",
       "      <th>FC</th>\n",
       "      <th>FF</th>\n",
       "      <th>FO</th>\n",
       "      <th>FS</th>\n",
       "      <th>FT</th>\n",
       "      <th>KC</th>\n",
       "      <th>KN</th>\n",
       "      <th>PO</th>\n",
       "      <th>SC</th>\n",
       "      <th>SI</th>\n",
       "      <th>SL</th>\n",
       "      <th>UN</th>\n",
       "      <th>Total</th>\n",
       "    </tr>\n",
       "    <tr>\n",
       "      <th>pitch_name</th>\n",
       "      <th></th>\n",
       "      <th></th>\n",
       "      <th></th>\n",
       "      <th></th>\n",
       "      <th></th>\n",
       "      <th></th>\n",
       "      <th></th>\n",
       "      <th></th>\n",
       "      <th></th>\n",
       "      <th></th>\n",
       "      <th></th>\n",
       "      <th></th>\n",
       "      <th></th>\n",
       "      <th></th>\n",
       "      <th></th>\n",
       "      <th></th>\n",
       "      <th></th>\n",
       "    </tr>\n",
       "  </thead>\n",
       "  <tbody>\n",
       "    <tr>\n",
       "      <td>2-Seam Fastball</td>\n",
       "      <td>0</td>\n",
       "      <td>0</td>\n",
       "      <td>0</td>\n",
       "      <td>0</td>\n",
       "      <td>0</td>\n",
       "      <td>0</td>\n",
       "      <td>0</td>\n",
       "      <td>0</td>\n",
       "      <td>59444</td>\n",
       "      <td>0</td>\n",
       "      <td>0</td>\n",
       "      <td>0</td>\n",
       "      <td>0</td>\n",
       "      <td>0</td>\n",
       "      <td>0</td>\n",
       "      <td>0</td>\n",
       "      <td>59444</td>\n",
       "    </tr>\n",
       "    <tr>\n",
       "      <td>4-Seam Fastball</td>\n",
       "      <td>0</td>\n",
       "      <td>0</td>\n",
       "      <td>0</td>\n",
       "      <td>0</td>\n",
       "      <td>0</td>\n",
       "      <td>131254</td>\n",
       "      <td>0</td>\n",
       "      <td>0</td>\n",
       "      <td>0</td>\n",
       "      <td>0</td>\n",
       "      <td>0</td>\n",
       "      <td>0</td>\n",
       "      <td>0</td>\n",
       "      <td>0</td>\n",
       "      <td>0</td>\n",
       "      <td>0</td>\n",
       "      <td>131254</td>\n",
       "    </tr>\n",
       "    <tr>\n",
       "      <td>Changeup</td>\n",
       "      <td>43883</td>\n",
       "      <td>0</td>\n",
       "      <td>0</td>\n",
       "      <td>0</td>\n",
       "      <td>0</td>\n",
       "      <td>0</td>\n",
       "      <td>0</td>\n",
       "      <td>0</td>\n",
       "      <td>0</td>\n",
       "      <td>0</td>\n",
       "      <td>0</td>\n",
       "      <td>0</td>\n",
       "      <td>0</td>\n",
       "      <td>0</td>\n",
       "      <td>0</td>\n",
       "      <td>0</td>\n",
       "      <td>43883</td>\n",
       "    </tr>\n",
       "    <tr>\n",
       "      <td>Curveball</td>\n",
       "      <td>0</td>\n",
       "      <td>26046</td>\n",
       "      <td>0</td>\n",
       "      <td>0</td>\n",
       "      <td>0</td>\n",
       "      <td>0</td>\n",
       "      <td>0</td>\n",
       "      <td>0</td>\n",
       "      <td>0</td>\n",
       "      <td>0</td>\n",
       "      <td>0</td>\n",
       "      <td>0</td>\n",
       "      <td>0</td>\n",
       "      <td>0</td>\n",
       "      <td>0</td>\n",
       "      <td>0</td>\n",
       "      <td>26046</td>\n",
       "    </tr>\n",
       "    <tr>\n",
       "      <td>Cutter</td>\n",
       "      <td>0</td>\n",
       "      <td>0</td>\n",
       "      <td>0</td>\n",
       "      <td>0</td>\n",
       "      <td>21484</td>\n",
       "      <td>0</td>\n",
       "      <td>0</td>\n",
       "      <td>0</td>\n",
       "      <td>0</td>\n",
       "      <td>0</td>\n",
       "      <td>0</td>\n",
       "      <td>0</td>\n",
       "      <td>0</td>\n",
       "      <td>0</td>\n",
       "      <td>0</td>\n",
       "      <td>0</td>\n",
       "      <td>21484</td>\n",
       "    </tr>\n",
       "    <tr>\n",
       "      <td>Eephus</td>\n",
       "      <td>0</td>\n",
       "      <td>0</td>\n",
       "      <td>114</td>\n",
       "      <td>0</td>\n",
       "      <td>0</td>\n",
       "      <td>0</td>\n",
       "      <td>0</td>\n",
       "      <td>0</td>\n",
       "      <td>0</td>\n",
       "      <td>0</td>\n",
       "      <td>0</td>\n",
       "      <td>0</td>\n",
       "      <td>0</td>\n",
       "      <td>0</td>\n",
       "      <td>0</td>\n",
       "      <td>0</td>\n",
       "      <td>114</td>\n",
       "    </tr>\n",
       "    <tr>\n",
       "      <td>Fastball</td>\n",
       "      <td>0</td>\n",
       "      <td>0</td>\n",
       "      <td>0</td>\n",
       "      <td>3</td>\n",
       "      <td>0</td>\n",
       "      <td>0</td>\n",
       "      <td>0</td>\n",
       "      <td>0</td>\n",
       "      <td>0</td>\n",
       "      <td>0</td>\n",
       "      <td>0</td>\n",
       "      <td>0</td>\n",
       "      <td>0</td>\n",
       "      <td>0</td>\n",
       "      <td>0</td>\n",
       "      <td>0</td>\n",
       "      <td>3</td>\n",
       "    </tr>\n",
       "    <tr>\n",
       "      <td>Forkball</td>\n",
       "      <td>0</td>\n",
       "      <td>0</td>\n",
       "      <td>0</td>\n",
       "      <td>0</td>\n",
       "      <td>0</td>\n",
       "      <td>0</td>\n",
       "      <td>126</td>\n",
       "      <td>0</td>\n",
       "      <td>0</td>\n",
       "      <td>0</td>\n",
       "      <td>0</td>\n",
       "      <td>0</td>\n",
       "      <td>0</td>\n",
       "      <td>0</td>\n",
       "      <td>0</td>\n",
       "      <td>0</td>\n",
       "      <td>126</td>\n",
       "    </tr>\n",
       "    <tr>\n",
       "      <td>Knuckle Ball</td>\n",
       "      <td>0</td>\n",
       "      <td>0</td>\n",
       "      <td>0</td>\n",
       "      <td>0</td>\n",
       "      <td>0</td>\n",
       "      <td>0</td>\n",
       "      <td>0</td>\n",
       "      <td>0</td>\n",
       "      <td>0</td>\n",
       "      <td>0</td>\n",
       "      <td>2094</td>\n",
       "      <td>0</td>\n",
       "      <td>0</td>\n",
       "      <td>0</td>\n",
       "      <td>0</td>\n",
       "      <td>0</td>\n",
       "      <td>2094</td>\n",
       "    </tr>\n",
       "    <tr>\n",
       "      <td>Knuckle Curve</td>\n",
       "      <td>0</td>\n",
       "      <td>0</td>\n",
       "      <td>0</td>\n",
       "      <td>0</td>\n",
       "      <td>0</td>\n",
       "      <td>0</td>\n",
       "      <td>0</td>\n",
       "      <td>0</td>\n",
       "      <td>0</td>\n",
       "      <td>7419</td>\n",
       "      <td>0</td>\n",
       "      <td>0</td>\n",
       "      <td>0</td>\n",
       "      <td>0</td>\n",
       "      <td>0</td>\n",
       "      <td>0</td>\n",
       "      <td>7419</td>\n",
       "    </tr>\n",
       "    <tr>\n",
       "      <td>Pitch Out</td>\n",
       "      <td>0</td>\n",
       "      <td>0</td>\n",
       "      <td>0</td>\n",
       "      <td>0</td>\n",
       "      <td>0</td>\n",
       "      <td>0</td>\n",
       "      <td>0</td>\n",
       "      <td>0</td>\n",
       "      <td>0</td>\n",
       "      <td>0</td>\n",
       "      <td>0</td>\n",
       "      <td>1</td>\n",
       "      <td>0</td>\n",
       "      <td>0</td>\n",
       "      <td>0</td>\n",
       "      <td>0</td>\n",
       "      <td>1</td>\n",
       "    </tr>\n",
       "    <tr>\n",
       "      <td>Screwball</td>\n",
       "      <td>0</td>\n",
       "      <td>0</td>\n",
       "      <td>0</td>\n",
       "      <td>0</td>\n",
       "      <td>0</td>\n",
       "      <td>0</td>\n",
       "      <td>0</td>\n",
       "      <td>0</td>\n",
       "      <td>0</td>\n",
       "      <td>0</td>\n",
       "      <td>0</td>\n",
       "      <td>0</td>\n",
       "      <td>14</td>\n",
       "      <td>0</td>\n",
       "      <td>0</td>\n",
       "      <td>0</td>\n",
       "      <td>14</td>\n",
       "    </tr>\n",
       "    <tr>\n",
       "      <td>Sinker</td>\n",
       "      <td>0</td>\n",
       "      <td>0</td>\n",
       "      <td>0</td>\n",
       "      <td>0</td>\n",
       "      <td>0</td>\n",
       "      <td>0</td>\n",
       "      <td>0</td>\n",
       "      <td>0</td>\n",
       "      <td>0</td>\n",
       "      <td>0</td>\n",
       "      <td>0</td>\n",
       "      <td>0</td>\n",
       "      <td>0</td>\n",
       "      <td>33090</td>\n",
       "      <td>0</td>\n",
       "      <td>0</td>\n",
       "      <td>33090</td>\n",
       "    </tr>\n",
       "    <tr>\n",
       "      <td>Slider</td>\n",
       "      <td>0</td>\n",
       "      <td>0</td>\n",
       "      <td>0</td>\n",
       "      <td>0</td>\n",
       "      <td>0</td>\n",
       "      <td>0</td>\n",
       "      <td>0</td>\n",
       "      <td>0</td>\n",
       "      <td>0</td>\n",
       "      <td>0</td>\n",
       "      <td>0</td>\n",
       "      <td>0</td>\n",
       "      <td>0</td>\n",
       "      <td>0</td>\n",
       "      <td>54850</td>\n",
       "      <td>0</td>\n",
       "      <td>54850</td>\n",
       "    </tr>\n",
       "    <tr>\n",
       "      <td>Split Finger</td>\n",
       "      <td>0</td>\n",
       "      <td>0</td>\n",
       "      <td>0</td>\n",
       "      <td>0</td>\n",
       "      <td>0</td>\n",
       "      <td>0</td>\n",
       "      <td>0</td>\n",
       "      <td>6284</td>\n",
       "      <td>0</td>\n",
       "      <td>0</td>\n",
       "      <td>0</td>\n",
       "      <td>0</td>\n",
       "      <td>0</td>\n",
       "      <td>0</td>\n",
       "      <td>0</td>\n",
       "      <td>0</td>\n",
       "      <td>6284</td>\n",
       "    </tr>\n",
       "    <tr>\n",
       "      <td>Unknown</td>\n",
       "      <td>0</td>\n",
       "      <td>0</td>\n",
       "      <td>0</td>\n",
       "      <td>0</td>\n",
       "      <td>0</td>\n",
       "      <td>0</td>\n",
       "      <td>0</td>\n",
       "      <td>0</td>\n",
       "      <td>0</td>\n",
       "      <td>0</td>\n",
       "      <td>0</td>\n",
       "      <td>0</td>\n",
       "      <td>0</td>\n",
       "      <td>0</td>\n",
       "      <td>0</td>\n",
       "      <td>6</td>\n",
       "      <td>6</td>\n",
       "    </tr>\n",
       "    <tr>\n",
       "      <td>Total</td>\n",
       "      <td>43883</td>\n",
       "      <td>26046</td>\n",
       "      <td>114</td>\n",
       "      <td>3</td>\n",
       "      <td>21484</td>\n",
       "      <td>131254</td>\n",
       "      <td>126</td>\n",
       "      <td>6284</td>\n",
       "      <td>59444</td>\n",
       "      <td>7419</td>\n",
       "      <td>2094</td>\n",
       "      <td>1</td>\n",
       "      <td>14</td>\n",
       "      <td>33090</td>\n",
       "      <td>54850</td>\n",
       "      <td>6</td>\n",
       "      <td>386112</td>\n",
       "    </tr>\n",
       "  </tbody>\n",
       "</table>\n",
       "</div>"
      ],
      "text/plain": [
       "pitch_type          CH     CU   EP  FA     FC      FF   FO    FS     FT    KC  \\\n",
       "pitch_name                                                                      \n",
       "2-Seam Fastball      0      0    0   0      0       0    0     0  59444     0   \n",
       "4-Seam Fastball      0      0    0   0      0  131254    0     0      0     0   \n",
       "Changeup         43883      0    0   0      0       0    0     0      0     0   \n",
       "Curveball            0  26046    0   0      0       0    0     0      0     0   \n",
       "Cutter               0      0    0   0  21484       0    0     0      0     0   \n",
       "Eephus               0      0  114   0      0       0    0     0      0     0   \n",
       "Fastball             0      0    0   3      0       0    0     0      0     0   \n",
       "Forkball             0      0    0   0      0       0  126     0      0     0   \n",
       "Knuckle Ball         0      0    0   0      0       0    0     0      0     0   \n",
       "Knuckle Curve        0      0    0   0      0       0    0     0      0  7419   \n",
       "Pitch Out            0      0    0   0      0       0    0     0      0     0   \n",
       "Screwball            0      0    0   0      0       0    0     0      0     0   \n",
       "Sinker               0      0    0   0      0       0    0     0      0     0   \n",
       "Slider               0      0    0   0      0       0    0     0      0     0   \n",
       "Split Finger         0      0    0   0      0       0    0  6284      0     0   \n",
       "Unknown              0      0    0   0      0       0    0     0      0     0   \n",
       "Total            43883  26046  114   3  21484  131254  126  6284  59444  7419   \n",
       "\n",
       "pitch_type         KN  PO  SC     SI     SL  UN   Total  \n",
       "pitch_name                                               \n",
       "2-Seam Fastball     0   0   0      0      0   0   59444  \n",
       "4-Seam Fastball     0   0   0      0      0   0  131254  \n",
       "Changeup            0   0   0      0      0   0   43883  \n",
       "Curveball           0   0   0      0      0   0   26046  \n",
       "Cutter              0   0   0      0      0   0   21484  \n",
       "Eephus              0   0   0      0      0   0     114  \n",
       "Fastball            0   0   0      0      0   0       3  \n",
       "Forkball            0   0   0      0      0   0     126  \n",
       "Knuckle Ball     2094   0   0      0      0   0    2094  \n",
       "Knuckle Curve       0   0   0      0      0   0    7419  \n",
       "Pitch Out           0   1   0      0      0   0       1  \n",
       "Screwball           0   0  14      0      0   0      14  \n",
       "Sinker              0   0   0  33090      0   0   33090  \n",
       "Slider              0   0   0      0  54850   0   54850  \n",
       "Split Finger        0   0   0      0      0   0    6284  \n",
       "Unknown             0   0   0      0      0   6       6  \n",
       "Total            2094   1  14  33090  54850   6  386112  "
      ]
     },
     "execution_count": 35,
     "metadata": {},
     "output_type": "execute_result"
    }
   ],
   "source": [
    "# Compute a frequency table of two factors\n",
    "pd.crosstab(all_MLB_teams2015_2017_new.pitch_name, all_MLB_teams2015_2017_new.pitch_type, margins=True, margins_name='Total')"
   ]
  },
  {
   "cell_type": "markdown",
   "metadata": {},
   "source": [
    "#### Drop low frequency `pitch_name` observations"
   ]
  },
  {
   "cell_type": "code",
   "execution_count": 36,
   "metadata": {},
   "outputs": [],
   "source": [
    "# Return elements, either from `x` or `y`, depending on `condition`\n",
    "all_MLB_teams2015_2017_new['pitch_name_low_freq'] = np.where(all_MLB_teams2015_2017_new.pitch_name.isin(['Eephus', 'Fastball', 'Forkball', 'Pitch Out', 'Screwball', 'Unknown']), 1, 0)"
   ]
  },
  {
   "cell_type": "code",
   "execution_count": 37,
   "metadata": {
    "scrolled": true
   },
   "outputs": [
    {
     "data": {
      "text/plain": [
       "0    385848\n",
       "1       264\n",
       "Name: pitch_name_low_freq, dtype: int64"
      ]
     },
     "execution_count": 37,
     "metadata": {},
     "output_type": "execute_result"
    }
   ],
   "source": [
    "# Categorical column frequency\n",
    "# Returns counts of unique values in descending order (first element is the most frequently-occurring element)\n",
    "# Note: Excludes NA values by default\n",
    "all_MLB_teams2015_2017_new.pitch_name_low_freq.value_counts(dropna=False)"
   ]
  },
  {
   "cell_type": "code",
   "execution_count": 38,
   "metadata": {},
   "outputs": [],
   "source": [
    "# Excluding low frequency values\n",
    "all_MLB_teams2015_2017_new = all_MLB_teams2015_2017_new[all_MLB_teams2015_2017_new.pitch_name_low_freq == 0]\n",
    "all_MLB_teams2015_2017_new.drop('pitch_name_low_freq', axis=1, inplace=True)"
   ]
  },
  {
   "cell_type": "code",
   "execution_count": 39,
   "metadata": {},
   "outputs": [
    {
     "name": "stdout",
     "output_type": "stream",
     "text": [
      "Rows: 385848, Cols: 16\n"
     ]
    }
   ],
   "source": [
    "# Return the number of rows and columns (dimensionality) of the DataFrame\n",
    "print('Rows: {}, Cols: {}'.format(all_MLB_teams2015_2017_new.shape[0], all_MLB_teams2015_2017_new.shape[1]))"
   ]
  },
  {
   "cell_type": "markdown",
   "metadata": {},
   "source": [
    "#### Create indicator for whether an event was a Home Run (HR)."
   ]
  },
  {
   "cell_type": "code",
   "execution_count": 40,
   "metadata": {},
   "outputs": [
    {
     "data": {
      "text/plain": [
       "field_out                    222774\n",
       "single                        82232\n",
       "double                        24838\n",
       "home_run                      16587\n",
       "force_out                     11474\n",
       "grounded_into_double_play     11234\n",
       "field_error                    4806\n",
       "sac_fly                        3539\n",
       "sac_bunt                       3117\n",
       "triple                         2599\n",
       "double_play                    1345\n",
       "fielders_choice_out             916\n",
       "fielders_choice                 300\n",
       "sac_fly_double_play              66\n",
       "triple_play                      18\n",
       "sac_bunt_double_play              3\n",
       "Name: events, dtype: int64"
      ]
     },
     "execution_count": 40,
     "metadata": {},
     "output_type": "execute_result"
    }
   ],
   "source": [
    "# Categorical column frequency\n",
    "# Returns counts of unique values in descending order (first element is the most frequently-occurring element)\n",
    "# Note: Excludes NA values by default\n",
    "all_MLB_teams2015_2017_new.events.value_counts(dropna=False)"
   ]
  },
  {
   "cell_type": "code",
   "execution_count": 41,
   "metadata": {},
   "outputs": [],
   "source": [
    "# Lambda function: apply an arbitrary function to each value of a Pandas column, storing the result in a new column\n",
    "all_MLB_teams2015_2017_new['hr'] = all_MLB_teams2015_2017_new.events.apply(lambda events: 1 if events == 'home_run' else 0)"
   ]
  },
  {
   "cell_type": "code",
   "execution_count": 42,
   "metadata": {},
   "outputs": [
    {
     "name": "stdout",
     "output_type": "stream",
     "text": [
      "0    369261\n",
      "1     16587\n",
      "Name: hr, dtype: int64\n"
     ]
    },
    {
     "data": {
      "text/plain": [
       "0    0.957\n",
       "1    0.043\n",
       "Name: hr, dtype: float64"
      ]
     },
     "execution_count": 42,
     "metadata": {},
     "output_type": "execute_result"
    }
   ],
   "source": [
    "# Categorical column frequency\n",
    "# Returns counts of unique values in descending order (first element is the most frequently-occurring element)\n",
    "# Note: Excludes NA values by default\n",
    "print(all_MLB_teams2015_2017_new.hr.value_counts(dropna=False))\n",
    "round(all_MLB_teams2015_2017_new.hr.value_counts(dropna=False) / len(all_MLB_teams2015_2017_new), 3)"
   ]
  },
  {
   "cell_type": "markdown",
   "metadata": {},
   "source": [
    "#### Create indicator for whether an event was an Extra-base Hit (XBH)."
   ]
  },
  {
   "cell_type": "code",
   "execution_count": 43,
   "metadata": {},
   "outputs": [],
   "source": [
    "# Check whether `values` are contained in Series\n",
    "#all_MLB_teams2015_2017_new['xbh_bool'] = all_MLB_teams2015_2017_new.events.isin(['double', 'triple', 'home_run'])"
   ]
  },
  {
   "cell_type": "code",
   "execution_count": 44,
   "metadata": {},
   "outputs": [],
   "source": [
    "# Map values of Series using input correspondence (i.e., map existing input values to new outputs values)\n",
    "#all_MLB_teams2015_2017_new['xbh'] = all_MLB_teams2015_2017_new.xbh_bool.map({False:0, True:1})\n",
    "#all_MLB_teams2015_2017_new.drop('xbh_bool', axis=1, inplace=True)"
   ]
  },
  {
   "cell_type": "code",
   "execution_count": 45,
   "metadata": {},
   "outputs": [],
   "source": [
    "# Return elements, either from `x` or `y`, depending on `condition`\n",
    "all_MLB_teams2015_2017_new['xbh'] = np.where(all_MLB_teams2015_2017_new.events.isin(['double', 'triple', 'home_run']), 1, 0)"
   ]
  },
  {
   "cell_type": "code",
   "execution_count": 46,
   "metadata": {},
   "outputs": [
    {
     "name": "stdout",
     "output_type": "stream",
     "text": [
      "0    341824\n",
      "1     44024\n",
      "Name: xbh, dtype: int64\n"
     ]
    },
    {
     "data": {
      "text/plain": [
       "0    0.886\n",
       "1    0.114\n",
       "Name: xbh, dtype: float64"
      ]
     },
     "execution_count": 46,
     "metadata": {},
     "output_type": "execute_result"
    }
   ],
   "source": [
    "# Categorical column frequency\n",
    "# Returns counts of unique values in descending order (first element is the most frequently-occurring element)\n",
    "# Note: Excludes NA values by default\n",
    "print(all_MLB_teams2015_2017_new.xbh.value_counts(dropna=False))\n",
    "round(all_MLB_teams2015_2017_new.xbh.value_counts(dropna=False) / len(all_MLB_teams2015_2017_new), 3)"
   ]
  },
  {
   "cell_type": "code",
   "execution_count": 47,
   "metadata": {},
   "outputs": [
    {
     "data": {
      "text/html": [
       "<div>\n",
       "<style scoped>\n",
       "    .dataframe tbody tr th:only-of-type {\n",
       "        vertical-align: middle;\n",
       "    }\n",
       "\n",
       "    .dataframe tbody tr th {\n",
       "        vertical-align: top;\n",
       "    }\n",
       "\n",
       "    .dataframe thead th {\n",
       "        text-align: right;\n",
       "    }\n",
       "</style>\n",
       "<table border=\"1\" class=\"dataframe\">\n",
       "  <thead>\n",
       "    <tr style=\"text-align: right;\">\n",
       "      <th></th>\n",
       "      <th>pitch_velocity</th>\n",
       "      <th>exit_velocity</th>\n",
       "      <th>launch_angle</th>\n",
       "      <th>hit_distance_sc</th>\n",
       "      <th>hr</th>\n",
       "      <th>xbh</th>\n",
       "    </tr>\n",
       "  </thead>\n",
       "  <tbody>\n",
       "    <tr>\n",
       "      <td>pitch_velocity</td>\n",
       "      <td>1.000000</td>\n",
       "      <td>0.078758</td>\n",
       "      <td>0.006906</td>\n",
       "      <td>0.016692</td>\n",
       "      <td>-0.006979</td>\n",
       "      <td>-0.003404</td>\n",
       "    </tr>\n",
       "    <tr>\n",
       "      <td>exit_velocity</td>\n",
       "      <td>0.078758</td>\n",
       "      <td>1.000000</td>\n",
       "      <td>0.186630</td>\n",
       "      <td>0.352101</td>\n",
       "      <td>0.233394</td>\n",
       "      <td>0.302958</td>\n",
       "    </tr>\n",
       "    <tr>\n",
       "      <td>launch_angle</td>\n",
       "      <td>0.006906</td>\n",
       "      <td>0.186630</td>\n",
       "      <td>1.000000</td>\n",
       "      <td>0.732524</td>\n",
       "      <td>0.134847</td>\n",
       "      <td>0.134149</td>\n",
       "    </tr>\n",
       "    <tr>\n",
       "      <td>hit_distance_sc</td>\n",
       "      <td>0.016692</td>\n",
       "      <td>0.352101</td>\n",
       "      <td>0.732524</td>\n",
       "      <td>1.000000</td>\n",
       "      <td>0.375045</td>\n",
       "      <td>0.416674</td>\n",
       "    </tr>\n",
       "    <tr>\n",
       "      <td>hr</td>\n",
       "      <td>-0.006979</td>\n",
       "      <td>0.233394</td>\n",
       "      <td>0.134847</td>\n",
       "      <td>0.375045</td>\n",
       "      <td>1.000000</td>\n",
       "      <td>0.590573</td>\n",
       "    </tr>\n",
       "    <tr>\n",
       "      <td>xbh</td>\n",
       "      <td>-0.003404</td>\n",
       "      <td>0.302958</td>\n",
       "      <td>0.134149</td>\n",
       "      <td>0.416674</td>\n",
       "      <td>0.590573</td>\n",
       "      <td>1.000000</td>\n",
       "    </tr>\n",
       "  </tbody>\n",
       "</table>\n",
       "</div>"
      ],
      "text/plain": [
       "                 pitch_velocity  exit_velocity  launch_angle  hit_distance_sc  \\\n",
       "pitch_velocity         1.000000       0.078758      0.006906         0.016692   \n",
       "exit_velocity          0.078758       1.000000      0.186630         0.352101   \n",
       "launch_angle           0.006906       0.186630      1.000000         0.732524   \n",
       "hit_distance_sc        0.016692       0.352101      0.732524         1.000000   \n",
       "hr                    -0.006979       0.233394      0.134847         0.375045   \n",
       "xbh                   -0.003404       0.302958      0.134149         0.416674   \n",
       "\n",
       "                       hr       xbh  \n",
       "pitch_velocity  -0.006979 -0.003404  \n",
       "exit_velocity    0.233394  0.302958  \n",
       "launch_angle     0.134847  0.134149  \n",
       "hit_distance_sc  0.375045  0.416674  \n",
       "hr               1.000000  0.590573  \n",
       "xbh              0.590573  1.000000  "
      ]
     },
     "execution_count": 47,
     "metadata": {},
     "output_type": "execute_result"
    }
   ],
   "source": [
    "# Calculate the correlation matrix using the default method (Pearson correlation)\n",
    "baseball_correlations = all_MLB_teams2015_2017_new.drop(['pitcher', 'batter'], axis=1).corr(method='pearson')\n",
    "baseball_correlations"
   ]
  },
  {
   "cell_type": "code",
   "execution_count": 48,
   "metadata": {},
   "outputs": [
    {
     "data": {
      "image/png": "[encoded data removed]",
      "text/plain": [
       "<Figure size 720x576 with 2 Axes>"
      ]
     },
     "metadata": {
      "needs_background": "light"
     },
     "output_type": "display_data"
    }
   ],
   "source": [
    "# Create a figure and a set of subplots\n",
    "# Note: figsize: a tuple (width, height) in inches\n",
    "fig, ax = plt.subplots(figsize=(10, 8));\n",
    "\n",
    "# Return an array of zeros with the same shape and type as a given array\n",
    "mask = np.zeros_like(baseball_correlations, dtype=np.bool)\n",
    "# Return the indices for the upper-triangle of array\n",
    "mask[np.triu_indices_from(mask)] = True\n",
    "\n",
    "# Plot the correlation matrix (color-encoded) using Seaborn's .heatmap() function\n",
    "# Note: vmin, vmax: values to anchor the colormap, otherwise they are inferred from the data & other keyword arguments\n",
    "ax = sns.heatmap(baseball_correlations, vmin=-1, vmax=1, mask=mask, ax=ax);\n",
    "\n",
    "ax.set_xticklabels(ax.xaxis.get_ticklabels(), fontsize=14);\n",
    "ax.set_yticklabels(ax.yaxis.get_ticklabels(), fontsize=14);\n",
    "\n",
    "plt.show();"
   ]
  },
  {
   "cell_type": "code",
   "execution_count": 49,
   "metadata": {},
   "outputs": [
    {
     "data": {
      "text/html": [
       "<div>\n",
       "<style scoped>\n",
       "    .dataframe tbody tr th:only-of-type {\n",
       "        vertical-align: middle;\n",
       "    }\n",
       "\n",
       "    .dataframe tbody tr th {\n",
       "        vertical-align: top;\n",
       "    }\n",
       "\n",
       "    .dataframe thead th {\n",
       "        text-align: right;\n",
       "    }\n",
       "</style>\n",
       "<table border=\"1\" class=\"dataframe\">\n",
       "  <thead>\n",
       "    <tr style=\"text-align: right;\">\n",
       "      <th></th>\n",
       "      <th>count</th>\n",
       "      <th>mean</th>\n",
       "      <th>std</th>\n",
       "      <th>min</th>\n",
       "      <th>25%</th>\n",
       "      <th>50%</th>\n",
       "      <th>75%</th>\n",
       "      <th>max</th>\n",
       "    </tr>\n",
       "    <tr>\n",
       "      <th>hr</th>\n",
       "      <th></th>\n",
       "      <th></th>\n",
       "      <th></th>\n",
       "      <th></th>\n",
       "      <th></th>\n",
       "      <th></th>\n",
       "      <th></th>\n",
       "      <th></th>\n",
       "    </tr>\n",
       "  </thead>\n",
       "  <tbody>\n",
       "    <tr>\n",
       "      <td>0</td>\n",
       "      <td>369261.0</td>\n",
       "      <td>86.511807</td>\n",
       "      <td>14.414668</td>\n",
       "      <td>5.2</td>\n",
       "      <td>80.0</td>\n",
       "      <td>88.6</td>\n",
       "      <td>97.1</td>\n",
       "      <td>123.4</td>\n",
       "    </tr>\n",
       "    <tr>\n",
       "      <td>1</td>\n",
       "      <td>16587.0</td>\n",
       "      <td>103.234033</td>\n",
       "      <td>4.414319</td>\n",
       "      <td>36.6</td>\n",
       "      <td>100.5</td>\n",
       "      <td>103.3</td>\n",
       "      <td>106.2</td>\n",
       "      <td>121.1</td>\n",
       "    </tr>\n",
       "  </tbody>\n",
       "</table>\n",
       "</div>"
      ],
      "text/plain": [
       "       count        mean        std   min    25%    50%    75%    max\n",
       "hr                                                                   \n",
       "0   369261.0   86.511807  14.414668   5.2   80.0   88.6   97.1  123.4\n",
       "1    16587.0  103.234033   4.414319  36.6  100.5  103.3  106.2  121.1"
      ]
     },
     "execution_count": 49,
     "metadata": {},
     "output_type": "execute_result"
    }
   ],
   "source": [
    "# For each HR group, describe exit velocity:\n",
    "all_MLB_teams2015_2017_new.groupby(by='hr').exit_velocity.describe()"
   ]
  },
  {
   "cell_type": "code",
   "execution_count": 50,
   "metadata": {},
   "outputs": [
    {
     "data": {
      "image/png": "[encoded data removed]",
      "text/plain": [
       "<Figure size 720x576 with 2 Axes>"
      ]
     },
     "metadata": {
      "needs_background": "light"
     },
     "output_type": "display_data"
    }
   ],
   "source": [
    "# Create histograms\n",
    "# Note: column: used to limit data to a subset of columns\n",
    "#       by: used to form histograms for separate groups\n",
    "#       sharex: share x axis and set some x axis labels to invisible\n",
    "#       sharey: share y axis and set some y axis labels to invisible\n",
    "#       layout: tuple of (rows, columns) for the layout of the histograms\n",
    "#       figsize: a tuple (width, height) in inches\n",
    "all_MLB_teams2015_2017_new.hist(column='exit_velocity', by='hr', sharex=True, sharey=True, figsize=(10, 8));\n",
    "plt.xlabel('Exit Velocity (MPH)');\n",
    "plt.ylabel('Frequency');"
   ]
  },
  {
   "cell_type": "code",
   "execution_count": 51,
   "metadata": {
    "scrolled": false
   },
   "outputs": [
    {
     "data": {
      "text/html": [
       "<div>\n",
       "<style scoped>\n",
       "    .dataframe tbody tr th:only-of-type {\n",
       "        vertical-align: middle;\n",
       "    }\n",
       "\n",
       "    .dataframe tbody tr th {\n",
       "        vertical-align: top;\n",
       "    }\n",
       "\n",
       "    .dataframe thead th {\n",
       "        text-align: right;\n",
       "    }\n",
       "</style>\n",
       "<table border=\"1\" class=\"dataframe\">\n",
       "  <thead>\n",
       "    <tr style=\"text-align: right;\">\n",
       "      <th></th>\n",
       "      <th>count</th>\n",
       "      <th>mean</th>\n",
       "      <th>std</th>\n",
       "      <th>min</th>\n",
       "      <th>25%</th>\n",
       "      <th>50%</th>\n",
       "      <th>75%</th>\n",
       "      <th>max</th>\n",
       "    </tr>\n",
       "    <tr>\n",
       "      <th>hr</th>\n",
       "      <th></th>\n",
       "      <th></th>\n",
       "      <th></th>\n",
       "      <th></th>\n",
       "      <th></th>\n",
       "      <th></th>\n",
       "      <th></th>\n",
       "      <th></th>\n",
       "    </tr>\n",
       "  </thead>\n",
       "  <tbody>\n",
       "    <tr>\n",
       "      <td>0</td>\n",
       "      <td>369261.0</td>\n",
       "      <td>9.883912</td>\n",
       "      <td>27.574537</td>\n",
       "      <td>-88.890</td>\n",
       "      <td>-10.133</td>\n",
       "      <td>9.102</td>\n",
       "      <td>27.6080</td>\n",
       "      <td>89.850</td>\n",
       "    </tr>\n",
       "    <tr>\n",
       "      <td>1</td>\n",
       "      <td>16587.0</td>\n",
       "      <td>27.997869</td>\n",
       "      <td>5.258122</td>\n",
       "      <td>-47.842</td>\n",
       "      <td>24.156</td>\n",
       "      <td>27.650</td>\n",
       "      <td>31.3585</td>\n",
       "      <td>49.741</td>\n",
       "    </tr>\n",
       "  </tbody>\n",
       "</table>\n",
       "</div>"
      ],
      "text/plain": [
       "       count       mean        std     min     25%     50%      75%     max\n",
       "hr                                                                         \n",
       "0   369261.0   9.883912  27.574537 -88.890 -10.133   9.102  27.6080  89.850\n",
       "1    16587.0  27.997869   5.258122 -47.842  24.156  27.650  31.3585  49.741"
      ]
     },
     "execution_count": 51,
     "metadata": {},
     "output_type": "execute_result"
    }
   ],
   "source": [
    "# For each HR group, describe launch angle:\n",
    "all_MLB_teams2015_2017_new.groupby(by='hr').launch_angle.describe()"
   ]
  },
  {
   "cell_type": "code",
   "execution_count": 52,
   "metadata": {},
   "outputs": [
    {
     "data": {
      "image/png": "[encoded data removed]",
      "text/plain": [
       "<Figure size 720x576 with 2 Axes>"
      ]
     },
     "metadata": {
      "needs_background": "light"
     },
     "output_type": "display_data"
    }
   ],
   "source": [
    "# Create histograms\n",
    "# Note: column: used to limit data to a subset of columns\n",
    "#       by: used to form histograms for separate groups\n",
    "#       sharex: share x axis and set some x axis labels to invisible\n",
    "#       sharey: share y axis and set some y axis labels to invisible\n",
    "#       layout: tuple of (rows, columns) for the layout of the histograms\n",
    "#       figsize: a tuple (width, height) in inches\n",
    "all_MLB_teams2015_2017_new.hist(column='launch_angle', by='hr', sharex=True, sharey=True, figsize=(10, 8));\n",
    "plt.xlabel('Launch Angle (Degrees)');\n",
    "plt.ylabel('Frequency');"
   ]
  },
  {
   "cell_type": "code",
   "execution_count": 53,
   "metadata": {},
   "outputs": [
    {
     "data": {
      "text/html": [
       "<div>\n",
       "<style scoped>\n",
       "    .dataframe tbody tr th:only-of-type {\n",
       "        vertical-align: middle;\n",
       "    }\n",
       "\n",
       "    .dataframe tbody tr th {\n",
       "        vertical-align: top;\n",
       "    }\n",
       "\n",
       "    .dataframe thead th {\n",
       "        text-align: right;\n",
       "    }\n",
       "</style>\n",
       "<table border=\"1\" class=\"dataframe\">\n",
       "  <thead>\n",
       "    <tr style=\"text-align: right;\">\n",
       "      <th></th>\n",
       "      <th>count</th>\n",
       "      <th>mean</th>\n",
       "      <th>std</th>\n",
       "      <th>min</th>\n",
       "      <th>25%</th>\n",
       "      <th>50%</th>\n",
       "      <th>75%</th>\n",
       "      <th>max</th>\n",
       "    </tr>\n",
       "    <tr>\n",
       "      <th>xbh</th>\n",
       "      <th></th>\n",
       "      <th></th>\n",
       "      <th></th>\n",
       "      <th></th>\n",
       "      <th></th>\n",
       "      <th></th>\n",
       "      <th></th>\n",
       "      <th></th>\n",
       "    </tr>\n",
       "  </thead>\n",
       "  <tbody>\n",
       "    <tr>\n",
       "      <td>0</td>\n",
       "      <td>341824.0</td>\n",
       "      <td>85.650642</td>\n",
       "      <td>14.394967</td>\n",
       "      <td>5.2</td>\n",
       "      <td>79.5</td>\n",
       "      <td>87.4</td>\n",
       "      <td>96.0</td>\n",
       "      <td>123.4</td>\n",
       "    </tr>\n",
       "    <tr>\n",
       "      <td>1</td>\n",
       "      <td>44024.0</td>\n",
       "      <td>99.498778</td>\n",
       "      <td>8.496135</td>\n",
       "      <td>32.2</td>\n",
       "      <td>96.5</td>\n",
       "      <td>101.2</td>\n",
       "      <td>104.8</td>\n",
       "      <td>121.1</td>\n",
       "    </tr>\n",
       "  </tbody>\n",
       "</table>\n",
       "</div>"
      ],
      "text/plain": [
       "        count       mean        std   min   25%    50%    75%    max\n",
       "xbh                                                                 \n",
       "0    341824.0  85.650642  14.394967   5.2  79.5   87.4   96.0  123.4\n",
       "1     44024.0  99.498778   8.496135  32.2  96.5  101.2  104.8  121.1"
      ]
     },
     "execution_count": 53,
     "metadata": {},
     "output_type": "execute_result"
    }
   ],
   "source": [
    "# For each XBH group, describe exit velocity:\n",
    "all_MLB_teams2015_2017_new.groupby(by='xbh').exit_velocity.describe()"
   ]
  },
  {
   "cell_type": "code",
   "execution_count": 54,
   "metadata": {},
   "outputs": [
    {
     "data": {
      "image/png": "[encoded data removed]",
      "text/plain": [
       "<Figure size 720x576 with 2 Axes>"
      ]
     },
     "metadata": {
      "needs_background": "light"
     },
     "output_type": "display_data"
    }
   ],
   "source": [
    "# Create histograms\n",
    "# Note: column: used to limit data to a subset of columns\n",
    "#       by: used to form histograms for separate groups\n",
    "#       sharex: share x axis and set some x axis labels to invisible\n",
    "#       sharey: share y axis and set some y axis labels to invisible\n",
    "#       layout: tuple of (rows, columns) for the layout of the histograms\n",
    "#       figsize: a tuple (width, height) in inches\n",
    "all_MLB_teams2015_2017_new.hist(column='exit_velocity', by='xbh', sharex=True, sharey=True, figsize=(10, 8));\n",
    "plt.xlabel('Exit Velocity (MPH)');\n",
    "plt.ylabel('Frequency');"
   ]
  },
  {
   "cell_type": "code",
   "execution_count": 55,
   "metadata": {},
   "outputs": [
    {
     "data": {
      "text/html": [
       "<div>\n",
       "<style scoped>\n",
       "    .dataframe tbody tr th:only-of-type {\n",
       "        vertical-align: middle;\n",
       "    }\n",
       "\n",
       "    .dataframe tbody tr th {\n",
       "        vertical-align: top;\n",
       "    }\n",
       "\n",
       "    .dataframe thead th {\n",
       "        text-align: right;\n",
       "    }\n",
       "</style>\n",
       "<table border=\"1\" class=\"dataframe\">\n",
       "  <thead>\n",
       "    <tr style=\"text-align: right;\">\n",
       "      <th></th>\n",
       "      <th>count</th>\n",
       "      <th>mean</th>\n",
       "      <th>std</th>\n",
       "      <th>min</th>\n",
       "      <th>25%</th>\n",
       "      <th>50%</th>\n",
       "      <th>75%</th>\n",
       "      <th>max</th>\n",
       "    </tr>\n",
       "    <tr>\n",
       "      <th>xbh</th>\n",
       "      <th></th>\n",
       "      <th></th>\n",
       "      <th></th>\n",
       "      <th></th>\n",
       "      <th></th>\n",
       "      <th></th>\n",
       "      <th></th>\n",
       "      <th></th>\n",
       "    </tr>\n",
       "  </thead>\n",
       "  <tbody>\n",
       "    <tr>\n",
       "      <td>0</td>\n",
       "      <td>341824.0</td>\n",
       "      <td>9.350901</td>\n",
       "      <td>28.432802</td>\n",
       "      <td>-88.890</td>\n",
       "      <td>-11.9267</td>\n",
       "      <td>7.282</td>\n",
       "      <td>28.96625</td>\n",
       "      <td>89.85</td>\n",
       "    </tr>\n",
       "    <tr>\n",
       "      <td>1</td>\n",
       "      <td>44024.0</td>\n",
       "      <td>20.847295</td>\n",
       "      <td>10.596456</td>\n",
       "      <td>-62.942</td>\n",
       "      <td>15.5800</td>\n",
       "      <td>21.752</td>\n",
       "      <td>27.62325</td>\n",
       "      <td>69.72</td>\n",
       "    </tr>\n",
       "  </tbody>\n",
       "</table>\n",
       "</div>"
      ],
      "text/plain": [
       "        count       mean        std     min      25%     50%       75%    max\n",
       "xbh                                                                          \n",
       "0    341824.0   9.350901  28.432802 -88.890 -11.9267   7.282  28.96625  89.85\n",
       "1     44024.0  20.847295  10.596456 -62.942  15.5800  21.752  27.62325  69.72"
      ]
     },
     "execution_count": 55,
     "metadata": {},
     "output_type": "execute_result"
    }
   ],
   "source": [
    "# For each XBH group, describe launch angle:\n",
    "all_MLB_teams2015_2017_new.groupby(by='xbh').launch_angle.describe()"
   ]
  },
  {
   "cell_type": "code",
   "execution_count": 56,
   "metadata": {},
   "outputs": [
    {
     "data": {
      "image/png": "[encoded data removed]",
      "text/plain": [
       "<Figure size 720x576 with 2 Axes>"
      ]
     },
     "metadata": {
      "needs_background": "light"
     },
     "output_type": "display_data"
    }
   ],
   "source": [
    "# Create histograms\n",
    "# Note: column: used to limit data to a subset of columns\n",
    "#       by: used to form histograms for separate groups\n",
    "#       sharex: share x axis and set some x axis labels to invisible\n",
    "#       sharey: share y axis and set some y axis labels to invisible\n",
    "#       layout: tuple of (rows, columns) for the layout of the histograms\n",
    "#       figsize: a tuple (width, height) in inches\n",
    "all_MLB_teams2015_2017_new.hist(column='launch_angle', by='xbh', sharex=True, sharey=True, figsize=(10, 8));\n",
    "plt.xlabel('Launch Angle (Degrees)');\n",
    "plt.ylabel('Frequency');"
   ]
  },
  {
   "cell_type": "markdown",
   "metadata": {},
   "source": [
    "### Data Modeling"
   ]
  },
  {
   "cell_type": "markdown",
   "metadata": {},
   "source": [
    "### Using Decision Trees for Classification"
   ]
  },
  {
   "cell_type": "markdown",
   "metadata": {},
   "source": [
    "#### 2 main differences between classification and regression trees\n",
    "http://www.simafore.com/blog/bid/62482/2-main-differences-between-classification-and-regression-trees"
   ]
  },
  {
   "cell_type": "markdown",
   "metadata": {},
   "source": [
    "#### Build and train classification tree models"
   ]
  },
  {
   "cell_type": "markdown",
   "metadata": {},
   "source": [
    "Note: <br>\n",
    "- `DecisionTreeClassifier` does not support missing values for targets.\n",
    "- Categorical predictor variables must be converted to numeric variables with integer values in order to use `DecisionTreeClassifier`."
   ]
  },
  {
   "cell_type": "code",
   "execution_count": 57,
   "metadata": {},
   "outputs": [
    {
     "data": {
      "text/plain": [
       "game_date               0\n",
       "home_team               0\n",
       "away_team               0\n",
       "player_name             0\n",
       "pitcher                 0\n",
       "pitch_type              0\n",
       "pitch_name              0\n",
       "pitch_velocity          0\n",
       "batter                  0\n",
       "events                  0\n",
       "description             0\n",
       "batted_ball_type        0\n",
       "des                     2\n",
       "exit_velocity           0\n",
       "launch_angle            0\n",
       "hit_distance_sc     45864\n",
       "hr                      0\n",
       "xbh                     0\n",
       "dtype: int64"
      ]
     },
     "execution_count": 57,
     "metadata": {},
     "output_type": "execute_result"
    }
   ],
   "source": [
    "# Count the missing values in each column of a DataFrame - sum() works because True is 1 and False is 0\n",
    "all_MLB_teams2015_2017_new.isnull().sum()"
   ]
  },
  {
   "cell_type": "markdown",
   "metadata": {},
   "source": [
    "Convert `pitch_name` into a numeric variable of integer values."
   ]
  },
  {
   "cell_type": "code",
   "execution_count": 58,
   "metadata": {},
   "outputs": [
    {
     "data": {
      "text/plain": [
       "4-Seam Fastball    131254\n",
       "2-Seam Fastball     59444\n",
       "Slider              54850\n",
       "Changeup            43883\n",
       "Sinker              33090\n",
       "Curveball           26046\n",
       "Cutter              21484\n",
       "Knuckle Curve        7419\n",
       "Split Finger         6284\n",
       "Knuckle Ball         2094\n",
       "Name: pitch_name, dtype: int64"
      ]
     },
     "execution_count": 58,
     "metadata": {},
     "output_type": "execute_result"
    }
   ],
   "source": [
    "# Categorical column frequency\n",
    "# Returns counts of unique values in descending order (first element is the most frequently-occurring element)\n",
    "# Note: Excludes NA values by default\n",
    "all_MLB_teams2015_2017_new.pitch_name.value_counts()"
   ]
  },
  {
   "cell_type": "code",
   "execution_count": 59,
   "metadata": {},
   "outputs": [],
   "source": [
    "# Map values of Series using input correspondence (i.e., map existing input values to new outputs values)\n",
    "all_MLB_teams2015_2017_new['pitch_name_num'] = all_MLB_teams2015_2017_new.pitch_name.map({'4-Seam Fastball':1, '2-Seam Fastball':2, 'Slider':3, 'Changeup':4, 'Sinker':5, 'Curveball':6, 'Cutter':7, 'Knuckle Curve':8, 'Split Finger':9, 'Knuckle Ball':10})"
   ]
  },
  {
   "cell_type": "code",
   "execution_count": 60,
   "metadata": {},
   "outputs": [
    {
     "data": {
      "text/plain": [
       "1     131254\n",
       "2      59444\n",
       "3      54850\n",
       "4      43883\n",
       "5      33090\n",
       "6      26046\n",
       "7      21484\n",
       "8       7419\n",
       "9       6284\n",
       "10      2094\n",
       "Name: pitch_name_num, dtype: int64"
      ]
     },
     "execution_count": 60,
     "metadata": {},
     "output_type": "execute_result"
    }
   ],
   "source": [
    "# Categorical column frequency\n",
    "# Returns counts of unique values in descending order (first element is the most frequently-occurring element)\n",
    "# Note: Excludes NA values by default\n",
    "all_MLB_teams2015_2017_new.pitch_name_num.value_counts()"
   ]
  },
  {
   "cell_type": "markdown",
   "metadata": {},
   "source": [
    "Create dummy variables for `pitch_name`."
   ]
  },
  {
   "cell_type": "code",
   "execution_count": 61,
   "metadata": {},
   "outputs": [],
   "source": [
    "# Convert categorical variable into dummy/indicator variables\n",
    "# Note: prefix: string to append DataFrame column names\n",
    "#       drop_first=True removes the first level to get k-1 dummies out of k categorical events\n",
    "# Join columns with other DataFrame either on index or on a key\n",
    "#all_MLB_teams2015_2017_new = all_MLB_teams2015_2017_new.join(pd.get_dummies(all_MLB_teams2015_2017_new.pitch_name, prefix='pitch_name', drop_first=True))\n",
    "#all_MLB_teams2015_2017_new.head()"
   ]
  },
  {
   "cell_type": "markdown",
   "metadata": {},
   "source": [
    "### Building Phase"
   ]
  },
  {
   "cell_type": "markdown",
   "metadata": {},
   "source": [
    "#### Predicting HRs"
   ]
  },
  {
   "cell_type": "code",
   "execution_count": 62,
   "metadata": {},
   "outputs": [],
   "source": [
    "# Create a list of features\n",
    "feature_cols = ['pitch_name_num', 'pitch_velocity', 'exit_velocity', 'launch_angle']"
   ]
  },
  {
   "cell_type": "code",
   "execution_count": 63,
   "metadata": {},
   "outputs": [],
   "source": [
    "# Create X and y\n",
    "X = all_MLB_teams2015_2017_new[feature_cols]\n",
    "y = all_MLB_teams2015_2017_new.hr"
   ]
  },
  {
   "cell_type": "code",
   "execution_count": 64,
   "metadata": {},
   "outputs": [],
   "source": [
    "# Split X and y into training and testing sets\n",
    "# Note: train_size: between 0.0 and 1.0 and represent the proportion of the dataset to include in the train split\n",
    "#       test_size: between 0.0 and 1.0 and represent the proportion of the dataset to include in the test split\n",
    "#       random_state: the seed used by the random number generator\n",
    "X_train, X_test, y_train, y_test = train_test_split(X, y, train_size=0.70, test_size=0.30, random_state=65)"
   ]
  },
  {
   "cell_type": "markdown",
   "metadata": {},
   "source": [
    "#### Compute Baseline Accuracy\n",
    "https://machinelearningmastery.com/how-to-get-baseline-results-and-why-they-matter/"
   ]
  },
  {
   "cell_type": "code",
   "execution_count": 65,
   "metadata": {},
   "outputs": [
    {
     "name": "stdout",
     "output_type": "stream",
     "text": [
      "0    258469\n",
      "1     11624\n",
      "Name: hr, dtype: int64\n",
      "\n",
      "Most frequent class in training dataset: 0\n",
      "\n",
      "Baseline accuracy in test dataset: 0.957\n",
      "Baseline accuracy in test dataset: 0.957\n"
     ]
    }
   ],
   "source": [
    "# Categorical column frequency\n",
    "# Returns counts of unique values in descending order (first element is the most frequently-occurring element)\n",
    "# Note: Excludes NA values by default\n",
    "print(y_train.value_counts())\n",
    "print()\n",
    "\n",
    "most_freq_class = y_train.value_counts().index[0]\n",
    "print('Most frequent class in training dataset:', most_freq_class)\n",
    "print()\n",
    "\n",
    "print('Baseline accuracy in test dataset:', round(y_test.value_counts()[most_freq_class] / y_test.count(), 3))\n",
    "\n",
    "# Instantiate a classifier that makes predictions using simple rules and fit dummy classifier\n",
    "# Note: stragegy: strategy to use to generate predictions\n",
    "#       random_state: the seed used by the random number generator\n",
    "dummy_clf = DummyClassifier(strategy='most_frequent', random_state=0)\n",
    "dummy_clf.fit(X_train, y_train)\n",
    "dummy_clf.score(X_test, y_test)\n",
    "print('Baseline accuracy in test dataset:', round(dummy_clf.score(X_test, y_test), 3))"
   ]
  },
  {
   "cell_type": "markdown",
   "metadata": {},
   "source": [
    "Note: Creating train/test as arrays for purpose of running code below: 'Understanding the decision tree structure'. DataFrames do not work for this code."
   ]
  },
  {
   "cell_type": "code",
   "execution_count": 66,
   "metadata": {},
   "outputs": [],
   "source": [
    "X_train = X_train.values\n",
    "X_test = X_test.values\n",
    "y_train = y_train.values\n",
    "y_test = y_test.values"
   ]
  },
  {
   "cell_type": "markdown",
   "metadata": {},
   "source": [
    "#### Perform training with Gini Index criteria"
   ]
  },
  {
   "cell_type": "code",
   "execution_count": 67,
   "metadata": {},
   "outputs": [
    {
     "data": {
      "text/plain": [
       "DecisionTreeClassifier(ccp_alpha=0.0, class_weight=None, criterion='gini',\n",
       "                       max_depth=3, max_features=None, max_leaf_nodes=None,\n",
       "                       min_impurity_decrease=0.0, min_impurity_split=None,\n",
       "                       min_samples_leaf=5, min_samples_split=2,\n",
       "                       min_weight_fraction_leaf=0.0, presort='deprecated',\n",
       "                       random_state=46, splitter='best')"
      ]
     },
     "execution_count": 67,
     "metadata": {},
     "output_type": "execute_result"
    }
   ],
   "source": [
    "# Instantiate a decision tree classifier and build a decision tree classifier from the training set (X, y)\n",
    "# Note: criterion: function to measure the quality of a split; supported criteria are \"gini\" for the Gini impurity \n",
    "#                  and \"entropy\" for the information gain\n",
    "#       max_depth: maximum depth of the tree; if None, then nodes are expanded until all leaves are pure or \n",
    "#                  until all leaves contain less than min_samples_split samples\n",
    "#       min_samples_leaf: minimum number of samples required to be at a leaf node\n",
    "#       random_state: the seed used by the random number generator\n",
    "clf_gini = DecisionTreeClassifier(criterion='gini', max_depth=3, min_samples_leaf=5, random_state=46)\n",
    "clf_gini.fit(X_train, y_train)"
   ]
  },
  {
   "cell_type": "code",
   "execution_count": 68,
   "metadata": {},
   "outputs": [],
   "source": [
    "# Predicted class value for X using decision tree classifier\n",
    "# Note: For a classification model, the predicted class for each sample in X is returned\n",
    "#y_pred_class = clf_gini.predict(X_test)\n",
    "#y_pred_class"
   ]
  },
  {
   "cell_type": "code",
   "execution_count": 69,
   "metadata": {},
   "outputs": [],
   "source": [
    "# Predicted class probability estimates of the input samples X\n",
    "# Note: The predicted class probability is the fraction of samples of the same class in a leaf\n",
    "#y_pred_prob = clf_gini.predict_proba(X_test)[:, 1]\n",
    "#y_pred_prob = clf_gini.predict_proba(X_test)\n",
    "#y_pred_prob"
   ]
  },
  {
   "cell_type": "markdown",
   "metadata": {},
   "source": [
    "#### Perform training with “entropy” criteria for Information Gain"
   ]
  },
  {
   "cell_type": "code",
   "execution_count": 70,
   "metadata": {},
   "outputs": [
    {
     "data": {
      "text/plain": [
       "DecisionTreeClassifier(ccp_alpha=0.0, class_weight=None, criterion='entropy',\n",
       "                       max_depth=3, max_features=None, max_leaf_nodes=None,\n",
       "                       min_impurity_decrease=0.0, min_impurity_split=None,\n",
       "                       min_samples_leaf=5, min_samples_split=2,\n",
       "                       min_weight_fraction_leaf=0.0, presort='deprecated',\n",
       "                       random_state=46, splitter='best')"
      ]
     },
     "execution_count": 70,
     "metadata": {},
     "output_type": "execute_result"
    }
   ],
   "source": [
    "# Instantiate a decision tree classifier and build a decision tree classifier from the training set (X, y)\n",
    "# Note: criterion: function to measure the quality of a split; supported criteria are \"gini\" for the Gini impurity \n",
    "#                  and \"entropy\" for the information gain\n",
    "#       max_depth: maximum depth of the tree; if None, then nodes are expanded until all leaves are pure or \n",
    "#                  until all leaves contain less than min_samples_split samples\n",
    "#       min_samples_leaf: minimum number of samples required to be at a leaf node\n",
    "#       random_state: the seed used by the random number generator\n",
    "clf_entropy = DecisionTreeClassifier(criterion='entropy', max_depth=3, min_samples_leaf=5, random_state=46)\n",
    "clf_entropy.fit(X_train, y_train)"
   ]
  },
  {
   "cell_type": "code",
   "execution_count": 71,
   "metadata": {},
   "outputs": [],
   "source": [
    "# Predicted class value for X using decision tree classifier\n",
    "# Note: For a classification model, the predicted class for each sample in X is returned\n",
    "#y_pred_class = clf_entropy.predict(X_test)\n",
    "#y_pred_class"
   ]
  },
  {
   "cell_type": "code",
   "execution_count": 72,
   "metadata": {},
   "outputs": [],
   "source": [
    "# Predicted class probability estimates of the input samples X\n",
    "# Note: The predicted class probability is the fraction of samples of the same class in a leaf\n",
    "#y_pred_prob = clf_entropy.predict_proba(X_test)[:, 1]\n",
    "#y_pred_prob = clf_entropy.predict_proba(X_test)\n",
    "#y_pred_prob"
   ]
  },
  {
   "cell_type": "markdown",
   "metadata": {},
   "source": [
    "### Operational Phase"
   ]
  },
  {
   "cell_type": "code",
   "execution_count": 73,
   "metadata": {},
   "outputs": [],
   "source": [
    "# Function to make predictions \n",
    "def prediction(X_test, clf_object): \n",
    "  \n",
    "    # Predict the class labels using the classifier model\n",
    "    y_pred_class = clf_object.predict(X_test)\n",
    "\n",
    "    print('Predicted values:')\n",
    "    print(y_pred_class)\n",
    "    print('')\n",
    "    return y_pred_class"
   ]
  },
  {
   "cell_type": "code",
   "execution_count": 74,
   "metadata": {},
   "outputs": [],
   "source": [
    "# Function to calculate accuracy\n",
    "def cal_accuracy(y_test, y_pred_class, clf_object):\n",
    "      \n",
    "    # Training accuracy classification score\n",
    "    print('Training accuracy score:', round(metrics.accuracy_score(y_train, clf_object.predict(X_train)), 4))\n",
    "    \n",
    "    # Testing accuracy classification score\n",
    "    print('Testing accuracy score :', round(metrics.accuracy_score(y_test, y_pred_class), 4))\n",
    "    \n",
    "    if metrics.accuracy_score(y_train, clf_object.predict(X_train)) < metrics.accuracy_score(y_test, y_pred_class):\n",
    "        print('Testing accuracy > Training accuracy')\n",
    "        print('-> Not overfitting')\n",
    "    else:\n",
    "        print('Testing accuracy < Training accuracy')\n",
    "        print('-> Overfitting!')\n",
    "    print('')\n",
    "    \n",
    "    # Confusion matrix to evaluate the accuracy of a classification\n",
    "    print('Confusion Matrix:')\n",
    "    conmat = metrics.confusion_matrix(y_test, y_pred_class)\n",
    "    print(pd.DataFrame(conmat,\n",
    "                       index=['True No HR', 'True HR'],\n",
    "                       columns=['Predicted No HR', 'Predicted HR']))\n",
    "    print('')\n",
    "    \n",
    "    # Build a text report showing the main classification metrics\n",
    "    print('Classification Report:')\n",
    "    print(metrics.classification_report(y_test, y_pred_class))\n",
    "    print('')\n",
    "    \n",
    "    # Area Under the Receiver Operating Characteristic Curve (ROC AUC)\n",
    "    print('ROC AUC:', round(metrics.roc_auc_score(y_test, y_pred_class), 3))\n",
    "    print('')\n",
    "    \n",
    "    # Log loss, aka logistic loss or cross-entropy loss\n",
    "    print('Log loss:', round(metrics.log_loss(y_test, y_pred_class), 3))"
   ]
  },
  {
   "cell_type": "markdown",
   "metadata": {},
   "source": [
    "https://machinelearningmastery.com/classification-accuracy-is-not-enough-more-performance-measures-you-can-use/"
   ]
  },
  {
   "cell_type": "markdown",
   "metadata": {},
   "source": [
    "$$Precision = Positive Predictive Value (PPV) = \\frac{True Positives}{True Positives + False Positives}--> completeness$$\n",
    "- \"How many of the items selected are relevant\"\n",
    "- Of the items placed into a class, how many of them are True Positives.\n",
    "<br>\n",
    "<br>\n",
    "$$Recall = True Positive Rate(Sensitivity) = \\frac{True Positives}{True Positives + False Negatives}-->exactness$$\n",
    "- \"How many of the relevant items are selected\"\n",
    "- Of the items that were suppose to be placed into a class, how many did we accurately place.\n",
    "<br>\n",
    "<br>\n",
    "$$F1Score = 2*\\frac{precision * recall}{precision + recall}$$\n",
    "- 0 <= F1 <= 1, where 0 is awful and 1 is perfection.\n",
    "- F1 is considered a harmonic mean as it averages Precision and Recall.\n",
    "- With classification models you often times have to choose what kind of error you are willing to increase in order to reduce the other and thus you may want to optimize Precision or Recall accordingly.\n",
    "- If you are uncertain which you should optimize, F1 score may be the metric of choice."
   ]
  },
  {
   "cell_type": "markdown",
   "metadata": {},
   "source": [
    "#### Prediction using Gini Index criteria"
   ]
  },
  {
   "cell_type": "code",
   "execution_count": 75,
   "metadata": {
    "scrolled": false
   },
   "outputs": [
    {
     "name": "stdout",
     "output_type": "stream",
     "text": [
      "Results Using Gini Index:\n",
      "Predicted values:\n",
      "[0 0 0 ... 0 0 0]\n",
      "\n",
      "Training accuracy score: 0.9724\n",
      "Testing accuracy score : 0.9725\n",
      "Testing accuracy > Training accuracy\n",
      "-> Not overfitting\n",
      "\n",
      "Confusion Matrix:\n",
      "            Predicted No HR  Predicted HR\n",
      "True No HR           110023           769\n",
      "True HR                2413          2550\n",
      "\n",
      "Classification Report:\n",
      "              precision    recall  f1-score   support\n",
      "\n",
      "           0       0.98      0.99      0.99    110792\n",
      "           1       0.77      0.51      0.62      4963\n",
      "\n",
      "    accuracy                           0.97    115755\n",
      "   macro avg       0.87      0.75      0.80    115755\n",
      "weighted avg       0.97      0.97      0.97    115755\n",
      "\n",
      "\n",
      "ROC AUC: 0.753\n",
      "\n",
      "Log loss: 0.949\n"
     ]
    }
   ],
   "source": [
    "print('Results Using Gini Index:')\n",
    "y_pred_gini = prediction(X_test, clf_gini)\n",
    "cal_accuracy(y_test, y_pred_gini, clf_gini)"
   ]
  },
  {
   "cell_type": "markdown",
   "metadata": {},
   "source": [
    "#### Plot Receiver Operating Characteristic (ROC) Curve\n",
    "https://machinelearningmastery.com/roc-curves-and-precision-recall-curves-for-classification-in-python/"
   ]
  },
  {
   "cell_type": "code",
   "execution_count": 76,
   "metadata": {},
   "outputs": [
    {
     "data": {
      "image/png": "[encoded data removed]",
      "text/plain": [
       "<Figure size 864x576 with 1 Axes>"
      ]
     },
     "metadata": {
      "needs_background": "light"
     },
     "output_type": "display_data"
    }
   ],
   "source": [
    "roc_auc = metrics.roc_auc_score(y_test, clf_gini.predict(X_test))\n",
    "fpr, tpr, thresholds = metrics.roc_curve(y_test, clf_gini.predict_proba(X_test)[:, 1])\n",
    "\n",
    "plt.title('Receiver Operating Characteristic')\n",
    "plt.plot(fpr, tpr, label='AUC = %0.3f' % roc_auc)\n",
    "plt.legend(loc='lower right')\n",
    "plt.plot([0, 1], [0, 1], 'r--')\n",
    "plt.xlim([0.0, 1.0])\n",
    "plt.ylim([0.0, 1.05])\n",
    "plt.xlabel('False Positive Rate')\n",
    "plt.ylabel('True Positive Rate')\n",
    "plt.show()"
   ]
  },
  {
   "cell_type": "markdown",
   "metadata": {},
   "source": [
    "#### Plot Precision-Recall Curve"
   ]
  },
  {
   "cell_type": "code",
   "execution_count": 77,
   "metadata": {},
   "outputs": [
    {
     "name": "stdout",
     "output_type": "stream",
     "text": [
      "Average precision-recall score: 0.626\n"
     ]
    }
   ],
   "source": [
    "# Compute the average precision score\n",
    "average_precision = metrics.average_precision_score(y_test, clf_gini.predict_proba(X_test)[:, 1])\n",
    "print('Average precision-recall score: {0:0.3f}'.format(average_precision))"
   ]
  },
  {
   "cell_type": "code",
   "execution_count": 78,
   "metadata": {},
   "outputs": [
    {
     "data": {
      "image/png": "[encoded data removed]",
      "text/plain": [
       "<Figure size 864x576 with 1 Axes>"
      ]
     },
     "metadata": {
      "needs_background": "light"
     },
     "output_type": "display_data"
    }
   ],
   "source": [
    "precision, recall, thresholds = metrics.precision_recall_curve(y_test, clf_gini.predict_proba(X_test)[:, 1])\n",
    "no_skill = len(y_test[y_test==1]) / len(y_test)\n",
    "\n",
    "plt.title('2-class Precision-Recall Curve')\n",
    "plt.plot(recall, precision, label='AP = {0:0.3f}'.format(average_precision))\n",
    "plt.plot([0, 1], [no_skill, no_skill], 'r--', label='No Skill')\n",
    "plt.legend()\n",
    "plt.xlabel('Recall')\n",
    "plt.ylabel('Precision')\n",
    "plt.show()"
   ]
  },
  {
   "cell_type": "markdown",
   "metadata": {},
   "source": [
    "#### Prediction using Entropy criteria"
   ]
  },
  {
   "cell_type": "code",
   "execution_count": 79,
   "metadata": {},
   "outputs": [
    {
     "name": "stdout",
     "output_type": "stream",
     "text": [
      "Results Using Entropy:\n",
      "Predicted values:\n",
      "[0 0 0 ... 0 0 0]\n",
      "\n",
      "Training accuracy score: 0.9706\n",
      "Testing accuracy score : 0.9703\n",
      "Testing accuracy < Training accuracy\n",
      "-> Overfitting!\n",
      "\n",
      "Confusion Matrix:\n",
      "            Predicted No HR  Predicted HR\n",
      "True No HR           109439          1353\n",
      "True HR                2083          2880\n",
      "\n",
      "Classification Report:\n",
      "              precision    recall  f1-score   support\n",
      "\n",
      "           0       0.98      0.99      0.98    110792\n",
      "           1       0.68      0.58      0.63      4963\n",
      "\n",
      "    accuracy                           0.97    115755\n",
      "   macro avg       0.83      0.78      0.81    115755\n",
      "weighted avg       0.97      0.97      0.97    115755\n",
      "\n",
      "\n",
      "ROC AUC: 0.784\n",
      "\n",
      "Log loss: 1.025\n"
     ]
    }
   ],
   "source": [
    "print('Results Using Entropy:')\n",
    "y_pred_entropy = prediction(X_test, clf_entropy)\n",
    "cal_accuracy(y_test, y_pred_entropy, clf_entropy)"
   ]
  },
  {
   "cell_type": "markdown",
   "metadata": {},
   "source": [
    "#### Plot Receiver Operating Characteristic (ROC) Curve\n",
    "https://machinelearningmastery.com/roc-curves-and-precision-recall-curves-for-classification-in-python/"
   ]
  },
  {
   "cell_type": "code",
   "execution_count": 80,
   "metadata": {},
   "outputs": [
    {
     "data": {
      "image/png": "[encoded data removed]",
      "text/plain": [
       "<Figure size 864x576 with 1 Axes>"
      ]
     },
     "metadata": {
      "needs_background": "light"
     },
     "output_type": "display_data"
    }
   ],
   "source": [
    "roc_auc = metrics.roc_auc_score(y_test, clf_entropy.predict(X_test))\n",
    "fpr, tpr, thresholds = metrics.roc_curve(y_test, clf_entropy.predict_proba(X_test)[:, 1])\n",
    "\n",
    "plt.title('Receiver Operating Characteristic')\n",
    "plt.plot(fpr, tpr, label='AUC = %0.3f' % roc_auc)\n",
    "plt.legend(loc='lower right')\n",
    "plt.plot([0, 1], [0, 1], 'r--')\n",
    "plt.xlim([0.0, 1.0])\n",
    "plt.ylim([0.0, 1.05])\n",
    "plt.xlabel('False Positive Rate')\n",
    "plt.ylabel('True Positive Rate')\n",
    "plt.show()"
   ]
  },
  {
   "cell_type": "markdown",
   "metadata": {},
   "source": [
    "#### Plot Precision-Recall Curve"
   ]
  },
  {
   "cell_type": "code",
   "execution_count": 81,
   "metadata": {},
   "outputs": [
    {
     "name": "stdout",
     "output_type": "stream",
     "text": [
      "Average precision-recall score: 0.560\n"
     ]
    }
   ],
   "source": [
    "# Compute the average precision score\n",
    "average_precision = metrics.average_precision_score(y_test, clf_entropy.predict_proba(X_test)[:, 1])\n",
    "print('Average precision-recall score: {0:0.3f}'.format(average_precision))"
   ]
  },
  {
   "cell_type": "code",
   "execution_count": 82,
   "metadata": {},
   "outputs": [
    {
     "data": {
      "image/png": "[encoded data removed]",
      "text/plain": [
       "<Figure size 864x576 with 1 Axes>"
      ]
     },
     "metadata": {
      "needs_background": "light"
     },
     "output_type": "display_data"
    }
   ],
   "source": [
    "precision, recall, thresholds = metrics.precision_recall_curve(y_test, clf_entropy.predict_proba(X_test)[:, 1])\n",
    "no_skill = len(y_test[y_test==1]) / len(y_test)\n",
    "\n",
    "plt.title('2-class Precision-Recall Curve')\n",
    "plt.plot(recall, precision, label='AP = {0:0.3f}'.format(average_precision))\n",
    "plt.plot([0, 1], [no_skill, no_skill], 'r--', label='No Skill')\n",
    "plt.legend()\n",
    "plt.xlabel('Recall')\n",
    "plt.ylabel('Precision')\n",
    "plt.show()"
   ]
  },
  {
   "cell_type": "markdown",
   "metadata": {},
   "source": [
    "#### Understanding the decision tree structure"
   ]
  },
  {
   "cell_type": "code",
   "execution_count": 83,
   "metadata": {},
   "outputs": [
    {
     "name": "stdout",
     "output_type": "stream",
     "text": [
      "The binary tree structure has 15 nodes and has the following tree structure:\n",
      "node=0 test node: go to node 1 if X[:, 2] <= 100.25 else to node 8.\n",
      "\tnode=1 test node: go to node 2 if X[:, 2] <= 95.54999923706055 else to node 5.\n",
      "\t\tnode=2 test node: go to node 3 if X[:, 2] <= 92.64999771118164 else to node 4.\n",
      "\t\t\tnode=3 leaf node.\n",
      "\t\t\tnode=4 leaf node.\n",
      "\t\tnode=5 test node: go to node 6 if X[:, 3] <= 23.45699977874756 else to node 7.\n",
      "\t\t\tnode=6 leaf node.\n",
      "\t\t\tnode=7 leaf node.\n",
      "\tnode=8 test node: go to node 9 if X[:, 3] <= 20.685999870300293 else to node 12.\n",
      "\t\tnode=9 test node: go to node 10 if X[:, 3] <= 18.029500007629395 else to node 11.\n",
      "\t\t\tnode=10 leaf node.\n",
      "\t\t\tnode=11 leaf node.\n",
      "\t\tnode=12 test node: go to node 13 if X[:, 2] <= 102.64999771118164 else to node 14.\n",
      "\t\t\tnode=13 leaf node.\n",
      "\t\t\tnode=14 leaf node.\n",
      "\n",
      "Rules used to predict sample 0: \n",
      "decision id node 0 : (X_test[0, 2] (= 81.3) <= 100.25)\n",
      "decision id node 1 : (X_test[0, 2] (= 81.3) <= 95.54999923706055)\n",
      "decision id node 2 : (X_test[0, 2] (= 81.3) <= 92.64999771118164)\n",
      "\n",
      "The following samples [0, 1] share the node [0 1 2 3] in the tree\n",
      "It is 26.666666666666668 % of all nodes.\n"
     ]
    }
   ],
   "source": [
    "# The decision estimator has an attribute called tree_  which stores the entire\n",
    "# tree structure and allows access to low level attributes. The binary tree\n",
    "# tree_ is represented as a number of parallel arrays. The i-th element of each\n",
    "# array holds information about the node `i`. Node 0 is the tree's root. NOTE:\n",
    "# Some of the arrays only apply to either leaves or split nodes, resp. In this\n",
    "# case the values of nodes of the other type are arbitrary!\n",
    "#\n",
    "# Among those arrays, we have:\n",
    "#   - left_child, id of the left child of the node\n",
    "#   - right_child, id of the right child of the node\n",
    "#   - feature, feature used for splitting the node\n",
    "#   - threshold, threshold value at the node\n",
    "#\n",
    "\n",
    "# Using those arrays, we can parse the tree structure:\n",
    "n_nodes = clf_gini.tree_.node_count\n",
    "children_left = clf_gini.tree_.children_left\n",
    "children_right = clf_gini.tree_.children_right\n",
    "feature = clf_gini.tree_.feature\n",
    "threshold = clf_gini.tree_.threshold\n",
    "\n",
    "# The tree structure can be traversed to compute various properties such\n",
    "# as the depth of each node and whether or not it is a leaf.\n",
    "node_depth = np.zeros(shape=n_nodes, dtype=np.int64)\n",
    "is_leaves = np.zeros(shape=n_nodes, dtype=bool)\n",
    "stack = [(0, -1)]  # seed is the root node id and its parent depth\n",
    "while len(stack) > 0:\n",
    "    node_id, parent_depth = stack.pop()\n",
    "    node_depth[node_id] = parent_depth + 1\n",
    "\n",
    "    # If we have a test node\n",
    "    if (children_left[node_id] != children_right[node_id]):\n",
    "        stack.append((children_left[node_id], parent_depth + 1))\n",
    "        stack.append((children_right[node_id], parent_depth + 1))\n",
    "    else:\n",
    "        is_leaves[node_id] = True\n",
    "\n",
    "print('The binary tree structure has %s nodes and has '\n",
    "      'the following tree structure:'\n",
    "      % n_nodes)\n",
    "for i in range(n_nodes):\n",
    "    if is_leaves[i]:\n",
    "        print('%snode=%s leaf node.' % (node_depth[i] * '\\t', i))\n",
    "    else:\n",
    "        print('%snode=%s test node: go to node %s if X[:, %s] <= %s else to '\n",
    "              'node %s.'\n",
    "              % (node_depth[i] * '\\t',\n",
    "                 i,\n",
    "                 children_left[i],\n",
    "                 feature[i],\n",
    "                 threshold[i],\n",
    "                 children_right[i],\n",
    "                 ))\n",
    "print()\n",
    "\n",
    "# First let's retrieve the decision path of each sample. The decision_path\n",
    "# method allows to retrieve the node indicator functions. A non zero element of\n",
    "# indicator matrix at the position (i, j) indicates that the sample i goes\n",
    "# through the node j.\n",
    "node_indicator = clf_gini.decision_path(X_test)\n",
    "\n",
    "# Similarly, we can also have the leaves ids reached by each sample.\n",
    "leave_id = clf_gini.apply(X_test)\n",
    "\n",
    "# Now, it's possible to get the tests that were used to predict a sample or\n",
    "# a group of samples. First, let's make it for the sample.\n",
    "sample_id = 0\n",
    "node_index = node_indicator.indices[node_indicator.indptr[sample_id]:\n",
    "                                    node_indicator.indptr[sample_id + 1]]\n",
    "\n",
    "print('Rules used to predict sample %s: ' % sample_id)\n",
    "for node_id in node_index:\n",
    "    if leave_id[sample_id] == node_id:\n",
    "        continue\n",
    "\n",
    "    if (X_test[sample_id, feature[node_id]] <= threshold[node_id]):\n",
    "        threshold_sign = '<='\n",
    "    else:\n",
    "        threshold_sign = '>'\n",
    "\n",
    "    print('decision id node %s : (X_test[%s, %s] (= %s) %s %s)'\n",
    "          % (node_id,\n",
    "             sample_id,\n",
    "             feature[node_id],\n",
    "             X_test[sample_id, feature[node_id]],\n",
    "             threshold_sign,\n",
    "             threshold[node_id]))\n",
    "\n",
    "# For a group of samples, we have the following common node.\n",
    "sample_ids = [0, 1]\n",
    "common_nodes = (node_indicator.toarray()[sample_ids].sum(axis=0) ==\n",
    "                len(sample_ids))\n",
    "\n",
    "common_node_id = np.arange(n_nodes)[common_nodes]\n",
    "\n",
    "print('\\nThe following samples %s share the node %s in the tree'\n",
    "      % (sample_ids, common_node_id))\n",
    "print('It is %s %% of all nodes.' % (100 * len(common_node_id) / n_nodes,))"
   ]
  },
  {
   "cell_type": "code",
   "execution_count": 84,
   "metadata": {},
   "outputs": [],
   "source": [
    "# Export a decision tree in DOT format\n",
    "# Generates a GraphViz representation of the decision tree, which is then written into `out_file`\n",
    "# Once exported, graphical renderings can be generated\n",
    "# Note: feature_names: list of strings, optional (default=None); names of each of the features\n",
    "#       class_names: list of strings, bool or None, optional (default=None); names of each of the target classes in \n",
    "#                    ascending numerical order; only relevant for classification and not supported for multi-output\n",
    "#       \n",
    "dot_data = export_graphviz(clf_gini, out_file=None,\n",
    "                           feature_names=feature_cols,\n",
    "                           class_names=['No HR', 'HR'],\n",
    "                           filled=True, rounded=True,\n",
    "                           special_characters=True)"
   ]
  },
  {
   "cell_type": "code",
   "execution_count": 85,
   "metadata": {},
   "outputs": [
    {
     "data": {
      "image/svg+xml": [
       "<?xml version=\"1.0\" encoding=\"UTF-8\" standalone=\"no\"?>\n",
       "<!DOCTYPE svg PUBLIC \"-//W3C//DTD SVG 1.1//EN\"\n",
       " \"http://www.w3.org/Graphics/SVG/1.1/DTD/svg11.dtd\">\n",
       "<!-- Generated by graphviz version 2.40.1 (20161225.0304)\n",
       " -->\n",
       "<!-- Title: Tree Pages: 1 -->\n",
       "<svg width=\"1286pt\" height=\"433pt\"\n",
       " viewBox=\"0.00 0.00 1286.00 433.00\" xmlns=\"http://www.w3.org/2000/svg\" xmlns:xlink=\"http://www.w3.org/1999/xlink\">\n",
       "<g id=\"graph0\" class=\"graph\" transform=\"scale(1 1) rotate(0) translate(4 429)\">\n",
       "<title>Tree</title>\n",
       "<polygon fill=\"#ffffff\" stroke=\"transparent\" points=\"-4,4 -4,-429 1282,-429 1282,4 -4,4\"/>\n",
       "<!-- 0 -->\n",
       "<g id=\"node1\" class=\"node\">\n",
       "<title>0</title>\n",
       "<path fill=\"#e68742\" stroke=\"#000000\" d=\"M710.5,-425C710.5,-425 567.5,-425 567.5,-425 561.5,-425 555.5,-419 555.5,-413 555.5,-413 555.5,-354 555.5,-354 555.5,-348 561.5,-342 567.5,-342 567.5,-342 710.5,-342 710.5,-342 716.5,-342 722.5,-348 722.5,-354 722.5,-354 722.5,-413 722.5,-413 722.5,-419 716.5,-425 710.5,-425\"/>\n",
       "<text text-anchor=\"start\" x=\"571.5\" y=\"-409.8\" font-family=\"Helvetica,sans-Serif\" font-size=\"14.00\" fill=\"#000000\">exit_velocity ≤ 100.25</text>\n",
       "<text text-anchor=\"start\" x=\"602.5\" y=\"-394.8\" font-family=\"Helvetica,sans-Serif\" font-size=\"14.00\" fill=\"#000000\">gini = 0.082</text>\n",
       "<text text-anchor=\"start\" x=\"581.5\" y=\"-379.8\" font-family=\"Helvetica,sans-Serif\" font-size=\"14.00\" fill=\"#000000\">samples = 270093</text>\n",
       "<text text-anchor=\"start\" x=\"563.5\" y=\"-364.8\" font-family=\"Helvetica,sans-Serif\" font-size=\"14.00\" fill=\"#000000\">value = [258469, 11624]</text>\n",
       "<text text-anchor=\"start\" x=\"594\" y=\"-349.8\" font-family=\"Helvetica,sans-Serif\" font-size=\"14.00\" fill=\"#000000\">class = No HR</text>\n",
       "</g>\n",
       "<!-- 1 -->\n",
       "<g id=\"node2\" class=\"node\">\n",
       "<title>1</title>\n",
       "<path fill=\"#e5833b\" stroke=\"#000000\" d=\"M550.5,-306C550.5,-306 415.5,-306 415.5,-306 409.5,-306 403.5,-300 403.5,-294 403.5,-294 403.5,-235 403.5,-235 403.5,-229 409.5,-223 415.5,-223 415.5,-223 550.5,-223 550.5,-223 556.5,-223 562.5,-229 562.5,-235 562.5,-235 562.5,-294 562.5,-294 562.5,-300 556.5,-306 550.5,-306\"/>\n",
       "<text text-anchor=\"start\" x=\"419.5\" y=\"-290.8\" font-family=\"Helvetica,sans-Serif\" font-size=\"14.00\" fill=\"#000000\">exit_velocity ≤ 95.55</text>\n",
       "<text text-anchor=\"start\" x=\"446.5\" y=\"-275.8\" font-family=\"Helvetica,sans-Serif\" font-size=\"14.00\" fill=\"#000000\">gini = 0.024</text>\n",
       "<text text-anchor=\"start\" x=\"425.5\" y=\"-260.8\" font-family=\"Helvetica,sans-Serif\" font-size=\"14.00\" fill=\"#000000\">samples = 219905</text>\n",
       "<text text-anchor=\"start\" x=\"411.5\" y=\"-245.8\" font-family=\"Helvetica,sans-Serif\" font-size=\"14.00\" fill=\"#000000\">value = [217223, 2682]</text>\n",
       "<text text-anchor=\"start\" x=\"438\" y=\"-230.8\" font-family=\"Helvetica,sans-Serif\" font-size=\"14.00\" fill=\"#000000\">class = No HR</text>\n",
       "</g>\n",
       "<!-- 0&#45;&gt;1 -->\n",
       "<g id=\"edge1\" class=\"edge\">\n",
       "<title>0&#45;&gt;1</title>\n",
       "<path fill=\"none\" stroke=\"#000000\" d=\"M584.4388,-341.8796C571.9698,-332.368 558.6198,-322.1843 545.8352,-312.432\"/>\n",
       "<polygon fill=\"#000000\" stroke=\"#000000\" points=\"547.604,-309.3792 537.5304,-306.0969 543.3585,-314.9448 547.604,-309.3792\"/>\n",
       "<text text-anchor=\"middle\" x=\"540.864\" y=\"-327.1737\" font-family=\"Helvetica,sans-Serif\" font-size=\"14.00\" fill=\"#000000\">True</text>\n",
       "</g>\n",
       "<!-- 8 -->\n",
       "<g id=\"node9\" class=\"node\">\n",
       "<title>8</title>\n",
       "<path fill=\"#eb9c64\" stroke=\"#000000\" d=\"M868,-306C868,-306 734,-306 734,-306 728,-306 722,-300 722,-294 722,-294 722,-235 722,-235 722,-229 728,-223 734,-223 734,-223 868,-223 868,-223 874,-223 880,-229 880,-235 880,-235 880,-294 880,-294 880,-300 874,-306 868,-306\"/>\n",
       "<text text-anchor=\"start\" x=\"730\" y=\"-290.8\" font-family=\"Helvetica,sans-Serif\" font-size=\"14.00\" fill=\"#000000\">launch_angle ≤ 20.686</text>\n",
       "<text text-anchor=\"start\" x=\"764.5\" y=\"-275.8\" font-family=\"Helvetica,sans-Serif\" font-size=\"14.00\" fill=\"#000000\">gini = 0.293</text>\n",
       "<text text-anchor=\"start\" x=\"747\" y=\"-260.8\" font-family=\"Helvetica,sans-Serif\" font-size=\"14.00\" fill=\"#000000\">samples = 50188</text>\n",
       "<text text-anchor=\"start\" x=\"733\" y=\"-245.8\" font-family=\"Helvetica,sans-Serif\" font-size=\"14.00\" fill=\"#000000\">value = [41246, 8942]</text>\n",
       "<text text-anchor=\"start\" x=\"756\" y=\"-230.8\" font-family=\"Helvetica,sans-Serif\" font-size=\"14.00\" fill=\"#000000\">class = No HR</text>\n",
       "</g>\n",
       "<!-- 0&#45;&gt;8 -->\n",
       "<g id=\"edge8\" class=\"edge\">\n",
       "<title>0&#45;&gt;8</title>\n",
       "<path fill=\"none\" stroke=\"#000000\" d=\"M695.6597,-341.8796C708.7316,-332.2774 722.7359,-321.9903 736.1273,-312.1534\"/>\n",
       "<polygon fill=\"#000000\" stroke=\"#000000\" points=\"738.385,-314.8378 744.3723,-306.0969 734.2409,-309.1963 738.385,-314.8378\"/>\n",
       "<text text-anchor=\"middle\" x=\"740.5907\" y=\"-327.1093\" font-family=\"Helvetica,sans-Serif\" font-size=\"14.00\" fill=\"#000000\">False</text>\n",
       "</g>\n",
       "<!-- 2 -->\n",
       "<g id=\"node3\" class=\"node\">\n",
       "<title>2</title>\n",
       "<path fill=\"#e5813a\" stroke=\"#000000\" d=\"M306,-187C306,-187 178,-187 178,-187 172,-187 166,-181 166,-175 166,-175 166,-116 166,-116 166,-110 172,-104 178,-104 178,-104 306,-104 306,-104 312,-104 318,-110 318,-116 318,-116 318,-175 318,-175 318,-181 312,-187 306,-187\"/>\n",
       "<text text-anchor=\"start\" x=\"178.5\" y=\"-171.8\" font-family=\"Helvetica,sans-Serif\" font-size=\"14.00\" fill=\"#000000\">exit_velocity ≤ 92.65</text>\n",
       "<text text-anchor=\"start\" x=\"205.5\" y=\"-156.8\" font-family=\"Helvetica,sans-Serif\" font-size=\"14.00\" fill=\"#000000\">gini = 0.006</text>\n",
       "<text text-anchor=\"start\" x=\"184.5\" y=\"-141.8\" font-family=\"Helvetica,sans-Serif\" font-size=\"14.00\" fill=\"#000000\">samples = 183007</text>\n",
       "<text text-anchor=\"start\" x=\"174\" y=\"-126.8\" font-family=\"Helvetica,sans-Serif\" font-size=\"14.00\" fill=\"#000000\">value = [182474, 533]</text>\n",
       "<text text-anchor=\"start\" x=\"197\" y=\"-111.8\" font-family=\"Helvetica,sans-Serif\" font-size=\"14.00\" fill=\"#000000\">class = No HR</text>\n",
       "</g>\n",
       "<!-- 1&#45;&gt;2 -->\n",
       "<g id=\"edge2\" class=\"edge\">\n",
       "<title>1&#45;&gt;2</title>\n",
       "<path fill=\"none\" stroke=\"#000000\" d=\"M403.4197,-225.2052C378.9978,-213.1462 352.0313,-199.8308 327.2466,-187.5927\"/>\n",
       "<polygon fill=\"#000000\" stroke=\"#000000\" points=\"328.739,-184.4262 318.2229,-183.137 325.6398,-190.7028 328.739,-184.4262\"/>\n",
       "</g>\n",
       "<!-- 5 -->\n",
       "<g id=\"node6\" class=\"node\">\n",
       "<title>5</title>\n",
       "<path fill=\"#e78945\" stroke=\"#000000\" d=\"M550,-187C550,-187 416,-187 416,-187 410,-187 404,-181 404,-175 404,-175 404,-116 404,-116 404,-110 410,-104 416,-104 416,-104 550,-104 550,-104 556,-104 562,-110 562,-116 562,-116 562,-175 562,-175 562,-181 556,-187 550,-187\"/>\n",
       "<text text-anchor=\"start\" x=\"412\" y=\"-171.8\" font-family=\"Helvetica,sans-Serif\" font-size=\"14.00\" fill=\"#000000\">launch_angle ≤ 23.457</text>\n",
       "<text text-anchor=\"start\" x=\"450.5\" y=\"-156.8\" font-family=\"Helvetica,sans-Serif\" font-size=\"14.00\" fill=\"#000000\">gini = 0.11</text>\n",
       "<text text-anchor=\"start\" x=\"429\" y=\"-141.8\" font-family=\"Helvetica,sans-Serif\" font-size=\"14.00\" fill=\"#000000\">samples = 36898</text>\n",
       "<text text-anchor=\"start\" x=\"415\" y=\"-126.8\" font-family=\"Helvetica,sans-Serif\" font-size=\"14.00\" fill=\"#000000\">value = [34749, 2149]</text>\n",
       "<text text-anchor=\"start\" x=\"438\" y=\"-111.8\" font-family=\"Helvetica,sans-Serif\" font-size=\"14.00\" fill=\"#000000\">class = No HR</text>\n",
       "</g>\n",
       "<!-- 1&#45;&gt;5 -->\n",
       "<g id=\"edge5\" class=\"edge\">\n",
       "<title>1&#45;&gt;5</title>\n",
       "<path fill=\"none\" stroke=\"#000000\" d=\"M483,-222.8796C483,-214.6838 483,-205.9891 483,-197.5013\"/>\n",
       "<polygon fill=\"#000000\" stroke=\"#000000\" points=\"486.5001,-197.298 483,-187.2981 479.5001,-197.2981 486.5001,-197.298\"/>\n",
       "</g>\n",
       "<!-- 3 -->\n",
       "<g id=\"node4\" class=\"node\">\n",
       "<title>3</title>\n",
       "<path fill=\"#e58139\" stroke=\"#000000\" d=\"M140,-68C140,-68 12,-68 12,-68 6,-68 0,-62 0,-56 0,-56 0,-12 0,-12 0,-6 6,0 12,0 12,0 140,0 140,0 146,0 152,-6 152,-12 152,-12 152,-56 152,-56 152,-62 146,-68 140,-68\"/>\n",
       "<text text-anchor=\"start\" x=\"39.5\" y=\"-52.8\" font-family=\"Helvetica,sans-Serif\" font-size=\"14.00\" fill=\"#000000\">gini = 0.002</text>\n",
       "<text text-anchor=\"start\" x=\"18.5\" y=\"-37.8\" font-family=\"Helvetica,sans-Serif\" font-size=\"14.00\" fill=\"#000000\">samples = 161152</text>\n",
       "<text text-anchor=\"start\" x=\"8\" y=\"-22.8\" font-family=\"Helvetica,sans-Serif\" font-size=\"14.00\" fill=\"#000000\">value = [161026, 126]</text>\n",
       "<text text-anchor=\"start\" x=\"31\" y=\"-7.8\" font-family=\"Helvetica,sans-Serif\" font-size=\"14.00\" fill=\"#000000\">class = No HR</text>\n",
       "</g>\n",
       "<!-- 2&#45;&gt;3 -->\n",
       "<g id=\"edge3\" class=\"edge\">\n",
       "<title>2&#45;&gt;3</title>\n",
       "<path fill=\"none\" stroke=\"#000000\" d=\"M180.1877,-103.9815C165.4699,-94.0957 149.7995,-83.5701 135.2019,-73.7651\"/>\n",
       "<polygon fill=\"#000000\" stroke=\"#000000\" points=\"136.9991,-70.7561 126.7463,-68.0856 133.096,-76.5669 136.9991,-70.7561\"/>\n",
       "</g>\n",
       "<!-- 4 -->\n",
       "<g id=\"node5\" class=\"node\">\n",
       "<title>4</title>\n",
       "<path fill=\"#e5833d\" stroke=\"#000000\" d=\"M302,-68C302,-68 182,-68 182,-68 176,-68 170,-62 170,-56 170,-56 170,-12 170,-12 170,-6 176,0 182,0 182,0 302,0 302,0 308,0 314,-6 314,-12 314,-12 314,-56 314,-56 314,-62 308,-68 302,-68\"/>\n",
       "<text text-anchor=\"start\" x=\"205.5\" y=\"-52.8\" font-family=\"Helvetica,sans-Serif\" font-size=\"14.00\" fill=\"#000000\">gini = 0.037</text>\n",
       "<text text-anchor=\"start\" x=\"188\" y=\"-37.8\" font-family=\"Helvetica,sans-Serif\" font-size=\"14.00\" fill=\"#000000\">samples = 21855</text>\n",
       "<text text-anchor=\"start\" x=\"178\" y=\"-22.8\" font-family=\"Helvetica,sans-Serif\" font-size=\"14.00\" fill=\"#000000\">value = [21448, 407]</text>\n",
       "<text text-anchor=\"start\" x=\"197\" y=\"-7.8\" font-family=\"Helvetica,sans-Serif\" font-size=\"14.00\" fill=\"#000000\">class = No HR</text>\n",
       "</g>\n",
       "<!-- 2&#45;&gt;4 -->\n",
       "<g id=\"edge4\" class=\"edge\">\n",
       "<title>2&#45;&gt;4</title>\n",
       "<path fill=\"none\" stroke=\"#000000\" d=\"M242,-103.9815C242,-95.618 242,-86.7965 242,-78.3409\"/>\n",
       "<polygon fill=\"#000000\" stroke=\"#000000\" points=\"245.5001,-78.2636 242,-68.2637 238.5001,-78.2637 245.5001,-78.2636\"/>\n",
       "</g>\n",
       "<!-- 6 -->\n",
       "<g id=\"node7\" class=\"node\">\n",
       "<title>6</title>\n",
       "<path fill=\"#e5823a\" stroke=\"#000000\" d=\"M464,-68C464,-68 344,-68 344,-68 338,-68 332,-62 332,-56 332,-56 332,-12 332,-12 332,-6 338,0 344,0 344,0 464,0 464,0 470,0 476,-6 476,-12 476,-12 476,-56 476,-56 476,-62 470,-68 464,-68\"/>\n",
       "<text text-anchor=\"start\" x=\"367.5\" y=\"-52.8\" font-family=\"Helvetica,sans-Serif\" font-size=\"14.00\" fill=\"#000000\">gini = 0.009</text>\n",
       "<text text-anchor=\"start\" x=\"350\" y=\"-37.8\" font-family=\"Helvetica,sans-Serif\" font-size=\"14.00\" fill=\"#000000\">samples = 26250</text>\n",
       "<text text-anchor=\"start\" x=\"340\" y=\"-22.8\" font-family=\"Helvetica,sans-Serif\" font-size=\"14.00\" fill=\"#000000\">value = [26125, 125]</text>\n",
       "<text text-anchor=\"start\" x=\"359\" y=\"-7.8\" font-family=\"Helvetica,sans-Serif\" font-size=\"14.00\" fill=\"#000000\">class = No HR</text>\n",
       "</g>\n",
       "<!-- 5&#45;&gt;6 -->\n",
       "<g id=\"edge6\" class=\"edge\">\n",
       "<title>5&#45;&gt;6</title>\n",
       "<path fill=\"none\" stroke=\"#000000\" d=\"M453.5833,-103.9815C447.2669,-95.0666 440.5818,-85.6313 434.2349,-76.6734\"/>\n",
       "<polygon fill=\"#000000\" stroke=\"#000000\" points=\"436.9136,-74.3998 428.2765,-68.2637 431.2019,-78.4466 436.9136,-74.3998\"/>\n",
       "</g>\n",
       "<!-- 7 -->\n",
       "<g id=\"node8\" class=\"node\">\n",
       "<title>7</title>\n",
       "<path fill=\"#eb9f67\" stroke=\"#000000\" d=\"M626,-68C626,-68 506,-68 506,-68 500,-68 494,-62 494,-56 494,-56 494,-12 494,-12 494,-6 500,0 506,0 506,0 626,0 626,0 632,0 638,-6 638,-12 638,-12 638,-56 638,-56 638,-62 632,-68 626,-68\"/>\n",
       "<text text-anchor=\"start\" x=\"529.5\" y=\"-52.8\" font-family=\"Helvetica,sans-Serif\" font-size=\"14.00\" fill=\"#000000\">gini = 0.308</text>\n",
       "<text text-anchor=\"start\" x=\"512\" y=\"-37.8\" font-family=\"Helvetica,sans-Serif\" font-size=\"14.00\" fill=\"#000000\">samples = 10648</text>\n",
       "<text text-anchor=\"start\" x=\"502\" y=\"-22.8\" font-family=\"Helvetica,sans-Serif\" font-size=\"14.00\" fill=\"#000000\">value = [8624, 2024]</text>\n",
       "<text text-anchor=\"start\" x=\"521\" y=\"-7.8\" font-family=\"Helvetica,sans-Serif\" font-size=\"14.00\" fill=\"#000000\">class = No HR</text>\n",
       "</g>\n",
       "<!-- 5&#45;&gt;7 -->\n",
       "<g id=\"edge7\" class=\"edge\">\n",
       "<title>5&#45;&gt;7</title>\n",
       "<path fill=\"none\" stroke=\"#000000\" d=\"M513.9061,-103.9815C520.6108,-94.9747 527.7108,-85.4367 534.4403,-76.3965\"/>\n",
       "<polygon fill=\"#000000\" stroke=\"#000000\" points=\"537.3306,-78.3752 540.4943,-68.2637 531.7155,-74.1953 537.3306,-78.3752\"/>\n",
       "</g>\n",
       "<!-- 9 -->\n",
       "<g id=\"node10\" class=\"node\">\n",
       "<title>9</title>\n",
       "<path fill=\"#e6843d\" stroke=\"#000000\" d=\"M864,-187C864,-187 738,-187 738,-187 732,-187 726,-181 726,-175 726,-175 726,-116 726,-116 726,-110 732,-104 738,-104 738,-104 864,-104 864,-104 870,-104 876,-110 876,-116 876,-116 876,-175 876,-175 876,-181 870,-187 864,-187\"/>\n",
       "<text text-anchor=\"start\" x=\"734\" y=\"-171.8\" font-family=\"Helvetica,sans-Serif\" font-size=\"14.00\" fill=\"#000000\">launch_angle ≤ 18.03</text>\n",
       "<text text-anchor=\"start\" x=\"764.5\" y=\"-156.8\" font-family=\"Helvetica,sans-Serif\" font-size=\"14.00\" fill=\"#000000\">gini = 0.039</text>\n",
       "<text text-anchor=\"start\" x=\"747\" y=\"-141.8\" font-family=\"Helvetica,sans-Serif\" font-size=\"14.00\" fill=\"#000000\">samples = 37270</text>\n",
       "<text text-anchor=\"start\" x=\"737\" y=\"-126.8\" font-family=\"Helvetica,sans-Serif\" font-size=\"14.00\" fill=\"#000000\">value = [36519, 751]</text>\n",
       "<text text-anchor=\"start\" x=\"756\" y=\"-111.8\" font-family=\"Helvetica,sans-Serif\" font-size=\"14.00\" fill=\"#000000\">class = No HR</text>\n",
       "</g>\n",
       "<!-- 8&#45;&gt;9 -->\n",
       "<g id=\"edge9\" class=\"edge\">\n",
       "<title>8&#45;&gt;9</title>\n",
       "<path fill=\"none\" stroke=\"#000000\" d=\"M801,-222.8796C801,-214.6838 801,-205.9891 801,-197.5013\"/>\n",
       "<polygon fill=\"#000000\" stroke=\"#000000\" points=\"804.5001,-197.298 801,-187.2981 797.5001,-197.2981 804.5001,-197.298\"/>\n",
       "</g>\n",
       "<!-- 12 -->\n",
       "<g id=\"node13\" class=\"node\">\n",
       "<title>12</title>\n",
       "<path fill=\"#abd6f4\" stroke=\"#000000\" d=\"M1107.5,-187C1107.5,-187 980.5,-187 980.5,-187 974.5,-187 968.5,-181 968.5,-175 968.5,-175 968.5,-116 968.5,-116 968.5,-110 974.5,-104 980.5,-104 980.5,-104 1107.5,-104 1107.5,-104 1113.5,-104 1119.5,-110 1119.5,-116 1119.5,-116 1119.5,-175 1119.5,-175 1119.5,-181 1113.5,-187 1107.5,-187\"/>\n",
       "<text text-anchor=\"start\" x=\"976.5\" y=\"-171.8\" font-family=\"Helvetica,sans-Serif\" font-size=\"14.00\" fill=\"#000000\">exit_velocity ≤ 102.65</text>\n",
       "<text text-anchor=\"start\" x=\"1007.5\" y=\"-156.8\" font-family=\"Helvetica,sans-Serif\" font-size=\"14.00\" fill=\"#000000\">gini = 0.464</text>\n",
       "<text text-anchor=\"start\" x=\"990\" y=\"-141.8\" font-family=\"Helvetica,sans-Serif\" font-size=\"14.00\" fill=\"#000000\">samples = 12918</text>\n",
       "<text text-anchor=\"start\" x=\"980\" y=\"-126.8\" font-family=\"Helvetica,sans-Serif\" font-size=\"14.00\" fill=\"#000000\">value = [4727, 8191]</text>\n",
       "<text text-anchor=\"start\" x=\"1009.5\" y=\"-111.8\" font-family=\"Helvetica,sans-Serif\" font-size=\"14.00\" fill=\"#000000\">class = HR</text>\n",
       "</g>\n",
       "<!-- 8&#45;&gt;12 -->\n",
       "<g id=\"edge12\" class=\"edge\">\n",
       "<title>8&#45;&gt;12</title>\n",
       "<path fill=\"none\" stroke=\"#000000\" d=\"M880.231,-225.6996C905.3948,-213.3766 933.322,-199.7004 958.8825,-187.183\"/>\n",
       "<polygon fill=\"#000000\" stroke=\"#000000\" points=\"960.7414,-190.1699 968.183,-182.6285 957.6627,-183.8833 960.7414,-190.1699\"/>\n",
       "</g>\n",
       "<!-- 10 -->\n",
       "<g id=\"node11\" class=\"node\">\n",
       "<title>10</title>\n",
       "<path fill=\"#e5813a\" stroke=\"#000000\" d=\"M788,-68C788,-68 668,-68 668,-68 662,-68 656,-62 656,-56 656,-56 656,-12 656,-12 656,-6 662,0 668,0 668,0 788,0 788,0 794,0 800,-6 800,-12 800,-12 800,-56 800,-56 800,-62 794,-68 788,-68\"/>\n",
       "<text text-anchor=\"start\" x=\"691.5\" y=\"-52.8\" font-family=\"Helvetica,sans-Serif\" font-size=\"14.00\" fill=\"#000000\">gini = 0.007</text>\n",
       "<text text-anchor=\"start\" x=\"674\" y=\"-37.8\" font-family=\"Helvetica,sans-Serif\" font-size=\"14.00\" fill=\"#000000\">samples = 34246</text>\n",
       "<text text-anchor=\"start\" x=\"664\" y=\"-22.8\" font-family=\"Helvetica,sans-Serif\" font-size=\"14.00\" fill=\"#000000\">value = [34131, 115]</text>\n",
       "<text text-anchor=\"start\" x=\"683\" y=\"-7.8\" font-family=\"Helvetica,sans-Serif\" font-size=\"14.00\" fill=\"#000000\">class = No HR</text>\n",
       "</g>\n",
       "<!-- 9&#45;&gt;10 -->\n",
       "<g id=\"edge10\" class=\"edge\">\n",
       "<title>9&#45;&gt;10</title>\n",
       "<path fill=\"none\" stroke=\"#000000\" d=\"M773.8175,-103.9815C767.9808,-95.0666 761.8034,-85.6313 755.9386,-76.6734\"/>\n",
       "<polygon fill=\"#000000\" stroke=\"#000000\" points=\"758.8386,-74.7129 750.4327,-68.2637 752.9821,-78.5472 758.8386,-74.7129\"/>\n",
       "</g>\n",
       "<!-- 11 -->\n",
       "<g id=\"node12\" class=\"node\">\n",
       "<title>11</title>\n",
       "<path fill=\"#eca36e\" stroke=\"#000000\" d=\"M942,-68C942,-68 830,-68 830,-68 824,-68 818,-62 818,-56 818,-56 818,-12 818,-12 818,-6 824,0 830,0 830,0 942,0 942,0 948,0 954,-6 954,-12 954,-12 954,-56 954,-56 954,-62 948,-68 942,-68\"/>\n",
       "<text text-anchor=\"start\" x=\"849.5\" y=\"-52.8\" font-family=\"Helvetica,sans-Serif\" font-size=\"14.00\" fill=\"#000000\">gini = 0.332</text>\n",
       "<text text-anchor=\"start\" x=\"836\" y=\"-37.8\" font-family=\"Helvetica,sans-Serif\" font-size=\"14.00\" fill=\"#000000\">samples = 3024</text>\n",
       "<text text-anchor=\"start\" x=\"826\" y=\"-22.8\" font-family=\"Helvetica,sans-Serif\" font-size=\"14.00\" fill=\"#000000\">value = [2388, 636]</text>\n",
       "<text text-anchor=\"start\" x=\"841\" y=\"-7.8\" font-family=\"Helvetica,sans-Serif\" font-size=\"14.00\" fill=\"#000000\">class = No HR</text>\n",
       "</g>\n",
       "<!-- 9&#45;&gt;11 -->\n",
       "<g id=\"edge11\" class=\"edge\">\n",
       "<title>9&#45;&gt;11</title>\n",
       "<path fill=\"none\" stroke=\"#000000\" d=\"M832.6509,-103.9815C839.5171,-94.9747 846.7882,-85.4367 853.6798,-76.3965\"/>\n",
       "<polygon fill=\"#000000\" stroke=\"#000000\" points=\"856.6005,-78.3383 859.8797,-68.2637 851.0336,-74.0945 856.6005,-78.3383\"/>\n",
       "</g>\n",
       "<!-- 13 -->\n",
       "<g id=\"node14\" class=\"node\">\n",
       "<title>13</title>\n",
       "<path fill=\"#f9e0cf\" stroke=\"#000000\" d=\"M1104,-68C1104,-68 984,-68 984,-68 978,-68 972,-62 972,-56 972,-56 972,-12 972,-12 972,-6 978,0 984,0 984,0 1104,0 1104,0 1110,0 1116,-6 1116,-12 1116,-12 1116,-56 1116,-56 1116,-62 1110,-68 1104,-68\"/>\n",
       "<text text-anchor=\"start\" x=\"1011.5\" y=\"-52.8\" font-family=\"Helvetica,sans-Serif\" font-size=\"14.00\" fill=\"#000000\">gini = 0.49</text>\n",
       "<text text-anchor=\"start\" x=\"994\" y=\"-37.8\" font-family=\"Helvetica,sans-Serif\" font-size=\"14.00\" fill=\"#000000\">samples = 5084</text>\n",
       "<text text-anchor=\"start\" x=\"980\" y=\"-22.8\" font-family=\"Helvetica,sans-Serif\" font-size=\"14.00\" fill=\"#000000\">value = [2896, 2188]</text>\n",
       "<text text-anchor=\"start\" x=\"999\" y=\"-7.8\" font-family=\"Helvetica,sans-Serif\" font-size=\"14.00\" fill=\"#000000\">class = No HR</text>\n",
       "</g>\n",
       "<!-- 12&#45;&gt;13 -->\n",
       "<g id=\"edge13\" class=\"edge\">\n",
       "<title>12&#45;&gt;13</title>\n",
       "<path fill=\"none\" stroke=\"#000000\" d=\"M1044,-103.9815C1044,-95.618 1044,-86.7965 1044,-78.3409\"/>\n",
       "<polygon fill=\"#000000\" stroke=\"#000000\" points=\"1047.5001,-78.2636 1044,-68.2637 1040.5001,-78.2637 1047.5001,-78.2636\"/>\n",
       "</g>\n",
       "<!-- 14 -->\n",
       "<g id=\"node15\" class=\"node\">\n",
       "<title>14</title>\n",
       "<path fill=\"#75bbed\" stroke=\"#000000\" d=\"M1266,-68C1266,-68 1146,-68 1146,-68 1140,-68 1134,-62 1134,-56 1134,-56 1134,-12 1134,-12 1134,-6 1140,0 1146,0 1146,0 1266,0 1266,0 1272,0 1278,-6 1278,-12 1278,-12 1278,-56 1278,-56 1278,-62 1272,-68 1266,-68\"/>\n",
       "<text text-anchor=\"start\" x=\"1169.5\" y=\"-52.8\" font-family=\"Helvetica,sans-Serif\" font-size=\"14.00\" fill=\"#000000\">gini = 0.358</text>\n",
       "<text text-anchor=\"start\" x=\"1156\" y=\"-37.8\" font-family=\"Helvetica,sans-Serif\" font-size=\"14.00\" fill=\"#000000\">samples = 7834</text>\n",
       "<text text-anchor=\"start\" x=\"1142\" y=\"-22.8\" font-family=\"Helvetica,sans-Serif\" font-size=\"14.00\" fill=\"#000000\">value = [1831, 6003]</text>\n",
       "<text text-anchor=\"start\" x=\"1171.5\" y=\"-7.8\" font-family=\"Helvetica,sans-Serif\" font-size=\"14.00\" fill=\"#000000\">class = HR</text>\n",
       "</g>\n",
       "<!-- 12&#45;&gt;14 -->\n",
       "<g id=\"edge14\" class=\"edge\">\n",
       "<title>12&#45;&gt;14</title>\n",
       "<path fill=\"none\" stroke=\"#000000\" d=\"M1104.3228,-103.9815C1118.686,-94.0957 1133.9788,-83.5701 1148.2247,-73.7651\"/>\n",
       "<polygon fill=\"#000000\" stroke=\"#000000\" points=\"1150.2234,-76.6384 1156.4765,-68.0856 1146.2546,-70.8722 1150.2234,-76.6384\"/>\n",
       "</g>\n",
       "</g>\n",
       "</svg>\n"
      ],
      "text/plain": [
       "<graphviz.files.Source at 0x153a09bd0>"
      ]
     },
     "execution_count": 85,
     "metadata": {},
     "output_type": "execute_result"
    }
   ],
   "source": [
    "# Visualize decision tree\n",
    "# Verbatim DOT source code string to be rendered by Graphviz\n",
    "graph = graphviz.Source(dot_data)  \n",
    "graph "
   ]
  },
  {
   "cell_type": "code",
   "execution_count": 86,
   "metadata": {},
   "outputs": [
    {
     "data": {
      "text/plain": [
       "'hr.pdf'"
      ]
     },
     "execution_count": 86,
     "metadata": {},
     "output_type": "execute_result"
    }
   ],
   "source": [
    "# Save the source to file and render with the Graphviz engine\n",
    "# Note: view (bool): Open the rendered result with the default application\n",
    "graph.render('hr', view=False)"
   ]
  },
  {
   "cell_type": "markdown",
   "metadata": {},
   "source": [
    "Note: Not needed anymore because 'graph.render' saves the source file after rendering"
   ]
  },
  {
   "cell_type": "code",
   "execution_count": 87,
   "metadata": {},
   "outputs": [],
   "source": [
    "#with open('hr_classifier.txt', 'w') as f:\n",
    "#    f = export_graphviz(clf_gini, out_file=f,\n",
    "#                        feature_names=feature_cols,\n",
    "#                        class_names=['No HR', 'HR'],\n",
    "#                        filled=True, rounded=True,\n",
    "#                        special_characters=True)"
   ]
  },
  {
   "cell_type": "markdown",
   "metadata": {},
   "source": [
    "----------------------------------------------------------------------------------------------------------------------"
   ]
  },
  {
   "cell_type": "markdown",
   "metadata": {},
   "source": [
    "### Building Phase"
   ]
  },
  {
   "cell_type": "markdown",
   "metadata": {},
   "source": [
    "#### Predicting XBHs"
   ]
  },
  {
   "cell_type": "code",
   "execution_count": 88,
   "metadata": {},
   "outputs": [],
   "source": [
    "# Create a list of features\n",
    "feature_cols = ['pitch_name_num', 'pitch_velocity', 'exit_velocity', 'launch_angle']"
   ]
  },
  {
   "cell_type": "code",
   "execution_count": 89,
   "metadata": {},
   "outputs": [],
   "source": [
    "# Create X and y\n",
    "X = all_MLB_teams2015_2017_new[feature_cols]\n",
    "y = all_MLB_teams2015_2017_new.xbh"
   ]
  },
  {
   "cell_type": "code",
   "execution_count": 90,
   "metadata": {},
   "outputs": [],
   "source": [
    "# Split X and y into training and testing sets\n",
    "# Note: train_size: between 0.0 and 1.0 and represent the proportion of the dataset to include in the train split\n",
    "#       test_size: between 0.0 and 1.0 and represent the proportion of the dataset to include in the test split\n",
    "#       random_state: the seed used by the random number generator\n",
    "X_train, X_test, y_train, y_test = train_test_split(X, y, train_size=0.70, test_size=0.30, random_state=65)"
   ]
  },
  {
   "cell_type": "markdown",
   "metadata": {},
   "source": [
    "#### Compute Baseline Accuracy\n",
    "https://machinelearningmastery.com/how-to-get-baseline-results-and-why-they-matter/"
   ]
  },
  {
   "cell_type": "code",
   "execution_count": 91,
   "metadata": {},
   "outputs": [
    {
     "name": "stdout",
     "output_type": "stream",
     "text": [
      "0    239411\n",
      "1     30682\n",
      "Name: xbh, dtype: int64\n",
      "\n",
      "Most frequent class in training dataset: 0\n",
      "\n",
      "Baseline accuracy in test dataset: 0.885\n",
      "Baseline accuracy in test dataset: 0.885\n"
     ]
    }
   ],
   "source": [
    "# Categorical column frequency\n",
    "# Returns counts of unique values in descending order (first element is the most frequently-occurring element)\n",
    "# Note: Excludes NA values by default\n",
    "print(y_train.value_counts())\n",
    "print()\n",
    "\n",
    "most_freq_class = y_train.value_counts().index[0]\n",
    "print('Most frequent class in training dataset:', most_freq_class)\n",
    "print()\n",
    "\n",
    "print('Baseline accuracy in test dataset:', round(y_test.value_counts()[most_freq_class] / y_test.count(), 3))\n",
    "\n",
    "# Instantiate a classifier that makes predictions using simple rules and fit dummy classifier\n",
    "# Note: stragegy: strategy to use to generate predictions\n",
    "#       random_state: the seed used by the random number generator\n",
    "dummy_clf = DummyClassifier(strategy='most_frequent', random_state=0)\n",
    "dummy_clf.fit(X_train, y_train)\n",
    "dummy_clf.score(X_test, y_test)\n",
    "print('Baseline accuracy in test dataset:', round(dummy_clf.score(X_test, y_test), 3))"
   ]
  },
  {
   "cell_type": "markdown",
   "metadata": {},
   "source": [
    "Note: Creating train/test as arrays for purpose of running code below: 'Understanding the decision tree structure'. DataFrames do not work for this code."
   ]
  },
  {
   "cell_type": "code",
   "execution_count": 92,
   "metadata": {},
   "outputs": [],
   "source": [
    "X_train = X_train.values\n",
    "X_test = X_test.values\n",
    "y_train = y_train.values\n",
    "y_test = y_test.values"
   ]
  },
  {
   "cell_type": "markdown",
   "metadata": {},
   "source": [
    "#### Perform training with Gini Index"
   ]
  },
  {
   "cell_type": "code",
   "execution_count": 93,
   "metadata": {},
   "outputs": [
    {
     "data": {
      "text/plain": [
       "DecisionTreeClassifier(ccp_alpha=0.0, class_weight=None, criterion='gini',\n",
       "                       max_depth=3, max_features=None, max_leaf_nodes=None,\n",
       "                       min_impurity_decrease=0.0, min_impurity_split=None,\n",
       "                       min_samples_leaf=5, min_samples_split=2,\n",
       "                       min_weight_fraction_leaf=0.0, presort='deprecated',\n",
       "                       random_state=46, splitter='best')"
      ]
     },
     "execution_count": 93,
     "metadata": {},
     "output_type": "execute_result"
    }
   ],
   "source": [
    "# Instantiate a decision tree classifier and build a decision tree classifier from the training set (X, y)\n",
    "# Note: criterion: function to measure the quality of a split; supported criteria are \"gini\" for the Gini impurity \n",
    "#                  and \"entropy\" for the information gain\n",
    "#       max_depth: maximum depth of the tree; if None, then nodes are expanded until all leaves are pure or \n",
    "#                  until all leaves contain less than min_samples_split samples\n",
    "#       min_samples_leaf: minimum number of samples required to be at a leaf node\n",
    "#       random_state: the seed used by the random number generator\n",
    "clf_gini = DecisionTreeClassifier(criterion='gini', max_depth=3, min_samples_leaf=5, random_state=46) \n",
    "clf_gini.fit(X_train, y_train)"
   ]
  },
  {
   "cell_type": "code",
   "execution_count": 94,
   "metadata": {},
   "outputs": [],
   "source": [
    "# Predicted class value for X using decision tree classifier\n",
    "# Note: For a classification model, the predicted class for each sample in X is returned\n",
    "#y_pred_class = clf_gini.predict(X_test)\n",
    "#y_pred_class"
   ]
  },
  {
   "cell_type": "code",
   "execution_count": 95,
   "metadata": {},
   "outputs": [],
   "source": [
    "# Predicted class probability estimates of the input samples X\n",
    "# Note: The predicted class probability is the fraction of samples of the same class in a leaf\n",
    "#y_pred_prob = clf_gini.predict_proba(X_test)[:, 1]\n",
    "#y_pred_prob = clf_gini.predict_proba(X_test)\n",
    "#y_pred_prob"
   ]
  },
  {
   "cell_type": "markdown",
   "metadata": {},
   "source": [
    "#### Perform training with “entropy” criteria for Information Gain"
   ]
  },
  {
   "cell_type": "code",
   "execution_count": 96,
   "metadata": {},
   "outputs": [
    {
     "data": {
      "text/plain": [
       "DecisionTreeClassifier(ccp_alpha=0.0, class_weight=None, criterion='entropy',\n",
       "                       max_depth=3, max_features=None, max_leaf_nodes=None,\n",
       "                       min_impurity_decrease=0.0, min_impurity_split=None,\n",
       "                       min_samples_leaf=5, min_samples_split=2,\n",
       "                       min_weight_fraction_leaf=0.0, presort='deprecated',\n",
       "                       random_state=46, splitter='best')"
      ]
     },
     "execution_count": 96,
     "metadata": {},
     "output_type": "execute_result"
    }
   ],
   "source": [
    "# Instantiate a decision tree classifier and build a decision tree classifier from the training set (X, y)\n",
    "# Note: criterion: function to measure the quality of a split; supported criteria are \"gini\" for the Gini impurity \n",
    "#                  and \"entropy\" for the information gain\n",
    "#       max_depth: maximum depth of the tree; if None, then nodes are expanded until all leaves are pure or \n",
    "#                  until all leaves contain less than min_samples_split samples\n",
    "#       min_samples_leaf: minimum number of samples required to be at a leaf node\n",
    "#       random_state: the seed used by the random number generator\n",
    "clf_entropy = DecisionTreeClassifier(criterion='entropy', max_depth=3, min_samples_leaf=5, random_state=46)\n",
    "clf_entropy.fit(X_train, y_train)"
   ]
  },
  {
   "cell_type": "code",
   "execution_count": 97,
   "metadata": {},
   "outputs": [],
   "source": [
    "# Predicted class value for X using decision tree classifier\n",
    "# Note: For a classification model, the predicted class for each sample in X is returned\n",
    "#y_pred_class = clf_entropy.predict(X_test)\n",
    "#y_pred_class"
   ]
  },
  {
   "cell_type": "code",
   "execution_count": 98,
   "metadata": {},
   "outputs": [],
   "source": [
    "# Predicted class probability estimates of the input samples X\n",
    "# Note: The predicted class probability is the fraction of samples of the same class in a leaf\n",
    "#y_pred_prob = clf_entropy.predict_proba(X_test)[:, 1]\n",
    "#y_pred_prob = clf_entropy.predict_proba(X_test)\n",
    "#y_pred_prob"
   ]
  },
  {
   "cell_type": "markdown",
   "metadata": {},
   "source": [
    "### Operational Phase"
   ]
  },
  {
   "cell_type": "code",
   "execution_count": 99,
   "metadata": {},
   "outputs": [],
   "source": [
    "# Function to make predictions \n",
    "def prediction(X_test, clf_object): \n",
    "  \n",
    "    # Predict the class labels using the classifier model\n",
    "    y_pred_class = clf_object.predict(X_test)\n",
    "\n",
    "    print('Predicted values:')\n",
    "    print(y_pred_class)\n",
    "    print('')\n",
    "    return y_pred_class"
   ]
  },
  {
   "cell_type": "code",
   "execution_count": 100,
   "metadata": {},
   "outputs": [],
   "source": [
    "# Function to calculate accuracy\n",
    "def cal_accuracy(y_test, y_pred_class, clf_object):\n",
    "      \n",
    "    # Training accuracy classification score\n",
    "    print('Training accuracy score:', round(metrics.accuracy_score(y_train, clf_object.predict(X_train)), 4))\n",
    "    \n",
    "    # Testing accuracy classification score\n",
    "    print('Testing accuracy score :', round(metrics.accuracy_score(y_test, y_pred_class), 4))\n",
    "    \n",
    "    if metrics.accuracy_score(y_train, clf_object.predict(X_train)) < metrics.accuracy_score(y_test, y_pred_class):\n",
    "        print('Testing accuracy > Training accuracy')\n",
    "        print('-> Not overfitting')\n",
    "    else:\n",
    "        print('Testing accuracy < Training accuracy')\n",
    "        print('-> Overfitting!')\n",
    "    print('')\n",
    "    \n",
    "    # Confusion matrix to evaluate the accuracy of a classification\n",
    "    print('Confusion Matrix:')\n",
    "    conmat = metrics.confusion_matrix(y_test, y_pred_class)\n",
    "    print(pd.DataFrame(conmat,\n",
    "                       index=['True No XBH', 'True XBH'],\n",
    "                       columns=['Predicted No XBH', 'Predicted XBH']))\n",
    "    print('')\n",
    "    \n",
    "    # Build a text report showing the main classification metrics\n",
    "    print('Classification Report:')\n",
    "    print(metrics.classification_report(y_test, y_pred_class))\n",
    "    print('')\n",
    "    \n",
    "    # Area Under the Receiver Operating Characteristic Curve (ROC AUC)\n",
    "    print('ROC AUC:', round(metrics.roc_auc_score(y_test, y_pred_class), 3))\n",
    "    print('')\n",
    "    \n",
    "    # Log loss, aka logistic loss or cross-entropy loss\n",
    "    print('Log loss:', round(metrics.log_loss(y_test, y_pred_class), 3))"
   ]
  },
  {
   "cell_type": "markdown",
   "metadata": {},
   "source": [
    "#### Prediction using Gini Index"
   ]
  },
  {
   "cell_type": "code",
   "execution_count": 101,
   "metadata": {},
   "outputs": [
    {
     "name": "stdout",
     "output_type": "stream",
     "text": [
      "Results Using Gini Index:\n",
      "Predicted values:\n",
      "[0 0 0 ... 0 0 0]\n",
      "\n",
      "Training accuracy score: 0.9175\n",
      "Testing accuracy score : 0.9155\n",
      "Testing accuracy < Training accuracy\n",
      "-> Overfitting!\n",
      "\n",
      "Confusion Matrix:\n",
      "             Predicted No XBH  Predicted XBH\n",
      "True No XBH             98911           3502\n",
      "True XBH                 6281           7061\n",
      "\n",
      "Classification Report:\n",
      "              precision    recall  f1-score   support\n",
      "\n",
      "           0       0.94      0.97      0.95    102413\n",
      "           1       0.67      0.53      0.59     13342\n",
      "\n",
      "    accuracy                           0.92    115755\n",
      "   macro avg       0.80      0.75      0.77    115755\n",
      "weighted avg       0.91      0.92      0.91    115755\n",
      "\n",
      "\n",
      "ROC AUC: 0.748\n",
      "\n",
      "Log loss: 2.919\n"
     ]
    }
   ],
   "source": [
    "print('Results Using Gini Index:')\n",
    "y_pred_gini = prediction(X_test, clf_gini)\n",
    "cal_accuracy(y_test, y_pred_gini, clf_gini)"
   ]
  },
  {
   "cell_type": "markdown",
   "metadata": {},
   "source": [
    "#### Plot Receiver Operating Characteristic (ROC) Curve\n",
    "https://machinelearningmastery.com/roc-curves-and-precision-recall-curves-for-classification-in-python/"
   ]
  },
  {
   "cell_type": "code",
   "execution_count": 102,
   "metadata": {},
   "outputs": [
    {
     "data": {
      "image/png": "[encoded data removed]",
      "text/plain": [
       "<Figure size 864x576 with 1 Axes>"
      ]
     },
     "metadata": {
      "needs_background": "light"
     },
     "output_type": "display_data"
    }
   ],
   "source": [
    "roc_auc = metrics.roc_auc_score(y_test, clf_gini.predict(X_test))\n",
    "fpr, tpr, thresholds = metrics.roc_curve(y_test, clf_gini.predict_proba(X_test)[:, 1])\n",
    "\n",
    "plt.title('Receiver Operating Characteristic')\n",
    "plt.plot(fpr, tpr, label='AUC = %0.3f' % roc_auc)\n",
    "plt.legend(loc='lower right')\n",
    "plt.plot([0, 1], [0, 1], 'r--')\n",
    "plt.xlim([0.0, 1.0])\n",
    "plt.ylim([0.0, 1.05])\n",
    "plt.xlabel('False Positive Rate')\n",
    "plt.ylabel('True Positive Rate')\n",
    "plt.show()"
   ]
  },
  {
   "cell_type": "markdown",
   "metadata": {},
   "source": [
    "#### Plot Precision-Recall Curve"
   ]
  },
  {
   "cell_type": "code",
   "execution_count": 103,
   "metadata": {},
   "outputs": [
    {
     "name": "stdout",
     "output_type": "stream",
     "text": [
      "Average precision-recall score: 0.511\n"
     ]
    }
   ],
   "source": [
    "# Compute the average precision score\n",
    "average_precision = metrics.average_precision_score(y_test, clf_gini.predict_proba(X_test)[:, 1])\n",
    "print('Average precision-recall score: {0:0.3f}'.format(average_precision))"
   ]
  },
  {
   "cell_type": "code",
   "execution_count": 104,
   "metadata": {},
   "outputs": [
    {
     "data": {
      "image/png": "[encoded data removed]",
      "text/plain": [
       "<Figure size 864x576 with 1 Axes>"
      ]
     },
     "metadata": {
      "needs_background": "light"
     },
     "output_type": "display_data"
    }
   ],
   "source": [
    "precision, recall, thresholds = metrics.precision_recall_curve(y_test, clf_gini.predict_proba(X_test)[:, 1])\n",
    "no_skill = len(y_test[y_test==1]) / len(y_test)\n",
    "\n",
    "plt.title('2-class Precision-Recall Curve')\n",
    "plt.plot(recall, precision, label='AP = {0:0.3f}'.format(average_precision))\n",
    "plt.plot([0, 1], [no_skill, no_skill], 'r--', label='No Skill')\n",
    "plt.legend()\n",
    "plt.xlabel('Recall')\n",
    "plt.ylabel('Precision')\n",
    "plt.show()"
   ]
  },
  {
   "cell_type": "markdown",
   "metadata": {},
   "source": [
    "#### Prediction using Entropy "
   ]
  },
  {
   "cell_type": "code",
   "execution_count": 105,
   "metadata": {},
   "outputs": [
    {
     "name": "stdout",
     "output_type": "stream",
     "text": [
      "Results Using Entropy:\n",
      "Predicted values:\n",
      "[0 0 0 ... 0 0 0]\n",
      "\n",
      "Training accuracy score: 0.9102\n",
      "Testing accuracy score : 0.9076\n",
      "Testing accuracy < Training accuracy\n",
      "-> Overfitting!\n",
      "\n",
      "Confusion Matrix:\n",
      "             Predicted No XBH  Predicted XBH\n",
      "True No XBH             99147           3266\n",
      "True XBH                 7434           5908\n",
      "\n",
      "Classification Report:\n",
      "              precision    recall  f1-score   support\n",
      "\n",
      "           0       0.93      0.97      0.95    102413\n",
      "           1       0.64      0.44      0.52     13342\n",
      "\n",
      "    accuracy                           0.91    115755\n",
      "   macro avg       0.79      0.71      0.74    115755\n",
      "weighted avg       0.90      0.91      0.90    115755\n",
      "\n",
      "\n",
      "ROC AUC: 0.705\n",
      "\n",
      "Log loss: 3.193\n"
     ]
    }
   ],
   "source": [
    "print('Results Using Entropy:')\n",
    "y_pred_entropy = prediction(X_test, clf_entropy)\n",
    "cal_accuracy(y_test, y_pred_entropy, clf_entropy)"
   ]
  },
  {
   "cell_type": "markdown",
   "metadata": {},
   "source": [
    "#### Plot Receiver Operating Characteristic (ROC) Curve\n",
    "https://machinelearningmastery.com/roc-curves-and-precision-recall-curves-for-classification-in-python/"
   ]
  },
  {
   "cell_type": "code",
   "execution_count": 106,
   "metadata": {},
   "outputs": [
    {
     "data": {
      "image/png": "[encoded data removed]",
      "text/plain": [
       "<Figure size 864x576 with 1 Axes>"
      ]
     },
     "metadata": {
      "needs_background": "light"
     },
     "output_type": "display_data"
    }
   ],
   "source": [
    "roc_auc = metrics.roc_auc_score(y_test, clf_entropy.predict(X_test))\n",
    "fpr, tpr, thresholds = metrics.roc_curve(y_test, clf_entropy.predict_proba(X_test)[:, 1])\n",
    "\n",
    "plt.title('Receiver Operating Characteristic')\n",
    "plt.plot(fpr, tpr, label='AUC = %0.3f' % roc_auc)\n",
    "plt.legend(loc='lower right')\n",
    "plt.plot([0, 1], [0, 1], 'r--')\n",
    "plt.xlim([0.0, 1.0])\n",
    "plt.ylim([0.0, 1.05])\n",
    "plt.xlabel('False Positive Rate')\n",
    "plt.ylabel('True Positive Rate')\n",
    "plt.show()"
   ]
  },
  {
   "cell_type": "markdown",
   "metadata": {},
   "source": [
    "#### Plot Precision-Recall Curve"
   ]
  },
  {
   "cell_type": "code",
   "execution_count": 107,
   "metadata": {},
   "outputs": [
    {
     "name": "stdout",
     "output_type": "stream",
     "text": [
      "Average precision-recall score: 0.479\n"
     ]
    }
   ],
   "source": [
    "# Compute the average precision score\n",
    "average_precision = metrics.average_precision_score(y_test, clf_entropy.predict_proba(X_test)[:, 1])\n",
    "print('Average precision-recall score: {0:0.3f}'.format(average_precision))"
   ]
  },
  {
   "cell_type": "code",
   "execution_count": 108,
   "metadata": {},
   "outputs": [
    {
     "data": {
      "image/png": "[encoded data removed]",
      "text/plain": [
       "<Figure size 864x576 with 1 Axes>"
      ]
     },
     "metadata": {
      "needs_background": "light"
     },
     "output_type": "display_data"
    }
   ],
   "source": [
    "precision, recall, thresholds = metrics.precision_recall_curve(y_test, clf_entropy.predict_proba(X_test)[:, 1])\n",
    "no_skill = len(y_test[y_test==1]) / len(y_test)\n",
    "\n",
    "plt.title('2-class Precision-Recall Curve')\n",
    "plt.plot(recall, precision, label='AP = {0:0.3f}'.format(average_precision))\n",
    "plt.plot([0, 1], [no_skill, no_skill], 'r--', label='No Skill')\n",
    "plt.legend()\n",
    "plt.xlabel('Recall')\n",
    "plt.ylabel('Precision')\n",
    "plt.show()"
   ]
  },
  {
   "cell_type": "markdown",
   "metadata": {},
   "source": [
    "#### Understanding the decision tree structure"
   ]
  },
  {
   "cell_type": "code",
   "execution_count": 109,
   "metadata": {},
   "outputs": [
    {
     "name": "stdout",
     "output_type": "stream",
     "text": [
      "The binary tree structure has 15 nodes and has the following tree structure:\n",
      "node=0 test node: go to node 1 if X[:, 2] <= 98.35000228881836 else to node 8.\n",
      "\tnode=1 test node: go to node 2 if X[:, 2] <= 92.64999771118164 else to node 5.\n",
      "\t\tnode=2 test node: go to node 3 if X[:, 3] <= -13.036499977111816 else to node 4.\n",
      "\t\t\tnode=3 leaf node.\n",
      "\t\t\tnode=4 leaf node.\n",
      "\t\tnode=5 test node: go to node 6 if X[:, 3] <= 10.052500247955322 else to node 7.\n",
      "\t\t\tnode=6 leaf node.\n",
      "\t\t\tnode=7 leaf node.\n",
      "\tnode=8 test node: go to node 9 if X[:, 3] <= 14.13450002670288 else to node 12.\n",
      "\t\tnode=9 test node: go to node 10 if X[:, 3] <= 8.78350019454956 else to node 11.\n",
      "\t\t\tnode=10 leaf node.\n",
      "\t\t\tnode=11 leaf node.\n",
      "\t\tnode=12 test node: go to node 13 if X[:, 3] <= 36.1515007019043 else to node 14.\n",
      "\t\t\tnode=13 leaf node.\n",
      "\t\t\tnode=14 leaf node.\n",
      "\n",
      "Rules used to predict sample 0: \n",
      "decision id node 0 : (X_test[0, 2] (= 81.3) <= 98.35000228881836)\n",
      "decision id node 1 : (X_test[0, 2] (= 81.3) <= 92.64999771118164)\n",
      "decision id node 2 : (X_test[0, 3] (= 7.146) > -13.036499977111816)\n",
      "\n",
      "The following samples [0, 1] share the node [0 1 2 4] in the tree\n",
      "It is 26.666666666666668 % of all nodes.\n"
     ]
    }
   ],
   "source": [
    "# The decision estimator has an attribute called tree_  which stores the entire\n",
    "# tree structure and allows access to low level attributes. The binary tree\n",
    "# tree_ is represented as a number of parallel arrays. The i-th element of each\n",
    "# array holds information about the node `i`. Node 0 is the tree's root. NOTE:\n",
    "# Some of the arrays only apply to either leaves or split nodes, resp. In this\n",
    "# case the values of nodes of the other type are arbitrary!\n",
    "#\n",
    "# Among those arrays, we have:\n",
    "#   - left_child, id of the left child of the node\n",
    "#   - right_child, id of the right child of the node\n",
    "#   - feature, feature used for splitting the node\n",
    "#   - threshold, threshold value at the node\n",
    "#\n",
    "\n",
    "# Using those arrays, we can parse the tree structure:\n",
    "n_nodes = clf_gini.tree_.node_count\n",
    "children_left = clf_gini.tree_.children_left\n",
    "children_right = clf_gini.tree_.children_right\n",
    "feature = clf_gini.tree_.feature\n",
    "threshold = clf_gini.tree_.threshold\n",
    "\n",
    "# The tree structure can be traversed to compute various properties such\n",
    "# as the depth of each node and whether or not it is a leaf.\n",
    "node_depth = np.zeros(shape=n_nodes, dtype=np.int64)\n",
    "is_leaves = np.zeros(shape=n_nodes, dtype=bool)\n",
    "stack = [(0, -1)]  # seed is the root node id and its parent depth\n",
    "while len(stack) > 0:\n",
    "    node_id, parent_depth = stack.pop()\n",
    "    node_depth[node_id] = parent_depth + 1\n",
    "\n",
    "    # If we have a test node\n",
    "    if (children_left[node_id] != children_right[node_id]):\n",
    "        stack.append((children_left[node_id], parent_depth + 1))\n",
    "        stack.append((children_right[node_id], parent_depth + 1))\n",
    "    else:\n",
    "        is_leaves[node_id] = True\n",
    "\n",
    "print('The binary tree structure has %s nodes and has '\n",
    "      'the following tree structure:'\n",
    "      % n_nodes)\n",
    "for i in range(n_nodes):\n",
    "    if is_leaves[i]:\n",
    "        print('%snode=%s leaf node.' % (node_depth[i] * '\\t', i))\n",
    "    else:\n",
    "        print('%snode=%s test node: go to node %s if X[:, %s] <= %s else to '\n",
    "              'node %s.'\n",
    "              % (node_depth[i] * '\\t',\n",
    "                 i,\n",
    "                 children_left[i],\n",
    "                 feature[i],\n",
    "                 threshold[i],\n",
    "                 children_right[i],\n",
    "                 ))\n",
    "print()\n",
    "\n",
    "# First let's retrieve the decision path of each sample. The decision_path\n",
    "# method allows to retrieve the node indicator functions. A non zero element of\n",
    "# indicator matrix at the position (i, j) indicates that the sample i goes\n",
    "# through the node j.\n",
    "node_indicator = clf_gini.decision_path(X_test)\n",
    "\n",
    "# Similarly, we can also have the leaves ids reached by each sample.\n",
    "leave_id = clf_gini.apply(X_test)\n",
    "\n",
    "# Now, it's possible to get the tests that were used to predict a sample or\n",
    "# a group of samples. First, let's make it for the sample.\n",
    "sample_id = 0\n",
    "node_index = node_indicator.indices[node_indicator.indptr[sample_id]:\n",
    "                                    node_indicator.indptr[sample_id + 1]]\n",
    "\n",
    "print('Rules used to predict sample %s: ' % sample_id)\n",
    "for node_id in node_index:\n",
    "    if leave_id[sample_id] == node_id:\n",
    "        continue\n",
    "\n",
    "    if (X_test[sample_id, feature[node_id]] <= threshold[node_id]):\n",
    "        threshold_sign = '<='\n",
    "    else:\n",
    "        threshold_sign = '>'\n",
    "\n",
    "    print('decision id node %s : (X_test[%s, %s] (= %s) %s %s)'\n",
    "          % (node_id,\n",
    "             sample_id,\n",
    "             feature[node_id],\n",
    "             X_test[sample_id, feature[node_id]],\n",
    "             threshold_sign,\n",
    "             threshold[node_id]))\n",
    "\n",
    "# For a group of samples, we have the following common node.\n",
    "sample_ids = [0, 1]\n",
    "common_nodes = (node_indicator.toarray()[sample_ids].sum(axis=0) ==\n",
    "                len(sample_ids))\n",
    "\n",
    "common_node_id = np.arange(n_nodes)[common_nodes]\n",
    "\n",
    "print('\\nThe following samples %s share the node %s in the tree'\n",
    "      % (sample_ids, common_node_id))\n",
    "print('It is %s %% of all nodes.' % (100 * len(common_node_id) / n_nodes,))"
   ]
  },
  {
   "cell_type": "code",
   "execution_count": 110,
   "metadata": {},
   "outputs": [],
   "source": [
    "# Export a decision tree in DOT format\n",
    "# Generates a GraphViz representation of the decision tree, which is then written into `out_file`\n",
    "# Once exported, graphical renderings can be generated\n",
    "# Note: feature_names: list of strings, optional (default=None); names of each of the features\n",
    "#       class_names: list of strings, bool or None, optional (default=None); names of each of the target classes in \n",
    "#                    ascending numerical order; only relevant for classification and not supported for multi-output\n",
    "#       \n",
    "dot_data = export_graphviz(clf_gini, out_file=None,\n",
    "                           feature_names=feature_cols,\n",
    "                           class_names=['No XBH', 'XBH'],\n",
    "                           filled=True, rounded=True,\n",
    "                           special_characters=True)"
   ]
  },
  {
   "cell_type": "code",
   "execution_count": 111,
   "metadata": {},
   "outputs": [
    {
     "data": {
      "image/svg+xml": [
       "<?xml version=\"1.0\" encoding=\"UTF-8\" standalone=\"no\"?>\n",
       "<!DOCTYPE svg PUBLIC \"-//W3C//DTD SVG 1.1//EN\"\n",
       " \"http://www.w3.org/Graphics/SVG/1.1/DTD/svg11.dtd\">\n",
       "<!-- Generated by graphviz version 2.40.1 (20161225.0304)\n",
       " -->\n",
       "<!-- Title: Tree Pages: 1 -->\n",
       "<svg width=\"1318pt\" height=\"433pt\"\n",
       " viewBox=\"0.00 0.00 1318.00 433.00\" xmlns=\"http://www.w3.org/2000/svg\" xmlns:xlink=\"http://www.w3.org/1999/xlink\">\n",
       "<g id=\"graph0\" class=\"graph\" transform=\"scale(1 1) rotate(0) translate(4 429)\">\n",
       "<title>Tree</title>\n",
       "<polygon fill=\"#ffffff\" stroke=\"transparent\" points=\"-4,4 -4,-429 1314,-429 1314,4 -4,4\"/>\n",
       "<!-- 0 -->\n",
       "<g id=\"node1\" class=\"node\">\n",
       "<title>0</title>\n",
       "<path fill=\"#e89152\" stroke=\"#000000\" d=\"M728.5,-425C728.5,-425 585.5,-425 585.5,-425 579.5,-425 573.5,-419 573.5,-413 573.5,-413 573.5,-354 573.5,-354 573.5,-348 579.5,-342 585.5,-342 585.5,-342 728.5,-342 728.5,-342 734.5,-342 740.5,-348 740.5,-354 740.5,-354 740.5,-413 740.5,-413 740.5,-419 734.5,-425 728.5,-425\"/>\n",
       "<text text-anchor=\"start\" x=\"593.5\" y=\"-409.8\" font-family=\"Helvetica,sans-Serif\" font-size=\"14.00\" fill=\"#000000\">exit_velocity ≤ 98.35</text>\n",
       "<text text-anchor=\"start\" x=\"620.5\" y=\"-394.8\" font-family=\"Helvetica,sans-Serif\" font-size=\"14.00\" fill=\"#000000\">gini = 0.201</text>\n",
       "<text text-anchor=\"start\" x=\"599.5\" y=\"-379.8\" font-family=\"Helvetica,sans-Serif\" font-size=\"14.00\" fill=\"#000000\">samples = 270093</text>\n",
       "<text text-anchor=\"start\" x=\"581.5\" y=\"-364.8\" font-family=\"Helvetica,sans-Serif\" font-size=\"14.00\" fill=\"#000000\">value = [239411, 30682]</text>\n",
       "<text text-anchor=\"start\" x=\"607.5\" y=\"-349.8\" font-family=\"Helvetica,sans-Serif\" font-size=\"14.00\" fill=\"#000000\">class = No XBH</text>\n",
       "</g>\n",
       "<!-- 1 -->\n",
       "<g id=\"node2\" class=\"node\">\n",
       "<title>1</title>\n",
       "<path fill=\"#e68743\" stroke=\"#000000\" d=\"M565.5,-306C565.5,-306 422.5,-306 422.5,-306 416.5,-306 410.5,-300 410.5,-294 410.5,-294 410.5,-235 410.5,-235 410.5,-229 416.5,-223 422.5,-223 422.5,-223 565.5,-223 565.5,-223 571.5,-223 577.5,-229 577.5,-235 577.5,-235 577.5,-294 577.5,-294 577.5,-300 571.5,-306 565.5,-306\"/>\n",
       "<text text-anchor=\"start\" x=\"430.5\" y=\"-290.8\" font-family=\"Helvetica,sans-Serif\" font-size=\"14.00\" fill=\"#000000\">exit_velocity ≤ 92.65</text>\n",
       "<text text-anchor=\"start\" x=\"457.5\" y=\"-275.8\" font-family=\"Helvetica,sans-Serif\" font-size=\"14.00\" fill=\"#000000\">gini = 0.093</text>\n",
       "<text text-anchor=\"start\" x=\"436.5\" y=\"-260.8\" font-family=\"Helvetica,sans-Serif\" font-size=\"14.00\" fill=\"#000000\">samples = 205096</text>\n",
       "<text text-anchor=\"start\" x=\"418.5\" y=\"-245.8\" font-family=\"Helvetica,sans-Serif\" font-size=\"14.00\" fill=\"#000000\">value = [195050, 10046]</text>\n",
       "<text text-anchor=\"start\" x=\"444.5\" y=\"-230.8\" font-family=\"Helvetica,sans-Serif\" font-size=\"14.00\" fill=\"#000000\">class = No XBH</text>\n",
       "</g>\n",
       "<!-- 0&#45;&gt;1 -->\n",
       "<g id=\"edge1\" class=\"edge\">\n",
       "<title>0&#45;&gt;1</title>\n",
       "<path fill=\"none\" stroke=\"#000000\" d=\"M599.9905,-341.8796C586.8379,-332.2774 572.7472,-321.9903 559.2732,-312.1534\"/>\n",
       "<polygon fill=\"#000000\" stroke=\"#000000\" points=\"561.1177,-309.1666 550.9773,-306.0969 556.9902,-314.8202 561.1177,-309.1666\"/>\n",
       "<text text-anchor=\"middle\" x=\"554.8314\" y=\"-327.0981\" font-family=\"Helvetica,sans-Serif\" font-size=\"14.00\" fill=\"#000000\">True</text>\n",
       "</g>\n",
       "<!-- 8 -->\n",
       "<g id=\"node9\" class=\"node\">\n",
       "<title>8</title>\n",
       "<path fill=\"#f1bc95\" stroke=\"#000000\" d=\"M894.5,-306C894.5,-306 759.5,-306 759.5,-306 753.5,-306 747.5,-300 747.5,-294 747.5,-294 747.5,-235 747.5,-235 747.5,-229 753.5,-223 759.5,-223 759.5,-223 894.5,-223 894.5,-223 900.5,-223 906.5,-229 906.5,-235 906.5,-235 906.5,-294 906.5,-294 906.5,-300 900.5,-306 894.5,-306\"/>\n",
       "<text text-anchor=\"start\" x=\"756\" y=\"-290.8\" font-family=\"Helvetica,sans-Serif\" font-size=\"14.00\" fill=\"#000000\">launch_angle ≤ 14.135</text>\n",
       "<text text-anchor=\"start\" x=\"790.5\" y=\"-275.8\" font-family=\"Helvetica,sans-Serif\" font-size=\"14.00\" fill=\"#000000\">gini = 0.433</text>\n",
       "<text text-anchor=\"start\" x=\"773\" y=\"-260.8\" font-family=\"Helvetica,sans-Serif\" font-size=\"14.00\" fill=\"#000000\">samples = 64997</text>\n",
       "<text text-anchor=\"start\" x=\"755.5\" y=\"-245.8\" font-family=\"Helvetica,sans-Serif\" font-size=\"14.00\" fill=\"#000000\">value = [44361, 20636]</text>\n",
       "<text text-anchor=\"start\" x=\"777.5\" y=\"-230.8\" font-family=\"Helvetica,sans-Serif\" font-size=\"14.00\" fill=\"#000000\">class = No XBH</text>\n",
       "</g>\n",
       "<!-- 0&#45;&gt;8 -->\n",
       "<g id=\"edge8\" class=\"edge\">\n",
       "<title>0&#45;&gt;8</title>\n",
       "<path fill=\"none\" stroke=\"#000000\" d=\"M716.4578,-341.8796C730.3046,-332.1868 745.1484,-321.7961 759.3212,-311.8752\"/>\n",
       "<polygon fill=\"#000000\" stroke=\"#000000\" points=\"761.3906,-314.6989 767.5758,-306.0969 757.3764,-308.9643 761.3906,-314.6989\"/>\n",
       "<text text-anchor=\"middle\" x=\"763.2312\" y=\"-327.0165\" font-family=\"Helvetica,sans-Serif\" font-size=\"14.00\" fill=\"#000000\">False</text>\n",
       "</g>\n",
       "<!-- 2 -->\n",
       "<g id=\"node3\" class=\"node\">\n",
       "<title>2</title>\n",
       "<path fill=\"#e6853f\" stroke=\"#000000\" d=\"M311.5,-187C311.5,-187 172.5,-187 172.5,-187 166.5,-187 160.5,-181 160.5,-175 160.5,-175 160.5,-116 160.5,-116 160.5,-110 166.5,-104 172.5,-104 172.5,-104 311.5,-104 311.5,-104 317.5,-104 323.5,-110 323.5,-116 323.5,-116 323.5,-175 323.5,-175 323.5,-181 317.5,-187 311.5,-187\"/>\n",
       "<text text-anchor=\"start\" x=\"168.5\" y=\"-171.8\" font-family=\"Helvetica,sans-Serif\" font-size=\"14.00\" fill=\"#000000\">launch_angle ≤ &#45;13.036</text>\n",
       "<text text-anchor=\"start\" x=\"205.5\" y=\"-156.8\" font-family=\"Helvetica,sans-Serif\" font-size=\"14.00\" fill=\"#000000\">gini = 0.054</text>\n",
       "<text text-anchor=\"start\" x=\"184.5\" y=\"-141.8\" font-family=\"Helvetica,sans-Serif\" font-size=\"14.00\" fill=\"#000000\">samples = 161152</text>\n",
       "<text text-anchor=\"start\" x=\"170.5\" y=\"-126.8\" font-family=\"Helvetica,sans-Serif\" font-size=\"14.00\" fill=\"#000000\">value = [156705, 4447]</text>\n",
       "<text text-anchor=\"start\" x=\"192.5\" y=\"-111.8\" font-family=\"Helvetica,sans-Serif\" font-size=\"14.00\" fill=\"#000000\">class = No XBH</text>\n",
       "</g>\n",
       "<!-- 1&#45;&gt;2 -->\n",
       "<g id=\"edge2\" class=\"edge\">\n",
       "<title>1&#45;&gt;2</title>\n",
       "<path fill=\"none\" stroke=\"#000000\" d=\"M410.4377,-225.04C385.5555,-213.2901 358.1733,-200.3596 332.8501,-188.4014\"/>\n",
       "<polygon fill=\"#000000\" stroke=\"#000000\" points=\"334.1591,-185.149 323.6221,-184.0438 331.17,-191.4787 334.1591,-185.149\"/>\n",
       "</g>\n",
       "<!-- 5 -->\n",
       "<g id=\"node6\" class=\"node\">\n",
       "<title>5</title>\n",
       "<path fill=\"#e99356\" stroke=\"#000000\" d=\"M561,-187C561,-187 427,-187 427,-187 421,-187 415,-181 415,-175 415,-175 415,-116 415,-116 415,-110 421,-104 427,-104 427,-104 561,-104 561,-104 567,-104 573,-110 573,-116 573,-116 573,-175 573,-175 573,-181 567,-187 561,-187\"/>\n",
       "<text text-anchor=\"start\" x=\"423\" y=\"-171.8\" font-family=\"Helvetica,sans-Serif\" font-size=\"14.00\" fill=\"#000000\">launch_angle ≤ 10.053</text>\n",
       "<text text-anchor=\"start\" x=\"457.5\" y=\"-156.8\" font-family=\"Helvetica,sans-Serif\" font-size=\"14.00\" fill=\"#000000\">gini = 0.222</text>\n",
       "<text text-anchor=\"start\" x=\"440\" y=\"-141.8\" font-family=\"Helvetica,sans-Serif\" font-size=\"14.00\" fill=\"#000000\">samples = 43944</text>\n",
       "<text text-anchor=\"start\" x=\"426\" y=\"-126.8\" font-family=\"Helvetica,sans-Serif\" font-size=\"14.00\" fill=\"#000000\">value = [38345, 5599]</text>\n",
       "<text text-anchor=\"start\" x=\"444.5\" y=\"-111.8\" font-family=\"Helvetica,sans-Serif\" font-size=\"14.00\" fill=\"#000000\">class = No XBH</text>\n",
       "</g>\n",
       "<!-- 1&#45;&gt;5 -->\n",
       "<g id=\"edge5\" class=\"edge\">\n",
       "<title>1&#45;&gt;5</title>\n",
       "<path fill=\"none\" stroke=\"#000000\" d=\"M494,-222.8796C494,-214.6838 494,-205.9891 494,-197.5013\"/>\n",
       "<polygon fill=\"#000000\" stroke=\"#000000\" points=\"497.5001,-197.298 494,-187.2981 490.5001,-197.2981 497.5001,-197.298\"/>\n",
       "</g>\n",
       "<!-- 3 -->\n",
       "<g id=\"node4\" class=\"node\">\n",
       "<title>3</title>\n",
       "<path fill=\"#e5813a\" stroke=\"#000000\" d=\"M132,-68C132,-68 12,-68 12,-68 6,-68 0,-62 0,-56 0,-56 0,-12 0,-12 0,-6 6,0 12,0 12,0 132,0 132,0 138,0 144,-6 144,-12 144,-12 144,-56 144,-56 144,-62 138,-68 132,-68\"/>\n",
       "<text text-anchor=\"start\" x=\"35.5\" y=\"-52.8\" font-family=\"Helvetica,sans-Serif\" font-size=\"14.00\" fill=\"#000000\">gini = 0.007</text>\n",
       "<text text-anchor=\"start\" x=\"18\" y=\"-37.8\" font-family=\"Helvetica,sans-Serif\" font-size=\"14.00\" fill=\"#000000\">samples = 49788</text>\n",
       "<text text-anchor=\"start\" x=\"8\" y=\"-22.8\" font-family=\"Helvetica,sans-Serif\" font-size=\"14.00\" fill=\"#000000\">value = [49608, 180]</text>\n",
       "<text text-anchor=\"start\" x=\"22.5\" y=\"-7.8\" font-family=\"Helvetica,sans-Serif\" font-size=\"14.00\" fill=\"#000000\">class = No XBH</text>\n",
       "</g>\n",
       "<!-- 2&#45;&gt;3 -->\n",
       "<g id=\"edge3\" class=\"edge\">\n",
       "<title>2&#45;&gt;3</title>\n",
       "<path fill=\"none\" stroke=\"#000000\" d=\"M178.6983,-103.9815C163.6258,-94.0957 147.5778,-83.5701 132.6284,-73.7651\"/>\n",
       "<polygon fill=\"#000000\" stroke=\"#000000\" points=\"134.2506,-70.6434 123.9691,-68.0856 130.4115,-76.4968 134.2506,-70.6434\"/>\n",
       "</g>\n",
       "<!-- 4 -->\n",
       "<g id=\"node5\" class=\"node\">\n",
       "<title>4</title>\n",
       "<path fill=\"#e68641\" stroke=\"#000000\" d=\"M309.5,-68C309.5,-68 174.5,-68 174.5,-68 168.5,-68 162.5,-62 162.5,-56 162.5,-56 162.5,-12 162.5,-12 162.5,-6 168.5,0 174.5,0 174.5,0 309.5,0 309.5,0 315.5,0 321.5,-6 321.5,-12 321.5,-12 321.5,-56 321.5,-56 321.5,-62 315.5,-68 309.5,-68\"/>\n",
       "<text text-anchor=\"start\" x=\"205.5\" y=\"-52.8\" font-family=\"Helvetica,sans-Serif\" font-size=\"14.00\" fill=\"#000000\">gini = 0.074</text>\n",
       "<text text-anchor=\"start\" x=\"184.5\" y=\"-37.8\" font-family=\"Helvetica,sans-Serif\" font-size=\"14.00\" fill=\"#000000\">samples = 111364</text>\n",
       "<text text-anchor=\"start\" x=\"170.5\" y=\"-22.8\" font-family=\"Helvetica,sans-Serif\" font-size=\"14.00\" fill=\"#000000\">value = [107097, 4267]</text>\n",
       "<text text-anchor=\"start\" x=\"192.5\" y=\"-7.8\" font-family=\"Helvetica,sans-Serif\" font-size=\"14.00\" fill=\"#000000\">class = No XBH</text>\n",
       "</g>\n",
       "<!-- 2&#45;&gt;4 -->\n",
       "<g id=\"edge4\" class=\"edge\">\n",
       "<title>2&#45;&gt;4</title>\n",
       "<path fill=\"none\" stroke=\"#000000\" d=\"M242,-103.9815C242,-95.618 242,-86.7965 242,-78.3409\"/>\n",
       "<polygon fill=\"#000000\" stroke=\"#000000\" points=\"245.5001,-78.2636 242,-68.2637 238.5001,-78.2637 245.5001,-78.2636\"/>\n",
       "</g>\n",
       "<!-- 6 -->\n",
       "<g id=\"node7\" class=\"node\">\n",
       "<title>6</title>\n",
       "<path fill=\"#e68640\" stroke=\"#000000\" d=\"M472,-68C472,-68 352,-68 352,-68 346,-68 340,-62 340,-56 340,-56 340,-12 340,-12 340,-6 346,0 352,0 352,0 472,0 472,0 478,0 484,-6 484,-12 484,-12 484,-56 484,-56 484,-62 478,-68 472,-68\"/>\n",
       "<text text-anchor=\"start\" x=\"379.5\" y=\"-52.8\" font-family=\"Helvetica,sans-Serif\" font-size=\"14.00\" fill=\"#000000\">gini = 0.07</text>\n",
       "<text text-anchor=\"start\" x=\"358\" y=\"-37.8\" font-family=\"Helvetica,sans-Serif\" font-size=\"14.00\" fill=\"#000000\">samples = 19403</text>\n",
       "<text text-anchor=\"start\" x=\"348\" y=\"-22.8\" font-family=\"Helvetica,sans-Serif\" font-size=\"14.00\" fill=\"#000000\">value = [18698, 705]</text>\n",
       "<text text-anchor=\"start\" x=\"362.5\" y=\"-7.8\" font-family=\"Helvetica,sans-Serif\" font-size=\"14.00\" fill=\"#000000\">class = No XBH</text>\n",
       "</g>\n",
       "<!-- 5&#45;&gt;6 -->\n",
       "<g id=\"edge6\" class=\"edge\">\n",
       "<title>5&#45;&gt;6</title>\n",
       "<path fill=\"none\" stroke=\"#000000\" d=\"M463.4662,-103.9815C456.8424,-94.9747 449.8279,-85.4367 443.1795,-76.3965\"/>\n",
       "<polygon fill=\"#000000\" stroke=\"#000000\" points=\"445.9426,-74.2461 437.1984,-68.2637 440.3034,-78.3933 445.9426,-74.2461\"/>\n",
       "</g>\n",
       "<!-- 7 -->\n",
       "<g id=\"node8\" class=\"node\">\n",
       "<title>7</title>\n",
       "<path fill=\"#eba06a\" stroke=\"#000000\" d=\"M642,-68C642,-68 514,-68 514,-68 508,-68 502,-62 502,-56 502,-56 502,-12 502,-12 502,-6 508,0 514,0 514,0 642,0 642,0 648,0 654,-6 654,-12 654,-12 654,-56 654,-56 654,-62 648,-68 642,-68\"/>\n",
       "<text text-anchor=\"start\" x=\"541.5\" y=\"-52.8\" font-family=\"Helvetica,sans-Serif\" font-size=\"14.00\" fill=\"#000000\">gini = 0.319</text>\n",
       "<text text-anchor=\"start\" x=\"524\" y=\"-37.8\" font-family=\"Helvetica,sans-Serif\" font-size=\"14.00\" fill=\"#000000\">samples = 24541</text>\n",
       "<text text-anchor=\"start\" x=\"510\" y=\"-22.8\" font-family=\"Helvetica,sans-Serif\" font-size=\"14.00\" fill=\"#000000\">value = [19647, 4894]</text>\n",
       "<text text-anchor=\"start\" x=\"528.5\" y=\"-7.8\" font-family=\"Helvetica,sans-Serif\" font-size=\"14.00\" fill=\"#000000\">class = No XBH</text>\n",
       "</g>\n",
       "<!-- 5&#45;&gt;7 -->\n",
       "<g id=\"edge7\" class=\"edge\">\n",
       "<title>5&#45;&gt;7</title>\n",
       "<path fill=\"none\" stroke=\"#000000\" d=\"M525.2785,-103.9815C532.0639,-94.9747 539.2495,-85.4367 546.0601,-76.3965\"/>\n",
       "<polygon fill=\"#000000\" stroke=\"#000000\" points=\"548.9653,-78.3568 552.187,-68.2637 543.3743,-74.1448 548.9653,-78.3568\"/>\n",
       "</g>\n",
       "<!-- 9 -->\n",
       "<g id=\"node10\" class=\"node\">\n",
       "<title>9</title>\n",
       "<path fill=\"#e88e4d\" stroke=\"#000000\" d=\"M891,-187C891,-187 763,-187 763,-187 757,-187 751,-181 751,-175 751,-175 751,-116 751,-116 751,-110 757,-104 763,-104 763,-104 891,-104 891,-104 897,-104 903,-110 903,-116 903,-116 903,-175 903,-175 903,-181 897,-187 891,-187\"/>\n",
       "<text text-anchor=\"start\" x=\"760\" y=\"-171.8\" font-family=\"Helvetica,sans-Serif\" font-size=\"14.00\" fill=\"#000000\">launch_angle ≤ 8.784</text>\n",
       "<text text-anchor=\"start\" x=\"790.5\" y=\"-156.8\" font-family=\"Helvetica,sans-Serif\" font-size=\"14.00\" fill=\"#000000\">gini = 0.168</text>\n",
       "<text text-anchor=\"start\" x=\"773\" y=\"-141.8\" font-family=\"Helvetica,sans-Serif\" font-size=\"14.00\" fill=\"#000000\">samples = 37325</text>\n",
       "<text text-anchor=\"start\" x=\"759\" y=\"-126.8\" font-family=\"Helvetica,sans-Serif\" font-size=\"14.00\" fill=\"#000000\">value = [33866, 3459]</text>\n",
       "<text text-anchor=\"start\" x=\"777.5\" y=\"-111.8\" font-family=\"Helvetica,sans-Serif\" font-size=\"14.00\" fill=\"#000000\">class = No XBH</text>\n",
       "</g>\n",
       "<!-- 8&#45;&gt;9 -->\n",
       "<g id=\"edge9\" class=\"edge\">\n",
       "<title>8&#45;&gt;9</title>\n",
       "<path fill=\"none\" stroke=\"#000000\" d=\"M827,-222.8796C827,-214.6838 827,-205.9891 827,-197.5013\"/>\n",
       "<polygon fill=\"#000000\" stroke=\"#000000\" points=\"830.5001,-197.298 827,-187.2981 823.5001,-197.2981 830.5001,-197.298\"/>\n",
       "</g>\n",
       "<!-- 12 -->\n",
       "<g id=\"node13\" class=\"node\">\n",
       "<title>12</title>\n",
       "<path fill=\"#b2d9f5\" stroke=\"#000000\" d=\"M1147.5,-187C1147.5,-187 1012.5,-187 1012.5,-187 1006.5,-187 1000.5,-181 1000.5,-175 1000.5,-175 1000.5,-116 1000.5,-116 1000.5,-110 1006.5,-104 1012.5,-104 1012.5,-104 1147.5,-104 1147.5,-104 1153.5,-104 1159.5,-110 1159.5,-116 1159.5,-116 1159.5,-175 1159.5,-175 1159.5,-181 1153.5,-187 1147.5,-187\"/>\n",
       "<text text-anchor=\"start\" x=\"1009\" y=\"-171.8\" font-family=\"Helvetica,sans-Serif\" font-size=\"14.00\" fill=\"#000000\">launch_angle ≤ 36.152</text>\n",
       "<text text-anchor=\"start\" x=\"1043.5\" y=\"-156.8\" font-family=\"Helvetica,sans-Serif\" font-size=\"14.00\" fill=\"#000000\">gini = 0.471</text>\n",
       "<text text-anchor=\"start\" x=\"1026\" y=\"-141.8\" font-family=\"Helvetica,sans-Serif\" font-size=\"14.00\" fill=\"#000000\">samples = 27672</text>\n",
       "<text text-anchor=\"start\" x=\"1008.5\" y=\"-126.8\" font-family=\"Helvetica,sans-Serif\" font-size=\"14.00\" fill=\"#000000\">value = [10495, 17177]</text>\n",
       "<text text-anchor=\"start\" x=\"1041.5\" y=\"-111.8\" font-family=\"Helvetica,sans-Serif\" font-size=\"14.00\" fill=\"#000000\">class = XBH</text>\n",
       "</g>\n",
       "<!-- 8&#45;&gt;12 -->\n",
       "<g id=\"edge12\" class=\"edge\">\n",
       "<title>8&#45;&gt;12</title>\n",
       "<path fill=\"none\" stroke=\"#000000\" d=\"M906.7035,-227.011C933.5107,-214.4021 963.5816,-200.258 991.054,-187.3363\"/>\n",
       "<polygon fill=\"#000000\" stroke=\"#000000\" points=\"992.7033,-190.4284 1000.2626,-183.005 989.7239,-184.0941 992.7033,-190.4284\"/>\n",
       "</g>\n",
       "<!-- 10 -->\n",
       "<g id=\"node11\" class=\"node\">\n",
       "<title>10</title>\n",
       "<path fill=\"#e68742\" stroke=\"#000000\" d=\"M812,-68C812,-68 684,-68 684,-68 678,-68 672,-62 672,-56 672,-56 672,-12 672,-12 672,-6 678,0 684,0 684,0 812,0 812,0 818,0 824,-6 824,-12 824,-12 824,-56 824,-56 824,-62 818,-68 812,-68\"/>\n",
       "<text text-anchor=\"start\" x=\"711.5\" y=\"-52.8\" font-family=\"Helvetica,sans-Serif\" font-size=\"14.00\" fill=\"#000000\">gini = 0.087</text>\n",
       "<text text-anchor=\"start\" x=\"694\" y=\"-37.8\" font-family=\"Helvetica,sans-Serif\" font-size=\"14.00\" fill=\"#000000\">samples = 28886</text>\n",
       "<text text-anchor=\"start\" x=\"680\" y=\"-22.8\" font-family=\"Helvetica,sans-Serif\" font-size=\"14.00\" fill=\"#000000\">value = [27566, 1320]</text>\n",
       "<text text-anchor=\"start\" x=\"698.5\" y=\"-7.8\" font-family=\"Helvetica,sans-Serif\" font-size=\"14.00\" fill=\"#000000\">class = No XBH</text>\n",
       "</g>\n",
       "<!-- 9&#45;&gt;10 -->\n",
       "<g id=\"edge10\" class=\"edge\">\n",
       "<title>9&#45;&gt;10</title>\n",
       "<path fill=\"none\" stroke=\"#000000\" d=\"M797.5833,-103.9815C791.2669,-95.0666 784.5818,-85.6313 778.2349,-76.6734\"/>\n",
       "<polygon fill=\"#000000\" stroke=\"#000000\" points=\"780.9136,-74.3998 772.2765,-68.2637 775.2019,-78.4466 780.9136,-74.3998\"/>\n",
       "</g>\n",
       "<!-- 11 -->\n",
       "<g id=\"node12\" class=\"node\">\n",
       "<title>11</title>\n",
       "<path fill=\"#eeac7c\" stroke=\"#000000\" d=\"M974,-68C974,-68 854,-68 854,-68 848,-68 842,-62 842,-56 842,-56 842,-12 842,-12 842,-6 848,0 854,0 854,0 974,0 974,0 980,0 986,-6 986,-12 986,-12 986,-56 986,-56 986,-62 980,-68 974,-68\"/>\n",
       "<text text-anchor=\"start\" x=\"877.5\" y=\"-52.8\" font-family=\"Helvetica,sans-Serif\" font-size=\"14.00\" fill=\"#000000\">gini = 0.378</text>\n",
       "<text text-anchor=\"start\" x=\"864\" y=\"-37.8\" font-family=\"Helvetica,sans-Serif\" font-size=\"14.00\" fill=\"#000000\">samples = 8439</text>\n",
       "<text text-anchor=\"start\" x=\"850\" y=\"-22.8\" font-family=\"Helvetica,sans-Serif\" font-size=\"14.00\" fill=\"#000000\">value = [6300, 2139]</text>\n",
       "<text text-anchor=\"start\" x=\"864.5\" y=\"-7.8\" font-family=\"Helvetica,sans-Serif\" font-size=\"14.00\" fill=\"#000000\">class = No XBH</text>\n",
       "</g>\n",
       "<!-- 9&#45;&gt;11 -->\n",
       "<g id=\"edge11\" class=\"edge\">\n",
       "<title>9&#45;&gt;11</title>\n",
       "<path fill=\"none\" stroke=\"#000000\" d=\"M859.3956,-103.9815C866.4234,-94.9747 873.8655,-85.4367 880.9193,-76.3965\"/>\n",
       "<polygon fill=\"#000000\" stroke=\"#000000\" points=\"883.8728,-78.3008 887.2651,-68.2637 878.354,-73.9946 883.8728,-78.3008\"/>\n",
       "</g>\n",
       "<!-- 13 -->\n",
       "<g id=\"node14\" class=\"node\">\n",
       "<title>13</title>\n",
       "<path fill=\"#9bcdf2\" stroke=\"#000000\" d=\"M1144,-68C1144,-68 1016,-68 1016,-68 1010,-68 1004,-62 1004,-56 1004,-56 1004,-12 1004,-12 1004,-6 1010,0 1016,0 1016,0 1144,0 1144,0 1150,0 1156,-6 1156,-12 1156,-12 1156,-56 1156,-56 1156,-62 1150,-68 1144,-68\"/>\n",
       "<text text-anchor=\"start\" x=\"1043.5\" y=\"-52.8\" font-family=\"Helvetica,sans-Serif\" font-size=\"14.00\" fill=\"#000000\">gini = 0.442</text>\n",
       "<text text-anchor=\"start\" x=\"1026\" y=\"-37.8\" font-family=\"Helvetica,sans-Serif\" font-size=\"14.00\" fill=\"#000000\">samples = 24677</text>\n",
       "<text text-anchor=\"start\" x=\"1012\" y=\"-22.8\" font-family=\"Helvetica,sans-Serif\" font-size=\"14.00\" fill=\"#000000\">value = [8145, 16532]</text>\n",
       "<text text-anchor=\"start\" x=\"1041.5\" y=\"-7.8\" font-family=\"Helvetica,sans-Serif\" font-size=\"14.00\" fill=\"#000000\">class = XBH</text>\n",
       "</g>\n",
       "<!-- 12&#45;&gt;13 -->\n",
       "<g id=\"edge13\" class=\"edge\">\n",
       "<title>12&#45;&gt;13</title>\n",
       "<path fill=\"none\" stroke=\"#000000\" d=\"M1080,-103.9815C1080,-95.618 1080,-86.7965 1080,-78.3409\"/>\n",
       "<polygon fill=\"#000000\" stroke=\"#000000\" points=\"1083.5001,-78.2636 1080,-68.2637 1076.5001,-78.2637 1083.5001,-78.2636\"/>\n",
       "</g>\n",
       "<!-- 14 -->\n",
       "<g id=\"node15\" class=\"node\">\n",
       "<title>14</title>\n",
       "<path fill=\"#eca46f\" stroke=\"#000000\" d=\"M1298,-68C1298,-68 1186,-68 1186,-68 1180,-68 1174,-62 1174,-56 1174,-56 1174,-12 1174,-12 1174,-6 1180,0 1186,0 1186,0 1298,0 1298,0 1304,0 1310,-6 1310,-12 1310,-12 1310,-56 1310,-56 1310,-62 1304,-68 1298,-68\"/>\n",
       "<text text-anchor=\"start\" x=\"1205.5\" y=\"-52.8\" font-family=\"Helvetica,sans-Serif\" font-size=\"14.00\" fill=\"#000000\">gini = 0.338</text>\n",
       "<text text-anchor=\"start\" x=\"1192\" y=\"-37.8\" font-family=\"Helvetica,sans-Serif\" font-size=\"14.00\" fill=\"#000000\">samples = 2995</text>\n",
       "<text text-anchor=\"start\" x=\"1182\" y=\"-22.8\" font-family=\"Helvetica,sans-Serif\" font-size=\"14.00\" fill=\"#000000\">value = [2350, 645]</text>\n",
       "<text text-anchor=\"start\" x=\"1192.5\" y=\"-7.8\" font-family=\"Helvetica,sans-Serif\" font-size=\"14.00\" fill=\"#000000\">class = No XBH</text>\n",
       "</g>\n",
       "<!-- 12&#45;&gt;14 -->\n",
       "<g id=\"edge14\" class=\"edge\">\n",
       "<title>12&#45;&gt;14</title>\n",
       "<path fill=\"none\" stroke=\"#000000\" d=\"M1140.3228,-103.9815C1154.686,-94.0957 1169.9788,-83.5701 1184.2247,-73.7651\"/>\n",
       "<polygon fill=\"#000000\" stroke=\"#000000\" points=\"1186.2234,-76.6384 1192.4765,-68.0856 1182.2546,-70.8722 1186.2234,-76.6384\"/>\n",
       "</g>\n",
       "</g>\n",
       "</svg>\n"
      ],
      "text/plain": [
       "<graphviz.files.Source at 0x153b7b990>"
      ]
     },
     "execution_count": 111,
     "metadata": {},
     "output_type": "execute_result"
    }
   ],
   "source": [
    "# Visualize decision tree\n",
    "# Verbatim DOT source code string to be rendered by Graphviz\n",
    "graph = graphviz.Source(dot_data)  \n",
    "graph "
   ]
  },
  {
   "cell_type": "code",
   "execution_count": 112,
   "metadata": {},
   "outputs": [
    {
     "data": {
      "text/plain": [
       "'xbh.pdf'"
      ]
     },
     "execution_count": 112,
     "metadata": {},
     "output_type": "execute_result"
    }
   ],
   "source": [
    "# Save the source to file and render with the Graphviz engine\n",
    "# Note: view (bool): Open the rendered result with the default application\n",
    "graph.render('xbh', view=False)"
   ]
  },
  {
   "cell_type": "markdown",
   "metadata": {},
   "source": [
    "Note: Not needed anymore because 'graph.render' saves the source file after rendering"
   ]
  },
  {
   "cell_type": "code",
   "execution_count": 113,
   "metadata": {},
   "outputs": [],
   "source": [
    "#with open('xbh_classifier.txt', 'w') as f:\n",
    "#    f = export_graphviz(clf_gini, out_file=f,\n",
    "#                        feature_names=feature_cols,\n",
    "#                        class_names=['No XBH', 'XBH'],\n",
    "#                        filled=True, rounded=True,\n",
    "#                        special_characters=True)"
   ]
  }
 ],
 "metadata": {
  "kernelspec": {
   "display_name": "Python 3",
   "language": "python",
   "name": "python3"
  },
  "language_info": {
   "codemirror_mode": {
    "name": "ipython",
    "version": 3
   },
   "file_extension": ".py",
   "mimetype": "text/x-python",
   "name": "python",
   "nbconvert_exporter": "python",
   "pygments_lexer": "ipython3",
   "version": "3.7.4"
  }
 },
 "nbformat": 4,
 "nbformat_minor": 2
}
