{
 "cells": [
  {
   "cell_type": "code",
   "execution_count": 1,
   "metadata": {},
   "outputs": [],
   "source": [
    "import numpy as np\n",
    "import pandas as pd\n",
    "from pandas.plotting import autocorrelation_plot\n",
    "from math import sqrt\n",
    "import scipy as sp\n",
    "from scipy import stats\n",
    "import scipy.signal\n",
    "from scipy.signal import fftconvolve, convolve\n",
    "import matplotlib.pyplot as plt\n",
    "import seaborn as sns\n",
    "from ipywidgets import interact\n",
    "import random as ran\n",
    "\n",
    "from datetime import datetime\n",
    "from datetime import timedelta\n",
    "from dateutil.relativedelta import *\n",
    "\n",
    "from sklearn.dummy import DummyClassifier, DummyRegressor\n",
    "from sklearn.linear_model import LinearRegression, Ridge, Lasso, ElasticNet, RidgeCV, LassoCV, ElasticNetCV, LogisticRegression\n",
    "from sklearn.multiclass import OneVsRestClassifier, OneVsOneClassifier\n",
    "from sklearn.neighbors import KNeighborsClassifier, KNeighborsRegressor\n",
    "from sklearn.model_selection import train_test_split, cross_val_score, cross_val_predict, KFold, GridSearchCV\n",
    "from sklearn.preprocessing import PolynomialFeatures, StandardScaler\n",
    "from sklearn.feature_extraction.text import CountVectorizer, TfidfVectorizer, HashingVectorizer, ENGLISH_STOP_WORDS\n",
    "from sklearn.naive_bayes import MultinomialNB\n",
    "from sklearn.tree import DecisionTreeClassifier, DecisionTreeRegressor, export_graphviz\n",
    "from sklearn.ensemble import RandomForestClassifier, RandomForestRegressor\n",
    "from sklearn.decomposition import LatentDirichletAllocation\n",
    "from sklearn.pipeline import make_pipeline\n",
    "from sklearn import metrics\n",
    "from sklearn import datasets\n",
    "from textblob import TextBlob, Word\n",
    "from nltk.stem.snowball import SnowballStemmer\n",
    "from nltk.sentiment.vader import SentimentIntensityAnalyzer\n",
    "from nltk.corpus import stopwords\n",
    "#from textacy.preprocess import preprocess_text\n",
    "\n",
    "from gensim import corpora, models, matutils\n",
    "from collections import defaultdict, Counter\n",
    "\n",
    "import statsmodels.api as sm\n",
    "import statsmodels.formula.api as sm\n",
    "from statsmodels.tsa.stattools import acf, pacf, adfuller\n",
    "from statsmodels.tsa.api import ExponentialSmoothing, SimpleExpSmoothing, Holt\n",
    "from statsmodels.graphics.tsaplots import plot_acf, plot_pacf\n",
    "from statsmodels.tsa.seasonal import seasonal_decompose\n",
    "from statsmodels.tsa.statespace.sarimax import SARIMAX\n",
    "\n",
    "import tensorflow as tf\n",
    "\n",
    "import patsy\n",
    "from itertools import combinations\n",
    "\n",
    "import graphviz\n",
    "import json\n",
    "import requests\n",
    "import urllib\n",
    "from bs4 import BeautifulSoup\n",
    "from selenium import webdriver\n",
    "from selenium.webdriver.common.keys import Keys\n",
    "from time import sleep\n",
    "import re\n",
    "import twitter"
   ]
  },
  {
   "cell_type": "code",
   "execution_count": 2,
   "metadata": {},
   "outputs": [],
   "source": [
    "%matplotlib inline\n",
    "#plt.style.use('fivethirtyeight')\n",
    "plt.rcParams['figure.figsize'] = (12, 8)\n",
    "plt.rcParams['font.size'] = 12"
   ]
  },
  {
   "cell_type": "markdown",
   "metadata": {},
   "source": [
    "## Build and document a working model, prototype, recommendation, or solution"
   ]
  },
  {
   "cell_type": "markdown",
   "metadata": {},
   "source": [
    "Note: The new Statcast metrics are available beginning from the 2015 baseball season to the current season. I downloaded the 2015-2017 baseball season data for all teams which will be used in the data modeling."
   ]
  },
  {
   "cell_type": "markdown",
   "metadata": {},
   "source": [
    "## [pybaseball](https://github.com/jldbc/pybaseball) \n",
    "Pull current and historical baseball statistics using Python (Statcast, Baseball Reference, FanGraphs)\n",
    "\n",
    "`pybaseball` is a Python package for baseball data analysis. This package scrapes Baseball Reference, Baseball Savant, and FanGraphs so you don't have to. The package retrieves statcast data, pitching stats, batting stats, division standings/team records, awards data, and more. Data is available at the individual pitch level, as well as aggregated at the season level and over custom time periods. See the [docs](https://github.com/jldbc/pybaseball/tree/master/docs) for a comprehensive list of data acquisition functions."
   ]
  },
  {
   "cell_type": "markdown",
   "metadata": {},
   "source": [
    "**Statcast**\n",
    "\n",
    "The statcast function retrieves pitch-level statcast data for a given date or range or dates.\n",
    "\n",
    "statcast(start_dt=[yesterday's date], end_dt=None, team=None)"
   ]
  },
  {
   "cell_type": "code",
   "execution_count": 3,
   "metadata": {},
   "outputs": [],
   "source": [
    "# Pull advanced metrics from Major League Baseball's Statcast system\n",
    "#from pybaseball import statcast\n",
    "\n",
    "# Look up a player's MLBAM, Retrosheet, FanGraphs, and Baseball Reference ID by name\n",
    "#from pybaseball import playerid_lookup"
   ]
  },
  {
   "cell_type": "markdown",
   "metadata": {},
   "source": [
    "### Reading a File"
   ]
  },
  {
   "cell_type": "code",
   "execution_count": 4,
   "metadata": {},
   "outputs": [],
   "source": [
    "# Create data path variable for loading data\n",
    "data_path = '/Users/yangweichle/Documents/GeneralAssembly/Projects/Datasets/'"
   ]
  },
  {
   "cell_type": "code",
   "execution_count": 5,
   "metadata": {},
   "outputs": [],
   "source": [
    "# Read file into DataFrame\n",
    "# Note: header=0 disables the header from the file\n",
    "all_MLB_teams2015_2017 = pd.read_csv(data_path + 'all_MLB_teams2015_2017.csv', header=0) # Comma-separated values file"
   ]
  },
  {
   "cell_type": "markdown",
   "metadata": {},
   "source": [
    "### Examine the DataFrame"
   ]
  },
  {
   "cell_type": "code",
   "execution_count": 6,
   "metadata": {},
   "outputs": [
    {
     "name": "stdout",
     "output_type": "stream",
     "text": [
      "Rows: 2139920, Cols: 91\n"
     ]
    }
   ],
   "source": [
    "# Return the number of rows and columns (dimensionality) of the DataFrame\n",
    "print('Rows: {}, Cols: {}'.format(all_MLB_teams2015_2017.shape[0], all_MLB_teams2015_2017.shape[1]))"
   ]
  },
  {
   "cell_type": "code",
   "execution_count": 7,
   "metadata": {},
   "outputs": [
    {
     "name": "stdout",
     "output_type": "stream",
     "text": [
      "<class 'pandas.core.frame.DataFrame'>\n",
      "RangeIndex: 2139920 entries, 0 to 2139919\n",
      "Data columns (total 91 columns):\n",
      "Unnamed: 0                         int64\n",
      "index                              int64\n",
      "pitch_type                         object\n",
      "game_date                          object\n",
      "release_speed                      float64\n",
      "release_pos_x                      float64\n",
      "release_pos_z                      float64\n",
      "player_name                        object\n",
      "batter                             float64\n",
      "pitcher                            float64\n",
      "events                             object\n",
      "description                        object\n",
      "spin_dir                           float64\n",
      "spin_rate_deprecated               float64\n",
      "break_angle_deprecated             float64\n",
      "break_length_deprecated            float64\n",
      "zone                               float64\n",
      "des                                object\n",
      "game_type                          object\n",
      "stand                              object\n",
      "p_throws                           object\n",
      "home_team                          object\n",
      "away_team                          object\n",
      "type                               object\n",
      "hit_location                       float64\n",
      "bb_type                            object\n",
      "balls                              float64\n",
      "strikes                            float64\n",
      "game_year                          float64\n",
      "pfx_x                              float64\n",
      "pfx_z                              float64\n",
      "plate_x                            float64\n",
      "plate_z                            float64\n",
      "on_3b                              float64\n",
      "on_2b                              float64\n",
      "on_1b                              float64\n",
      "outs_when_up                       float64\n",
      "inning                             float64\n",
      "inning_topbot                      object\n",
      "hc_x                               float64\n",
      "hc_y                               float64\n",
      "tfs_deprecated                     float64\n",
      "tfs_zulu_deprecated                float64\n",
      "pos2_person_id                     float64\n",
      "umpire                             float64\n",
      "sv_id                              object\n",
      "vx0                                float64\n",
      "vy0                                float64\n",
      "vz0                                float64\n",
      "ax                                 float64\n",
      "ay                                 float64\n",
      "az                                 float64\n",
      "sz_top                             float64\n",
      "sz_bot                             float64\n",
      "hit_distance_sc                    float64\n",
      "launch_speed                       float64\n",
      "launch_angle                       float64\n",
      "effective_speed                    float64\n",
      "release_spin_rate                  float64\n",
      "release_extension                  float64\n",
      "game_pk                            float64\n",
      "pos1_person_id                     float64\n",
      "pos2_person_id.1                   float64\n",
      "pos3_person_id                     float64\n",
      "pos4_person_id                     float64\n",
      "pos5_person_id                     float64\n",
      "pos6_person_id                     float64\n",
      "pos7_person_id                     float64\n",
      "pos8_person_id                     float64\n",
      "pos9_person_id                     float64\n",
      "release_pos_y                      float64\n",
      "estimated_ba_using_speedangle      float64\n",
      "estimated_woba_using_speedangle    float64\n",
      "woba_value                         float64\n",
      "woba_denom                         float64\n",
      "babip_value                        float64\n",
      "iso_value                          float64\n",
      "launch_speed_angle                 float64\n",
      "at_bat_number                      float64\n",
      "pitch_number                       float64\n",
      "pitch_name                         object\n",
      "home_score                         float64\n",
      "away_score                         float64\n",
      "bat_score                          float64\n",
      "fld_score                          float64\n",
      "post_away_score                    float64\n",
      "post_home_score                    float64\n",
      "post_bat_score                     float64\n",
      "post_fld_score                     float64\n",
      "if_fielding_alignment              object\n",
      "of_fielding_alignment              object\n",
      "dtypes: float64(71), int64(2), object(18)\n",
      "memory usage: 1.5+ GB\n"
     ]
    }
   ],
   "source": [
    "# Print a concise summary of a DataFrame including the index dtype and column dtypes, non-null values, and memory usage\n",
    "# Note: Useful to quickly see if null values exist \n",
    "all_MLB_teams2015_2017.info()"
   ]
  },
  {
   "cell_type": "code",
   "execution_count": 8,
   "metadata": {},
   "outputs": [],
   "source": [
    "# Column names (which is \"an index\")\n",
    "#all_MLB_teams2015_2017.columns"
   ]
  },
  {
   "cell_type": "code",
   "execution_count": 9,
   "metadata": {},
   "outputs": [],
   "source": [
    "# Sort a DataFrame by multiple columns\n",
    "# Note: ascending: sort ascending vs. descending; ascending=True is default\n",
    "#       inplace=True changes the original DataFrame\n",
    "all_MLB_teams2015_2017.sort_values(by=['game_date', 'game_pk', 'at_bat_number', 'pitch_number'], ascending=True, inplace=True)"
   ]
  },
  {
   "cell_type": "code",
   "execution_count": 10,
   "metadata": {},
   "outputs": [
    {
     "data": {
      "text/html": [
       "<div>\n",
       "<style scoped>\n",
       "    .dataframe tbody tr th:only-of-type {\n",
       "        vertical-align: middle;\n",
       "    }\n",
       "\n",
       "    .dataframe tbody tr th {\n",
       "        vertical-align: top;\n",
       "    }\n",
       "\n",
       "    .dataframe thead th {\n",
       "        text-align: right;\n",
       "    }\n",
       "</style>\n",
       "<table border=\"1\" class=\"dataframe\">\n",
       "  <thead>\n",
       "    <tr style=\"text-align: right;\">\n",
       "      <th></th>\n",
       "      <th>Unnamed: 0</th>\n",
       "      <th>index</th>\n",
       "      <th>pitch_type</th>\n",
       "      <th>game_date</th>\n",
       "      <th>release_speed</th>\n",
       "      <th>release_pos_x</th>\n",
       "      <th>release_pos_z</th>\n",
       "      <th>player_name</th>\n",
       "      <th>batter</th>\n",
       "      <th>pitcher</th>\n",
       "      <th>...</th>\n",
       "      <th>home_score</th>\n",
       "      <th>away_score</th>\n",
       "      <th>bat_score</th>\n",
       "      <th>fld_score</th>\n",
       "      <th>post_away_score</th>\n",
       "      <th>post_home_score</th>\n",
       "      <th>post_bat_score</th>\n",
       "      <th>post_fld_score</th>\n",
       "      <th>if_fielding_alignment</th>\n",
       "      <th>of_fielding_alignment</th>\n",
       "    </tr>\n",
       "  </thead>\n",
       "  <tbody>\n",
       "    <tr>\n",
       "      <td>2139919</td>\n",
       "      <td>702491</td>\n",
       "      <td>17584</td>\n",
       "      <td>FF</td>\n",
       "      <td>2015-04-05</td>\n",
       "      <td>93.6</td>\n",
       "      <td>2.5520</td>\n",
       "      <td>5.5293</td>\n",
       "      <td>Jon Lester</td>\n",
       "      <td>572761.0</td>\n",
       "      <td>452657.0</td>\n",
       "      <td>...</td>\n",
       "      <td>0.0</td>\n",
       "      <td>0.0</td>\n",
       "      <td>0.0</td>\n",
       "      <td>0.0</td>\n",
       "      <td>0.0</td>\n",
       "      <td>0.0</td>\n",
       "      <td>0.0</td>\n",
       "      <td>0.0</td>\n",
       "      <td>NaN</td>\n",
       "      <td>NaN</td>\n",
       "    </tr>\n",
       "    <tr>\n",
       "      <td>2139918</td>\n",
       "      <td>702490</td>\n",
       "      <td>17583</td>\n",
       "      <td>FF</td>\n",
       "      <td>2015-04-05</td>\n",
       "      <td>93.4</td>\n",
       "      <td>2.5694</td>\n",
       "      <td>5.6476</td>\n",
       "      <td>Jon Lester</td>\n",
       "      <td>572761.0</td>\n",
       "      <td>452657.0</td>\n",
       "      <td>...</td>\n",
       "      <td>0.0</td>\n",
       "      <td>0.0</td>\n",
       "      <td>0.0</td>\n",
       "      <td>0.0</td>\n",
       "      <td>0.0</td>\n",
       "      <td>0.0</td>\n",
       "      <td>0.0</td>\n",
       "      <td>0.0</td>\n",
       "      <td>NaN</td>\n",
       "      <td>NaN</td>\n",
       "    </tr>\n",
       "    <tr>\n",
       "      <td>2139917</td>\n",
       "      <td>702489</td>\n",
       "      <td>17582</td>\n",
       "      <td>FF</td>\n",
       "      <td>2015-04-05</td>\n",
       "      <td>94.8</td>\n",
       "      <td>2.6266</td>\n",
       "      <td>5.2936</td>\n",
       "      <td>Jon Lester</td>\n",
       "      <td>572761.0</td>\n",
       "      <td>452657.0</td>\n",
       "      <td>...</td>\n",
       "      <td>0.0</td>\n",
       "      <td>0.0</td>\n",
       "      <td>0.0</td>\n",
       "      <td>0.0</td>\n",
       "      <td>0.0</td>\n",
       "      <td>0.0</td>\n",
       "      <td>0.0</td>\n",
       "      <td>0.0</td>\n",
       "      <td>NaN</td>\n",
       "      <td>NaN</td>\n",
       "    </tr>\n",
       "    <tr>\n",
       "      <td>2139916</td>\n",
       "      <td>702488</td>\n",
       "      <td>17581</td>\n",
       "      <td>FF</td>\n",
       "      <td>2015-04-05</td>\n",
       "      <td>91.6</td>\n",
       "      <td>NaN</td>\n",
       "      <td>NaN</td>\n",
       "      <td>Jon Lester</td>\n",
       "      <td>572761.0</td>\n",
       "      <td>452657.0</td>\n",
       "      <td>...</td>\n",
       "      <td>0.0</td>\n",
       "      <td>0.0</td>\n",
       "      <td>0.0</td>\n",
       "      <td>0.0</td>\n",
       "      <td>0.0</td>\n",
       "      <td>0.0</td>\n",
       "      <td>0.0</td>\n",
       "      <td>0.0</td>\n",
       "      <td>NaN</td>\n",
       "      <td>NaN</td>\n",
       "    </tr>\n",
       "    <tr>\n",
       "      <td>2139915</td>\n",
       "      <td>702487</td>\n",
       "      <td>17580</td>\n",
       "      <td>CU</td>\n",
       "      <td>2015-04-05</td>\n",
       "      <td>75.9</td>\n",
       "      <td>NaN</td>\n",
       "      <td>NaN</td>\n",
       "      <td>Jon Lester</td>\n",
       "      <td>572761.0</td>\n",
       "      <td>452657.0</td>\n",
       "      <td>...</td>\n",
       "      <td>0.0</td>\n",
       "      <td>0.0</td>\n",
       "      <td>0.0</td>\n",
       "      <td>0.0</td>\n",
       "      <td>0.0</td>\n",
       "      <td>0.0</td>\n",
       "      <td>0.0</td>\n",
       "      <td>0.0</td>\n",
       "      <td>NaN</td>\n",
       "      <td>NaN</td>\n",
       "    </tr>\n",
       "    <tr>\n",
       "      <td>4</td>\n",
       "      <td>4</td>\n",
       "      <td>650</td>\n",
       "      <td>FT</td>\n",
       "      <td>2017-10-01</td>\n",
       "      <td>95.9</td>\n",
       "      <td>-0.8903</td>\n",
       "      <td>6.1341</td>\n",
       "      <td>Roberto Osuna</td>\n",
       "      <td>595885.0</td>\n",
       "      <td>532077.0</td>\n",
       "      <td>...</td>\n",
       "      <td>1.0</td>\n",
       "      <td>2.0</td>\n",
       "      <td>1.0</td>\n",
       "      <td>2.0</td>\n",
       "      <td>2.0</td>\n",
       "      <td>1.0</td>\n",
       "      <td>1.0</td>\n",
       "      <td>2.0</td>\n",
       "      <td>Infield shift</td>\n",
       "      <td>Strategic</td>\n",
       "    </tr>\n",
       "    <tr>\n",
       "      <td>3</td>\n",
       "      <td>3</td>\n",
       "      <td>636</td>\n",
       "      <td>CH</td>\n",
       "      <td>2017-10-01</td>\n",
       "      <td>82.8</td>\n",
       "      <td>-0.9901</td>\n",
       "      <td>6.0626</td>\n",
       "      <td>Roberto Osuna</td>\n",
       "      <td>595885.0</td>\n",
       "      <td>532077.0</td>\n",
       "      <td>...</td>\n",
       "      <td>1.0</td>\n",
       "      <td>2.0</td>\n",
       "      <td>1.0</td>\n",
       "      <td>2.0</td>\n",
       "      <td>2.0</td>\n",
       "      <td>1.0</td>\n",
       "      <td>1.0</td>\n",
       "      <td>2.0</td>\n",
       "      <td>Infield shift</td>\n",
       "      <td>Strategic</td>\n",
       "    </tr>\n",
       "    <tr>\n",
       "      <td>2</td>\n",
       "      <td>2</td>\n",
       "      <td>620</td>\n",
       "      <td>FF</td>\n",
       "      <td>2017-10-01</td>\n",
       "      <td>94.7</td>\n",
       "      <td>-0.6208</td>\n",
       "      <td>6.3387</td>\n",
       "      <td>Roberto Osuna</td>\n",
       "      <td>595885.0</td>\n",
       "      <td>532077.0</td>\n",
       "      <td>...</td>\n",
       "      <td>1.0</td>\n",
       "      <td>2.0</td>\n",
       "      <td>1.0</td>\n",
       "      <td>2.0</td>\n",
       "      <td>2.0</td>\n",
       "      <td>1.0</td>\n",
       "      <td>1.0</td>\n",
       "      <td>2.0</td>\n",
       "      <td>Infield shift</td>\n",
       "      <td>Strategic</td>\n",
       "    </tr>\n",
       "    <tr>\n",
       "      <td>1</td>\n",
       "      <td>1</td>\n",
       "      <td>615</td>\n",
       "      <td>FC</td>\n",
       "      <td>2017-10-01</td>\n",
       "      <td>91.8</td>\n",
       "      <td>-1.0777</td>\n",
       "      <td>6.1772</td>\n",
       "      <td>Roberto Osuna</td>\n",
       "      <td>595885.0</td>\n",
       "      <td>532077.0</td>\n",
       "      <td>...</td>\n",
       "      <td>1.0</td>\n",
       "      <td>2.0</td>\n",
       "      <td>1.0</td>\n",
       "      <td>2.0</td>\n",
       "      <td>2.0</td>\n",
       "      <td>1.0</td>\n",
       "      <td>1.0</td>\n",
       "      <td>2.0</td>\n",
       "      <td>Infield shift</td>\n",
       "      <td>Strategic</td>\n",
       "    </tr>\n",
       "    <tr>\n",
       "      <td>0</td>\n",
       "      <td>0</td>\n",
       "      <td>597</td>\n",
       "      <td>FC</td>\n",
       "      <td>2017-10-01</td>\n",
       "      <td>91.9</td>\n",
       "      <td>-1.1948</td>\n",
       "      <td>5.9921</td>\n",
       "      <td>Roberto Osuna</td>\n",
       "      <td>595885.0</td>\n",
       "      <td>532077.0</td>\n",
       "      <td>...</td>\n",
       "      <td>1.0</td>\n",
       "      <td>2.0</td>\n",
       "      <td>1.0</td>\n",
       "      <td>2.0</td>\n",
       "      <td>2.0</td>\n",
       "      <td>1.0</td>\n",
       "      <td>1.0</td>\n",
       "      <td>2.0</td>\n",
       "      <td>NaN</td>\n",
       "      <td>NaN</td>\n",
       "    </tr>\n",
       "  </tbody>\n",
       "</table>\n",
       "<p>10 rows × 91 columns</p>\n",
       "</div>"
      ],
      "text/plain": [
       "         Unnamed: 0  index pitch_type   game_date  release_speed  \\\n",
       "2139919      702491  17584         FF  2015-04-05           93.6   \n",
       "2139918      702490  17583         FF  2015-04-05           93.4   \n",
       "2139917      702489  17582         FF  2015-04-05           94.8   \n",
       "2139916      702488  17581         FF  2015-04-05           91.6   \n",
       "2139915      702487  17580         CU  2015-04-05           75.9   \n",
       "4                 4    650         FT  2017-10-01           95.9   \n",
       "3                 3    636         CH  2017-10-01           82.8   \n",
       "2                 2    620         FF  2017-10-01           94.7   \n",
       "1                 1    615         FC  2017-10-01           91.8   \n",
       "0                 0    597         FC  2017-10-01           91.9   \n",
       "\n",
       "         release_pos_x  release_pos_z    player_name    batter   pitcher  ...  \\\n",
       "2139919         2.5520         5.5293     Jon Lester  572761.0  452657.0  ...   \n",
       "2139918         2.5694         5.6476     Jon Lester  572761.0  452657.0  ...   \n",
       "2139917         2.6266         5.2936     Jon Lester  572761.0  452657.0  ...   \n",
       "2139916            NaN            NaN     Jon Lester  572761.0  452657.0  ...   \n",
       "2139915            NaN            NaN     Jon Lester  572761.0  452657.0  ...   \n",
       "4              -0.8903         6.1341  Roberto Osuna  595885.0  532077.0  ...   \n",
       "3              -0.9901         6.0626  Roberto Osuna  595885.0  532077.0  ...   \n",
       "2              -0.6208         6.3387  Roberto Osuna  595885.0  532077.0  ...   \n",
       "1              -1.0777         6.1772  Roberto Osuna  595885.0  532077.0  ...   \n",
       "0              -1.1948         5.9921  Roberto Osuna  595885.0  532077.0  ...   \n",
       "\n",
       "        home_score away_score  bat_score  fld_score  post_away_score  \\\n",
       "2139919        0.0        0.0        0.0        0.0              0.0   \n",
       "2139918        0.0        0.0        0.0        0.0              0.0   \n",
       "2139917        0.0        0.0        0.0        0.0              0.0   \n",
       "2139916        0.0        0.0        0.0        0.0              0.0   \n",
       "2139915        0.0        0.0        0.0        0.0              0.0   \n",
       "4              1.0        2.0        1.0        2.0              2.0   \n",
       "3              1.0        2.0        1.0        2.0              2.0   \n",
       "2              1.0        2.0        1.0        2.0              2.0   \n",
       "1              1.0        2.0        1.0        2.0              2.0   \n",
       "0              1.0        2.0        1.0        2.0              2.0   \n",
       "\n",
       "         post_home_score  post_bat_score post_fld_score if_fielding_alignment  \\\n",
       "2139919              0.0             0.0            0.0                   NaN   \n",
       "2139918              0.0             0.0            0.0                   NaN   \n",
       "2139917              0.0             0.0            0.0                   NaN   \n",
       "2139916              0.0             0.0            0.0                   NaN   \n",
       "2139915              0.0             0.0            0.0                   NaN   \n",
       "4                    1.0             1.0            2.0         Infield shift   \n",
       "3                    1.0             1.0            2.0         Infield shift   \n",
       "2                    1.0             1.0            2.0         Infield shift   \n",
       "1                    1.0             1.0            2.0         Infield shift   \n",
       "0                    1.0             1.0            2.0                   NaN   \n",
       "\n",
       "        of_fielding_alignment  \n",
       "2139919                   NaN  \n",
       "2139918                   NaN  \n",
       "2139917                   NaN  \n",
       "2139916                   NaN  \n",
       "2139915                   NaN  \n",
       "4                   Strategic  \n",
       "3                   Strategic  \n",
       "2                   Strategic  \n",
       "1                   Strategic  \n",
       "0                         NaN  \n",
       "\n",
       "[10 rows x 91 columns]"
      ]
     },
     "execution_count": 10,
     "metadata": {},
     "output_type": "execute_result"
    }
   ],
   "source": [
    "# Print the first 5 rows and the last 5 rows of the DataFrame\n",
    "all_MLB_teams2015_2017.head().append(all_MLB_teams2015_2017.tail())"
   ]
  },
  {
   "cell_type": "markdown",
   "metadata": {},
   "source": [
    "#### Identifying important columns to include in the DataFrame."
   ]
  },
  {
   "cell_type": "code",
   "execution_count": 11,
   "metadata": {},
   "outputs": [],
   "source": [
    "# Select multiple columns\n",
    "# Note: release_speed = Pitch Velocity (MPH)\n",
    "#       bb_type = Batted Ball Type\n",
    "#       launch_speed = Exit Velocity (MPH)\n",
    "#       launch_angle = Launch Angle (Degrees)\n",
    "baseball_cols = ['game_date', 'home_team', 'away_team', 'player_name', 'pitcher', 'pitch_type', 'pitch_name', 'release_speed',\n",
    "                 'batter', 'events', 'description', 'bb_type', 'des', 'launch_speed', 'launch_angle', 'hit_distance_sc'] \n",
    "all_MLB_teams2015_2017_new = all_MLB_teams2015_2017[baseball_cols]"
   ]
  },
  {
   "cell_type": "code",
   "execution_count": 12,
   "metadata": {
    "scrolled": true
   },
   "outputs": [
    {
     "name": "stdout",
     "output_type": "stream",
     "text": [
      "Rows: 2139920, Cols: 16\n"
     ]
    }
   ],
   "source": [
    "# Return the number of rows and columns (dimensionality) of the DataFrame\n",
    "print('Rows: {}, Cols: {}'.format(all_MLB_teams2015_2017_new.shape[0], all_MLB_teams2015_2017_new.shape[1]))"
   ]
  },
  {
   "cell_type": "code",
   "execution_count": 13,
   "metadata": {},
   "outputs": [
    {
     "data": {
      "text/html": [
       "<div>\n",
       "<style scoped>\n",
       "    .dataframe tbody tr th:only-of-type {\n",
       "        vertical-align: middle;\n",
       "    }\n",
       "\n",
       "    .dataframe tbody tr th {\n",
       "        vertical-align: top;\n",
       "    }\n",
       "\n",
       "    .dataframe thead th {\n",
       "        text-align: right;\n",
       "    }\n",
       "</style>\n",
       "<table border=\"1\" class=\"dataframe\">\n",
       "  <thead>\n",
       "    <tr style=\"text-align: right;\">\n",
       "      <th></th>\n",
       "      <th>game_date</th>\n",
       "      <th>home_team</th>\n",
       "      <th>away_team</th>\n",
       "      <th>player_name</th>\n",
       "      <th>pitcher</th>\n",
       "      <th>pitch_type</th>\n",
       "      <th>pitch_name</th>\n",
       "      <th>release_speed</th>\n",
       "      <th>batter</th>\n",
       "      <th>events</th>\n",
       "      <th>description</th>\n",
       "      <th>bb_type</th>\n",
       "      <th>des</th>\n",
       "      <th>launch_speed</th>\n",
       "      <th>launch_angle</th>\n",
       "      <th>hit_distance_sc</th>\n",
       "    </tr>\n",
       "  </thead>\n",
       "  <tbody>\n",
       "    <tr>\n",
       "      <td>2139919</td>\n",
       "      <td>2015-04-05</td>\n",
       "      <td>CHC</td>\n",
       "      <td>STL</td>\n",
       "      <td>Jon Lester</td>\n",
       "      <td>452657.0</td>\n",
       "      <td>FF</td>\n",
       "      <td>4-Seam Fastball</td>\n",
       "      <td>93.6</td>\n",
       "      <td>572761.0</td>\n",
       "      <td>NaN</td>\n",
       "      <td>called_strike</td>\n",
       "      <td>NaN</td>\n",
       "      <td>NaN</td>\n",
       "      <td>NaN</td>\n",
       "      <td>NaN</td>\n",
       "      <td>NaN</td>\n",
       "    </tr>\n",
       "    <tr>\n",
       "      <td>2139918</td>\n",
       "      <td>2015-04-05</td>\n",
       "      <td>CHC</td>\n",
       "      <td>STL</td>\n",
       "      <td>Jon Lester</td>\n",
       "      <td>452657.0</td>\n",
       "      <td>FF</td>\n",
       "      <td>4-Seam Fastball</td>\n",
       "      <td>93.4</td>\n",
       "      <td>572761.0</td>\n",
       "      <td>NaN</td>\n",
       "      <td>swinging_strike</td>\n",
       "      <td>NaN</td>\n",
       "      <td>NaN</td>\n",
       "      <td>NaN</td>\n",
       "      <td>NaN</td>\n",
       "      <td>NaN</td>\n",
       "    </tr>\n",
       "    <tr>\n",
       "      <td>2139917</td>\n",
       "      <td>2015-04-05</td>\n",
       "      <td>CHC</td>\n",
       "      <td>STL</td>\n",
       "      <td>Jon Lester</td>\n",
       "      <td>452657.0</td>\n",
       "      <td>FF</td>\n",
       "      <td>4-Seam Fastball</td>\n",
       "      <td>94.8</td>\n",
       "      <td>572761.0</td>\n",
       "      <td>NaN</td>\n",
       "      <td>foul</td>\n",
       "      <td>NaN</td>\n",
       "      <td>NaN</td>\n",
       "      <td>NaN</td>\n",
       "      <td>NaN</td>\n",
       "      <td>NaN</td>\n",
       "    </tr>\n",
       "    <tr>\n",
       "      <td>2139916</td>\n",
       "      <td>2015-04-05</td>\n",
       "      <td>CHC</td>\n",
       "      <td>STL</td>\n",
       "      <td>Jon Lester</td>\n",
       "      <td>452657.0</td>\n",
       "      <td>FF</td>\n",
       "      <td>4-Seam Fastball</td>\n",
       "      <td>91.6</td>\n",
       "      <td>572761.0</td>\n",
       "      <td>NaN</td>\n",
       "      <td>ball</td>\n",
       "      <td>NaN</td>\n",
       "      <td>NaN</td>\n",
       "      <td>NaN</td>\n",
       "      <td>NaN</td>\n",
       "      <td>NaN</td>\n",
       "    </tr>\n",
       "    <tr>\n",
       "      <td>2139915</td>\n",
       "      <td>2015-04-05</td>\n",
       "      <td>CHC</td>\n",
       "      <td>STL</td>\n",
       "      <td>Jon Lester</td>\n",
       "      <td>452657.0</td>\n",
       "      <td>CU</td>\n",
       "      <td>Curveball</td>\n",
       "      <td>75.9</td>\n",
       "      <td>572761.0</td>\n",
       "      <td>NaN</td>\n",
       "      <td>ball</td>\n",
       "      <td>NaN</td>\n",
       "      <td>NaN</td>\n",
       "      <td>NaN</td>\n",
       "      <td>NaN</td>\n",
       "      <td>NaN</td>\n",
       "    </tr>\n",
       "  </tbody>\n",
       "</table>\n",
       "</div>"
      ],
      "text/plain": [
       "          game_date home_team away_team player_name   pitcher pitch_type  \\\n",
       "2139919  2015-04-05       CHC       STL  Jon Lester  452657.0         FF   \n",
       "2139918  2015-04-05       CHC       STL  Jon Lester  452657.0         FF   \n",
       "2139917  2015-04-05       CHC       STL  Jon Lester  452657.0         FF   \n",
       "2139916  2015-04-05       CHC       STL  Jon Lester  452657.0         FF   \n",
       "2139915  2015-04-05       CHC       STL  Jon Lester  452657.0         CU   \n",
       "\n",
       "              pitch_name  release_speed    batter events      description  \\\n",
       "2139919  4-Seam Fastball           93.6  572761.0    NaN    called_strike   \n",
       "2139918  4-Seam Fastball           93.4  572761.0    NaN  swinging_strike   \n",
       "2139917  4-Seam Fastball           94.8  572761.0    NaN             foul   \n",
       "2139916  4-Seam Fastball           91.6  572761.0    NaN             ball   \n",
       "2139915        Curveball           75.9  572761.0    NaN             ball   \n",
       "\n",
       "        bb_type  des  launch_speed  launch_angle  hit_distance_sc  \n",
       "2139919     NaN  NaN           NaN           NaN              NaN  \n",
       "2139918     NaN  NaN           NaN           NaN              NaN  \n",
       "2139917     NaN  NaN           NaN           NaN              NaN  \n",
       "2139916     NaN  NaN           NaN           NaN              NaN  \n",
       "2139915     NaN  NaN           NaN           NaN              NaN  "
      ]
     },
     "execution_count": 13,
     "metadata": {},
     "output_type": "execute_result"
    }
   ],
   "source": [
    "# Print the first 5 rows of the DataFrame\n",
    "all_MLB_teams2015_2017_new.head()"
   ]
  },
  {
   "cell_type": "code",
   "execution_count": 14,
   "metadata": {},
   "outputs": [],
   "source": [
    "# Rename one or more columns in the original DataFrame rather than returning a new view\n",
    "all_MLB_teams2015_2017_new = all_MLB_teams2015_2017_new.rename(columns={'release_speed': 'pitch_velocity',\n",
    "                                                                        'bb_type': 'batted_ball_type',\n",
    "                                                                        'launch_speed': 'exit_velocity'})"
   ]
  },
  {
   "cell_type": "code",
   "execution_count": 15,
   "metadata": {},
   "outputs": [
    {
     "name": "stdout",
     "output_type": "stream",
     "text": [
      "<class 'pandas.core.frame.DataFrame'>\n",
      "Int64Index: 2139920 entries, 2139919 to 0\n",
      "Data columns (total 16 columns):\n",
      "game_date           object\n",
      "home_team           object\n",
      "away_team           object\n",
      "player_name         object\n",
      "pitcher             float64\n",
      "pitch_type          object\n",
      "pitch_name          object\n",
      "pitch_velocity      float64\n",
      "batter              float64\n",
      "events              object\n",
      "description         object\n",
      "batted_ball_type    object\n",
      "des                 object\n",
      "exit_velocity       float64\n",
      "launch_angle        float64\n",
      "hit_distance_sc     float64\n",
      "dtypes: float64(6), object(10)\n",
      "memory usage: 277.5+ MB\n"
     ]
    }
   ],
   "source": [
    "# Print a concise summary of a DataFrame including the index dtype and column dtypes, non-null values, and memory usage\n",
    "# Note: Useful to quickly see if null values exist \n",
    "all_MLB_teams2015_2017_new.info()"
   ]
  },
  {
   "cell_type": "markdown",
   "metadata": {},
   "source": [
    "### Handling Missing Values"
   ]
  },
  {
   "cell_type": "code",
   "execution_count": 16,
   "metadata": {},
   "outputs": [
    {
     "data": {
      "text/plain": [
       "game_date                 0\n",
       "home_team                 0\n",
       "away_team                 0\n",
       "player_name               0\n",
       "pitcher                   0\n",
       "pitch_type             3814\n",
       "pitch_name             3814\n",
       "pitch_velocity         2505\n",
       "batter                    0\n",
       "events              1586052\n",
       "description               0\n",
       "batted_ball_type    1752979\n",
       "des                 1586054\n",
       "exit_velocity       1585044\n",
       "launch_angle        1585019\n",
       "hit_distance_sc     1631442\n",
       "dtype: int64"
      ]
     },
     "execution_count": 16,
     "metadata": {},
     "output_type": "execute_result"
    }
   ],
   "source": [
    "# Count the missing values in each column of a DataFrame - sum() works because True is 1 and False is 0\n",
    "all_MLB_teams2015_2017_new.isnull().sum()"
   ]
  },
  {
   "cell_type": "code",
   "execution_count": 17,
   "metadata": {},
   "outputs": [
    {
     "data": {
      "image/png": "[encoded data removed]",
      "text/plain": [
       "<Figure size 720x576 with 1 Axes>"
      ]
     },
     "metadata": {
      "needs_background": "light"
     },
     "output_type": "display_data"
    }
   ],
   "source": [
    "# Create a vertical bar plot by number of missing values per column using matplotlib\n",
    "# Note: figsize: a tuple (width, height) in inches\n",
    "all_MLB_teams2015_2017_new.isnull().sum().plot.bar(figsize=(10, 8));\n",
    "plt.title('Number of null values per column');"
   ]
  },
  {
   "cell_type": "markdown",
   "metadata": {},
   "source": [
    "#### Approach for excluding records:"
   ]
  },
  {
   "cell_type": "markdown",
   "metadata": {},
   "source": [
    "Each record represents an interaction between a pitcher and a batter (i.e., a pitch thrown by the pitcher to the batter).  The goal is to keep any interaction for which Statcast could provide valid measurements for the metrics `launch_speed`, `launch_angle`, and `hit_distance_sc`.\n",
    "\n",
    "In order to do so, non-batted ball records will be excluded. <br>\n",
    "\n",
    "- Drop all `events` = NaN which represent interactions where the batter did not make contact with the ball or the batter made contact with the ball but it was hit foul (e.g., ball, foul, called strike, swinging strike, blocked ball, foul tip, intentional ball, foul bunt, swinging strike blocked, missed bunt, pitchout)\n",
    "\n",
    "- Drop all `batted_ball_type` = NaN which represents other remaining events where there was not a batted ball (e.g., strikeout, walk, hit by pitch, intentional walk, caught stealing, etc.)"
   ]
  },
  {
   "cell_type": "markdown",
   "metadata": {},
   "source": [
    "#### Examine `events` column for missingness."
   ]
  },
  {
   "cell_type": "code",
   "execution_count": 18,
   "metadata": {},
   "outputs": [
    {
     "data": {
      "text/plain": [
       "NaN                             1586052\n",
       "field_out                        223381\n",
       "strikeout                        116120\n",
       "single                            82491\n",
       "walk                              42138\n",
       "double                            24898\n",
       "home_run                          16629\n",
       "force_out                         11500\n",
       "grounded_into_double_play         11266\n",
       "hit_by_pitch                       5019\n",
       "field_error                        4816\n",
       "sac_fly                            3549\n",
       "sac_bunt                           3149\n",
       "triple                             2607\n",
       "intent_walk                        1884\n",
       "double_play                        1348\n",
       "fielders_choice_out                 919\n",
       "caught_stealing_2b                  696\n",
       "strikeout_double_play               435\n",
       "fielders_choice                     301\n",
       "pickoff_caught_stealing_2b          131\n",
       "other_out                           120\n",
       "catcher_interf                      113\n",
       "pickoff_1b                           95\n",
       "sac_fly_double_play                  66\n",
       "caught_stealing_3b                   56\n",
       "pickoff_2b                           55\n",
       "caught_stealing_home                 29\n",
       "triple_play                          18\n",
       "run                                  16\n",
       "pickoff_caught_stealing_3b           10\n",
       "batter_interference                   4\n",
       "pickoff_caught_stealing_home          3\n",
       "pickoff_3b                            3\n",
       "sac_bunt_double_play                  3\n",
       "Name: events, dtype: int64"
      ]
     },
     "execution_count": 18,
     "metadata": {},
     "output_type": "execute_result"
    }
   ],
   "source": [
    "# Categorical column frequency\n",
    "# Returns counts of unique values in descending order (first element is the most frequently-occurring element)\n",
    "# Note: Excludes NA values by default\n",
    "all_MLB_teams2015_2017_new.events.value_counts(dropna=False)"
   ]
  },
  {
   "cell_type": "code",
   "execution_count": 19,
   "metadata": {},
   "outputs": [
    {
     "data": {
      "text/html": [
       "<div>\n",
       "<style scoped>\n",
       "    .dataframe tbody tr th:only-of-type {\n",
       "        vertical-align: middle;\n",
       "    }\n",
       "\n",
       "    .dataframe tbody tr th {\n",
       "        vertical-align: top;\n",
       "    }\n",
       "\n",
       "    .dataframe thead th {\n",
       "        text-align: right;\n",
       "    }\n",
       "</style>\n",
       "<table border=\"1\" class=\"dataframe\">\n",
       "  <thead>\n",
       "    <tr style=\"text-align: right;\">\n",
       "      <th></th>\n",
       "      <th>game_date</th>\n",
       "      <th>home_team</th>\n",
       "      <th>away_team</th>\n",
       "      <th>player_name</th>\n",
       "      <th>pitcher</th>\n",
       "      <th>pitch_type</th>\n",
       "      <th>pitch_name</th>\n",
       "      <th>pitch_velocity</th>\n",
       "      <th>batter</th>\n",
       "      <th>events</th>\n",
       "      <th>description</th>\n",
       "      <th>batted_ball_type</th>\n",
       "      <th>des</th>\n",
       "      <th>exit_velocity</th>\n",
       "      <th>launch_angle</th>\n",
       "      <th>hit_distance_sc</th>\n",
       "    </tr>\n",
       "  </thead>\n",
       "  <tbody>\n",
       "    <tr>\n",
       "      <td>2139919</td>\n",
       "      <td>2015-04-05</td>\n",
       "      <td>CHC</td>\n",
       "      <td>STL</td>\n",
       "      <td>Jon Lester</td>\n",
       "      <td>452657.0</td>\n",
       "      <td>FF</td>\n",
       "      <td>4-Seam Fastball</td>\n",
       "      <td>93.6</td>\n",
       "      <td>572761.0</td>\n",
       "      <td>NaN</td>\n",
       "      <td>called_strike</td>\n",
       "      <td>NaN</td>\n",
       "      <td>NaN</td>\n",
       "      <td>NaN</td>\n",
       "      <td>NaN</td>\n",
       "      <td>NaN</td>\n",
       "    </tr>\n",
       "    <tr>\n",
       "      <td>2139918</td>\n",
       "      <td>2015-04-05</td>\n",
       "      <td>CHC</td>\n",
       "      <td>STL</td>\n",
       "      <td>Jon Lester</td>\n",
       "      <td>452657.0</td>\n",
       "      <td>FF</td>\n",
       "      <td>4-Seam Fastball</td>\n",
       "      <td>93.4</td>\n",
       "      <td>572761.0</td>\n",
       "      <td>NaN</td>\n",
       "      <td>swinging_strike</td>\n",
       "      <td>NaN</td>\n",
       "      <td>NaN</td>\n",
       "      <td>NaN</td>\n",
       "      <td>NaN</td>\n",
       "      <td>NaN</td>\n",
       "    </tr>\n",
       "    <tr>\n",
       "      <td>2139917</td>\n",
       "      <td>2015-04-05</td>\n",
       "      <td>CHC</td>\n",
       "      <td>STL</td>\n",
       "      <td>Jon Lester</td>\n",
       "      <td>452657.0</td>\n",
       "      <td>FF</td>\n",
       "      <td>4-Seam Fastball</td>\n",
       "      <td>94.8</td>\n",
       "      <td>572761.0</td>\n",
       "      <td>NaN</td>\n",
       "      <td>foul</td>\n",
       "      <td>NaN</td>\n",
       "      <td>NaN</td>\n",
       "      <td>NaN</td>\n",
       "      <td>NaN</td>\n",
       "      <td>NaN</td>\n",
       "    </tr>\n",
       "    <tr>\n",
       "      <td>2139916</td>\n",
       "      <td>2015-04-05</td>\n",
       "      <td>CHC</td>\n",
       "      <td>STL</td>\n",
       "      <td>Jon Lester</td>\n",
       "      <td>452657.0</td>\n",
       "      <td>FF</td>\n",
       "      <td>4-Seam Fastball</td>\n",
       "      <td>91.6</td>\n",
       "      <td>572761.0</td>\n",
       "      <td>NaN</td>\n",
       "      <td>ball</td>\n",
       "      <td>NaN</td>\n",
       "      <td>NaN</td>\n",
       "      <td>NaN</td>\n",
       "      <td>NaN</td>\n",
       "      <td>NaN</td>\n",
       "    </tr>\n",
       "    <tr>\n",
       "      <td>2139915</td>\n",
       "      <td>2015-04-05</td>\n",
       "      <td>CHC</td>\n",
       "      <td>STL</td>\n",
       "      <td>Jon Lester</td>\n",
       "      <td>452657.0</td>\n",
       "      <td>CU</td>\n",
       "      <td>Curveball</td>\n",
       "      <td>75.9</td>\n",
       "      <td>572761.0</td>\n",
       "      <td>NaN</td>\n",
       "      <td>ball</td>\n",
       "      <td>NaN</td>\n",
       "      <td>NaN</td>\n",
       "      <td>NaN</td>\n",
       "      <td>NaN</td>\n",
       "      <td>NaN</td>\n",
       "    </tr>\n",
       "    <tr>\n",
       "      <td>...</td>\n",
       "      <td>...</td>\n",
       "      <td>...</td>\n",
       "      <td>...</td>\n",
       "      <td>...</td>\n",
       "      <td>...</td>\n",
       "      <td>...</td>\n",
       "      <td>...</td>\n",
       "      <td>...</td>\n",
       "      <td>...</td>\n",
       "      <td>...</td>\n",
       "      <td>...</td>\n",
       "      <td>...</td>\n",
       "      <td>...</td>\n",
       "      <td>...</td>\n",
       "      <td>...</td>\n",
       "      <td>...</td>\n",
       "    </tr>\n",
       "    <tr>\n",
       "      <td>5</td>\n",
       "      <td>2017-10-01</td>\n",
       "      <td>NYY</td>\n",
       "      <td>TOR</td>\n",
       "      <td>Roberto Osuna</td>\n",
       "      <td>532077.0</td>\n",
       "      <td>FF</td>\n",
       "      <td>4-Seam Fastball</td>\n",
       "      <td>96.0</td>\n",
       "      <td>595885.0</td>\n",
       "      <td>NaN</td>\n",
       "      <td>called_strike</td>\n",
       "      <td>NaN</td>\n",
       "      <td>NaN</td>\n",
       "      <td>NaN</td>\n",
       "      <td>NaN</td>\n",
       "      <td>NaN</td>\n",
       "    </tr>\n",
       "    <tr>\n",
       "      <td>4</td>\n",
       "      <td>2017-10-01</td>\n",
       "      <td>NYY</td>\n",
       "      <td>TOR</td>\n",
       "      <td>Roberto Osuna</td>\n",
       "      <td>532077.0</td>\n",
       "      <td>FT</td>\n",
       "      <td>2-Seam Fastball</td>\n",
       "      <td>95.9</td>\n",
       "      <td>595885.0</td>\n",
       "      <td>NaN</td>\n",
       "      <td>ball</td>\n",
       "      <td>NaN</td>\n",
       "      <td>NaN</td>\n",
       "      <td>NaN</td>\n",
       "      <td>NaN</td>\n",
       "      <td>NaN</td>\n",
       "    </tr>\n",
       "    <tr>\n",
       "      <td>3</td>\n",
       "      <td>2017-10-01</td>\n",
       "      <td>NYY</td>\n",
       "      <td>TOR</td>\n",
       "      <td>Roberto Osuna</td>\n",
       "      <td>532077.0</td>\n",
       "      <td>CH</td>\n",
       "      <td>Changeup</td>\n",
       "      <td>82.8</td>\n",
       "      <td>595885.0</td>\n",
       "      <td>NaN</td>\n",
       "      <td>ball</td>\n",
       "      <td>NaN</td>\n",
       "      <td>NaN</td>\n",
       "      <td>NaN</td>\n",
       "      <td>NaN</td>\n",
       "      <td>NaN</td>\n",
       "    </tr>\n",
       "    <tr>\n",
       "      <td>2</td>\n",
       "      <td>2017-10-01</td>\n",
       "      <td>NYY</td>\n",
       "      <td>TOR</td>\n",
       "      <td>Roberto Osuna</td>\n",
       "      <td>532077.0</td>\n",
       "      <td>FF</td>\n",
       "      <td>4-Seam Fastball</td>\n",
       "      <td>94.7</td>\n",
       "      <td>595885.0</td>\n",
       "      <td>NaN</td>\n",
       "      <td>ball</td>\n",
       "      <td>NaN</td>\n",
       "      <td>NaN</td>\n",
       "      <td>75.0</td>\n",
       "      <td>-7.6433</td>\n",
       "      <td>20.0</td>\n",
       "    </tr>\n",
       "    <tr>\n",
       "      <td>1</td>\n",
       "      <td>2017-10-01</td>\n",
       "      <td>NYY</td>\n",
       "      <td>TOR</td>\n",
       "      <td>Roberto Osuna</td>\n",
       "      <td>532077.0</td>\n",
       "      <td>FC</td>\n",
       "      <td>Cutter</td>\n",
       "      <td>91.8</td>\n",
       "      <td>595885.0</td>\n",
       "      <td>NaN</td>\n",
       "      <td>foul</td>\n",
       "      <td>NaN</td>\n",
       "      <td>NaN</td>\n",
       "      <td>NaN</td>\n",
       "      <td>NaN</td>\n",
       "      <td>NaN</td>\n",
       "    </tr>\n",
       "  </tbody>\n",
       "</table>\n",
       "<p>1586052 rows × 16 columns</p>\n",
       "</div>"
      ],
      "text/plain": [
       "          game_date home_team away_team    player_name   pitcher pitch_type  \\\n",
       "2139919  2015-04-05       CHC       STL     Jon Lester  452657.0         FF   \n",
       "2139918  2015-04-05       CHC       STL     Jon Lester  452657.0         FF   \n",
       "2139917  2015-04-05       CHC       STL     Jon Lester  452657.0         FF   \n",
       "2139916  2015-04-05       CHC       STL     Jon Lester  452657.0         FF   \n",
       "2139915  2015-04-05       CHC       STL     Jon Lester  452657.0         CU   \n",
       "...             ...       ...       ...            ...       ...        ...   \n",
       "5        2017-10-01       NYY       TOR  Roberto Osuna  532077.0         FF   \n",
       "4        2017-10-01       NYY       TOR  Roberto Osuna  532077.0         FT   \n",
       "3        2017-10-01       NYY       TOR  Roberto Osuna  532077.0         CH   \n",
       "2        2017-10-01       NYY       TOR  Roberto Osuna  532077.0         FF   \n",
       "1        2017-10-01       NYY       TOR  Roberto Osuna  532077.0         FC   \n",
       "\n",
       "              pitch_name  pitch_velocity    batter events      description  \\\n",
       "2139919  4-Seam Fastball            93.6  572761.0    NaN    called_strike   \n",
       "2139918  4-Seam Fastball            93.4  572761.0    NaN  swinging_strike   \n",
       "2139917  4-Seam Fastball            94.8  572761.0    NaN             foul   \n",
       "2139916  4-Seam Fastball            91.6  572761.0    NaN             ball   \n",
       "2139915        Curveball            75.9  572761.0    NaN             ball   \n",
       "...                  ...             ...       ...    ...              ...   \n",
       "5        4-Seam Fastball            96.0  595885.0    NaN    called_strike   \n",
       "4        2-Seam Fastball            95.9  595885.0    NaN             ball   \n",
       "3               Changeup            82.8  595885.0    NaN             ball   \n",
       "2        4-Seam Fastball            94.7  595885.0    NaN             ball   \n",
       "1                 Cutter            91.8  595885.0    NaN             foul   \n",
       "\n",
       "        batted_ball_type  des  exit_velocity  launch_angle  hit_distance_sc  \n",
       "2139919              NaN  NaN            NaN           NaN              NaN  \n",
       "2139918              NaN  NaN            NaN           NaN              NaN  \n",
       "2139917              NaN  NaN            NaN           NaN              NaN  \n",
       "2139916              NaN  NaN            NaN           NaN              NaN  \n",
       "2139915              NaN  NaN            NaN           NaN              NaN  \n",
       "...                  ...  ...            ...           ...              ...  \n",
       "5                    NaN  NaN            NaN           NaN              NaN  \n",
       "4                    NaN  NaN            NaN           NaN              NaN  \n",
       "3                    NaN  NaN            NaN           NaN              NaN  \n",
       "2                    NaN  NaN           75.0       -7.6433             20.0  \n",
       "1                    NaN  NaN            NaN           NaN              NaN  \n",
       "\n",
       "[1586052 rows x 16 columns]"
      ]
     },
     "execution_count": 19,
     "metadata": {},
     "output_type": "execute_result"
    }
   ],
   "source": [
    "# Detect missing values in a Series\n",
    "# Note: True if missing, False if not missing\n",
    "#cubs2016_new.events.isna() # alias of isnull()\n",
    "null_events = all_MLB_teams2015_2017_new.events.isnull()\n",
    "all_MLB_teams2015_2017_new[null_events]"
   ]
  },
  {
   "cell_type": "markdown",
   "metadata": {},
   "source": [
    "#### What types of interactions occurred for missing `events`?"
   ]
  },
  {
   "cell_type": "code",
   "execution_count": 20,
   "metadata": {},
   "outputs": [
    {
     "data": {
      "text/plain": [
       "ball                       676751\n",
       "foul                       371731\n",
       "called_strike              333190\n",
       "swinging_strike            131229\n",
       "blocked_ball                45367\n",
       "foul_tip                    10704\n",
       "foul_bunt                    6228\n",
       "intent_ball                  4724\n",
       "swinging_strike_blocked      4312\n",
       "missed_bunt                  1299\n",
       "pitchout                      510\n",
       "swinging_pitchout               4\n",
       "hit_into_play                   1\n",
       "hit_into_play_score             1\n",
       "foul_pitchout                   1\n",
       "Name: description, dtype: int64"
      ]
     },
     "execution_count": 20,
     "metadata": {},
     "output_type": "execute_result"
    }
   ],
   "source": [
    "# Categorical column frequency\n",
    "# Returns counts of unique values in descending order (first element is the most frequently-occurring element)\n",
    "# Note: Excludes NA values by default\n",
    "all_MLB_teams2015_2017_new[null_events].description.value_counts(dropna=False)"
   ]
  },
  {
   "cell_type": "markdown",
   "metadata": {},
   "source": [
    "#### Drop missing values from `events` column."
   ]
  },
  {
   "cell_type": "code",
   "execution_count": 21,
   "metadata": {
    "scrolled": true
   },
   "outputs": [],
   "source": [
    "# Remove missing values\n",
    "# Note: axis=0 (default) drop rows which contain missing values\n",
    "#       how='any' (default) drops rows if ANY missing values are present from any column -- can be dangerous!\n",
    "#       subset: if you are dropping rows these would be a list of columns to include\n",
    "#       inplace=True changes the original DataFrame\n",
    "all_MLB_teams2015_2017_new.dropna(subset=['events'], inplace=True)"
   ]
  },
  {
   "cell_type": "markdown",
   "metadata": {},
   "source": [
    "#### Examine `batted_ball_type` column for missingness."
   ]
  },
  {
   "cell_type": "code",
   "execution_count": 22,
   "metadata": {},
   "outputs": [
    {
     "data": {
      "text/plain": [
       "ground_ball    178646\n",
       "NaN            166927\n",
       "line_drive      99714\n",
       "fly_ball        81752\n",
       "popup           26829\n",
       "Name: batted_ball_type, dtype: int64"
      ]
     },
     "execution_count": 22,
     "metadata": {},
     "output_type": "execute_result"
    }
   ],
   "source": [
    "# Categorical column frequency\n",
    "# Returns counts of unique values in descending order (first element is the most frequently-occurring element)\n",
    "# Note: Excludes NA values by default\n",
    "all_MLB_teams2015_2017_new.batted_ball_type.value_counts(dropna=False)"
   ]
  },
  {
   "cell_type": "code",
   "execution_count": 23,
   "metadata": {},
   "outputs": [
    {
     "data": {
      "text/html": [
       "<div>\n",
       "<style scoped>\n",
       "    .dataframe tbody tr th:only-of-type {\n",
       "        vertical-align: middle;\n",
       "    }\n",
       "\n",
       "    .dataframe tbody tr th {\n",
       "        vertical-align: top;\n",
       "    }\n",
       "\n",
       "    .dataframe thead th {\n",
       "        text-align: right;\n",
       "    }\n",
       "</style>\n",
       "<table border=\"1\" class=\"dataframe\">\n",
       "  <thead>\n",
       "    <tr style=\"text-align: right;\">\n",
       "      <th></th>\n",
       "      <th>game_date</th>\n",
       "      <th>home_team</th>\n",
       "      <th>away_team</th>\n",
       "      <th>player_name</th>\n",
       "      <th>pitcher</th>\n",
       "      <th>pitch_type</th>\n",
       "      <th>pitch_name</th>\n",
       "      <th>pitch_velocity</th>\n",
       "      <th>batter</th>\n",
       "      <th>events</th>\n",
       "      <th>description</th>\n",
       "      <th>batted_ball_type</th>\n",
       "      <th>des</th>\n",
       "      <th>exit_velocity</th>\n",
       "      <th>launch_angle</th>\n",
       "      <th>hit_distance_sc</th>\n",
       "    </tr>\n",
       "  </thead>\n",
       "  <tbody>\n",
       "    <tr>\n",
       "      <td>2139906</td>\n",
       "      <td>2015-04-05</td>\n",
       "      <td>CHC</td>\n",
       "      <td>STL</td>\n",
       "      <td>Jon Lester</td>\n",
       "      <td>452657.0</td>\n",
       "      <td>CU</td>\n",
       "      <td>Curveball</td>\n",
       "      <td>76.8</td>\n",
       "      <td>425509.0</td>\n",
       "      <td>strikeout</td>\n",
       "      <td>swinging_strike</td>\n",
       "      <td>NaN</td>\n",
       "      <td>Jhonny Peralta strikes out swinging.</td>\n",
       "      <td>NaN</td>\n",
       "      <td>NaN</td>\n",
       "      <td>NaN</td>\n",
       "    </tr>\n",
       "    <tr>\n",
       "      <td>2139901</td>\n",
       "      <td>2015-04-05</td>\n",
       "      <td>CHC</td>\n",
       "      <td>STL</td>\n",
       "      <td>Jon Lester</td>\n",
       "      <td>452657.0</td>\n",
       "      <td>FC</td>\n",
       "      <td>Cutter</td>\n",
       "      <td>89.9</td>\n",
       "      <td>571431.0</td>\n",
       "      <td>strikeout</td>\n",
       "      <td>swinging_strike</td>\n",
       "      <td>NaN</td>\n",
       "      <td>Matt Adams strikes out swinging.</td>\n",
       "      <td>NaN</td>\n",
       "      <td>NaN</td>\n",
       "      <td>NaN</td>\n",
       "    </tr>\n",
       "    <tr>\n",
       "      <td>2139890</td>\n",
       "      <td>2015-04-05</td>\n",
       "      <td>CHC</td>\n",
       "      <td>STL</td>\n",
       "      <td>Adam Wainwright</td>\n",
       "      <td>425794.0</td>\n",
       "      <td>FC</td>\n",
       "      <td>Cutter</td>\n",
       "      <td>84.9</td>\n",
       "      <td>519203.0</td>\n",
       "      <td>strikeout</td>\n",
       "      <td>called_strike</td>\n",
       "      <td>NaN</td>\n",
       "      <td>Anthony Rizzo called out on strikes.</td>\n",
       "      <td>NaN</td>\n",
       "      <td>NaN</td>\n",
       "      <td>NaN</td>\n",
       "    </tr>\n",
       "    <tr>\n",
       "      <td>2139882</td>\n",
       "      <td>2015-04-05</td>\n",
       "      <td>CHC</td>\n",
       "      <td>STL</td>\n",
       "      <td>Jon Lester</td>\n",
       "      <td>452657.0</td>\n",
       "      <td>FF</td>\n",
       "      <td>4-Seam Fastball</td>\n",
       "      <td>92.0</td>\n",
       "      <td>425877.0</td>\n",
       "      <td>strikeout</td>\n",
       "      <td>swinging_strike</td>\n",
       "      <td>NaN</td>\n",
       "      <td>Yadier Molina strikes out swinging.</td>\n",
       "      <td>NaN</td>\n",
       "      <td>NaN</td>\n",
       "      <td>NaN</td>\n",
       "    </tr>\n",
       "    <tr>\n",
       "      <td>2139875</td>\n",
       "      <td>2015-04-05</td>\n",
       "      <td>CHC</td>\n",
       "      <td>STL</td>\n",
       "      <td>Jon Lester</td>\n",
       "      <td>452657.0</td>\n",
       "      <td>FF</td>\n",
       "      <td>4-Seam Fastball</td>\n",
       "      <td>89.6</td>\n",
       "      <td>543939.0</td>\n",
       "      <td>walk</td>\n",
       "      <td>ball</td>\n",
       "      <td>NaN</td>\n",
       "      <td>Kolten Wong walks.</td>\n",
       "      <td>NaN</td>\n",
       "      <td>NaN</td>\n",
       "      <td>NaN</td>\n",
       "    </tr>\n",
       "    <tr>\n",
       "      <td>...</td>\n",
       "      <td>...</td>\n",
       "      <td>...</td>\n",
       "      <td>...</td>\n",
       "      <td>...</td>\n",
       "      <td>...</td>\n",
       "      <td>...</td>\n",
       "      <td>...</td>\n",
       "      <td>...</td>\n",
       "      <td>...</td>\n",
       "      <td>...</td>\n",
       "      <td>...</td>\n",
       "      <td>...</td>\n",
       "      <td>...</td>\n",
       "      <td>...</td>\n",
       "      <td>...</td>\n",
       "      <td>...</td>\n",
       "    </tr>\n",
       "    <tr>\n",
       "      <td>50</td>\n",
       "      <td>2017-10-01</td>\n",
       "      <td>NYY</td>\n",
       "      <td>TOR</td>\n",
       "      <td>Domingo German</td>\n",
       "      <td>593334.0</td>\n",
       "      <td>FF</td>\n",
       "      <td>4-Seam Fastball</td>\n",
       "      <td>97.0</td>\n",
       "      <td>606192.0</td>\n",
       "      <td>strikeout</td>\n",
       "      <td>swinging_strike</td>\n",
       "      <td>NaN</td>\n",
       "      <td>Teoscar Hernandez strikes out swinging.</td>\n",
       "      <td>NaN</td>\n",
       "      <td>NaN</td>\n",
       "      <td>NaN</td>\n",
       "    </tr>\n",
       "    <tr>\n",
       "      <td>44</td>\n",
       "      <td>2017-10-01</td>\n",
       "      <td>NYY</td>\n",
       "      <td>TOR</td>\n",
       "      <td>Ryan Tepera</td>\n",
       "      <td>572193.0</td>\n",
       "      <td>FC</td>\n",
       "      <td>Cutter</td>\n",
       "      <td>88.9</td>\n",
       "      <td>592122.0</td>\n",
       "      <td>strikeout</td>\n",
       "      <td>swinging_strike</td>\n",
       "      <td>NaN</td>\n",
       "      <td>Tyler Austin strikes out swinging.</td>\n",
       "      <td>NaN</td>\n",
       "      <td>NaN</td>\n",
       "      <td>NaN</td>\n",
       "    </tr>\n",
       "    <tr>\n",
       "      <td>38</td>\n",
       "      <td>2017-10-01</td>\n",
       "      <td>NYY</td>\n",
       "      <td>TOR</td>\n",
       "      <td>Ryan Tepera</td>\n",
       "      <td>572193.0</td>\n",
       "      <td>FC</td>\n",
       "      <td>Cutter</td>\n",
       "      <td>89.5</td>\n",
       "      <td>543305.0</td>\n",
       "      <td>strikeout</td>\n",
       "      <td>swinging_strike</td>\n",
       "      <td>NaN</td>\n",
       "      <td>Aaron Hicks strikes out swinging.</td>\n",
       "      <td>NaN</td>\n",
       "      <td>NaN</td>\n",
       "      <td>NaN</td>\n",
       "    </tr>\n",
       "    <tr>\n",
       "      <td>29</td>\n",
       "      <td>2017-10-01</td>\n",
       "      <td>NYY</td>\n",
       "      <td>TOR</td>\n",
       "      <td>Ben Heller</td>\n",
       "      <td>621294.0</td>\n",
       "      <td>CU</td>\n",
       "      <td>Curveball</td>\n",
       "      <td>82.8</td>\n",
       "      <td>620446.0</td>\n",
       "      <td>strikeout</td>\n",
       "      <td>swinging_strike</td>\n",
       "      <td>NaN</td>\n",
       "      <td>Richard Urena strikes out swinging.</td>\n",
       "      <td>NaN</td>\n",
       "      <td>NaN</td>\n",
       "      <td>NaN</td>\n",
       "    </tr>\n",
       "    <tr>\n",
       "      <td>12</td>\n",
       "      <td>2017-10-01</td>\n",
       "      <td>NYY</td>\n",
       "      <td>TOR</td>\n",
       "      <td>Roberto Osuna</td>\n",
       "      <td>532077.0</td>\n",
       "      <td>FC</td>\n",
       "      <td>Cutter</td>\n",
       "      <td>91.0</td>\n",
       "      <td>642180.0</td>\n",
       "      <td>strikeout</td>\n",
       "      <td>swinging_strike</td>\n",
       "      <td>NaN</td>\n",
       "      <td>Tyler Wade strikes out swinging.</td>\n",
       "      <td>NaN</td>\n",
       "      <td>NaN</td>\n",
       "      <td>NaN</td>\n",
       "    </tr>\n",
       "  </tbody>\n",
       "</table>\n",
       "<p>166927 rows × 16 columns</p>\n",
       "</div>"
      ],
      "text/plain": [
       "          game_date home_team away_team      player_name   pitcher pitch_type  \\\n",
       "2139906  2015-04-05       CHC       STL       Jon Lester  452657.0         CU   \n",
       "2139901  2015-04-05       CHC       STL       Jon Lester  452657.0         FC   \n",
       "2139890  2015-04-05       CHC       STL  Adam Wainwright  425794.0         FC   \n",
       "2139882  2015-04-05       CHC       STL       Jon Lester  452657.0         FF   \n",
       "2139875  2015-04-05       CHC       STL       Jon Lester  452657.0         FF   \n",
       "...             ...       ...       ...              ...       ...        ...   \n",
       "50       2017-10-01       NYY       TOR   Domingo German  593334.0         FF   \n",
       "44       2017-10-01       NYY       TOR      Ryan Tepera  572193.0         FC   \n",
       "38       2017-10-01       NYY       TOR      Ryan Tepera  572193.0         FC   \n",
       "29       2017-10-01       NYY       TOR       Ben Heller  621294.0         CU   \n",
       "12       2017-10-01       NYY       TOR    Roberto Osuna  532077.0         FC   \n",
       "\n",
       "              pitch_name  pitch_velocity    batter     events  \\\n",
       "2139906        Curveball            76.8  425509.0  strikeout   \n",
       "2139901           Cutter            89.9  571431.0  strikeout   \n",
       "2139890           Cutter            84.9  519203.0  strikeout   \n",
       "2139882  4-Seam Fastball            92.0  425877.0  strikeout   \n",
       "2139875  4-Seam Fastball            89.6  543939.0       walk   \n",
       "...                  ...             ...       ...        ...   \n",
       "50       4-Seam Fastball            97.0  606192.0  strikeout   \n",
       "44                Cutter            88.9  592122.0  strikeout   \n",
       "38                Cutter            89.5  543305.0  strikeout   \n",
       "29             Curveball            82.8  620446.0  strikeout   \n",
       "12                Cutter            91.0  642180.0  strikeout   \n",
       "\n",
       "             description batted_ball_type  \\\n",
       "2139906  swinging_strike              NaN   \n",
       "2139901  swinging_strike              NaN   \n",
       "2139890    called_strike              NaN   \n",
       "2139882  swinging_strike              NaN   \n",
       "2139875             ball              NaN   \n",
       "...                  ...              ...   \n",
       "50       swinging_strike              NaN   \n",
       "44       swinging_strike              NaN   \n",
       "38       swinging_strike              NaN   \n",
       "29       swinging_strike              NaN   \n",
       "12       swinging_strike              NaN   \n",
       "\n",
       "                                               des  exit_velocity  \\\n",
       "2139906       Jhonny Peralta strikes out swinging.            NaN   \n",
       "2139901           Matt Adams strikes out swinging.            NaN   \n",
       "2139890       Anthony Rizzo called out on strikes.            NaN   \n",
       "2139882        Yadier Molina strikes out swinging.            NaN   \n",
       "2139875                         Kolten Wong walks.            NaN   \n",
       "...                                            ...            ...   \n",
       "50       Teoscar Hernandez strikes out swinging.              NaN   \n",
       "44            Tyler Austin strikes out swinging.              NaN   \n",
       "38             Aaron Hicks strikes out swinging.              NaN   \n",
       "29           Richard Urena strikes out swinging.              NaN   \n",
       "12              Tyler Wade strikes out swinging.              NaN   \n",
       "\n",
       "         launch_angle  hit_distance_sc  \n",
       "2139906           NaN              NaN  \n",
       "2139901           NaN              NaN  \n",
       "2139890           NaN              NaN  \n",
       "2139882           NaN              NaN  \n",
       "2139875           NaN              NaN  \n",
       "...               ...              ...  \n",
       "50                NaN              NaN  \n",
       "44                NaN              NaN  \n",
       "38                NaN              NaN  \n",
       "29                NaN              NaN  \n",
       "12                NaN              NaN  \n",
       "\n",
       "[166927 rows x 16 columns]"
      ]
     },
     "execution_count": 23,
     "metadata": {},
     "output_type": "execute_result"
    }
   ],
   "source": [
    "# Detect missing values in a Series\n",
    "# Note: True if missing, False if not missing\n",
    "#all_MLB_teams2015_2017_new.batted_ball_type.isna() # alias of isnull()\n",
    "null_batted_ball_type = all_MLB_teams2015_2017_new.batted_ball_type.isnull()\n",
    "all_MLB_teams2015_2017_new[null_batted_ball_type]"
   ]
  },
  {
   "cell_type": "markdown",
   "metadata": {},
   "source": [
    "#### What types of `events` occurred for missing `batted_ball_type`?"
   ]
  },
  {
   "cell_type": "code",
   "execution_count": 24,
   "metadata": {},
   "outputs": [
    {
     "data": {
      "text/plain": [
       "strikeout                       116120\n",
       "walk                             42138\n",
       "hit_by_pitch                      5019\n",
       "intent_walk                       1884\n",
       "caught_stealing_2b                 696\n",
       "strikeout_double_play              435\n",
       "pickoff_caught_stealing_2b         131\n",
       "other_out                          120\n",
       "catcher_interf                     113\n",
       "pickoff_1b                          95\n",
       "caught_stealing_3b                  56\n",
       "pickoff_2b                          55\n",
       "caught_stealing_home                29\n",
       "run                                 16\n",
       "pickoff_caught_stealing_3b          10\n",
       "batter_interference                  4\n",
       "pickoff_caught_stealing_home         3\n",
       "pickoff_3b                           3\n",
       "Name: events, dtype: int64"
      ]
     },
     "execution_count": 24,
     "metadata": {},
     "output_type": "execute_result"
    }
   ],
   "source": [
    "# Categorical column frequency\n",
    "# Returns counts of unique values in descending order (first element is the most frequently-occurring element)\n",
    "# Note: Excludes NA values by default\n",
    "all_MLB_teams2015_2017_new[null_batted_ball_type].events.value_counts(dropna=False)"
   ]
  },
  {
   "cell_type": "markdown",
   "metadata": {},
   "source": [
    "#### Drop missing values from `batted_ball_type` column."
   ]
  },
  {
   "cell_type": "code",
   "execution_count": 25,
   "metadata": {},
   "outputs": [],
   "source": [
    "# Remove missing values\n",
    "# Note: axis=0 (default) drop rows which contain missing values\n",
    "#       how='any' (default) drops rows if ANY missing values are present from any column -- can be dangerous!\n",
    "#       subset: if you are dropping rows these would be a list of columns to include\n",
    "#       inplace=True changes the original DataFrame\n",
    "all_MLB_teams2015_2017_new.dropna(subset=['batted_ball_type'], inplace=True)"
   ]
  },
  {
   "cell_type": "markdown",
   "metadata": {},
   "source": [
    "#### Confirm whether the values for `events` and `batted_ball_type` are valid (i.e., values could provide valid measurements for Statcast metrics)."
   ]
  },
  {
   "cell_type": "code",
   "execution_count": 26,
   "metadata": {},
   "outputs": [
    {
     "data": {
      "text/plain": [
       "field_out                    223381\n",
       "single                        82491\n",
       "double                        24898\n",
       "home_run                      16629\n",
       "force_out                     11500\n",
       "grounded_into_double_play     11266\n",
       "field_error                    4816\n",
       "sac_fly                        3549\n",
       "sac_bunt                       3149\n",
       "triple                         2607\n",
       "double_play                    1348\n",
       "fielders_choice_out             919\n",
       "fielders_choice                 301\n",
       "sac_fly_double_play              66\n",
       "triple_play                      18\n",
       "sac_bunt_double_play              3\n",
       "Name: events, dtype: int64"
      ]
     },
     "execution_count": 26,
     "metadata": {},
     "output_type": "execute_result"
    }
   ],
   "source": [
    "# Categorical column frequency\n",
    "# Returns counts of unique values in descending order (first element is the most frequently-occurring element)\n",
    "# Note: Excludes NA values by default\n",
    "all_MLB_teams2015_2017_new.events.value_counts(dropna=False)"
   ]
  },
  {
   "cell_type": "code",
   "execution_count": 27,
   "metadata": {},
   "outputs": [
    {
     "data": {
      "text/plain": [
       "ground_ball    178646\n",
       "line_drive      99714\n",
       "fly_ball        81752\n",
       "popup           26829\n",
       "Name: batted_ball_type, dtype: int64"
      ]
     },
     "execution_count": 27,
     "metadata": {},
     "output_type": "execute_result"
    }
   ],
   "source": [
    "# Categorical column frequency\n",
    "# Returns counts of unique values in descending order (first element is the most frequently-occurring element)\n",
    "# Note: Excludes NA values by default\n",
    "all_MLB_teams2015_2017_new.batted_ball_type.value_counts(dropna=False)"
   ]
  },
  {
   "cell_type": "code",
   "execution_count": 28,
   "metadata": {},
   "outputs": [
    {
     "data": {
      "text/plain": [
       "386941"
      ]
     },
     "execution_count": 28,
     "metadata": {},
     "output_type": "execute_result"
    }
   ],
   "source": [
    "all_MLB_teams2015_2017_new.batted_ball_type.value_counts(dropna=False).sum()"
   ]
  },
  {
   "cell_type": "code",
   "execution_count": 29,
   "metadata": {},
   "outputs": [
    {
     "data": {
      "text/html": [
       "<div>\n",
       "<style scoped>\n",
       "    .dataframe tbody tr th:only-of-type {\n",
       "        vertical-align: middle;\n",
       "    }\n",
       "\n",
       "    .dataframe tbody tr th {\n",
       "        vertical-align: top;\n",
       "    }\n",
       "\n",
       "    .dataframe thead th {\n",
       "        text-align: right;\n",
       "    }\n",
       "</style>\n",
       "<table border=\"1\" class=\"dataframe\">\n",
       "  <thead>\n",
       "    <tr style=\"text-align: right;\">\n",
       "      <th>batted_ball_type</th>\n",
       "      <th>fly_ball</th>\n",
       "      <th>ground_ball</th>\n",
       "      <th>line_drive</th>\n",
       "      <th>popup</th>\n",
       "      <th>Total</th>\n",
       "    </tr>\n",
       "    <tr>\n",
       "      <th>events</th>\n",
       "      <th></th>\n",
       "      <th></th>\n",
       "      <th></th>\n",
       "      <th></th>\n",
       "      <th></th>\n",
       "    </tr>\n",
       "  </thead>\n",
       "  <tbody>\n",
       "    <tr>\n",
       "      <td>double</td>\n",
       "      <td>3502</td>\n",
       "      <td>3342</td>\n",
       "      <td>17914</td>\n",
       "      <td>140</td>\n",
       "      <td>24898</td>\n",
       "    </tr>\n",
       "    <tr>\n",
       "      <td>double_play</td>\n",
       "      <td>222</td>\n",
       "      <td>109</td>\n",
       "      <td>930</td>\n",
       "      <td>87</td>\n",
       "      <td>1348</td>\n",
       "    </tr>\n",
       "    <tr>\n",
       "      <td>field_error</td>\n",
       "      <td>159</td>\n",
       "      <td>4349</td>\n",
       "      <td>199</td>\n",
       "      <td>109</td>\n",
       "      <td>4816</td>\n",
       "    </tr>\n",
       "    <tr>\n",
       "      <td>field_out</td>\n",
       "      <td>60230</td>\n",
       "      <td>103445</td>\n",
       "      <td>33726</td>\n",
       "      <td>25980</td>\n",
       "      <td>223381</td>\n",
       "    </tr>\n",
       "    <tr>\n",
       "      <td>fielders_choice</td>\n",
       "      <td>0</td>\n",
       "      <td>301</td>\n",
       "      <td>0</td>\n",
       "      <td>0</td>\n",
       "      <td>301</td>\n",
       "    </tr>\n",
       "    <tr>\n",
       "      <td>fielders_choice_out</td>\n",
       "      <td>0</td>\n",
       "      <td>914</td>\n",
       "      <td>2</td>\n",
       "      <td>3</td>\n",
       "      <td>919</td>\n",
       "    </tr>\n",
       "    <tr>\n",
       "      <td>force_out</td>\n",
       "      <td>47</td>\n",
       "      <td>11342</td>\n",
       "      <td>74</td>\n",
       "      <td>37</td>\n",
       "      <td>11500</td>\n",
       "    </tr>\n",
       "    <tr>\n",
       "      <td>grounded_into_double_play</td>\n",
       "      <td>0</td>\n",
       "      <td>11266</td>\n",
       "      <td>0</td>\n",
       "      <td>0</td>\n",
       "      <td>11266</td>\n",
       "    </tr>\n",
       "    <tr>\n",
       "      <td>home_run</td>\n",
       "      <td>11547</td>\n",
       "      <td>0</td>\n",
       "      <td>5082</td>\n",
       "      <td>0</td>\n",
       "      <td>16629</td>\n",
       "    </tr>\n",
       "    <tr>\n",
       "      <td>sac_bunt</td>\n",
       "      <td>0</td>\n",
       "      <td>3149</td>\n",
       "      <td>0</td>\n",
       "      <td>0</td>\n",
       "      <td>3149</td>\n",
       "    </tr>\n",
       "    <tr>\n",
       "      <td>sac_bunt_double_play</td>\n",
       "      <td>0</td>\n",
       "      <td>3</td>\n",
       "      <td>0</td>\n",
       "      <td>0</td>\n",
       "      <td>3</td>\n",
       "    </tr>\n",
       "    <tr>\n",
       "      <td>sac_fly</td>\n",
       "      <td>2464</td>\n",
       "      <td>0</td>\n",
       "      <td>1059</td>\n",
       "      <td>26</td>\n",
       "      <td>3549</td>\n",
       "    </tr>\n",
       "    <tr>\n",
       "      <td>sac_fly_double_play</td>\n",
       "      <td>49</td>\n",
       "      <td>0</td>\n",
       "      <td>15</td>\n",
       "      <td>2</td>\n",
       "      <td>66</td>\n",
       "    </tr>\n",
       "    <tr>\n",
       "      <td>single</td>\n",
       "      <td>2778</td>\n",
       "      <td>40241</td>\n",
       "      <td>39031</td>\n",
       "      <td>441</td>\n",
       "      <td>82491</td>\n",
       "    </tr>\n",
       "    <tr>\n",
       "      <td>triple</td>\n",
       "      <td>754</td>\n",
       "      <td>173</td>\n",
       "      <td>1676</td>\n",
       "      <td>4</td>\n",
       "      <td>2607</td>\n",
       "    </tr>\n",
       "    <tr>\n",
       "      <td>triple_play</td>\n",
       "      <td>0</td>\n",
       "      <td>12</td>\n",
       "      <td>6</td>\n",
       "      <td>0</td>\n",
       "      <td>18</td>\n",
       "    </tr>\n",
       "    <tr>\n",
       "      <td>Total</td>\n",
       "      <td>81752</td>\n",
       "      <td>178646</td>\n",
       "      <td>99714</td>\n",
       "      <td>26829</td>\n",
       "      <td>386941</td>\n",
       "    </tr>\n",
       "  </tbody>\n",
       "</table>\n",
       "</div>"
      ],
      "text/plain": [
       "batted_ball_type           fly_ball  ground_ball  line_drive  popup   Total\n",
       "events                                                                     \n",
       "double                         3502         3342       17914    140   24898\n",
       "double_play                     222          109         930     87    1348\n",
       "field_error                     159         4349         199    109    4816\n",
       "field_out                     60230       103445       33726  25980  223381\n",
       "fielders_choice                   0          301           0      0     301\n",
       "fielders_choice_out               0          914           2      3     919\n",
       "force_out                        47        11342          74     37   11500\n",
       "grounded_into_double_play         0        11266           0      0   11266\n",
       "home_run                      11547            0        5082      0   16629\n",
       "sac_bunt                          0         3149           0      0    3149\n",
       "sac_bunt_double_play              0            3           0      0       3\n",
       "sac_fly                        2464            0        1059     26    3549\n",
       "sac_fly_double_play              49            0          15      2      66\n",
       "single                         2778        40241       39031    441   82491\n",
       "triple                          754          173        1676      4    2607\n",
       "triple_play                       0           12           6      0      18\n",
       "Total                         81752       178646       99714  26829  386941"
      ]
     },
     "execution_count": 29,
     "metadata": {},
     "output_type": "execute_result"
    }
   ],
   "source": [
    "# Compute a frequency table of two factors\n",
    "pd.crosstab(all_MLB_teams2015_2017_new.events, all_MLB_teams2015_2017_new.batted_ball_type, margins=True, margins_name='Total', dropna=False)"
   ]
  },
  {
   "cell_type": "markdown",
   "metadata": {},
   "source": [
    "Note: The above frequencies confirm valid values."
   ]
  },
  {
   "cell_type": "code",
   "execution_count": 30,
   "metadata": {},
   "outputs": [
    {
     "data": {
      "text/plain": [
       "game_date               0\n",
       "home_team               0\n",
       "away_team               0\n",
       "player_name             0\n",
       "pitcher                 0\n",
       "pitch_type            701\n",
       "pitch_name            701\n",
       "pitch_velocity        459\n",
       "batter                  0\n",
       "events                  0\n",
       "description             0\n",
       "batted_ball_type        0\n",
       "des                     2\n",
       "exit_velocity          66\n",
       "launch_angle           66\n",
       "hit_distance_sc     46472\n",
       "dtype: int64"
      ]
     },
     "execution_count": 30,
     "metadata": {},
     "output_type": "execute_result"
    }
   ],
   "source": [
    "# Count the missing values in each column of a DataFrame - sum() works because True is 1 and False is 0\n",
    "all_MLB_teams2015_2017_new.isnull().sum()"
   ]
  },
  {
   "cell_type": "code",
   "execution_count": 31,
   "metadata": {},
   "outputs": [
    {
     "data": {
      "image/png": "[encoded data removed]",
      "text/plain": [
       "<Figure size 720x576 with 1 Axes>"
      ]
     },
     "metadata": {
      "needs_background": "light"
     },
     "output_type": "display_data"
    }
   ],
   "source": [
    "# Create a vertical bar plot by number of missing values per column using matplotlib\n",
    "# Note: figsize: a tuple (width, height) in inches\n",
    "all_MLB_teams2015_2017_new.isnull().sum().plot.bar(figsize=(10, 8));\n",
    "plt.title('Number of null values per column');"
   ]
  },
  {
   "cell_type": "markdown",
   "metadata": {},
   "source": [
    "Note: There are still missing values for the following variables: `pitch_name`, `pitch_velocity`, `exit_velocity`, `launch_angle`. These variables will be used in the modeling and observations with missing values will be dropped."
   ]
  },
  {
   "cell_type": "markdown",
   "metadata": {},
   "source": [
    "#### Drop missing values from `pitch_name`, `pitch_velocity`, `exit_velocity`, `launch_angle` columns."
   ]
  },
  {
   "cell_type": "code",
   "execution_count": 32,
   "metadata": {
    "scrolled": true
   },
   "outputs": [],
   "source": [
    "# Remove missing values\n",
    "# Note: axis=0 (default) drop rows which contain missing values\n",
    "#       how='any' (default) drops rows if ANY missing values are present from any column -- can be dangerous!\n",
    "#       subset: if you are dropping rows these would be a list of columns to include\n",
    "#       inplace=True changes the original DataFrame\n",
    "all_MLB_teams2015_2017_new.dropna(subset=['pitch_name', 'pitch_velocity', 'exit_velocity', 'launch_angle'], inplace=True)"
   ]
  },
  {
   "cell_type": "markdown",
   "metadata": {},
   "source": [
    "### Summarize the DataFrame"
   ]
  },
  {
   "cell_type": "code",
   "execution_count": 33,
   "metadata": {},
   "outputs": [
    {
     "data": {
      "text/html": [
       "<div>\n",
       "<style scoped>\n",
       "    .dataframe tbody tr th:only-of-type {\n",
       "        vertical-align: middle;\n",
       "    }\n",
       "\n",
       "    .dataframe tbody tr th {\n",
       "        vertical-align: top;\n",
       "    }\n",
       "\n",
       "    .dataframe thead th {\n",
       "        text-align: right;\n",
       "    }\n",
       "</style>\n",
       "<table border=\"1\" class=\"dataframe\">\n",
       "  <thead>\n",
       "    <tr style=\"text-align: right;\">\n",
       "      <th></th>\n",
       "      <th>pitch_velocity</th>\n",
       "      <th>exit_velocity</th>\n",
       "      <th>launch_angle</th>\n",
       "      <th>hit_distance_sc</th>\n",
       "    </tr>\n",
       "  </thead>\n",
       "  <tbody>\n",
       "    <tr>\n",
       "      <td>count</td>\n",
       "      <td>386112.000000</td>\n",
       "      <td>386112.000000</td>\n",
       "      <td>386112.000000</td>\n",
       "      <td>340221.000000</td>\n",
       "    </tr>\n",
       "    <tr>\n",
       "      <td>mean</td>\n",
       "      <td>88.938052</td>\n",
       "      <td>87.228387</td>\n",
       "      <td>10.662181</td>\n",
       "      <td>170.446680</td>\n",
       "    </tr>\n",
       "    <tr>\n",
       "      <td>std</td>\n",
       "      <td>5.809726</td>\n",
       "      <td>14.532315</td>\n",
       "      <td>27.245971</td>\n",
       "      <td>136.700367</td>\n",
       "    </tr>\n",
       "    <tr>\n",
       "      <td>min</td>\n",
       "      <td>41.500000</td>\n",
       "      <td>5.200000</td>\n",
       "      <td>-88.890000</td>\n",
       "      <td>0.000000</td>\n",
       "    </tr>\n",
       "    <tr>\n",
       "      <td>25%</td>\n",
       "      <td>85.100000</td>\n",
       "      <td>80.000000</td>\n",
       "      <td>-8.987000</td>\n",
       "      <td>22.000000</td>\n",
       "    </tr>\n",
       "    <tr>\n",
       "      <td>50%</td>\n",
       "      <td>90.300000</td>\n",
       "      <td>89.300000</td>\n",
       "      <td>10.605000</td>\n",
       "      <td>169.000000</td>\n",
       "    </tr>\n",
       "    <tr>\n",
       "      <td>75%</td>\n",
       "      <td>93.300000</td>\n",
       "      <td>98.100000</td>\n",
       "      <td>28.520775</td>\n",
       "      <td>294.000000</td>\n",
       "    </tr>\n",
       "    <tr>\n",
       "      <td>max</td>\n",
       "      <td>105.400000</td>\n",
       "      <td>123.400000</td>\n",
       "      <td>89.850000</td>\n",
       "      <td>504.000000</td>\n",
       "    </tr>\n",
       "  </tbody>\n",
       "</table>\n",
       "</div>"
      ],
      "text/plain": [
       "       pitch_velocity  exit_velocity   launch_angle  hit_distance_sc\n",
       "count   386112.000000  386112.000000  386112.000000    340221.000000\n",
       "mean        88.938052      87.228387      10.662181       170.446680\n",
       "std          5.809726      14.532315      27.245971       136.700367\n",
       "min         41.500000       5.200000     -88.890000         0.000000\n",
       "25%         85.100000      80.000000      -8.987000        22.000000\n",
       "50%         90.300000      89.300000      10.605000       169.000000\n",
       "75%         93.300000      98.100000      28.520775       294.000000\n",
       "max        105.400000     123.400000      89.850000       504.000000"
      ]
     },
     "execution_count": 33,
     "metadata": {},
     "output_type": "execute_result"
    }
   ],
   "source": [
    "# Describe numeric columns\n",
    "# Generates descriptive summary statistics of the central tendency, dispersion, and shape of the distribution\n",
    "# Note: By default only numeric (int64) fields are returned\n",
    "#       Excludes \"NaN\" (missing) values\n",
    "# Remove multiple columns\n",
    "# Note: axis=0 for rows, 1 for columns\n",
    "all_MLB_teams2015_2017_new.drop(['pitcher', 'batter'], axis=1).describe()"
   ]
  },
  {
   "cell_type": "code",
   "execution_count": 34,
   "metadata": {},
   "outputs": [
    {
     "data": {
      "text/html": [
       "<div>\n",
       "<style scoped>\n",
       "    .dataframe tbody tr th:only-of-type {\n",
       "        vertical-align: middle;\n",
       "    }\n",
       "\n",
       "    .dataframe tbody tr th {\n",
       "        vertical-align: top;\n",
       "    }\n",
       "\n",
       "    .dataframe thead th {\n",
       "        text-align: right;\n",
       "    }\n",
       "</style>\n",
       "<table border=\"1\" class=\"dataframe\">\n",
       "  <thead>\n",
       "    <tr style=\"text-align: right;\">\n",
       "      <th></th>\n",
       "      <th>game_date</th>\n",
       "      <th>pitch_type</th>\n",
       "      <th>pitch_name</th>\n",
       "      <th>events</th>\n",
       "      <th>description</th>\n",
       "      <th>batted_ball_type</th>\n",
       "    </tr>\n",
       "  </thead>\n",
       "  <tbody>\n",
       "    <tr>\n",
       "      <td>count</td>\n",
       "      <td>386112</td>\n",
       "      <td>386112</td>\n",
       "      <td>386112</td>\n",
       "      <td>386112</td>\n",
       "      <td>386112</td>\n",
       "      <td>386112</td>\n",
       "    </tr>\n",
       "    <tr>\n",
       "      <td>unique</td>\n",
       "      <td>537</td>\n",
       "      <td>16</td>\n",
       "      <td>16</td>\n",
       "      <td>16</td>\n",
       "      <td>4</td>\n",
       "      <td>4</td>\n",
       "    </tr>\n",
       "    <tr>\n",
       "      <td>top</td>\n",
       "      <td>2015-09-30</td>\n",
       "      <td>FF</td>\n",
       "      <td>4-Seam Fastball</td>\n",
       "      <td>field_out</td>\n",
       "      <td>hit_into_play</td>\n",
       "      <td>ground_ball</td>\n",
       "    </tr>\n",
       "    <tr>\n",
       "      <td>freq</td>\n",
       "      <td>974</td>\n",
       "      <td>131254</td>\n",
       "      <td>131254</td>\n",
       "      <td>222928</td>\n",
       "      <td>249245</td>\n",
       "      <td>178259</td>\n",
       "    </tr>\n",
       "  </tbody>\n",
       "</table>\n",
       "</div>"
      ],
      "text/plain": [
       "         game_date pitch_type       pitch_name     events    description  \\\n",
       "count       386112     386112           386112     386112         386112   \n",
       "unique         537         16               16         16              4   \n",
       "top     2015-09-30         FF  4-Seam Fastball  field_out  hit_into_play   \n",
       "freq           974     131254           131254     222928         249245   \n",
       "\n",
       "       batted_ball_type  \n",
       "count            386112  \n",
       "unique                4  \n",
       "top         ground_ball  \n",
       "freq             178259  "
      ]
     },
     "execution_count": 34,
     "metadata": {},
     "output_type": "execute_result"
    }
   ],
   "source": [
    "# Describe object columns (e.g. categorical, strings, or timestamps)\n",
    "# Generates descriptive summary statistics of the count, unique values, top values, and frequency\n",
    "# Note: \"top\" is the most common value; \"freq\" is the most common value's frequency\n",
    "#       Excludes \"NaN\" (missing) values\n",
    "# Remove multiple columns\n",
    "# Note: axis=0 for rows, 1 for columns\n",
    "all_MLB_teams2015_2017_new.drop(['home_team', 'away_team', 'player_name', 'des'], axis=1).describe(include='object')"
   ]
  },
  {
   "cell_type": "code",
   "execution_count": 35,
   "metadata": {},
   "outputs": [
    {
     "data": {
      "text/html": [
       "<div>\n",
       "<style scoped>\n",
       "    .dataframe tbody tr th:only-of-type {\n",
       "        vertical-align: middle;\n",
       "    }\n",
       "\n",
       "    .dataframe tbody tr th {\n",
       "        vertical-align: top;\n",
       "    }\n",
       "\n",
       "    .dataframe thead th {\n",
       "        text-align: right;\n",
       "    }\n",
       "</style>\n",
       "<table border=\"1\" class=\"dataframe\">\n",
       "  <thead>\n",
       "    <tr style=\"text-align: right;\">\n",
       "      <th>pitch_type</th>\n",
       "      <th>CH</th>\n",
       "      <th>CU</th>\n",
       "      <th>EP</th>\n",
       "      <th>FA</th>\n",
       "      <th>FC</th>\n",
       "      <th>FF</th>\n",
       "      <th>FO</th>\n",
       "      <th>FS</th>\n",
       "      <th>FT</th>\n",
       "      <th>KC</th>\n",
       "      <th>KN</th>\n",
       "      <th>PO</th>\n",
       "      <th>SC</th>\n",
       "      <th>SI</th>\n",
       "      <th>SL</th>\n",
       "      <th>UN</th>\n",
       "      <th>Total</th>\n",
       "    </tr>\n",
       "    <tr>\n",
       "      <th>pitch_name</th>\n",
       "      <th></th>\n",
       "      <th></th>\n",
       "      <th></th>\n",
       "      <th></th>\n",
       "      <th></th>\n",
       "      <th></th>\n",
       "      <th></th>\n",
       "      <th></th>\n",
       "      <th></th>\n",
       "      <th></th>\n",
       "      <th></th>\n",
       "      <th></th>\n",
       "      <th></th>\n",
       "      <th></th>\n",
       "      <th></th>\n",
       "      <th></th>\n",
       "      <th></th>\n",
       "    </tr>\n",
       "  </thead>\n",
       "  <tbody>\n",
       "    <tr>\n",
       "      <td>2-Seam Fastball</td>\n",
       "      <td>0</td>\n",
       "      <td>0</td>\n",
       "      <td>0</td>\n",
       "      <td>0</td>\n",
       "      <td>0</td>\n",
       "      <td>0</td>\n",
       "      <td>0</td>\n",
       "      <td>0</td>\n",
       "      <td>59444</td>\n",
       "      <td>0</td>\n",
       "      <td>0</td>\n",
       "      <td>0</td>\n",
       "      <td>0</td>\n",
       "      <td>0</td>\n",
       "      <td>0</td>\n",
       "      <td>0</td>\n",
       "      <td>59444</td>\n",
       "    </tr>\n",
       "    <tr>\n",
       "      <td>4-Seam Fastball</td>\n",
       "      <td>0</td>\n",
       "      <td>0</td>\n",
       "      <td>0</td>\n",
       "      <td>0</td>\n",
       "      <td>0</td>\n",
       "      <td>131254</td>\n",
       "      <td>0</td>\n",
       "      <td>0</td>\n",
       "      <td>0</td>\n",
       "      <td>0</td>\n",
       "      <td>0</td>\n",
       "      <td>0</td>\n",
       "      <td>0</td>\n",
       "      <td>0</td>\n",
       "      <td>0</td>\n",
       "      <td>0</td>\n",
       "      <td>131254</td>\n",
       "    </tr>\n",
       "    <tr>\n",
       "      <td>Changeup</td>\n",
       "      <td>43883</td>\n",
       "      <td>0</td>\n",
       "      <td>0</td>\n",
       "      <td>0</td>\n",
       "      <td>0</td>\n",
       "      <td>0</td>\n",
       "      <td>0</td>\n",
       "      <td>0</td>\n",
       "      <td>0</td>\n",
       "      <td>0</td>\n",
       "      <td>0</td>\n",
       "      <td>0</td>\n",
       "      <td>0</td>\n",
       "      <td>0</td>\n",
       "      <td>0</td>\n",
       "      <td>0</td>\n",
       "      <td>43883</td>\n",
       "    </tr>\n",
       "    <tr>\n",
       "      <td>Curveball</td>\n",
       "      <td>0</td>\n",
       "      <td>26046</td>\n",
       "      <td>0</td>\n",
       "      <td>0</td>\n",
       "      <td>0</td>\n",
       "      <td>0</td>\n",
       "      <td>0</td>\n",
       "      <td>0</td>\n",
       "      <td>0</td>\n",
       "      <td>0</td>\n",
       "      <td>0</td>\n",
       "      <td>0</td>\n",
       "      <td>0</td>\n",
       "      <td>0</td>\n",
       "      <td>0</td>\n",
       "      <td>0</td>\n",
       "      <td>26046</td>\n",
       "    </tr>\n",
       "    <tr>\n",
       "      <td>Cutter</td>\n",
       "      <td>0</td>\n",
       "      <td>0</td>\n",
       "      <td>0</td>\n",
       "      <td>0</td>\n",
       "      <td>21484</td>\n",
       "      <td>0</td>\n",
       "      <td>0</td>\n",
       "      <td>0</td>\n",
       "      <td>0</td>\n",
       "      <td>0</td>\n",
       "      <td>0</td>\n",
       "      <td>0</td>\n",
       "      <td>0</td>\n",
       "      <td>0</td>\n",
       "      <td>0</td>\n",
       "      <td>0</td>\n",
       "      <td>21484</td>\n",
       "    </tr>\n",
       "    <tr>\n",
       "      <td>Eephus</td>\n",
       "      <td>0</td>\n",
       "      <td>0</td>\n",
       "      <td>114</td>\n",
       "      <td>0</td>\n",
       "      <td>0</td>\n",
       "      <td>0</td>\n",
       "      <td>0</td>\n",
       "      <td>0</td>\n",
       "      <td>0</td>\n",
       "      <td>0</td>\n",
       "      <td>0</td>\n",
       "      <td>0</td>\n",
       "      <td>0</td>\n",
       "      <td>0</td>\n",
       "      <td>0</td>\n",
       "      <td>0</td>\n",
       "      <td>114</td>\n",
       "    </tr>\n",
       "    <tr>\n",
       "      <td>Fastball</td>\n",
       "      <td>0</td>\n",
       "      <td>0</td>\n",
       "      <td>0</td>\n",
       "      <td>3</td>\n",
       "      <td>0</td>\n",
       "      <td>0</td>\n",
       "      <td>0</td>\n",
       "      <td>0</td>\n",
       "      <td>0</td>\n",
       "      <td>0</td>\n",
       "      <td>0</td>\n",
       "      <td>0</td>\n",
       "      <td>0</td>\n",
       "      <td>0</td>\n",
       "      <td>0</td>\n",
       "      <td>0</td>\n",
       "      <td>3</td>\n",
       "    </tr>\n",
       "    <tr>\n",
       "      <td>Forkball</td>\n",
       "      <td>0</td>\n",
       "      <td>0</td>\n",
       "      <td>0</td>\n",
       "      <td>0</td>\n",
       "      <td>0</td>\n",
       "      <td>0</td>\n",
       "      <td>126</td>\n",
       "      <td>0</td>\n",
       "      <td>0</td>\n",
       "      <td>0</td>\n",
       "      <td>0</td>\n",
       "      <td>0</td>\n",
       "      <td>0</td>\n",
       "      <td>0</td>\n",
       "      <td>0</td>\n",
       "      <td>0</td>\n",
       "      <td>126</td>\n",
       "    </tr>\n",
       "    <tr>\n",
       "      <td>Knuckle Ball</td>\n",
       "      <td>0</td>\n",
       "      <td>0</td>\n",
       "      <td>0</td>\n",
       "      <td>0</td>\n",
       "      <td>0</td>\n",
       "      <td>0</td>\n",
       "      <td>0</td>\n",
       "      <td>0</td>\n",
       "      <td>0</td>\n",
       "      <td>0</td>\n",
       "      <td>2094</td>\n",
       "      <td>0</td>\n",
       "      <td>0</td>\n",
       "      <td>0</td>\n",
       "      <td>0</td>\n",
       "      <td>0</td>\n",
       "      <td>2094</td>\n",
       "    </tr>\n",
       "    <tr>\n",
       "      <td>Knuckle Curve</td>\n",
       "      <td>0</td>\n",
       "      <td>0</td>\n",
       "      <td>0</td>\n",
       "      <td>0</td>\n",
       "      <td>0</td>\n",
       "      <td>0</td>\n",
       "      <td>0</td>\n",
       "      <td>0</td>\n",
       "      <td>0</td>\n",
       "      <td>7419</td>\n",
       "      <td>0</td>\n",
       "      <td>0</td>\n",
       "      <td>0</td>\n",
       "      <td>0</td>\n",
       "      <td>0</td>\n",
       "      <td>0</td>\n",
       "      <td>7419</td>\n",
       "    </tr>\n",
       "    <tr>\n",
       "      <td>Pitch Out</td>\n",
       "      <td>0</td>\n",
       "      <td>0</td>\n",
       "      <td>0</td>\n",
       "      <td>0</td>\n",
       "      <td>0</td>\n",
       "      <td>0</td>\n",
       "      <td>0</td>\n",
       "      <td>0</td>\n",
       "      <td>0</td>\n",
       "      <td>0</td>\n",
       "      <td>0</td>\n",
       "      <td>1</td>\n",
       "      <td>0</td>\n",
       "      <td>0</td>\n",
       "      <td>0</td>\n",
       "      <td>0</td>\n",
       "      <td>1</td>\n",
       "    </tr>\n",
       "    <tr>\n",
       "      <td>Screwball</td>\n",
       "      <td>0</td>\n",
       "      <td>0</td>\n",
       "      <td>0</td>\n",
       "      <td>0</td>\n",
       "      <td>0</td>\n",
       "      <td>0</td>\n",
       "      <td>0</td>\n",
       "      <td>0</td>\n",
       "      <td>0</td>\n",
       "      <td>0</td>\n",
       "      <td>0</td>\n",
       "      <td>0</td>\n",
       "      <td>14</td>\n",
       "      <td>0</td>\n",
       "      <td>0</td>\n",
       "      <td>0</td>\n",
       "      <td>14</td>\n",
       "    </tr>\n",
       "    <tr>\n",
       "      <td>Sinker</td>\n",
       "      <td>0</td>\n",
       "      <td>0</td>\n",
       "      <td>0</td>\n",
       "      <td>0</td>\n",
       "      <td>0</td>\n",
       "      <td>0</td>\n",
       "      <td>0</td>\n",
       "      <td>0</td>\n",
       "      <td>0</td>\n",
       "      <td>0</td>\n",
       "      <td>0</td>\n",
       "      <td>0</td>\n",
       "      <td>0</td>\n",
       "      <td>33090</td>\n",
       "      <td>0</td>\n",
       "      <td>0</td>\n",
       "      <td>33090</td>\n",
       "    </tr>\n",
       "    <tr>\n",
       "      <td>Slider</td>\n",
       "      <td>0</td>\n",
       "      <td>0</td>\n",
       "      <td>0</td>\n",
       "      <td>0</td>\n",
       "      <td>0</td>\n",
       "      <td>0</td>\n",
       "      <td>0</td>\n",
       "      <td>0</td>\n",
       "      <td>0</td>\n",
       "      <td>0</td>\n",
       "      <td>0</td>\n",
       "      <td>0</td>\n",
       "      <td>0</td>\n",
       "      <td>0</td>\n",
       "      <td>54850</td>\n",
       "      <td>0</td>\n",
       "      <td>54850</td>\n",
       "    </tr>\n",
       "    <tr>\n",
       "      <td>Split Finger</td>\n",
       "      <td>0</td>\n",
       "      <td>0</td>\n",
       "      <td>0</td>\n",
       "      <td>0</td>\n",
       "      <td>0</td>\n",
       "      <td>0</td>\n",
       "      <td>0</td>\n",
       "      <td>6284</td>\n",
       "      <td>0</td>\n",
       "      <td>0</td>\n",
       "      <td>0</td>\n",
       "      <td>0</td>\n",
       "      <td>0</td>\n",
       "      <td>0</td>\n",
       "      <td>0</td>\n",
       "      <td>0</td>\n",
       "      <td>6284</td>\n",
       "    </tr>\n",
       "    <tr>\n",
       "      <td>Unknown</td>\n",
       "      <td>0</td>\n",
       "      <td>0</td>\n",
       "      <td>0</td>\n",
       "      <td>0</td>\n",
       "      <td>0</td>\n",
       "      <td>0</td>\n",
       "      <td>0</td>\n",
       "      <td>0</td>\n",
       "      <td>0</td>\n",
       "      <td>0</td>\n",
       "      <td>0</td>\n",
       "      <td>0</td>\n",
       "      <td>0</td>\n",
       "      <td>0</td>\n",
       "      <td>0</td>\n",
       "      <td>6</td>\n",
       "      <td>6</td>\n",
       "    </tr>\n",
       "    <tr>\n",
       "      <td>Total</td>\n",
       "      <td>43883</td>\n",
       "      <td>26046</td>\n",
       "      <td>114</td>\n",
       "      <td>3</td>\n",
       "      <td>21484</td>\n",
       "      <td>131254</td>\n",
       "      <td>126</td>\n",
       "      <td>6284</td>\n",
       "      <td>59444</td>\n",
       "      <td>7419</td>\n",
       "      <td>2094</td>\n",
       "      <td>1</td>\n",
       "      <td>14</td>\n",
       "      <td>33090</td>\n",
       "      <td>54850</td>\n",
       "      <td>6</td>\n",
       "      <td>386112</td>\n",
       "    </tr>\n",
       "  </tbody>\n",
       "</table>\n",
       "</div>"
      ],
      "text/plain": [
       "pitch_type          CH     CU   EP  FA     FC      FF   FO    FS     FT    KC  \\\n",
       "pitch_name                                                                      \n",
       "2-Seam Fastball      0      0    0   0      0       0    0     0  59444     0   \n",
       "4-Seam Fastball      0      0    0   0      0  131254    0     0      0     0   \n",
       "Changeup         43883      0    0   0      0       0    0     0      0     0   \n",
       "Curveball            0  26046    0   0      0       0    0     0      0     0   \n",
       "Cutter               0      0    0   0  21484       0    0     0      0     0   \n",
       "Eephus               0      0  114   0      0       0    0     0      0     0   \n",
       "Fastball             0      0    0   3      0       0    0     0      0     0   \n",
       "Forkball             0      0    0   0      0       0  126     0      0     0   \n",
       "Knuckle Ball         0      0    0   0      0       0    0     0      0     0   \n",
       "Knuckle Curve        0      0    0   0      0       0    0     0      0  7419   \n",
       "Pitch Out            0      0    0   0      0       0    0     0      0     0   \n",
       "Screwball            0      0    0   0      0       0    0     0      0     0   \n",
       "Sinker               0      0    0   0      0       0    0     0      0     0   \n",
       "Slider               0      0    0   0      0       0    0     0      0     0   \n",
       "Split Finger         0      0    0   0      0       0    0  6284      0     0   \n",
       "Unknown              0      0    0   0      0       0    0     0      0     0   \n",
       "Total            43883  26046  114   3  21484  131254  126  6284  59444  7419   \n",
       "\n",
       "pitch_type         KN  PO  SC     SI     SL  UN   Total  \n",
       "pitch_name                                               \n",
       "2-Seam Fastball     0   0   0      0      0   0   59444  \n",
       "4-Seam Fastball     0   0   0      0      0   0  131254  \n",
       "Changeup            0   0   0      0      0   0   43883  \n",
       "Curveball           0   0   0      0      0   0   26046  \n",
       "Cutter              0   0   0      0      0   0   21484  \n",
       "Eephus              0   0   0      0      0   0     114  \n",
       "Fastball            0   0   0      0      0   0       3  \n",
       "Forkball            0   0   0      0      0   0     126  \n",
       "Knuckle Ball     2094   0   0      0      0   0    2094  \n",
       "Knuckle Curve       0   0   0      0      0   0    7419  \n",
       "Pitch Out           0   1   0      0      0   0       1  \n",
       "Screwball           0   0  14      0      0   0      14  \n",
       "Sinker              0   0   0  33090      0   0   33090  \n",
       "Slider              0   0   0      0  54850   0   54850  \n",
       "Split Finger        0   0   0      0      0   0    6284  \n",
       "Unknown             0   0   0      0      0   6       6  \n",
       "Total            2094   1  14  33090  54850   6  386112  "
      ]
     },
     "execution_count": 35,
     "metadata": {},
     "output_type": "execute_result"
    }
   ],
   "source": [
    "# Compute a frequency table of two factors\n",
    "pd.crosstab(all_MLB_teams2015_2017_new.pitch_name, all_MLB_teams2015_2017_new.pitch_type, margins=True, margins_name='Total')"
   ]
  },
  {
   "cell_type": "markdown",
   "metadata": {},
   "source": [
    "#### Drop low frequency `pitch_name` observations"
   ]
  },
  {
   "cell_type": "code",
   "execution_count": 36,
   "metadata": {},
   "outputs": [],
   "source": [
    "# Return elements, either from `x` or `y`, depending on `condition`\n",
    "all_MLB_teams2015_2017_new['pitch_name_low_freq'] = np.where(all_MLB_teams2015_2017_new.pitch_name.isin(['Eephus', 'Fastball', 'Forkball', 'Pitch Out', 'Screwball', 'Unknown']), 1, 0)"
   ]
  },
  {
   "cell_type": "code",
   "execution_count": 37,
   "metadata": {
    "scrolled": true
   },
   "outputs": [
    {
     "data": {
      "text/plain": [
       "0    385848\n",
       "1       264\n",
       "Name: pitch_name_low_freq, dtype: int64"
      ]
     },
     "execution_count": 37,
     "metadata": {},
     "output_type": "execute_result"
    }
   ],
   "source": [
    "# Categorical column frequency\n",
    "# Returns counts of unique values in descending order (first element is the most frequently-occurring element)\n",
    "# Note: Excludes NA values by default\n",
    "all_MLB_teams2015_2017_new.pitch_name_low_freq.value_counts(dropna=False)"
   ]
  },
  {
   "cell_type": "code",
   "execution_count": 38,
   "metadata": {},
   "outputs": [],
   "source": [
    "# Excluding low frequency values\n",
    "all_MLB_teams2015_2017_new = all_MLB_teams2015_2017_new[all_MLB_teams2015_2017_new.pitch_name_low_freq == 0]\n",
    "all_MLB_teams2015_2017_new.drop('pitch_name_low_freq', axis=1, inplace=True)"
   ]
  },
  {
   "cell_type": "code",
   "execution_count": 39,
   "metadata": {},
   "outputs": [
    {
     "name": "stdout",
     "output_type": "stream",
     "text": [
      "Rows: 385848, Cols: 16\n"
     ]
    }
   ],
   "source": [
    "# Return the number of rows and columns (dimensionality) of the DataFrame\n",
    "print('Rows: {}, Cols: {}'.format(all_MLB_teams2015_2017_new.shape[0], all_MLB_teams2015_2017_new.shape[1]))"
   ]
  },
  {
   "cell_type": "code",
   "execution_count": 40,
   "metadata": {},
   "outputs": [
    {
     "data": {
      "text/html": [
       "<div>\n",
       "<style scoped>\n",
       "    .dataframe tbody tr th:only-of-type {\n",
       "        vertical-align: middle;\n",
       "    }\n",
       "\n",
       "    .dataframe tbody tr th {\n",
       "        vertical-align: top;\n",
       "    }\n",
       "\n",
       "    .dataframe thead th {\n",
       "        text-align: right;\n",
       "    }\n",
       "</style>\n",
       "<table border=\"1\" class=\"dataframe\">\n",
       "  <thead>\n",
       "    <tr style=\"text-align: right;\">\n",
       "      <th></th>\n",
       "      <th>pitch_velocity</th>\n",
       "      <th>exit_velocity</th>\n",
       "      <th>launch_angle</th>\n",
       "      <th>hit_distance_sc</th>\n",
       "    </tr>\n",
       "  </thead>\n",
       "  <tbody>\n",
       "    <tr>\n",
       "      <td>pitch_velocity</td>\n",
       "      <td>1.000000</td>\n",
       "      <td>0.078758</td>\n",
       "      <td>0.006906</td>\n",
       "      <td>0.016692</td>\n",
       "    </tr>\n",
       "    <tr>\n",
       "      <td>exit_velocity</td>\n",
       "      <td>0.078758</td>\n",
       "      <td>1.000000</td>\n",
       "      <td>0.186630</td>\n",
       "      <td>0.352101</td>\n",
       "    </tr>\n",
       "    <tr>\n",
       "      <td>launch_angle</td>\n",
       "      <td>0.006906</td>\n",
       "      <td>0.186630</td>\n",
       "      <td>1.000000</td>\n",
       "      <td>0.732524</td>\n",
       "    </tr>\n",
       "    <tr>\n",
       "      <td>hit_distance_sc</td>\n",
       "      <td>0.016692</td>\n",
       "      <td>0.352101</td>\n",
       "      <td>0.732524</td>\n",
       "      <td>1.000000</td>\n",
       "    </tr>\n",
       "  </tbody>\n",
       "</table>\n",
       "</div>"
      ],
      "text/plain": [
       "                 pitch_velocity  exit_velocity  launch_angle  hit_distance_sc\n",
       "pitch_velocity         1.000000       0.078758      0.006906         0.016692\n",
       "exit_velocity          0.078758       1.000000      0.186630         0.352101\n",
       "launch_angle           0.006906       0.186630      1.000000         0.732524\n",
       "hit_distance_sc        0.016692       0.352101      0.732524         1.000000"
      ]
     },
     "execution_count": 40,
     "metadata": {},
     "output_type": "execute_result"
    }
   ],
   "source": [
    "# Calculate the correlation matrix using the default method (Pearson correlation)\n",
    "baseball_correlations = all_MLB_teams2015_2017_new.drop(['pitcher', 'batter'], axis=1).corr(method='pearson')\n",
    "baseball_correlations"
   ]
  },
  {
   "cell_type": "code",
   "execution_count": 41,
   "metadata": {},
   "outputs": [
    {
     "data": {
      "image/png": "[encoded data removed]",
      "text/plain": [
       "<Figure size 720x576 with 2 Axes>"
      ]
     },
     "metadata": {
      "needs_background": "light"
     },
     "output_type": "display_data"
    }
   ],
   "source": [
    "# Create a figure and a set of subplots\n",
    "# Note: figsize: a tuple (width, height) in inches\n",
    "fig, ax = plt.subplots(figsize=(10, 8));\n",
    "\n",
    "# Return an array of zeros with the same shape and type as a given array\n",
    "mask = np.zeros_like(baseball_correlations, dtype=np.bool)\n",
    "# Return the indices for the upper-triangle of array\n",
    "mask[np.triu_indices_from(mask)] = True\n",
    "\n",
    "# Plot the correlation matrix (color-encoded) using Seaborn's .heatmap() function\n",
    "# Note: vmin, vmax: values to anchor the colormap, otherwise they are inferred from the data & other keyword arguments\n",
    "ax = sns.heatmap(baseball_correlations, vmin=-1, vmax=1, mask=mask, ax=ax);\n",
    "\n",
    "ax.set_xticklabels(ax.xaxis.get_ticklabels(), fontsize=14);\n",
    "ax.set_yticklabels(ax.yaxis.get_ticklabels(), fontsize=14);\n",
    "\n",
    "plt.show();"
   ]
  },
  {
   "cell_type": "code",
   "execution_count": 42,
   "metadata": {
    "scrolled": false
   },
   "outputs": [
    {
     "data": {
      "image/png": "[encoded data removed]",
      "text/plain": [
       "<Figure size 720x576 with 1 Axes>"
      ]
     },
     "metadata": {
      "needs_background": "light"
     },
     "output_type": "display_data"
    },
    {
     "data": {
      "image/png": "[encoded data removed]",
      "text/plain": [
       "<Figure size 720x576 with 1 Axes>"
      ]
     },
     "metadata": {
      "needs_background": "light"
     },
     "output_type": "display_data"
    },
    {
     "data": {
      "image/png": "[encoded data removed]",
      "text/plain": [
       "<Figure size 720x576 with 1 Axes>"
      ]
     },
     "metadata": {
      "needs_background": "light"
     },
     "output_type": "display_data"
    }
   ],
   "source": [
    "# Plot a simple linear relationship between two variables using Seaborn scatterplot with regression line\n",
    "# Note: data: DataFrame name\n",
    "#       fit_reg=True estimates and plots a regression model relating the x and y variables\n",
    "#       size: height (in inches) of each facet\n",
    "#       aspect: aspect ratio of each facet, so that \"aspect * size\" gives the width of each facet in inches\n",
    "#       scatter_kws=alpha: blending value, between 0 (transparent) and 1 (opaque)\n",
    "sns.lmplot(x='pitch_velocity', y='hit_distance_sc', data=all_MLB_teams2015_2017_new, fit_reg=True, height=8, aspect=10/8, scatter_kws={'alpha':0.2});\n",
    "plt.xlabel('Pitch Velocity (MPH)');\n",
    "plt.ylabel('Hit Distance (Feet)');\n",
    "plt.title('Hit Distance by Pitch Velocity');\n",
    "plt.show()\n",
    "sns.lmplot(x='exit_velocity', y='hit_distance_sc', data=all_MLB_teams2015_2017_new, fit_reg=True, height=8, aspect=10/8, scatter_kws={'alpha':0.2});\n",
    "plt.xlabel('Exit Velocity (MPH)');\n",
    "plt.ylabel('Hit Distance (Feet)');\n",
    "plt.title('Hit Distance by Exit Velocity');\n",
    "plt.show()\n",
    "sns.lmplot(x='launch_angle', y='hit_distance_sc', data=all_MLB_teams2015_2017_new, fit_reg=True, height=8, aspect=10/8, scatter_kws={'alpha':0.2});\n",
    "plt.xlabel('Launch Angle (Degrees)');\n",
    "plt.ylabel('Hit Distance (Feet)');\n",
    "plt.title('Hit Distance by Launch Angle');"
   ]
  },
  {
   "cell_type": "code",
   "execution_count": 43,
   "metadata": {},
   "outputs": [],
   "source": [
    "# Create feature column variables\n",
    "feature_cols = ['pitch_velocity', 'exit_velocity', 'launch_angle']"
   ]
  },
  {
   "cell_type": "code",
   "execution_count": 44,
   "metadata": {},
   "outputs": [
    {
     "data": {
      "image/png": "[encoded data removed]",
      "text/plain": [
       "<Figure size 540x180 with 3 Axes>"
      ]
     },
     "metadata": {
      "needs_background": "light"
     },
     "output_type": "display_data"
    }
   ],
   "source": [
    "# Plot pairwise relationships (scatterplots for joint relationships) using Seaborn's .pairplot() function\n",
    "# Note: kind: kind of plot for the non-identity relationships ('scatter' or 'reg')\n",
    "sns.pairplot(all_MLB_teams2015_2017_new, x_vars=feature_cols, y_vars='hit_distance_sc', kind='reg');"
   ]
  },
  {
   "cell_type": "code",
   "execution_count": 45,
   "metadata": {},
   "outputs": [
    {
     "data": {
      "text/html": [
       "<div>\n",
       "<style scoped>\n",
       "    .dataframe tbody tr th:only-of-type {\n",
       "        vertical-align: middle;\n",
       "    }\n",
       "\n",
       "    .dataframe tbody tr th {\n",
       "        vertical-align: top;\n",
       "    }\n",
       "\n",
       "    .dataframe thead th {\n",
       "        text-align: right;\n",
       "    }\n",
       "</style>\n",
       "<table border=\"1\" class=\"dataframe\">\n",
       "  <thead>\n",
       "    <tr style=\"text-align: right;\">\n",
       "      <th></th>\n",
       "      <th>count</th>\n",
       "      <th>mean</th>\n",
       "      <th>std</th>\n",
       "      <th>min</th>\n",
       "      <th>25%</th>\n",
       "      <th>50%</th>\n",
       "      <th>75%</th>\n",
       "      <th>max</th>\n",
       "    </tr>\n",
       "    <tr>\n",
       "      <th>pitch_name</th>\n",
       "      <th></th>\n",
       "      <th></th>\n",
       "      <th></th>\n",
       "      <th></th>\n",
       "      <th></th>\n",
       "      <th></th>\n",
       "      <th></th>\n",
       "      <th></th>\n",
       "    </tr>\n",
       "  </thead>\n",
       "  <tbody>\n",
       "    <tr>\n",
       "      <td>2-Seam Fastball</td>\n",
       "      <td>52265.0</td>\n",
       "      <td>153.447757</td>\n",
       "      <td>137.376798</td>\n",
       "      <td>0.0</td>\n",
       "      <td>14.0</td>\n",
       "      <td>125.0</td>\n",
       "      <td>281.00</td>\n",
       "      <td>493.0</td>\n",
       "    </tr>\n",
       "    <tr>\n",
       "      <td>4-Seam Fastball</td>\n",
       "      <td>116587.0</td>\n",
       "      <td>191.587784</td>\n",
       "      <td>134.702366</td>\n",
       "      <td>0.0</td>\n",
       "      <td>44.0</td>\n",
       "      <td>209.0</td>\n",
       "      <td>309.00</td>\n",
       "      <td>495.0</td>\n",
       "    </tr>\n",
       "    <tr>\n",
       "      <td>Changeup</td>\n",
       "      <td>38322.0</td>\n",
       "      <td>160.182924</td>\n",
       "      <td>136.715200</td>\n",
       "      <td>0.0</td>\n",
       "      <td>17.0</td>\n",
       "      <td>147.0</td>\n",
       "      <td>285.00</td>\n",
       "      <td>504.0</td>\n",
       "    </tr>\n",
       "    <tr>\n",
       "      <td>Curveball</td>\n",
       "      <td>23077.0</td>\n",
       "      <td>162.518958</td>\n",
       "      <td>134.347498</td>\n",
       "      <td>0.0</td>\n",
       "      <td>21.0</td>\n",
       "      <td>152.0</td>\n",
       "      <td>285.00</td>\n",
       "      <td>479.0</td>\n",
       "    </tr>\n",
       "    <tr>\n",
       "      <td>Cutter</td>\n",
       "      <td>18945.0</td>\n",
       "      <td>167.303299</td>\n",
       "      <td>134.805694</td>\n",
       "      <td>0.0</td>\n",
       "      <td>23.0</td>\n",
       "      <td>162.0</td>\n",
       "      <td>287.00</td>\n",
       "      <td>491.0</td>\n",
       "    </tr>\n",
       "    <tr>\n",
       "      <td>Knuckle Ball</td>\n",
       "      <td>1841.0</td>\n",
       "      <td>168.922868</td>\n",
       "      <td>137.441519</td>\n",
       "      <td>1.0</td>\n",
       "      <td>19.0</td>\n",
       "      <td>165.0</td>\n",
       "      <td>296.00</td>\n",
       "      <td>477.0</td>\n",
       "    </tr>\n",
       "    <tr>\n",
       "      <td>Knuckle Curve</td>\n",
       "      <td>6555.0</td>\n",
       "      <td>144.751945</td>\n",
       "      <td>133.654532</td>\n",
       "      <td>0.0</td>\n",
       "      <td>14.0</td>\n",
       "      <td>108.0</td>\n",
       "      <td>266.50</td>\n",
       "      <td>463.0</td>\n",
       "    </tr>\n",
       "    <tr>\n",
       "      <td>Sinker</td>\n",
       "      <td>28877.0</td>\n",
       "      <td>150.902206</td>\n",
       "      <td>137.648596</td>\n",
       "      <td>0.0</td>\n",
       "      <td>13.0</td>\n",
       "      <td>118.0</td>\n",
       "      <td>279.00</td>\n",
       "      <td>478.0</td>\n",
       "    </tr>\n",
       "    <tr>\n",
       "      <td>Slider</td>\n",
       "      <td>48085.0</td>\n",
       "      <td>168.338276</td>\n",
       "      <td>135.435076</td>\n",
       "      <td>0.0</td>\n",
       "      <td>22.0</td>\n",
       "      <td>166.0</td>\n",
       "      <td>289.00</td>\n",
       "      <td>495.0</td>\n",
       "    </tr>\n",
       "    <tr>\n",
       "      <td>Split Finger</td>\n",
       "      <td>5430.0</td>\n",
       "      <td>151.507735</td>\n",
       "      <td>137.895923</td>\n",
       "      <td>0.0</td>\n",
       "      <td>13.0</td>\n",
       "      <td>121.0</td>\n",
       "      <td>277.75</td>\n",
       "      <td>476.0</td>\n",
       "    </tr>\n",
       "  </tbody>\n",
       "</table>\n",
       "</div>"
      ],
      "text/plain": [
       "                    count        mean         std  min   25%    50%     75%  \\\n",
       "pitch_name                                                                    \n",
       "2-Seam Fastball   52265.0  153.447757  137.376798  0.0  14.0  125.0  281.00   \n",
       "4-Seam Fastball  116587.0  191.587784  134.702366  0.0  44.0  209.0  309.00   \n",
       "Changeup          38322.0  160.182924  136.715200  0.0  17.0  147.0  285.00   \n",
       "Curveball         23077.0  162.518958  134.347498  0.0  21.0  152.0  285.00   \n",
       "Cutter            18945.0  167.303299  134.805694  0.0  23.0  162.0  287.00   \n",
       "Knuckle Ball       1841.0  168.922868  137.441519  1.0  19.0  165.0  296.00   \n",
       "Knuckle Curve      6555.0  144.751945  133.654532  0.0  14.0  108.0  266.50   \n",
       "Sinker            28877.0  150.902206  137.648596  0.0  13.0  118.0  279.00   \n",
       "Slider            48085.0  168.338276  135.435076  0.0  22.0  166.0  289.00   \n",
       "Split Finger       5430.0  151.507735  137.895923  0.0  13.0  121.0  277.75   \n",
       "\n",
       "                   max  \n",
       "pitch_name              \n",
       "2-Seam Fastball  493.0  \n",
       "4-Seam Fastball  495.0  \n",
       "Changeup         504.0  \n",
       "Curveball        479.0  \n",
       "Cutter           491.0  \n",
       "Knuckle Ball     477.0  \n",
       "Knuckle Curve    463.0  \n",
       "Sinker           478.0  \n",
       "Slider           495.0  \n",
       "Split Finger     476.0  "
      ]
     },
     "execution_count": 45,
     "metadata": {},
     "output_type": "execute_result"
    }
   ],
   "source": [
    "# For each pitch name group, describe hit distance:\n",
    "all_MLB_teams2015_2017_new.groupby(by='pitch_name').hit_distance_sc.describe()"
   ]
  },
  {
   "cell_type": "code",
   "execution_count": 46,
   "metadata": {},
   "outputs": [
    {
     "data": {
      "image/png": "[encoded data removed]",
      "text/plain": [
       "<Figure size 720x576 with 1 Axes>"
      ]
     },
     "metadata": {
      "needs_background": "light"
     },
     "output_type": "display_data"
    }
   ],
   "source": [
    "# Create box plots\n",
    "# Note: column: used to limit data to a subset of columns\n",
    "#       by: used to form box plots for separate groups\n",
    "#       rot: rotation angle of labels (in degrees) with respect to the screen coordinate sytem\n",
    "#       figsize: a tuple (width, height) in inches\n",
    "all_MLB_teams2015_2017_new.boxplot(column='hit_distance_sc', by='pitch_name', rot=45, figsize=(10, 8));\n",
    "plt.xlabel('Pitch Name');\n",
    "plt.title('Hit Distance by Pitch Name');"
   ]
  },
  {
   "cell_type": "code",
   "execution_count": 47,
   "metadata": {},
   "outputs": [
    {
     "data": {
      "image/png": "[encoded data removed]",
      "text/plain": [
       "<Figure size 720x576 with 10 Axes>"
      ]
     },
     "metadata": {
      "needs_background": "light"
     },
     "output_type": "display_data"
    }
   ],
   "source": [
    "# Create histograms\n",
    "# Note: column: used to limit data to a subset of columns\n",
    "#       by: used to form histograms for separate groups\n",
    "#       sharex: share x axis and set some x axis labels to invisible\n",
    "#       sharey: share y axis and set some y axis labels to invisible\n",
    "#       layout: tuple of (rows, columns) for the layout of the histograms\n",
    "#       figsize: a tuple (width, height) in inches\n",
    "#       bins: number of histogram bins to be used\n",
    "all_MLB_teams2015_2017_new.hist(column='hit_distance_sc', by='pitch_name', sharex=True, sharey=True, layout=(2, 5), figsize=(10, 8), bins=30);\n",
    "plt.xlabel('Hit Distance (Feet)');\n",
    "plt.ylabel('Frequency');"
   ]
  },
  {
   "cell_type": "markdown",
   "metadata": {},
   "source": [
    "### Data Modeling"
   ]
  },
  {
   "cell_type": "markdown",
   "metadata": {},
   "source": [
    "### Using Linear Regression"
   ]
  },
  {
   "cell_type": "markdown",
   "metadata": {},
   "source": [
    "#### Build and train linear regression model"
   ]
  },
  {
   "cell_type": "markdown",
   "metadata": {},
   "source": [
    "Note: <br>\n",
    "- `LinearRegression` does not support missing values for targets."
   ]
  },
  {
   "cell_type": "code",
   "execution_count": 48,
   "metadata": {},
   "outputs": [
    {
     "data": {
      "text/plain": [
       "game_date               0\n",
       "home_team               0\n",
       "away_team               0\n",
       "player_name             0\n",
       "pitcher                 0\n",
       "pitch_type              0\n",
       "pitch_name              0\n",
       "pitch_velocity          0\n",
       "batter                  0\n",
       "events                  0\n",
       "description             0\n",
       "batted_ball_type        0\n",
       "des                     2\n",
       "exit_velocity           0\n",
       "launch_angle            0\n",
       "hit_distance_sc     45864\n",
       "dtype: int64"
      ]
     },
     "execution_count": 48,
     "metadata": {},
     "output_type": "execute_result"
    }
   ],
   "source": [
    "# Count the missing values in each column of a DataFrame - sum() works because True is 1 and False is 0\n",
    "all_MLB_teams2015_2017_new.isnull().sum()"
   ]
  },
  {
   "cell_type": "markdown",
   "metadata": {},
   "source": [
    "Drop missing values from `hit_distance_sc` column."
   ]
  },
  {
   "cell_type": "code",
   "execution_count": 49,
   "metadata": {},
   "outputs": [],
   "source": [
    "# Remove missing values\n",
    "# Note: axis=0 (default) drop rows which contain missing values\n",
    "#       how='any' (default) drops rows if ANY missing values are present from any column -- can be dangerous!\n",
    "#       subset: if you are dropping rows these would be a list of columns to include\n",
    "#       inplace=True changes the original DataFrame\n",
    "all_MLB_teams2015_2017_new.dropna(subset=['hit_distance_sc'], inplace=True)"
   ]
  },
  {
   "cell_type": "markdown",
   "metadata": {},
   "source": [
    "Create dummy variables for `pitch_name`."
   ]
  },
  {
   "cell_type": "code",
   "execution_count": 50,
   "metadata": {},
   "outputs": [
    {
     "data": {
      "text/html": [
       "<div>\n",
       "<style scoped>\n",
       "    .dataframe tbody tr th:only-of-type {\n",
       "        vertical-align: middle;\n",
       "    }\n",
       "\n",
       "    .dataframe tbody tr th {\n",
       "        vertical-align: top;\n",
       "    }\n",
       "\n",
       "    .dataframe thead th {\n",
       "        text-align: right;\n",
       "    }\n",
       "</style>\n",
       "<table border=\"1\" class=\"dataframe\">\n",
       "  <thead>\n",
       "    <tr style=\"text-align: right;\">\n",
       "      <th></th>\n",
       "      <th>game_date</th>\n",
       "      <th>home_team</th>\n",
       "      <th>away_team</th>\n",
       "      <th>player_name</th>\n",
       "      <th>pitcher</th>\n",
       "      <th>pitch_type</th>\n",
       "      <th>pitch_name</th>\n",
       "      <th>pitch_velocity</th>\n",
       "      <th>batter</th>\n",
       "      <th>events</th>\n",
       "      <th>...</th>\n",
       "      <th>hit_distance_sc</th>\n",
       "      <th>pitch_name_4-Seam Fastball</th>\n",
       "      <th>pitch_name_Changeup</th>\n",
       "      <th>pitch_name_Curveball</th>\n",
       "      <th>pitch_name_Cutter</th>\n",
       "      <th>pitch_name_Knuckle Ball</th>\n",
       "      <th>pitch_name_Knuckle Curve</th>\n",
       "      <th>pitch_name_Sinker</th>\n",
       "      <th>pitch_name_Slider</th>\n",
       "      <th>pitch_name_Split Finger</th>\n",
       "    </tr>\n",
       "  </thead>\n",
       "  <tbody>\n",
       "    <tr>\n",
       "      <td>2139899</td>\n",
       "      <td>2015-04-05</td>\n",
       "      <td>CHC</td>\n",
       "      <td>STL</td>\n",
       "      <td>Adam Wainwright</td>\n",
       "      <td>425794.0</td>\n",
       "      <td>FC</td>\n",
       "      <td>Cutter</td>\n",
       "      <td>88.1</td>\n",
       "      <td>451594.0</td>\n",
       "      <td>double</td>\n",
       "      <td>...</td>\n",
       "      <td>209.0</td>\n",
       "      <td>0</td>\n",
       "      <td>0</td>\n",
       "      <td>0</td>\n",
       "      <td>1</td>\n",
       "      <td>0</td>\n",
       "      <td>0</td>\n",
       "      <td>0</td>\n",
       "      <td>0</td>\n",
       "      <td>0</td>\n",
       "    </tr>\n",
       "    <tr>\n",
       "      <td>2139886</td>\n",
       "      <td>2015-04-05</td>\n",
       "      <td>CHC</td>\n",
       "      <td>STL</td>\n",
       "      <td>Adam Wainwright</td>\n",
       "      <td>425794.0</td>\n",
       "      <td>FC</td>\n",
       "      <td>Cutter</td>\n",
       "      <td>88.1</td>\n",
       "      <td>516770.0</td>\n",
       "      <td>field_out</td>\n",
       "      <td>...</td>\n",
       "      <td>12.0</td>\n",
       "      <td>0</td>\n",
       "      <td>0</td>\n",
       "      <td>0</td>\n",
       "      <td>1</td>\n",
       "      <td>0</td>\n",
       "      <td>0</td>\n",
       "      <td>0</td>\n",
       "      <td>0</td>\n",
       "      <td>0</td>\n",
       "    </tr>\n",
       "    <tr>\n",
       "      <td>2139865</td>\n",
       "      <td>2015-04-05</td>\n",
       "      <td>CHC</td>\n",
       "      <td>STL</td>\n",
       "      <td>Jon Lester</td>\n",
       "      <td>452657.0</td>\n",
       "      <td>FC</td>\n",
       "      <td>Cutter</td>\n",
       "      <td>88.1</td>\n",
       "      <td>572761.0</td>\n",
       "      <td>single</td>\n",
       "      <td>...</td>\n",
       "      <td>189.0</td>\n",
       "      <td>0</td>\n",
       "      <td>0</td>\n",
       "      <td>0</td>\n",
       "      <td>1</td>\n",
       "      <td>0</td>\n",
       "      <td>0</td>\n",
       "      <td>0</td>\n",
       "      <td>0</td>\n",
       "      <td>0</td>\n",
       "    </tr>\n",
       "    <tr>\n",
       "      <td>2139861</td>\n",
       "      <td>2015-04-05</td>\n",
       "      <td>CHC</td>\n",
       "      <td>STL</td>\n",
       "      <td>Adam Wainwright</td>\n",
       "      <td>425794.0</td>\n",
       "      <td>FC</td>\n",
       "      <td>Cutter</td>\n",
       "      <td>87.8</td>\n",
       "      <td>458085.0</td>\n",
       "      <td>double</td>\n",
       "      <td>...</td>\n",
       "      <td>260.0</td>\n",
       "      <td>0</td>\n",
       "      <td>0</td>\n",
       "      <td>0</td>\n",
       "      <td>1</td>\n",
       "      <td>0</td>\n",
       "      <td>0</td>\n",
       "      <td>0</td>\n",
       "      <td>0</td>\n",
       "      <td>0</td>\n",
       "    </tr>\n",
       "    <tr>\n",
       "      <td>2139852</td>\n",
       "      <td>2015-04-05</td>\n",
       "      <td>CHC</td>\n",
       "      <td>STL</td>\n",
       "      <td>Adam Wainwright</td>\n",
       "      <td>425794.0</td>\n",
       "      <td>FF</td>\n",
       "      <td>4-Seam Fastball</td>\n",
       "      <td>89.8</td>\n",
       "      <td>424325.0</td>\n",
       "      <td>field_out</td>\n",
       "      <td>...</td>\n",
       "      <td>364.0</td>\n",
       "      <td>1</td>\n",
       "      <td>0</td>\n",
       "      <td>0</td>\n",
       "      <td>0</td>\n",
       "      <td>0</td>\n",
       "      <td>0</td>\n",
       "      <td>0</td>\n",
       "      <td>0</td>\n",
       "      <td>0</td>\n",
       "    </tr>\n",
       "  </tbody>\n",
       "</table>\n",
       "<p>5 rows × 25 columns</p>\n",
       "</div>"
      ],
      "text/plain": [
       "          game_date home_team away_team      player_name   pitcher pitch_type  \\\n",
       "2139899  2015-04-05       CHC       STL  Adam Wainwright  425794.0         FC   \n",
       "2139886  2015-04-05       CHC       STL  Adam Wainwright  425794.0         FC   \n",
       "2139865  2015-04-05       CHC       STL       Jon Lester  452657.0         FC   \n",
       "2139861  2015-04-05       CHC       STL  Adam Wainwright  425794.0         FC   \n",
       "2139852  2015-04-05       CHC       STL  Adam Wainwright  425794.0         FF   \n",
       "\n",
       "              pitch_name  pitch_velocity    batter     events  ...  \\\n",
       "2139899           Cutter            88.1  451594.0     double  ...   \n",
       "2139886           Cutter            88.1  516770.0  field_out  ...   \n",
       "2139865           Cutter            88.1  572761.0     single  ...   \n",
       "2139861           Cutter            87.8  458085.0     double  ...   \n",
       "2139852  4-Seam Fastball            89.8  424325.0  field_out  ...   \n",
       "\n",
       "        hit_distance_sc pitch_name_4-Seam Fastball pitch_name_Changeup  \\\n",
       "2139899           209.0                          0                   0   \n",
       "2139886            12.0                          0                   0   \n",
       "2139865           189.0                          0                   0   \n",
       "2139861           260.0                          0                   0   \n",
       "2139852           364.0                          1                   0   \n",
       "\n",
       "         pitch_name_Curveball  pitch_name_Cutter  pitch_name_Knuckle Ball  \\\n",
       "2139899                     0                  1                        0   \n",
       "2139886                     0                  1                        0   \n",
       "2139865                     0                  1                        0   \n",
       "2139861                     0                  1                        0   \n",
       "2139852                     0                  0                        0   \n",
       "\n",
       "         pitch_name_Knuckle Curve  pitch_name_Sinker  pitch_name_Slider  \\\n",
       "2139899                         0                  0                  0   \n",
       "2139886                         0                  0                  0   \n",
       "2139865                         0                  0                  0   \n",
       "2139861                         0                  0                  0   \n",
       "2139852                         0                  0                  0   \n",
       "\n",
       "         pitch_name_Split Finger  \n",
       "2139899                        0  \n",
       "2139886                        0  \n",
       "2139865                        0  \n",
       "2139861                        0  \n",
       "2139852                        0  \n",
       "\n",
       "[5 rows x 25 columns]"
      ]
     },
     "execution_count": 50,
     "metadata": {},
     "output_type": "execute_result"
    }
   ],
   "source": [
    "# Convert categorical variable into dummy/indicator variables\n",
    "# Note: prefix: string to append DataFrame column names\n",
    "#       drop_first=True removes the first level to get k-1 dummies out of k categorical events\n",
    "# Join columns with other DataFrame either on index or on a key\n",
    "all_MLB_teams2015_2017_new = all_MLB_teams2015_2017_new.join(pd.get_dummies(all_MLB_teams2015_2017_new.pitch_name, prefix='pitch_name', drop_first=True))\n",
    "all_MLB_teams2015_2017_new.head()"
   ]
  },
  {
   "cell_type": "markdown",
   "metadata": {},
   "source": [
    "### Building Phase"
   ]
  },
  {
   "cell_type": "markdown",
   "metadata": {},
   "source": [
    "#### Predicting Hit Distance "
   ]
  },
  {
   "cell_type": "code",
   "execution_count": 51,
   "metadata": {},
   "outputs": [],
   "source": [
    "# Create a list of features\n",
    "feature_cols = ['pitch_name_4-Seam Fastball', 'pitch_name_Changeup', 'pitch_name_Curveball', 'pitch_name_Cutter',\n",
    "                'pitch_name_Knuckle Ball', 'pitch_name_Knuckle Curve', 'pitch_name_Sinker', 'pitch_name_Slider', 'pitch_name_Split Finger',\n",
    "                'pitch_velocity', 'exit_velocity', 'launch_angle']"
   ]
  },
  {
   "cell_type": "code",
   "execution_count": 52,
   "metadata": {},
   "outputs": [],
   "source": [
    "# Create X and y\n",
    "X = all_MLB_teams2015_2017_new[feature_cols]\n",
    "y = all_MLB_teams2015_2017_new.hit_distance_sc"
   ]
  },
  {
   "cell_type": "code",
   "execution_count": 53,
   "metadata": {},
   "outputs": [],
   "source": [
    "# Split X and y into training and testing sets\n",
    "# Note: train_size: between 0.0 and 1.0 and represent the proportion of the dataset to include in the train split\n",
    "#       test_size: between 0.0 and 1.0 and represent the proportion of the dataset to include in the test split\n",
    "#       random_state: the seed used by the random number generator\n",
    "X_train, X_test, y_train, y_test = train_test_split(X, y, train_size=0.70, test_size=0.30, random_state=65)"
   ]
  },
  {
   "cell_type": "markdown",
   "metadata": {},
   "source": [
    "#### Compute Baseline (Null) RMSE\n",
    "https://machinelearningmastery.com/how-to-get-baseline-results-and-why-they-matter/"
   ]
  },
  {
   "cell_type": "markdown",
   "metadata": {},
   "source": [
    "Note: Using a null model (i.e., using the mean value for the prediction). <br>\n",
    "\n",
    "Null RMSE is the RMSE that could be achieved by always predicting the mean response value. It is a benchmark against which you may want to measure your regression model."
   ]
  },
  {
   "cell_type": "code",
   "execution_count": 54,
   "metadata": {},
   "outputs": [
    {
     "data": {
      "text/plain": [
       "array([170.17825269, 170.17825269, 170.17825269, ..., 170.17825269,\n",
       "       170.17825269, 170.17825269])"
      ]
     },
     "execution_count": 54,
     "metadata": {},
     "output_type": "execute_result"
    }
   ],
   "source": [
    "# Create a NumPy array with the same shape as y_test\n",
    "y_null = np.zeros_like(y_test, dtype=float)\n",
    "\n",
    "# Fill the array with the mean value of y_train\n",
    "y_null.fill(y_train.mean())\n",
    "y_null"
   ]
  },
  {
   "cell_type": "code",
   "execution_count": 55,
   "metadata": {},
   "outputs": [
    {
     "name": "stdout",
     "output_type": "stream",
     "text": [
      "Baseline (Null) MSE: 18699.423\n",
      "Baseline (Null) RMSE: 136.746\n"
     ]
    }
   ],
   "source": [
    "# Mean squared error (MSE) regression loss\n",
    "print('Baseline (Null) MSE:', round(metrics.mean_squared_error(y_test, y_null), 3))\n",
    "\n",
    "# Root mean squared error (RMSE) regression loss\n",
    "print('Baseline (Null) RMSE:', round(np.sqrt(metrics.mean_squared_error(y_test, y_null)), 3))"
   ]
  },
  {
   "cell_type": "code",
   "execution_count": 56,
   "metadata": {},
   "outputs": [
    {
     "name": "stdout",
     "output_type": "stream",
     "text": [
      "Baseline (Null) MSE: 18699.423\n",
      "Baseline (Null) RMSE: 136.746\n"
     ]
    }
   ],
   "source": [
    "# Instantiate a regressor that makes predictions using simple rules and fit dummy regressor\n",
    "# Note: stragegy: strategy to use to generate predictions\n",
    "dummy_reg = DummyRegressor(strategy='mean')\n",
    "dummy_reg.fit(X_train, y_train)\n",
    "y_pred = dummy_reg.predict(X_test)\n",
    "\n",
    "# Mean squared error (MSE) regression loss\n",
    "print('Baseline (Null) MSE:', round(metrics.mean_squared_error(y_test, y_pred), 3))\n",
    "\n",
    "# Root mean squared error (RMSE) regression loss\n",
    "print('Baseline (Null) RMSE:', round(np.sqrt(metrics.mean_squared_error(y_test, y_pred)), 3))"
   ]
  },
  {
   "cell_type": "markdown",
   "metadata": {},
   "source": [
    "#### Perform training with OLS linear regression"
   ]
  },
  {
   "cell_type": "code",
   "execution_count": 57,
   "metadata": {},
   "outputs": [
    {
     "name": "stdout",
     "output_type": "stream",
     "text": [
      "Intercept: -28.3384\n",
      "Coefficient(s): [('pitch_name_4-Seam Fastball', 6.0037), ('pitch_name_Changeup', 2.3426), ('pitch_name_Curveball', -2.7181), ('pitch_name_Cutter', 1.3687), ('pitch_name_Knuckle Ball', -0.2794), ('pitch_name_Knuckle Curve', -6.9506), ('pitch_name_Sinker', -0.6188), ('pitch_name_Slider', 1.1957), ('pitch_name_Split Finger', -0.3616), ('pitch_velocity', -0.5071), ('exit_velocity', 2.2517), ('launch_angle', 3.8065)]\n"
     ]
    }
   ],
   "source": [
    "# Instantiate an ordinary least squares LinearRegression model and fit linear model\n",
    "linreg = LinearRegression()\n",
    "linreg.fit(X_train, y_train)\n",
    "\n",
    "# Print the intercept and coefficient(s)\n",
    "print('Intercept:', round(linreg.intercept_, 4))\n",
    "print('Coefficient(s):', list(zip(feature_cols, np.round(linreg.coef_, 4))))"
   ]
  },
  {
   "cell_type": "code",
   "execution_count": 58,
   "metadata": {},
   "outputs": [
    {
     "data": {
      "text/html": [
       "<div>\n",
       "<style scoped>\n",
       "    .dataframe tbody tr th:only-of-type {\n",
       "        vertical-align: middle;\n",
       "    }\n",
       "\n",
       "    .dataframe tbody tr th {\n",
       "        vertical-align: top;\n",
       "    }\n",
       "\n",
       "    .dataframe thead th {\n",
       "        text-align: right;\n",
       "    }\n",
       "</style>\n",
       "<table border=\"1\" class=\"dataframe\">\n",
       "  <thead>\n",
       "    <tr style=\"text-align: right;\">\n",
       "      <th></th>\n",
       "      <th>Name</th>\n",
       "      <th>Coefficient</th>\n",
       "    </tr>\n",
       "  </thead>\n",
       "  <tbody>\n",
       "    <tr>\n",
       "      <td>0</td>\n",
       "      <td>pitch_name_4-Seam Fastball</td>\n",
       "      <td>6.0037</td>\n",
       "    </tr>\n",
       "    <tr>\n",
       "      <td>1</td>\n",
       "      <td>pitch_name_Changeup</td>\n",
       "      <td>2.3426</td>\n",
       "    </tr>\n",
       "    <tr>\n",
       "      <td>2</td>\n",
       "      <td>pitch_name_Curveball</td>\n",
       "      <td>-2.7181</td>\n",
       "    </tr>\n",
       "    <tr>\n",
       "      <td>3</td>\n",
       "      <td>pitch_name_Cutter</td>\n",
       "      <td>1.3687</td>\n",
       "    </tr>\n",
       "    <tr>\n",
       "      <td>4</td>\n",
       "      <td>pitch_name_Knuckle Ball</td>\n",
       "      <td>-0.2794</td>\n",
       "    </tr>\n",
       "    <tr>\n",
       "      <td>5</td>\n",
       "      <td>pitch_name_Knuckle Curve</td>\n",
       "      <td>-6.9506</td>\n",
       "    </tr>\n",
       "    <tr>\n",
       "      <td>6</td>\n",
       "      <td>pitch_name_Sinker</td>\n",
       "      <td>-0.6188</td>\n",
       "    </tr>\n",
       "    <tr>\n",
       "      <td>7</td>\n",
       "      <td>pitch_name_Slider</td>\n",
       "      <td>1.1957</td>\n",
       "    </tr>\n",
       "    <tr>\n",
       "      <td>8</td>\n",
       "      <td>pitch_name_Split Finger</td>\n",
       "      <td>-0.3616</td>\n",
       "    </tr>\n",
       "    <tr>\n",
       "      <td>9</td>\n",
       "      <td>pitch_velocity</td>\n",
       "      <td>-0.5071</td>\n",
       "    </tr>\n",
       "    <tr>\n",
       "      <td>10</td>\n",
       "      <td>exit_velocity</td>\n",
       "      <td>2.2517</td>\n",
       "    </tr>\n",
       "    <tr>\n",
       "      <td>11</td>\n",
       "      <td>launch_angle</td>\n",
       "      <td>3.8065</td>\n",
       "    </tr>\n",
       "  </tbody>\n",
       "</table>\n",
       "</div>"
      ],
      "text/plain": [
       "                          Name Coefficient\n",
       "0   pitch_name_4-Seam Fastball      6.0037\n",
       "1          pitch_name_Changeup      2.3426\n",
       "2         pitch_name_Curveball     -2.7181\n",
       "3            pitch_name_Cutter      1.3687\n",
       "4      pitch_name_Knuckle Ball     -0.2794\n",
       "5     pitch_name_Knuckle Curve     -6.9506\n",
       "6            pitch_name_Sinker     -0.6188\n",
       "7            pitch_name_Slider      1.1957\n",
       "8      pitch_name_Split Finger     -0.3616\n",
       "9               pitch_velocity     -0.5071\n",
       "10               exit_velocity      2.2517\n",
       "11                launch_angle      3.8065"
      ]
     },
     "execution_count": 58,
     "metadata": {},
     "output_type": "execute_result"
    }
   ],
   "source": [
    "# Get the coefficient for each feature\n",
    "name = X.columns\n",
    "coef = np.round(linreg.coef_, 4)\n",
    "pd.DataFrame([name, coef], index=['Name', 'Coefficient']).transpose()"
   ]
  },
  {
   "cell_type": "code",
   "execution_count": 59,
   "metadata": {},
   "outputs": [
    {
     "name": "stdout",
     "output_type": "stream",
     "text": [
      "R^2: 0.591\n"
     ]
    }
   ],
   "source": [
    "# Returns the coefficient of determination R^2 of the prediction\n",
    "print('R^2:', round(linreg.score(X_test, y_test), 3))"
   ]
  },
  {
   "cell_type": "code",
   "execution_count": 60,
   "metadata": {},
   "outputs": [],
   "source": [
    "# Predict using the linear model\n",
    "y_pred = linreg.predict(X_test)"
   ]
  },
  {
   "cell_type": "code",
   "execution_count": 61,
   "metadata": {},
   "outputs": [
    {
     "name": "stdout",
     "output_type": "stream",
     "text": [
      "Training MSE: 7656.883\n",
      "Training RMSE: 87.504\n",
      "\n",
      "Testing MSE: 7642.103\n",
      "Testing RMSE: 87.419\n"
     ]
    }
   ],
   "source": [
    "# Mean squared error (MSE) regression loss\n",
    "print('Training MSE:', round(metrics.mean_squared_error(y_train, linreg.predict(X_train)), 3))\n",
    "\n",
    "# Root mean squared error (RMSE) regression loss\n",
    "print('Training RMSE:', round(np.sqrt(metrics.mean_squared_error(y_train, linreg.predict(X_train))), 3))\n",
    "print('')\n",
    "\n",
    "# Mean squared error (MSE) regression loss\n",
    "print('Testing MSE:', round(metrics.mean_squared_error(y_test, y_pred), 3))\n",
    "\n",
    "# Root mean squared error (RMSE) regression loss\n",
    "print('Testing RMSE:', round(np.sqrt(metrics.mean_squared_error(y_test, y_pred)), 3))"
   ]
  },
  {
   "cell_type": "markdown",
   "metadata": {},
   "source": [
    "### Operational Phase"
   ]
  },
  {
   "cell_type": "code",
   "execution_count": 62,
   "metadata": {},
   "outputs": [],
   "source": [
    "# Function to make predictions \n",
    "def prediction(X_test, linreg_object): \n",
    "  \n",
    "    # Predict using the linear model\n",
    "    y_pred = linreg_object.predict(X_test)\n",
    "\n",
    "    print('Predicted values:')\n",
    "    print(y_pred)\n",
    "    print('')\n",
    "    return y_pred"
   ]
  },
  {
   "cell_type": "code",
   "execution_count": 63,
   "metadata": {},
   "outputs": [],
   "source": [
    "# Function to calculate MSE\n",
    "def cal_mse(y_test, y_pred, linreg_object):\n",
    "    \n",
    "    # Mean squared error (MSE) regression loss\n",
    "    print('Training MSE:', round(metrics.mean_squared_error(y_train, linreg.predict(X_train)), 3))\n",
    "\n",
    "    # Root mean squared error (RMSE) regression loss\n",
    "    print('Training RMSE:', round(np.sqrt(metrics.mean_squared_error(y_train, linreg.predict(X_train))), 3))\n",
    "    print('')   \n",
    "  \n",
    "    # Mean squared error (MSE) regression loss\n",
    "    print('Testing MSE:', round(metrics.mean_squared_error(y_test, y_pred), 3))\n",
    "\n",
    "    # Root mean squared error (RMSE) regression loss\n",
    "    print('Testing RMSE:', round(np.sqrt(metrics.mean_squared_error(y_test, y_pred)), 3))\n",
    "    \n",
    "    if sqrt(metrics.mean_squared_error(y_train, linreg_object.predict(X_train))) < sqrt(metrics.mean_squared_error(y_test, y_pred)):\n",
    "        print('Testing RMSE > Training RMSE')\n",
    "        print('-> Overfitting!')\n",
    "    else:\n",
    "        print('Testing RMSE < Training RMSE')\n",
    "        print('-> Not overfitting')"
   ]
  },
  {
   "cell_type": "markdown",
   "metadata": {},
   "source": [
    "#### Prediction using OLS linear regression"
   ]
  },
  {
   "cell_type": "code",
   "execution_count": 64,
   "metadata": {},
   "outputs": [
    {
     "name": "stdout",
     "output_type": "stream",
     "text": [
      "Results Using OLS Linear Regression:\n",
      "Predicted values:\n",
      "[242.89292498 315.5271003  305.89855546 ...  97.22629471 132.53603745\n",
      " 336.59550073]\n",
      "\n",
      "Training MSE: 7656.883\n",
      "Training RMSE: 87.504\n",
      "\n",
      "Testing MSE: 7642.103\n",
      "Testing RMSE: 87.419\n",
      "Testing RMSE < Training RMSE\n",
      "-> Not overfitting\n"
     ]
    }
   ],
   "source": [
    "print('Results Using OLS Linear Regression:')\n",
    "y_pred_linreg = prediction(X_test, linreg)\n",
    "cal_mse(y_test, y_pred_linreg, linreg)"
   ]
  },
  {
   "cell_type": "markdown",
   "metadata": {},
   "source": [
    "#### Perform training with OLS linear regression with standardized scaled features"
   ]
  },
  {
   "cell_type": "code",
   "execution_count": 65,
   "metadata": {},
   "outputs": [],
   "source": [
    "# Instantiate a StandardScaler object and compute the mean and std to be used for later scaling\n",
    "# --> Standardize features by removing the mean and scaling to unit variance\n",
    "scaler = StandardScaler()\n",
    "scaler.fit(X_train)\n",
    "\n",
    "# Perform standardization by centering and scaling\n",
    "X_train_scaled = scaler.transform(X_train)\n",
    "X_test_scaled = scaler.transform(X_test)"
   ]
  },
  {
   "cell_type": "code",
   "execution_count": 66,
   "metadata": {},
   "outputs": [
    {
     "data": {
      "text/plain": [
       "LinearRegression(copy_X=True, fit_intercept=True, n_jobs=None, normalize=False)"
      ]
     },
     "execution_count": 66,
     "metadata": {},
     "output_type": "execute_result"
    }
   ],
   "source": [
    "# Instantiate an ordinary least squares LinearRegression model and fit linear model\n",
    "linreg_scaled = LinearRegression()\n",
    "linreg_scaled.fit(X_train_scaled, y_train)"
   ]
  },
  {
   "cell_type": "code",
   "execution_count": 67,
   "metadata": {},
   "outputs": [
    {
     "data": {
      "text/html": [
       "<div>\n",
       "<style scoped>\n",
       "    .dataframe tbody tr th:only-of-type {\n",
       "        vertical-align: middle;\n",
       "    }\n",
       "\n",
       "    .dataframe tbody tr th {\n",
       "        vertical-align: top;\n",
       "    }\n",
       "\n",
       "    .dataframe thead th {\n",
       "        text-align: right;\n",
       "    }\n",
       "</style>\n",
       "<table border=\"1\" class=\"dataframe\">\n",
       "  <thead>\n",
       "    <tr style=\"text-align: right;\">\n",
       "      <th></th>\n",
       "      <th>Name</th>\n",
       "      <th>Coefficient</th>\n",
       "    </tr>\n",
       "  </thead>\n",
       "  <tbody>\n",
       "    <tr>\n",
       "      <td>0</td>\n",
       "      <td>pitch_name_4-Seam Fastball</td>\n",
       "      <td>2.8494</td>\n",
       "    </tr>\n",
       "    <tr>\n",
       "      <td>1</td>\n",
       "      <td>pitch_name_Changeup</td>\n",
       "      <td>0.7414</td>\n",
       "    </tr>\n",
       "    <tr>\n",
       "      <td>2</td>\n",
       "      <td>pitch_name_Curveball</td>\n",
       "      <td>-0.6824</td>\n",
       "    </tr>\n",
       "    <tr>\n",
       "      <td>3</td>\n",
       "      <td>pitch_name_Cutter</td>\n",
       "      <td>0.314</td>\n",
       "    </tr>\n",
       "    <tr>\n",
       "      <td>4</td>\n",
       "      <td>pitch_name_Knuckle Ball</td>\n",
       "      <td>-0.0207</td>\n",
       "    </tr>\n",
       "    <tr>\n",
       "      <td>5</td>\n",
       "      <td>pitch_name_Knuckle Curve</td>\n",
       "      <td>-0.9579</td>\n",
       "    </tr>\n",
       "    <tr>\n",
       "      <td>6</td>\n",
       "      <td>pitch_name_Sinker</td>\n",
       "      <td>-0.1731</td>\n",
       "    </tr>\n",
       "    <tr>\n",
       "      <td>7</td>\n",
       "      <td>pitch_name_Slider</td>\n",
       "      <td>0.4163</td>\n",
       "    </tr>\n",
       "    <tr>\n",
       "      <td>8</td>\n",
       "      <td>pitch_name_Split Finger</td>\n",
       "      <td>-0.0449</td>\n",
       "    </tr>\n",
       "    <tr>\n",
       "      <td>9</td>\n",
       "      <td>pitch_velocity</td>\n",
       "      <td>-2.94</td>\n",
       "    </tr>\n",
       "    <tr>\n",
       "      <td>10</td>\n",
       "      <td>exit_velocity</td>\n",
       "      <td>32.0664</td>\n",
       "    </tr>\n",
       "    <tr>\n",
       "      <td>11</td>\n",
       "      <td>launch_angle</td>\n",
       "      <td>94.3932</td>\n",
       "    </tr>\n",
       "  </tbody>\n",
       "</table>\n",
       "</div>"
      ],
      "text/plain": [
       "                          Name Coefficient\n",
       "0   pitch_name_4-Seam Fastball      2.8494\n",
       "1          pitch_name_Changeup      0.7414\n",
       "2         pitch_name_Curveball     -0.6824\n",
       "3            pitch_name_Cutter       0.314\n",
       "4      pitch_name_Knuckle Ball     -0.0207\n",
       "5     pitch_name_Knuckle Curve     -0.9579\n",
       "6            pitch_name_Sinker     -0.1731\n",
       "7            pitch_name_Slider      0.4163\n",
       "8      pitch_name_Split Finger     -0.0449\n",
       "9               pitch_velocity       -2.94\n",
       "10               exit_velocity     32.0664\n",
       "11                launch_angle     94.3932"
      ]
     },
     "execution_count": 67,
     "metadata": {},
     "output_type": "execute_result"
    }
   ],
   "source": [
    "# Get the coefficient for each feature\n",
    "name = X.columns\n",
    "coef = np.round(linreg_scaled.coef_, 4)\n",
    "pd.DataFrame([name, coef], index=['Name', 'Coefficient']).transpose()"
   ]
  },
  {
   "cell_type": "code",
   "execution_count": 68,
   "metadata": {},
   "outputs": [
    {
     "name": "stdout",
     "output_type": "stream",
     "text": [
      "R^2: 0.591\n"
     ]
    }
   ],
   "source": [
    "# Returns the coefficient of determination R^2 of the prediction\n",
    "print('R^2:', round(linreg_scaled.score(X_test_scaled, y_test), 3))"
   ]
  },
  {
   "cell_type": "code",
   "execution_count": 69,
   "metadata": {},
   "outputs": [],
   "source": [
    "# Predict using the linear model\n",
    "y_pred = linreg_scaled.predict(X_test_scaled)"
   ]
  },
  {
   "cell_type": "code",
   "execution_count": 70,
   "metadata": {},
   "outputs": [
    {
     "name": "stdout",
     "output_type": "stream",
     "text": [
      "Training MSE: 7656.883\n",
      "Training RMSE: 87.504\n",
      "\n",
      "Testing MSE: 7642.103\n",
      "Testing RMSE: 87.419\n"
     ]
    }
   ],
   "source": [
    "# Mean squared error (MSE) regression loss\n",
    "print('Training MSE:', round(metrics.mean_squared_error(y_train, linreg_scaled.predict(X_train_scaled)), 3))\n",
    "\n",
    "# Root mean squared error (RMSE) regression loss\n",
    "print('Training RMSE:', round(np.sqrt(metrics.mean_squared_error(y_train, linreg_scaled.predict(X_train_scaled))), 3))\n",
    "print('')\n",
    "\n",
    "# Mean squared error (MSE) regression loss\n",
    "print('Testing MSE:', round(metrics.mean_squared_error(y_test, y_pred), 3))\n",
    "\n",
    "# Root mean squared error (RMSE) regression loss\n",
    "print('Testing RMSE:', round(np.sqrt(metrics.mean_squared_error(y_test, y_pred)), 3))"
   ]
  },
  {
   "cell_type": "markdown",
   "metadata": {},
   "source": [
    "#### Use Regularization to optimize model"
   ]
  },
  {
   "cell_type": "markdown",
   "metadata": {
    "slideshow": {
     "slide_type": ""
    }
   },
   "source": [
    "- Regularization is a method for \"constraining\" or \"regularizing\" the size of the coefficients, thus \"shrinking\" them toward zero.\n",
    "- It reduces model variance and thus minimizes overfitting.\n",
    "- If the model is more complex, regularization tends to reduce variance more than it increases bias, resulting in a model that is more likely to generalize.\n",
    "\n",
    "The goal is to locate the optimum model complexity, and thus regularization is useful when we believe our model is too complex."
   ]
  },
  {
   "cell_type": "markdown",
   "metadata": {
    "slideshow": {
     "slide_type": "subslide"
    }
   },
   "source": [
    "#### Advice for Applying Regularization\n",
    "\n",
    "**Should features be standardized?**\n",
    "\n",
    "- Yes, because otherwise, features would be penalized simply because of their scale.\n",
    "- Also, standardizing avoids penalizing the intercept, which wouldn't make intuitive sense.\n",
    "\n",
    "**How should you choose between lasso regression and ridge regression?**\n",
    "\n",
    "- Lasso regression is preferred if we believe many features are irrelevant or if we prefer a sparse model.\n",
    "- Ridge can work particularly well if there is a high degree of multicollinearity in your model.\n",
    "- If model performance is your primary concern, it is best to try both.\n",
    "- Elastic net regression is a combination of lasso regression and ridge Regression."
   ]
  },
  {
   "cell_type": "markdown",
   "metadata": {},
   "source": [
    "Standardization is necessary for regularized regression because the beta values for each predictor variable must be on the same scale. If betas are different sizes just because of the scale of predictor variables, the regularization term can't determine which betas are more/less important based on their size."
   ]
  },
  {
   "cell_type": "code",
   "execution_count": 71,
   "metadata": {},
   "outputs": [],
   "source": [
    "# Instantiate a StandardScaler object\n",
    "# --> Standardize features by removing the mean and scaling to unit variance\n",
    "scaler = StandardScaler()\n",
    "\n",
    "# Fit to data, then transform it\n",
    "Xs = scaler.fit_transform(X)"
   ]
  },
  {
   "cell_type": "markdown",
   "metadata": {},
   "source": [
    "If you wish to standardize, use `sklearn.preprocessing.StandardScaler` before calling `fit` on an estimator with `normalize=False`. This will provide identical results with `normalize=True`."
   ]
  },
  {
   "cell_type": "code",
   "execution_count": 72,
   "metadata": {},
   "outputs": [
    {
     "data": {
      "text/plain": [
       "LinearRegression(copy_X=True, fit_intercept=True, n_jobs=None, normalize=False)"
      ]
     },
     "execution_count": 72,
     "metadata": {},
     "output_type": "execute_result"
    }
   ],
   "source": [
    "# Instantiate an ordinary least squares LinearRegression model and fit linear model\n",
    "# Note: normalize: if True, the regressors X will be normalized before regression by subtracting the mean and \n",
    "#                  dividing by the l2-norm\n",
    "linreg_s = LinearRegression()\n",
    "linreg_s.fit(Xs, y)"
   ]
  },
  {
   "cell_type": "markdown",
   "metadata": {},
   "source": [
    "#### Cross-validate the OLS linear regression $R^2$ with 10-fold cross-validation."
   ]
  },
  {
   "cell_type": "code",
   "execution_count": 73,
   "metadata": {},
   "outputs": [
    {
     "name": "stdout",
     "output_type": "stream",
     "text": [
      "CV scores for each fold:\n",
      "[0.63588095 0.62494878 0.62125756 0.59475953 0.5858589  0.58684429\n",
      " 0.56232487 0.53629889 0.57176703 0.57926787]\n",
      "\n",
      "Mean CV R^2: 0.59\n"
     ]
    }
   ],
   "source": [
    "# Evaluate a score by cross-validation\n",
    "# Note: cv: number of folds in cross-validation\n",
    "linreg_scores_r2 = cross_val_score(linreg_s, Xs, y, cv=10)\n",
    "\n",
    "print('CV scores for each fold:')\n",
    "print(linreg_scores_r2)\n",
    "print('')\n",
    "print('Mean CV R^2:', round(np.mean(linreg_scores_r2), 3))"
   ]
  },
  {
   "cell_type": "markdown",
   "metadata": {},
   "source": [
    "#### Cross-validate the OLS linear regression MSE with 10-fold cross-validation."
   ]
  },
  {
   "cell_type": "code",
   "execution_count": 74,
   "metadata": {},
   "outputs": [
    {
     "name": "stdout",
     "output_type": "stream",
     "text": [
      "CV scores for each fold:\n",
      "[6743.71431693 6885.51337795 7039.44507801 7545.96591198 7811.38199134\n",
      " 7834.32257052 8107.51175414 8607.81664247 8112.25869246 7940.55286518]\n",
      "\n",
      "Mean CV MSE: 7662.848\n",
      "Mean CV RMSE: 87.476\n"
     ]
    }
   ],
   "source": [
    "# Evaluate a score by cross-validation\n",
    "# Note: scoring: string (see model evaluation documentation) or a scorer callable object/function\n",
    "#       cv: number of folds in cross-validation\n",
    "linreg_scores_mse = -cross_val_score(linreg_s, Xs, y, scoring='neg_mean_squared_error', cv=10)\n",
    "\n",
    "print('CV scores for each fold:')\n",
    "print(linreg_scores_mse)\n",
    "print('')\n",
    "print('Mean CV MSE:', round(np.mean(linreg_scores_mse), 3))\n",
    "print('Mean CV RMSE:', round(np.mean(np.sqrt(linreg_scores_mse)), 3))"
   ]
  },
  {
   "cell_type": "markdown",
   "metadata": {},
   "source": [
    "#### Find an optimal value for Ridge regression alpha using `RidgeCV`.\n",
    "\n",
    "[RidgeCV documentation](http://scikit-learn.org/stable/modules/generated/sklearn.linear_model.RidgeCV.html)\n",
    "\n",
    "*Once the RidgeCV is fit, the attribute `.alpha_` contains the best alpha parameter it found through cross-validation.*\n",
    "\n",
    "Recall that Ridge performs best searching alphas through logarithmic space (`np.logspace`). This may take awhile to fit!"
   ]
  },
  {
   "cell_type": "code",
   "execution_count": 75,
   "metadata": {},
   "outputs": [
    {
     "name": "stdout",
     "output_type": "stream",
     "text": [
      "365.4383070957258\n"
     ]
    }
   ],
   "source": [
    "# Return numbers spaced evenly on a log scale\n",
    "# Note: num: number of samples to generate\n",
    "ridge_alphas = np.logspace(0, 5, num=200)\n",
    "\n",
    "# Instantiate a Ridge regression with built-in cross-validation RidgeCV model and fit Ridge model\n",
    "# Note: alphas: array of alpha values (regularization strength) to try\n",
    "#       cv: number of folds in cross-validation\n",
    "optimal_ridge = RidgeCV(alphas=ridge_alphas, cv=10)\n",
    "optimal_ridge.fit(Xs, y)\n",
    "\n",
    "print(optimal_ridge.alpha_)"
   ]
  },
  {
   "cell_type": "code",
   "execution_count": 76,
   "metadata": {},
   "outputs": [
    {
     "data": {
      "text/plain": [
       "Ridge(alpha=365.4383070957258, copy_X=True, fit_intercept=True, max_iter=None,\n",
       "      normalize=False, random_state=None, solver='auto', tol=0.001)"
      ]
     },
     "execution_count": 76,
     "metadata": {},
     "output_type": "execute_result"
    }
   ],
   "source": [
    "# Instantiate a linear least squares with l2-norm regularization RidgeRegression model and fit Ridge model\n",
    "# Note: alpha: regularization strength; defaults to 1.0\n",
    "#       -> alpha=0 has no regularization strength, equivalent to a basic linear regression (ordinary least square)\n",
    "ridge = Ridge(alpha=optimal_ridge.alpha_)\n",
    "ridge.fit(Xs, y)"
   ]
  },
  {
   "cell_type": "markdown",
   "metadata": {},
   "source": [
    "#### Cross-validate the Ridge regression $R^2$ with 10-fold cross-validation using the optimal alpha."
   ]
  },
  {
   "cell_type": "code",
   "execution_count": 77,
   "metadata": {},
   "outputs": [
    {
     "name": "stdout",
     "output_type": "stream",
     "text": [
      "CV scores for each fold:\n",
      "[0.6357577  0.62486512 0.62117825 0.59473757 0.58584073 0.58682543\n",
      " 0.56238344 0.53644291 0.57185043 0.57933384]\n",
      "\n",
      "Mean CV R^2: 0.59\n"
     ]
    }
   ],
   "source": [
    "# Evaluate a score by cross-validation\n",
    "# Note: cv: number of folds in cross-validation\n",
    "ridge_scores_r2 = cross_val_score(ridge, Xs, y, cv=10)\n",
    "\n",
    "print('CV scores for each fold:')\n",
    "print(ridge_scores_r2)\n",
    "print('')\n",
    "print('Mean CV R^2:', round(np.mean(ridge_scores_r2), 3))"
   ]
  },
  {
   "cell_type": "markdown",
   "metadata": {},
   "source": [
    "#### Cross-validate the Ridge regression MSE with 10-fold cross-validation using the optimal alpha."
   ]
  },
  {
   "cell_type": "code",
   "execution_count": 78,
   "metadata": {},
   "outputs": [
    {
     "name": "stdout",
     "output_type": "stream",
     "text": [
      "CV scores for each fold:\n",
      "[6745.99701322 6887.04935234 7040.91922465 7546.3749337  7811.72467112\n",
      " 7834.68026397 8106.42678125 8605.14324835 8110.67870008 7939.30779914]\n",
      "\n",
      "Mean CV MSE: 7662.83\n",
      "Mean CV RMSE: 87.476\n"
     ]
    }
   ],
   "source": [
    "# Evaluate a score by cross-validation\n",
    "# Note: scoring: string (see model evaluation documentation) or a scorer callable object/function\n",
    "#       cv: number of folds in cross-validation\n",
    "ridge_scores_mse = -cross_val_score(ridge, Xs, y, scoring='neg_mean_squared_error', cv=10)\n",
    "\n",
    "print('CV scores for each fold:')\n",
    "print(ridge_scores_mse)\n",
    "print('')\n",
    "print('Mean CV MSE:', round(np.mean(ridge_scores_mse), 3))\n",
    "print('Mean CV RMSE:', round(np.mean(np.sqrt(ridge_scores_mse)), 3))"
   ]
  },
  {
   "cell_type": "markdown",
   "metadata": {},
   "source": [
    "#### Find an optimal value for Lasso regression alpha using `LassoCV`.\n",
    "\n",
    "[LassoCV documentation](http://scikit-learn.org/stable/modules/generated/sklearn.linear_model.LassoCV.html). It is very similar to `RidgeCV`.\n",
    "\n",
    "*Once the `LassoCV` is fit, the attribute `.alpha_` contains the best alpha parameter it found through cross-validation.*\n",
    "\n",
    "Recall that Lasso, unlike Ridge, performs best searching for alpha through linear space (`np.linspace`). However, you can actually let the LassoCV decide itself what alphas to use by instead setting the keyword argument `n_alphas=` to however many alphas you want it to search over. It is recommended to let sklearn choose the range of alphas.\n",
    "\n",
    "**Tip:** If you find your CV taking a long time and you're not sure if its working set `verbose=1`."
   ]
  },
  {
   "cell_type": "code",
   "execution_count": 79,
   "metadata": {},
   "outputs": [
    {
     "name": "stdout",
     "output_type": "stream",
     "text": [
      "0.10013706120770259\n"
     ]
    }
   ],
   "source": [
    "# Instantiate a Lasso linear LassoCV model with iterative fitting along a regularization path and fit Lasso model\n",
    "# Note: n_alphas: number of alphas along the regularization path\n",
    "#       cv: number of folds in cross-validation\n",
    "#       verbose: amount of verbosity (i.e., show progress as dots)\n",
    "optimal_lasso = LassoCV(n_alphas=500, cv=10)\n",
    "optimal_lasso.fit(Xs, y)\n",
    "\n",
    "print(optimal_lasso.alpha_)"
   ]
  },
  {
   "cell_type": "code",
   "execution_count": 80,
   "metadata": {},
   "outputs": [
    {
     "data": {
      "text/plain": [
       "Lasso(alpha=0.10013706120770259, copy_X=True, fit_intercept=True, max_iter=1000,\n",
       "      normalize=False, positive=False, precompute=False, random_state=None,\n",
       "      selection='cyclic', tol=0.0001, warm_start=False)"
      ]
     },
     "execution_count": 80,
     "metadata": {},
     "output_type": "execute_result"
    }
   ],
   "source": [
    "# Instantiate a Linear Model trained with L1 prior as regularizer (aka the Lasso) and fit Lasso model with coordinate descent\n",
    "# Note: alpha: constant that multiplies the L1 term; defaults to 1.0\n",
    "#       -> alpha=0 has no regularization strength; equivalent to a basic linear regression (ordinary least square)\n",
    "lasso = Lasso(alpha=optimal_lasso.alpha_)\n",
    "lasso.fit(Xs, y)"
   ]
  },
  {
   "cell_type": "markdown",
   "metadata": {},
   "source": [
    "#### Cross-validate the Lasso regression $R^2$ with 10-fold cross-validation using the optimal alpha."
   ]
  },
  {
   "cell_type": "code",
   "execution_count": 81,
   "metadata": {},
   "outputs": [
    {
     "name": "stdout",
     "output_type": "stream",
     "text": [
      "CV scores for each fold:\n",
      "[0.63577378 0.6248693  0.62118154 0.59474454 0.58577288 0.58678443\n",
      " 0.56239268 0.53643311 0.57188002 0.57936624]\n",
      "\n",
      "Mean CV R^2: 0.59\n"
     ]
    }
   ],
   "source": [
    "# Evaluate a score by cross-validation\n",
    "# Note: cv: number of folds in cross-validation\n",
    "lasso_scores_r2 = cross_val_score(lasso, Xs, y, cv=10)\n",
    "\n",
    "print('CV scores for each fold:')\n",
    "print(lasso_scores_r2)\n",
    "print('')\n",
    "print('Mean CV R^2:', round(np.mean(lasso_scores_r2), 3))"
   ]
  },
  {
   "cell_type": "markdown",
   "metadata": {},
   "source": [
    "#### Cross-validate the Lasso regression MSE with 10-fold cross-validation using the optimal alpha."
   ]
  },
  {
   "cell_type": "code",
   "execution_count": 82,
   "metadata": {},
   "outputs": [
    {
     "name": "stdout",
     "output_type": "stream",
     "text": [
      "CV scores for each fold:\n",
      "[6745.69906087 6886.97265813 7040.85803569 7546.2451722  7813.0043965\n",
      " 7835.45763974 8106.25555867 8605.32515183 8110.11809082 7938.69631202]\n",
      "\n",
      "Mean CV MSE: 7662.863\n",
      "Mean CV RMSE: 87.476\n"
     ]
    }
   ],
   "source": [
    "# Evaluate a score by cross-validation\n",
    "# Note: scoring: string (see model evaluation documentation) or a scorer callable object/function\n",
    "#       cv: number of folds in cross-validation\n",
    "lasso_scores_mse = -cross_val_score(lasso, Xs, y, scoring='neg_mean_squared_error', cv=10)\n",
    "\n",
    "print('CV scores for each fold:')\n",
    "print(lasso_scores_mse)\n",
    "print('')\n",
    "print('Mean CV MSE:', round(np.mean(lasso_scores_mse), 3))\n",
    "print('Mean CV RMSE:', round(np.mean(np.sqrt(lasso_scores_mse)), 3))"
   ]
  },
  {
   "cell_type": "markdown",
   "metadata": {},
   "source": [
    "#### Find an optimal value for Elastic Net regression alpha using `ElasticNetCV`.\n",
    "\n",
    "[ElasticNetCV documentation](http://scikit-learn.org/stable/modules/generated/sklearn.linear_model.ElasticNetCV.html).\n",
    "\n",
    "Note here that you will be optimizing both the alpha parameter and the l1_ratio:\n",
    "- `alpha`: strength of regularization\n",
    "- `l1_ratio`: amount of ridge vs. lasso (0 = all ridge, 1 = all lasso)\n",
    "    \n",
    "Do not include 0 in the search for `l1_ratio`: it will not allow it and break!\n",
    "\n",
    "You can use `n_alphas` for the alpha parameters instead of setting your own values: highly recommended!\n",
    "\n",
    "Also - be careful setting too many l1_ratios over cross-validation folds in your search. It can take a very long time if you choose too many combinations and for the most part there are diminishing returns in this data."
   ]
  },
  {
   "cell_type": "code",
   "execution_count": 83,
   "metadata": {},
   "outputs": [
    {
     "name": "stdout",
     "output_type": "stream",
     "text": [
      "0.10013706120770259\n",
      "1.0\n"
     ]
    }
   ],
   "source": [
    "# Return evenly spaced numbers over a specified interval\n",
    "# Note: num: number of samples to generate\n",
    "l1_ratios = np.linspace(0.01, 1.0, num=25)\n",
    "\n",
    "# Instantiate an Elastic Net model with iterative fitting along a regularization path and fit Elastic Net model\n",
    "# Note: l1_ratio: float between 0 and 1 passed to ElasticNet (scaling between L1 and L2 penalties)\n",
    "#       n_alphas: number of alphas along the regularization path, used for each l1_ratio\n",
    "#       cv: number of folds in cross-validation\n",
    "#       verbose: amount of verbosity (i.e., show progress as dots)\n",
    "optimal_enet = ElasticNetCV(l1_ratio=l1_ratios, n_alphas=100, cv=10)\n",
    "optimal_enet.fit(Xs, y)\n",
    "\n",
    "print(optimal_enet.alpha_)\n",
    "print(optimal_enet.l1_ratio_)"
   ]
  },
  {
   "cell_type": "code",
   "execution_count": 84,
   "metadata": {},
   "outputs": [
    {
     "data": {
      "text/plain": [
       "ElasticNet(alpha=0.10013706120770259, copy_X=True, fit_intercept=True,\n",
       "           l1_ratio=1.0, max_iter=1000, normalize=False, positive=False,\n",
       "           precompute=False, random_state=None, selection='cyclic', tol=0.0001,\n",
       "           warm_start=False)"
      ]
     },
     "execution_count": 84,
     "metadata": {},
     "output_type": "execute_result"
    }
   ],
   "source": [
    "# Instantiate a linear regression with combined L1 and L2 priors as regularizer and fit Elastic Net model with coordinate descent\n",
    "# Note: alpha: constant that multiplies the penalty terms; defaults to 1.0\n",
    "#       -> alpha=0 has no regularization strength; equivalent to a basic linear regression (ordinary least square)\n",
    "#       l1_ratio: the ElasticNet mixing parameter, with 0 <= l1_ratio <= 1\n",
    "enet = ElasticNet(alpha=optimal_enet.alpha_, l1_ratio=optimal_enet.l1_ratio_)\n",
    "enet.fit(Xs, y)"
   ]
  },
  {
   "cell_type": "markdown",
   "metadata": {},
   "source": [
    "#### Cross-validate the Elastic Net regression $R^2$ with 10-fold cross-validation using the optimal alpha and l1_ratio."
   ]
  },
  {
   "cell_type": "code",
   "execution_count": 85,
   "metadata": {},
   "outputs": [
    {
     "name": "stdout",
     "output_type": "stream",
     "text": [
      "CV scores for each fold:\n",
      "[0.63577378 0.6248693  0.62118154 0.59474454 0.58577288 0.58678443\n",
      " 0.56239268 0.53643311 0.57188002 0.57936624]\n",
      "\n",
      "Mean CV R^2: 0.59\n"
     ]
    }
   ],
   "source": [
    "# Evaluate a score by cross-validation\n",
    "# Note: cv: number of folds in cross-validation\n",
    "enet_scores_r2 = cross_val_score(enet, Xs, y, cv=10)\n",
    "\n",
    "print('CV scores for each fold:')\n",
    "print(enet_scores_r2)\n",
    "print('')\n",
    "print('Mean CV R^2:', round(np.mean(enet_scores_r2), 3))"
   ]
  },
  {
   "cell_type": "markdown",
   "metadata": {},
   "source": [
    "#### Cross-validate the Elastic Net regression MSE with 10-fold cross-validation using the optimal alpha and l1_ratio."
   ]
  },
  {
   "cell_type": "code",
   "execution_count": 86,
   "metadata": {},
   "outputs": [
    {
     "name": "stdout",
     "output_type": "stream",
     "text": [
      "CV scores for each fold:\n",
      "[6745.69906087 6886.97265813 7040.85803569 7546.2451722  7813.0043965\n",
      " 7835.45763974 8106.25555867 8605.32515183 8110.11809082 7938.69631202]\n",
      "\n",
      "Mean CV MSE: 7662.863\n",
      "Mean CV RMSE: 87.476\n"
     ]
    }
   ],
   "source": [
    "# Evaluate a score by cross-validation\n",
    "# Note: scoring: string (see model evaluation documentation) or a scorer callable object/function\n",
    "#       cv: number of folds in cross-validation\n",
    "enet_scores_mse = -cross_val_score(enet, Xs, y, scoring='neg_mean_squared_error', cv=10)\n",
    "\n",
    "print('CV scores for each fold:')\n",
    "print(enet_scores_mse)\n",
    "print('')\n",
    "print('Mean CV MSE:', round(np.mean(enet_scores_mse), 3))\n",
    "print('Mean CV RMSE:', round(np.mean(np.sqrt(enet_scores_mse)), 3))"
   ]
  }
 ],
 "metadata": {
  "kernelspec": {
   "display_name": "Python 3",
   "language": "python",
   "name": "python3"
  },
  "language_info": {
   "codemirror_mode": {
    "name": "ipython",
    "version": 3
   },
   "file_extension": ".py",
   "mimetype": "text/x-python",
   "name": "python",
   "nbconvert_exporter": "python",
   "pygments_lexer": "ipython3",
   "version": "3.7.4"
  }
 },
 "nbformat": 4,
 "nbformat_minor": 2
}
